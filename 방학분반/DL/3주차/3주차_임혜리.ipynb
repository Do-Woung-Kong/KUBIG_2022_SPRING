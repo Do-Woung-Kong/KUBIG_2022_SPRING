{
  "nbformat": 4,
  "nbformat_minor": 0,
  "metadata": {
    "colab": {
      "name": "3주차_임혜리.ipynb",
      "provenance": [],
      "collapsed_sections": []
    },
    "kernelspec": {
      "name": "python3",
      "display_name": "Python 3"
    },
    "language_info": {
      "name": "python"
    },
    "accelerator": "GPU"
  },
  "cells": [
    {
      "cell_type": "markdown",
      "source": [
        "#Wine dataset 분류"
      ],
      "metadata": {
        "id": "9n1rmMPvQUis"
      }
    },
    {
      "cell_type": "markdown",
      "source": [
        "##3주차 과제\n",
        "저번주에 진행했던 분석을 새로 배운 것들 위주로 고쳐보기\n",
        "\n",
        "\n"
      ],
      "metadata": {
        "id": "ZrZ1XS2FcYix"
      }
    },
    {
      "cell_type": "markdown",
      "source": [
        "**- 데이터 분석 목표**  \n",
        "sklearn에서 제공하는 wine 데이터셋 활용; 13가지 features를 가진 데이터를 통해 3가지 label로 분류(Classification)  \n",
        "\n",
        "**- auc =  0.9491525423728814**  \n",
        "\n",
        "**- 기존 코드에서 바꿔본 내용** \n",
        " - custom dataset class로 정의, dataloader; batch_size = 6\n",
        " - 모델 class로 구현; 활성화 함수로 sigmoid함수 말고 ReLU 함수 사용\n",
        " - 가중치 초기화 방법으로 He initialization 방법 사용\n",
        " - optimizer 방법 기존의 SGD에서 Adam으로 변경; learning rate 또한 0.05에서 0.01로 변경하였음\n",
        "\n"
      ],
      "metadata": {
        "id": "ptmlFQKgdu-7"
      }
    },
    {
      "cell_type": "code",
      "execution_count": null,
      "metadata": {
        "id": "z3mChTqxGpF9"
      },
      "outputs": [],
      "source": [
        "import torch\n",
        "from torch import nn, optim\n",
        "from sklearn.datasets import load_wine\n",
        "from sklearn.model_selection import train_test_split\n",
        "from sklearn import metrics\n",
        "import numpy as np\n",
        "import pandas as pd"
      ]
    },
    {
      "cell_type": "code",
      "source": [
        "from torch.utils.data import Dataset            #data를 정의\n",
        "from torch.utils.data import DataLoader         #배치 iteration을 손쉽게 함\n",
        "from torch.utils.data import TensorDataset"
      ],
      "metadata": {
        "id": "ZUy8ldduVFtS"
      },
      "execution_count": null,
      "outputs": []
    },
    {
      "cell_type": "markdown",
      "source": [
        "PyTorch의 Dataset과 DataLoader를 이용하면 학습을 위한 방대한 데이터를 미니배치 단위로 처리할 수 있고 데이터를 무작위로 섞음으로써  \n",
        "학습의 효율성을 향상시킬 수 있다. 또한 데이터를 여러개의 GPU를 사용해 병렬처리로 학습할 수도 있다."
      ],
      "metadata": {
        "id": "-Fca4jQFV9nC"
      }
    },
    {
      "cell_type": "code",
      "source": [
        "#연산 방법 설정\n",
        "device = 'cuda' if torch.cuda.is_available() else 'cpu'\n",
        "\n",
        "#for reproducibility\n",
        "torch.manual_seed(1234)\n",
        "if device == 'cuda':\n",
        "    torch.cuda.manual_seed_all(1234)"
      ],
      "metadata": {
        "id": "MiWiV_7eQtoh"
      },
      "execution_count": null,
      "outputs": []
    },
    {
      "cell_type": "code",
      "source": [
        "#데이터 불러오기\n",
        "wine = load_wine()\n",
        "wine"
      ],
      "metadata": {
        "colab": {
          "base_uri": "https://localhost:8080/"
        },
        "id": "hxIMg75vRETT",
        "outputId": "76ddd27e-2518-4458-f49e-334012db4922"
      },
      "execution_count": null,
      "outputs": [
        {
          "output_type": "execute_result",
          "data": {
            "text/plain": [
              "{'DESCR': '.. _wine_dataset:\\n\\nWine recognition dataset\\n------------------------\\n\\n**Data Set Characteristics:**\\n\\n    :Number of Instances: 178 (50 in each of three classes)\\n    :Number of Attributes: 13 numeric, predictive attributes and the class\\n    :Attribute Information:\\n \\t\\t- Alcohol\\n \\t\\t- Malic acid\\n \\t\\t- Ash\\n\\t\\t- Alcalinity of ash  \\n \\t\\t- Magnesium\\n\\t\\t- Total phenols\\n \\t\\t- Flavanoids\\n \\t\\t- Nonflavanoid phenols\\n \\t\\t- Proanthocyanins\\n\\t\\t- Color intensity\\n \\t\\t- Hue\\n \\t\\t- OD280/OD315 of diluted wines\\n \\t\\t- Proline\\n\\n    - class:\\n            - class_0\\n            - class_1\\n            - class_2\\n\\t\\t\\n    :Summary Statistics:\\n    \\n    ============================= ==== ===== ======= =====\\n                                   Min   Max   Mean     SD\\n    ============================= ==== ===== ======= =====\\n    Alcohol:                      11.0  14.8    13.0   0.8\\n    Malic Acid:                   0.74  5.80    2.34  1.12\\n    Ash:                          1.36  3.23    2.36  0.27\\n    Alcalinity of Ash:            10.6  30.0    19.5   3.3\\n    Magnesium:                    70.0 162.0    99.7  14.3\\n    Total Phenols:                0.98  3.88    2.29  0.63\\n    Flavanoids:                   0.34  5.08    2.03  1.00\\n    Nonflavanoid Phenols:         0.13  0.66    0.36  0.12\\n    Proanthocyanins:              0.41  3.58    1.59  0.57\\n    Colour Intensity:              1.3  13.0     5.1   2.3\\n    Hue:                          0.48  1.71    0.96  0.23\\n    OD280/OD315 of diluted wines: 1.27  4.00    2.61  0.71\\n    Proline:                       278  1680     746   315\\n    ============================= ==== ===== ======= =====\\n\\n    :Missing Attribute Values: None\\n    :Class Distribution: class_0 (59), class_1 (71), class_2 (48)\\n    :Creator: R.A. Fisher\\n    :Donor: Michael Marshall (MARSHALL%PLU@io.arc.nasa.gov)\\n    :Date: July, 1988\\n\\nThis is a copy of UCI ML Wine recognition datasets.\\nhttps://archive.ics.uci.edu/ml/machine-learning-databases/wine/wine.data\\n\\nThe data is the results of a chemical analysis of wines grown in the same\\nregion in Italy by three different cultivators. There are thirteen different\\nmeasurements taken for different constituents found in the three types of\\nwine.\\n\\nOriginal Owners: \\n\\nForina, M. et al, PARVUS - \\nAn Extendible Package for Data Exploration, Classification and Correlation. \\nInstitute of Pharmaceutical and Food Analysis and Technologies,\\nVia Brigata Salerno, 16147 Genoa, Italy.\\n\\nCitation:\\n\\nLichman, M. (2013). UCI Machine Learning Repository\\n[https://archive.ics.uci.edu/ml]. Irvine, CA: University of California,\\nSchool of Information and Computer Science. \\n\\n.. topic:: References\\n\\n  (1) S. Aeberhard, D. Coomans and O. de Vel, \\n  Comparison of Classifiers in High Dimensional Settings, \\n  Tech. Rep. no. 92-02, (1992), Dept. of Computer Science and Dept. of  \\n  Mathematics and Statistics, James Cook University of North Queensland. \\n  (Also submitted to Technometrics). \\n\\n  The data was used with many others for comparing various \\n  classifiers. The classes are separable, though only RDA \\n  has achieved 100% correct classification. \\n  (RDA : 100%, QDA 99.4%, LDA 98.9%, 1NN 96.1% (z-transformed data)) \\n  (All results using the leave-one-out technique) \\n\\n  (2) S. Aeberhard, D. Coomans and O. de Vel, \\n  \"THE CLASSIFICATION PERFORMANCE OF RDA\" \\n  Tech. Rep. no. 92-01, (1992), Dept. of Computer Science and Dept. of \\n  Mathematics and Statistics, James Cook University of North Queensland. \\n  (Also submitted to Journal of Chemometrics).\\n',\n",
              " 'data': array([[1.423e+01, 1.710e+00, 2.430e+00, ..., 1.040e+00, 3.920e+00,\n",
              "         1.065e+03],\n",
              "        [1.320e+01, 1.780e+00, 2.140e+00, ..., 1.050e+00, 3.400e+00,\n",
              "         1.050e+03],\n",
              "        [1.316e+01, 2.360e+00, 2.670e+00, ..., 1.030e+00, 3.170e+00,\n",
              "         1.185e+03],\n",
              "        ...,\n",
              "        [1.327e+01, 4.280e+00, 2.260e+00, ..., 5.900e-01, 1.560e+00,\n",
              "         8.350e+02],\n",
              "        [1.317e+01, 2.590e+00, 2.370e+00, ..., 6.000e-01, 1.620e+00,\n",
              "         8.400e+02],\n",
              "        [1.413e+01, 4.100e+00, 2.740e+00, ..., 6.100e-01, 1.600e+00,\n",
              "         5.600e+02]]),\n",
              " 'feature_names': ['alcohol',\n",
              "  'malic_acid',\n",
              "  'ash',\n",
              "  'alcalinity_of_ash',\n",
              "  'magnesium',\n",
              "  'total_phenols',\n",
              "  'flavanoids',\n",
              "  'nonflavanoid_phenols',\n",
              "  'proanthocyanins',\n",
              "  'color_intensity',\n",
              "  'hue',\n",
              "  'od280/od315_of_diluted_wines',\n",
              "  'proline'],\n",
              " 'frame': None,\n",
              " 'target': array([0, 0, 0, 0, 0, 0, 0, 0, 0, 0, 0, 0, 0, 0, 0, 0, 0, 0, 0, 0, 0, 0,\n",
              "        0, 0, 0, 0, 0, 0, 0, 0, 0, 0, 0, 0, 0, 0, 0, 0, 0, 0, 0, 0, 0, 0,\n",
              "        0, 0, 0, 0, 0, 0, 0, 0, 0, 0, 0, 0, 0, 0, 0, 1, 1, 1, 1, 1, 1, 1,\n",
              "        1, 1, 1, 1, 1, 1, 1, 1, 1, 1, 1, 1, 1, 1, 1, 1, 1, 1, 1, 1, 1, 1,\n",
              "        1, 1, 1, 1, 1, 1, 1, 1, 1, 1, 1, 1, 1, 1, 1, 1, 1, 1, 1, 1, 1, 1,\n",
              "        1, 1, 1, 1, 1, 1, 1, 1, 1, 1, 1, 1, 1, 1, 1, 1, 1, 1, 1, 1, 2, 2,\n",
              "        2, 2, 2, 2, 2, 2, 2, 2, 2, 2, 2, 2, 2, 2, 2, 2, 2, 2, 2, 2, 2, 2,\n",
              "        2, 2, 2, 2, 2, 2, 2, 2, 2, 2, 2, 2, 2, 2, 2, 2, 2, 2, 2, 2, 2, 2,\n",
              "        2, 2]),\n",
              " 'target_names': array(['class_0', 'class_1', 'class_2'], dtype='<U7')}"
            ]
          },
          "metadata": {},
          "execution_count": 4
        }
      ]
    },
    {
      "cell_type": "code",
      "source": [
        "pd.DataFrame(wine.data, columns = wine.feature_names)"
      ],
      "metadata": {
        "colab": {
          "base_uri": "https://localhost:8080/",
          "height": 487
        },
        "id": "SZzSjNgDSt1X",
        "outputId": "35b172f1-87b2-42f1-a0fe-4da01ae9dfd9"
      },
      "execution_count": null,
      "outputs": [
        {
          "output_type": "execute_result",
          "data": {
            "text/html": [
              "\n",
              "  <div id=\"df-4883c3f5-10ec-4b31-95ba-b1d0b36d338f\">\n",
              "    <div class=\"colab-df-container\">\n",
              "      <div>\n",
              "<style scoped>\n",
              "    .dataframe tbody tr th:only-of-type {\n",
              "        vertical-align: middle;\n",
              "    }\n",
              "\n",
              "    .dataframe tbody tr th {\n",
              "        vertical-align: top;\n",
              "    }\n",
              "\n",
              "    .dataframe thead th {\n",
              "        text-align: right;\n",
              "    }\n",
              "</style>\n",
              "<table border=\"1\" class=\"dataframe\">\n",
              "  <thead>\n",
              "    <tr style=\"text-align: right;\">\n",
              "      <th></th>\n",
              "      <th>alcohol</th>\n",
              "      <th>malic_acid</th>\n",
              "      <th>ash</th>\n",
              "      <th>alcalinity_of_ash</th>\n",
              "      <th>magnesium</th>\n",
              "      <th>total_phenols</th>\n",
              "      <th>flavanoids</th>\n",
              "      <th>nonflavanoid_phenols</th>\n",
              "      <th>proanthocyanins</th>\n",
              "      <th>color_intensity</th>\n",
              "      <th>hue</th>\n",
              "      <th>od280/od315_of_diluted_wines</th>\n",
              "      <th>proline</th>\n",
              "    </tr>\n",
              "  </thead>\n",
              "  <tbody>\n",
              "    <tr>\n",
              "      <th>0</th>\n",
              "      <td>14.23</td>\n",
              "      <td>1.71</td>\n",
              "      <td>2.43</td>\n",
              "      <td>15.6</td>\n",
              "      <td>127.0</td>\n",
              "      <td>2.80</td>\n",
              "      <td>3.06</td>\n",
              "      <td>0.28</td>\n",
              "      <td>2.29</td>\n",
              "      <td>5.64</td>\n",
              "      <td>1.04</td>\n",
              "      <td>3.92</td>\n",
              "      <td>1065.0</td>\n",
              "    </tr>\n",
              "    <tr>\n",
              "      <th>1</th>\n",
              "      <td>13.20</td>\n",
              "      <td>1.78</td>\n",
              "      <td>2.14</td>\n",
              "      <td>11.2</td>\n",
              "      <td>100.0</td>\n",
              "      <td>2.65</td>\n",
              "      <td>2.76</td>\n",
              "      <td>0.26</td>\n",
              "      <td>1.28</td>\n",
              "      <td>4.38</td>\n",
              "      <td>1.05</td>\n",
              "      <td>3.40</td>\n",
              "      <td>1050.0</td>\n",
              "    </tr>\n",
              "    <tr>\n",
              "      <th>2</th>\n",
              "      <td>13.16</td>\n",
              "      <td>2.36</td>\n",
              "      <td>2.67</td>\n",
              "      <td>18.6</td>\n",
              "      <td>101.0</td>\n",
              "      <td>2.80</td>\n",
              "      <td>3.24</td>\n",
              "      <td>0.30</td>\n",
              "      <td>2.81</td>\n",
              "      <td>5.68</td>\n",
              "      <td>1.03</td>\n",
              "      <td>3.17</td>\n",
              "      <td>1185.0</td>\n",
              "    </tr>\n",
              "    <tr>\n",
              "      <th>3</th>\n",
              "      <td>14.37</td>\n",
              "      <td>1.95</td>\n",
              "      <td>2.50</td>\n",
              "      <td>16.8</td>\n",
              "      <td>113.0</td>\n",
              "      <td>3.85</td>\n",
              "      <td>3.49</td>\n",
              "      <td>0.24</td>\n",
              "      <td>2.18</td>\n",
              "      <td>7.80</td>\n",
              "      <td>0.86</td>\n",
              "      <td>3.45</td>\n",
              "      <td>1480.0</td>\n",
              "    </tr>\n",
              "    <tr>\n",
              "      <th>4</th>\n",
              "      <td>13.24</td>\n",
              "      <td>2.59</td>\n",
              "      <td>2.87</td>\n",
              "      <td>21.0</td>\n",
              "      <td>118.0</td>\n",
              "      <td>2.80</td>\n",
              "      <td>2.69</td>\n",
              "      <td>0.39</td>\n",
              "      <td>1.82</td>\n",
              "      <td>4.32</td>\n",
              "      <td>1.04</td>\n",
              "      <td>2.93</td>\n",
              "      <td>735.0</td>\n",
              "    </tr>\n",
              "    <tr>\n",
              "      <th>...</th>\n",
              "      <td>...</td>\n",
              "      <td>...</td>\n",
              "      <td>...</td>\n",
              "      <td>...</td>\n",
              "      <td>...</td>\n",
              "      <td>...</td>\n",
              "      <td>...</td>\n",
              "      <td>...</td>\n",
              "      <td>...</td>\n",
              "      <td>...</td>\n",
              "      <td>...</td>\n",
              "      <td>...</td>\n",
              "      <td>...</td>\n",
              "    </tr>\n",
              "    <tr>\n",
              "      <th>173</th>\n",
              "      <td>13.71</td>\n",
              "      <td>5.65</td>\n",
              "      <td>2.45</td>\n",
              "      <td>20.5</td>\n",
              "      <td>95.0</td>\n",
              "      <td>1.68</td>\n",
              "      <td>0.61</td>\n",
              "      <td>0.52</td>\n",
              "      <td>1.06</td>\n",
              "      <td>7.70</td>\n",
              "      <td>0.64</td>\n",
              "      <td>1.74</td>\n",
              "      <td>740.0</td>\n",
              "    </tr>\n",
              "    <tr>\n",
              "      <th>174</th>\n",
              "      <td>13.40</td>\n",
              "      <td>3.91</td>\n",
              "      <td>2.48</td>\n",
              "      <td>23.0</td>\n",
              "      <td>102.0</td>\n",
              "      <td>1.80</td>\n",
              "      <td>0.75</td>\n",
              "      <td>0.43</td>\n",
              "      <td>1.41</td>\n",
              "      <td>7.30</td>\n",
              "      <td>0.70</td>\n",
              "      <td>1.56</td>\n",
              "      <td>750.0</td>\n",
              "    </tr>\n",
              "    <tr>\n",
              "      <th>175</th>\n",
              "      <td>13.27</td>\n",
              "      <td>4.28</td>\n",
              "      <td>2.26</td>\n",
              "      <td>20.0</td>\n",
              "      <td>120.0</td>\n",
              "      <td>1.59</td>\n",
              "      <td>0.69</td>\n",
              "      <td>0.43</td>\n",
              "      <td>1.35</td>\n",
              "      <td>10.20</td>\n",
              "      <td>0.59</td>\n",
              "      <td>1.56</td>\n",
              "      <td>835.0</td>\n",
              "    </tr>\n",
              "    <tr>\n",
              "      <th>176</th>\n",
              "      <td>13.17</td>\n",
              "      <td>2.59</td>\n",
              "      <td>2.37</td>\n",
              "      <td>20.0</td>\n",
              "      <td>120.0</td>\n",
              "      <td>1.65</td>\n",
              "      <td>0.68</td>\n",
              "      <td>0.53</td>\n",
              "      <td>1.46</td>\n",
              "      <td>9.30</td>\n",
              "      <td>0.60</td>\n",
              "      <td>1.62</td>\n",
              "      <td>840.0</td>\n",
              "    </tr>\n",
              "    <tr>\n",
              "      <th>177</th>\n",
              "      <td>14.13</td>\n",
              "      <td>4.10</td>\n",
              "      <td>2.74</td>\n",
              "      <td>24.5</td>\n",
              "      <td>96.0</td>\n",
              "      <td>2.05</td>\n",
              "      <td>0.76</td>\n",
              "      <td>0.56</td>\n",
              "      <td>1.35</td>\n",
              "      <td>9.20</td>\n",
              "      <td>0.61</td>\n",
              "      <td>1.60</td>\n",
              "      <td>560.0</td>\n",
              "    </tr>\n",
              "  </tbody>\n",
              "</table>\n",
              "<p>178 rows × 13 columns</p>\n",
              "</div>\n",
              "      <button class=\"colab-df-convert\" onclick=\"convertToInteractive('df-4883c3f5-10ec-4b31-95ba-b1d0b36d338f')\"\n",
              "              title=\"Convert this dataframe to an interactive table.\"\n",
              "              style=\"display:none;\">\n",
              "        \n",
              "  <svg xmlns=\"http://www.w3.org/2000/svg\" height=\"24px\"viewBox=\"0 0 24 24\"\n",
              "       width=\"24px\">\n",
              "    <path d=\"M0 0h24v24H0V0z\" fill=\"none\"/>\n",
              "    <path d=\"M18.56 5.44l.94 2.06.94-2.06 2.06-.94-2.06-.94-.94-2.06-.94 2.06-2.06.94zm-11 1L8.5 8.5l.94-2.06 2.06-.94-2.06-.94L8.5 2.5l-.94 2.06-2.06.94zm10 10l.94 2.06.94-2.06 2.06-.94-2.06-.94-.94-2.06-.94 2.06-2.06.94z\"/><path d=\"M17.41 7.96l-1.37-1.37c-.4-.4-.92-.59-1.43-.59-.52 0-1.04.2-1.43.59L10.3 9.45l-7.72 7.72c-.78.78-.78 2.05 0 2.83L4 21.41c.39.39.9.59 1.41.59.51 0 1.02-.2 1.41-.59l7.78-7.78 2.81-2.81c.8-.78.8-2.07 0-2.86zM5.41 20L4 18.59l7.72-7.72 1.47 1.35L5.41 20z\"/>\n",
              "  </svg>\n",
              "      </button>\n",
              "      \n",
              "  <style>\n",
              "    .colab-df-container {\n",
              "      display:flex;\n",
              "      flex-wrap:wrap;\n",
              "      gap: 12px;\n",
              "    }\n",
              "\n",
              "    .colab-df-convert {\n",
              "      background-color: #E8F0FE;\n",
              "      border: none;\n",
              "      border-radius: 50%;\n",
              "      cursor: pointer;\n",
              "      display: none;\n",
              "      fill: #1967D2;\n",
              "      height: 32px;\n",
              "      padding: 0 0 0 0;\n",
              "      width: 32px;\n",
              "    }\n",
              "\n",
              "    .colab-df-convert:hover {\n",
              "      background-color: #E2EBFA;\n",
              "      box-shadow: 0px 1px 2px rgba(60, 64, 67, 0.3), 0px 1px 3px 1px rgba(60, 64, 67, 0.15);\n",
              "      fill: #174EA6;\n",
              "    }\n",
              "\n",
              "    [theme=dark] .colab-df-convert {\n",
              "      background-color: #3B4455;\n",
              "      fill: #D2E3FC;\n",
              "    }\n",
              "\n",
              "    [theme=dark] .colab-df-convert:hover {\n",
              "      background-color: #434B5C;\n",
              "      box-shadow: 0px 1px 3px 1px rgba(0, 0, 0, 0.15);\n",
              "      filter: drop-shadow(0px 1px 2px rgba(0, 0, 0, 0.3));\n",
              "      fill: #FFFFFF;\n",
              "    }\n",
              "  </style>\n",
              "\n",
              "      <script>\n",
              "        const buttonEl =\n",
              "          document.querySelector('#df-4883c3f5-10ec-4b31-95ba-b1d0b36d338f button.colab-df-convert');\n",
              "        buttonEl.style.display =\n",
              "          google.colab.kernel.accessAllowed ? 'block' : 'none';\n",
              "\n",
              "        async function convertToInteractive(key) {\n",
              "          const element = document.querySelector('#df-4883c3f5-10ec-4b31-95ba-b1d0b36d338f');\n",
              "          const dataTable =\n",
              "            await google.colab.kernel.invokeFunction('convertToInteractive',\n",
              "                                                     [key], {});\n",
              "          if (!dataTable) return;\n",
              "\n",
              "          const docLinkHtml = 'Like what you see? Visit the ' +\n",
              "            '<a target=\"_blank\" href=https://colab.research.google.com/notebooks/data_table.ipynb>data table notebook</a>'\n",
              "            + ' to learn more about interactive tables.';\n",
              "          element.innerHTML = '';\n",
              "          dataTable['output_type'] = 'display_data';\n",
              "          await google.colab.output.renderOutput(dataTable, element);\n",
              "          const docLink = document.createElement('div');\n",
              "          docLink.innerHTML = docLinkHtml;\n",
              "          element.appendChild(docLink);\n",
              "        }\n",
              "      </script>\n",
              "    </div>\n",
              "  </div>\n",
              "  "
            ],
            "text/plain": [
              "     alcohol  malic_acid   ash  ...   hue  od280/od315_of_diluted_wines  proline\n",
              "0      14.23        1.71  2.43  ...  1.04                          3.92   1065.0\n",
              "1      13.20        1.78  2.14  ...  1.05                          3.40   1050.0\n",
              "2      13.16        2.36  2.67  ...  1.03                          3.17   1185.0\n",
              "3      14.37        1.95  2.50  ...  0.86                          3.45   1480.0\n",
              "4      13.24        2.59  2.87  ...  1.04                          2.93    735.0\n",
              "..       ...         ...   ...  ...   ...                           ...      ...\n",
              "173    13.71        5.65  2.45  ...  0.64                          1.74    740.0\n",
              "174    13.40        3.91  2.48  ...  0.70                          1.56    750.0\n",
              "175    13.27        4.28  2.26  ...  0.59                          1.56    835.0\n",
              "176    13.17        2.59  2.37  ...  0.60                          1.62    840.0\n",
              "177    14.13        4.10  2.74  ...  0.61                          1.60    560.0\n",
              "\n",
              "[178 rows x 13 columns]"
            ]
          },
          "metadata": {},
          "execution_count": 5
        }
      ]
    },
    {
      "cell_type": "code",
      "source": [
        "wine.target"
      ],
      "metadata": {
        "colab": {
          "base_uri": "https://localhost:8080/"
        },
        "id": "IZLv1oJDS6wr",
        "outputId": "0736b1fc-b383-4c4f-8093-06acab02809f"
      },
      "execution_count": null,
      "outputs": [
        {
          "output_type": "execute_result",
          "data": {
            "text/plain": [
              "array([0, 0, 0, 0, 0, 0, 0, 0, 0, 0, 0, 0, 0, 0, 0, 0, 0, 0, 0, 0, 0, 0,\n",
              "       0, 0, 0, 0, 0, 0, 0, 0, 0, 0, 0, 0, 0, 0, 0, 0, 0, 0, 0, 0, 0, 0,\n",
              "       0, 0, 0, 0, 0, 0, 0, 0, 0, 0, 0, 0, 0, 0, 0, 1, 1, 1, 1, 1, 1, 1,\n",
              "       1, 1, 1, 1, 1, 1, 1, 1, 1, 1, 1, 1, 1, 1, 1, 1, 1, 1, 1, 1, 1, 1,\n",
              "       1, 1, 1, 1, 1, 1, 1, 1, 1, 1, 1, 1, 1, 1, 1, 1, 1, 1, 1, 1, 1, 1,\n",
              "       1, 1, 1, 1, 1, 1, 1, 1, 1, 1, 1, 1, 1, 1, 1, 1, 1, 1, 1, 1, 2, 2,\n",
              "       2, 2, 2, 2, 2, 2, 2, 2, 2, 2, 2, 2, 2, 2, 2, 2, 2, 2, 2, 2, 2, 2,\n",
              "       2, 2, 2, 2, 2, 2, 2, 2, 2, 2, 2, 2, 2, 2, 2, 2, 2, 2, 2, 2, 2, 2,\n",
              "       2, 2])"
            ]
          },
          "metadata": {},
          "execution_count": 6
        }
      ]
    },
    {
      "cell_type": "code",
      "source": [
        "#input, output 데이터 설정\n",
        "input = wine.data\n",
        "output = wine.target\n",
        "\n",
        "#train, test data split\n",
        "X_train, X_test, y_train, y_test = train_test_split(input, output, test_size = 0.33, random_state=42, stratify=wine.target, shuffle = True)\n",
        "\n",
        "#데이터를 텐서로 바꾸고 gpu 연산이 가능하도록 gpu에 옮김\n",
        "#X_train = torch.FloatTensor(X_train).to(device)\n",
        "#y_train = torch.LongTensor(y_train).to(device)\n",
        "#X_test = torch.FloatTensor(X_test)\n",
        "#y_test = torch.LongTensor(y_test)"
      ],
      "metadata": {
        "id": "13QH35s8Th3e"
      },
      "execution_count": null,
      "outputs": []
    },
    {
      "cell_type": "code",
      "source": [
        "print(len(X_train))\n",
        "print(len(X_test))"
      ],
      "metadata": {
        "colab": {
          "base_uri": "https://localhost:8080/"
        },
        "id": "kBFOUZL8X7VM",
        "outputId": "946cac3f-d8e3-4aa9-8758-80267c7864cc"
      },
      "execution_count": null,
      "outputs": [
        {
          "output_type": "stream",
          "name": "stdout",
          "text": [
            "119\n",
            "59\n"
          ]
        }
      ]
    },
    {
      "cell_type": "code",
      "source": [
        "print(X_train[0])\n",
        "print(y_train[0])"
      ],
      "metadata": {
        "colab": {
          "base_uri": "https://localhost:8080/"
        },
        "id": "x-dqkTHDWAyn",
        "outputId": "bd768c55-7ca2-4370-fcda-adf154b7d498"
      },
      "execution_count": null,
      "outputs": [
        {
          "output_type": "stream",
          "name": "stdout",
          "text": [
            "[1.375e+01 1.730e+00 2.410e+00 1.600e+01 8.900e+01 2.600e+00 2.760e+00\n",
            " 2.900e-01 1.810e+00 5.600e+00 1.150e+00 2.900e+00 1.320e+03]\n",
            "0\n"
          ]
        }
      ]
    },
    {
      "cell_type": "markdown",
      "source": [
        "**input 변수가 13개!  \n",
        "  y의 class 종류가 3개!**"
      ],
      "metadata": {
        "id": "NQYUVBAVXjRl"
      }
    },
    {
      "cell_type": "markdown",
      "source": [
        "#Custom Dataset 정의"
      ],
      "metadata": {
        "id": "fNZfV_yFXTyy"
      }
    },
    {
      "cell_type": "markdown",
      "source": [
        "**Dataset class는 전체 dataset을 구성하는 단계; 3가지 기억하자!!**  \n",
        " - init : class에서 객체가 생성되면 바로 실행되는 함수\n",
        " - len : observation 수를 정의하는 함수\n",
        " - getitem : iteration마다 해당하는 데이터를 돌려주는 함수  \n"
      ],
      "metadata": {
        "id": "HR30nUA4Xa33"
      }
    },
    {
      "cell_type": "markdown",
      "source": [
        "len의 경우 x_data나 y_data는 길이가 같으니까 아무 length나 return하면 된다  \n",
        "getitem의 경우 index번째 data를 return 하도록 코드를 짜야한다 이때 tensor를 return 해야한다"
      ],
      "metadata": {
        "id": "TsaP2SAudPgP"
      }
    },
    {
      "cell_type": "code",
      "source": [
        "class CustomDataset(Dataset):\n",
        "  def __init__(self):\n",
        "\n",
        "    self.x_data = X_train\n",
        "    self.y_data = [[y] for y in y_train]\n",
        "\n",
        "  def __len__(self):\n",
        "\n",
        "    return len(self.x_data)\n",
        "\n",
        "  def __getitem__(self, idx):\n",
        "\n",
        "    x = torch.FloatTensor(self.x_data[idx]).to(device)\n",
        "    y = torch.LongTensor(self.y_data[idx]).to(device)\n",
        "\n",
        "    return x,y"
      ],
      "metadata": {
        "id": "Id2rsZAlb-7d"
      },
      "execution_count": null,
      "outputs": []
    },
    {
      "cell_type": "markdown",
      "source": [
        "torch.utils.data.Dataset을 상속 받아 직접 커스텀 데이터셋을 만드는 과정이다  \n",
        "torch.utils.data.Dataset은 파이토치에서 데이터셋을 제공하는 추상 클래스이다"
      ],
      "metadata": {
        "id": "3dqyJNIjf-q1"
      }
    },
    {
      "cell_type": "code",
      "source": [
        "print(X_train.ndim)"
      ],
      "metadata": {
        "colab": {
          "base_uri": "https://localhost:8080/"
        },
        "id": "jLDaQh4chxUm",
        "outputId": "1c465b1d-8fec-4a35-e3ff-bead8476a4f0"
      },
      "execution_count": null,
      "outputs": [
        {
          "output_type": "stream",
          "name": "stdout",
          "text": [
            "2\n"
          ]
        }
      ]
    },
    {
      "cell_type": "code",
      "source": [
        "print(y_train.ndim)"
      ],
      "metadata": {
        "colab": {
          "base_uri": "https://localhost:8080/"
        },
        "id": "LjvVhQTSh7D8",
        "outputId": "88326daa-b9f1-4e01-8600-7def5d9f9b1b"
      },
      "execution_count": null,
      "outputs": [
        {
          "output_type": "stream",
          "name": "stdout",
          "text": [
            "1\n"
          ]
        }
      ]
    },
    {
      "cell_type": "markdown",
      "source": [
        "list comprehension을 써서 y_data를 2차원으로 만든다  \n",
        "나중에 loss를 계산하기 위해 squeeze를 해야하긴 하지만 getitem을 통해 [숫자] 형태로 가져오기 위함이다  \n",
        "결국 y data는 이용 될때는 1차원 벡터로 바뀌지만 이용하기 위해서는 2차원(리스트 안의 리스트) 형태로 만들어줘야 한다"
      ],
      "metadata": {
        "id": "VRcHog3Sut5S"
      }
    },
    {
      "cell_type": "markdown",
      "source": [
        "**X_train과 y_train은 훈련 데이터와 라벨 관계로 인덱스가 묶여있다**  \n",
        "즉 X_train[0]의 정답은 y_train[0]이고 X_train[1]은 y_train[1]과 관련이 있다 2차원 이상의 배열에서 인덱스 관계를 유지하기 위해 차원을 같게 하는 것 아닌가..? 싶다..> 구글링을 통해 명확한 답이 안나와서.. 뇌피셜.."
      ],
      "metadata": {
        "id": "4t-GWw-knW1l"
      }
    },
    {
      "cell_type": "markdown",
      "source": [
        "파이토치에서는 텐서 값을 받고 자료형에 매우 예민하므로 공식 사이트를 잘 확인해보도록 하자  \n",
        "**텐서 타입 지정**  \n",
        "**torch 데이터 선언시, 사용할 수 있는 데이터 타입**  \n",
        " 32-bit floating Point : FloatTensor\n",
        "\n",
        "  64-bit floating Point : DoubleTensor\n",
        "\n",
        "  16-bit floating Point : HalfTensor\n",
        "\n",
        "  8-bit integer : ByteTensor(unsigned), CharTensor(signed)\n",
        "\n",
        "  16-bit integer : ShortTensor\n",
        "\n",
        "  32-bit integer : IntTensor\n",
        "\n",
        "  64-bit integer : LongTensor  \n",
        "보통 계산을 하기 위한 데이터들에는 FloatTensor를 사용하고 Int형 숫자를 사용할 때는 LongTensor를 사용하며 True/False 사용시 ByteTensor를 사용한다  \n",
        "[출처] https://dk-kang.tistory.com/entry/PyTorch-%EC%8B%A4%EC%8A%B5-Tensor-%EC%A1%B0%EC%9E%91%ED%95%98%EA%B8%B01"
      ],
      "metadata": {
        "id": "Fh-ZGy9rWH9M"
      }
    },
    {
      "cell_type": "code",
      "source": [
        "batch_size = 6\n",
        "\n",
        "dataset = CustomDataset()\n",
        "dataloader = DataLoader(dataset, batch_size = batch_size) #sampler를 만들었다면, sampler를 파라미터로 넣어줄 수 있다 "
      ],
      "metadata": {
        "id": "CP5KHiH1cr1E"
      },
      "execution_count": null,
      "outputs": []
    },
    {
      "cell_type": "markdown",
      "source": [
        "sampler는 index를 컨트롤하는 방법으로 데이터의 index를 원하는 방식대로 조정한다.  **torch.utils.data.Sampler**객체를 사용한다"
      ],
      "metadata": {
        "id": "PKrvhO_biM5-"
      }
    },
    {
      "cell_type": "markdown",
      "source": [
        "#Modeling"
      ],
      "metadata": {
        "id": "b1v5Mo7Ij7fh"
      }
    },
    {
      "cell_type": "code",
      "source": [
        "#Modeling\n",
        "model = nn.Sequential(\n",
        "    nn.Linear(13, 50, bias=True), #input_layer(feature의 개수) = 13, hidden_layer1 = 50\n",
        "    nn.Sigmoid(),\n",
        "    nn.Linear(50, 75, bias=True), #hidden_layer1 = 50, hidden_layer2 = 75 \n",
        "    nn.Sigmoid(),\n",
        "    nn.Linear(75, 100, bias=True), #hidden_layer2 = 75, hidden_layer3 = 100\n",
        "    nn.Sigmoid(),\n",
        "    nn.Linear(100, 75, bias=True), #hidden_layer3 = 100, hidden_layer4 = 75\n",
        "    nn.Sigmoid(),\n",
        "    nn.Linear(75, 50, bias=True), #hidden_layer4 = 75, hidden_layer5 = 50\n",
        "    nn.Sigmoid(),\n",
        "    nn.Linear(50, 3, bias=True), #hidden_layer5 = 50, output_layer = 3(label의 개수)\n",
        "    nn.Softmax()\n",
        "    ).to(device)"
      ],
      "metadata": {
        "id": "lrdUw3E3Xav6"
      },
      "execution_count": null,
      "outputs": []
    },
    {
      "cell_type": "markdown",
      "source": [
        "**활성화 함수 Activation Function 으로는 sigmoid function  \n",
        "출력층 함수로는 Softmax function**  "
      ],
      "metadata": {
        "id": "yQaqafhOaE17"
      }
    },
    {
      "cell_type": "markdown",
      "source": [
        "#Model 역시 class로 구현이 가능하다!!\n",
        " - init : 초기 생성 함수\n",
        " - forward : 순전파(입력값 > 예측값의 과정)"
      ],
      "metadata": {
        "id": "FZ9Wh-V1ihsG"
      }
    },
    {
      "cell_type": "markdown",
      "source": [
        "**Pytorch 모델로 쓰기 위해선 두 가지 조건을 따라야한다**  \n",
        "- **torch.nn.Module을 상속해야 한다**  \n",
        "여기서 **interitance;상속**은 어떤 클래스를 만들 때 다른 클래스의 기능을 그대로 가져오는 것을 말한다  \n",
        "- **init()과 forward()를 override 해야한다**   \n",
        "***override**는 torch.nn.Module(부모클래스)에서 정의한 메소드를 자식 클래스에서 변경하는 것을 의미한다  \n",
        "init()에서는 모델에서 사용될 module, activation function등을 정의  \n",
        "forward()에서는 모델에서 실행되어야 하는 계산을 정의한다 backward() 계산은 backward()를 이용하면 pytorch가 알아서 해주니까 forward()만 정의해주면 된다  \n",
        "[출처] https://anweh.tistory.com/21\n",
        "\n"
      ],
      "metadata": {
        "id": "opg-maEryh1M"
      }
    },
    {
      "cell_type": "code",
      "source": [
        "class Model(torch.nn.Module):\n",
        "\n",
        "  def __init__(self):\n",
        "    super(Model, self).__init__()\n",
        "    self.layer1 = nn.Sequential(\n",
        "        nn.Linear(13, 50, bias = True), #input_layer(feature의 개수) = 13, hidden_layer1 = 50\n",
        "        nn.ReLU(),                      #파라미터가 필요하지 않다는 것이 특징\n",
        "        nn.BatchNorm1d(50)\n",
        "\n",
        "      #Batch normalization 1d, 파라미터 값으로 vector의 길이를 전해줌\n",
        "      #추후에 이미지를 다루게 된다면, 그때는 batch normalization 2d를 이용하게 됨\n",
        "      #그때는 파라미터 값으로 채널, 가로, 세로 길이를 전달해주게 됨\n",
        "    )\n",
        "    self.layer2 = nn.Sequential(\n",
        "        nn.Linear(50, 75, bias = True),  #hidden_layer1 = 50, hidden_layer2 = 75\n",
        "        nn.ReLU(),\n",
        "        nn.BatchNorm1d(75)\n",
        "    )\n",
        "    self.layer3 = nn.Sequential(\n",
        "        nn.Linear(75, 100, bias = True),  #hidden_layer2 = 75, hidden_layer3 = 100\n",
        "        nn.ReLU(),\n",
        "        nn.BatchNorm1d(100)\n",
        "     )\n",
        "    self.layer4 = nn.Sequential(\n",
        "        nn.Linear(100, 75, bias = True),  #hidden_layer3 = 100, hidden_layer4 = 75\n",
        "        nn.ReLU(),\n",
        "        nn.BatchNorm1d(75)\n",
        "     )\n",
        "    self.layer5 = nn.Sequential(\n",
        "        nn.Linear(75, 50, bias = True),  #hidden_layer4 = 75, hidden_layer5 = 50\n",
        "        nn.ReLU(),\n",
        "        nn.BatchNorm1d(50)\n",
        "     )\n",
        "    self.layer6 = nn.Sequential(\n",
        "        nn.Linear(50, 3, bias = True),  #hidden_layer5 = 75, output_layer = 3(label의 개수)\n",
        "        nn.ReLU(),\n",
        "        nn.Softmax()\n",
        "     )\n",
        "  \n",
        "  def forward(self, x):\n",
        "    output = self.layer1(x)\n",
        "    output = self.layer2(output)\n",
        "    output = self.layer3(output)\n",
        "    output = self.layer4(output)\n",
        "    output = self.layer5(output)\n",
        "    output = self.layer6(output)\n",
        "    return output\n"
      ],
      "metadata": {
        "id": "9bGKryAuiuKI"
      },
      "execution_count": null,
      "outputs": []
    },
    {
      "cell_type": "markdown",
      "source": [
        "**활성화 함수 Activation Function 으로는 ReLU function  \n",
        "출력층 함수로는 Softmax function**  "
      ],
      "metadata": {
        "id": "flc-18P6yRWK"
      }
    },
    {
      "cell_type": "code",
      "source": [
        "def init_weights(layer):\n",
        "  if isinstance(layer, nn.Linear):\n",
        "     torch.nn.init.kaiming_uniform(layer.weight)\n",
        "     layer.bias.data.fill_(0.01)"
      ],
      "metadata": {
        "id": "DqmAp9UdyjZJ"
      },
      "execution_count": null,
      "outputs": []
    },
    {
      "cell_type": "markdown",
      "source": [
        "활성화 함수로 ReLU function을 사용했으니 **가중치 초기화를 위해 He Initializaiton 방법**을 사용한다  \n",
        "정규분포와 균등 분포 두가지 방법이 존재하는데 여기서는 균등분포를 사용한다"
      ],
      "metadata": {
        "id": "9yCI9x8x3AvT"
      }
    },
    {
      "cell_type": "code",
      "source": [
        "model = Model().to(device)\n",
        "model.apply(init_weights)"
      ],
      "metadata": {
        "colab": {
          "base_uri": "https://localhost:8080/"
        },
        "id": "m5mgxlml1Tpj",
        "outputId": "7c51be22-2959-41ca-8f1c-39b42adf34dc"
      },
      "execution_count": null,
      "outputs": [
        {
          "output_type": "stream",
          "name": "stderr",
          "text": [
            "/usr/local/lib/python3.7/dist-packages/ipykernel_launcher.py:3: UserWarning: nn.init.kaiming_uniform is now deprecated in favor of nn.init.kaiming_uniform_.\n",
            "  This is separate from the ipykernel package so we can avoid doing imports until\n"
          ]
        },
        {
          "output_type": "execute_result",
          "data": {
            "text/plain": [
              "Model(\n",
              "  (layer1): Sequential(\n",
              "    (0): Linear(in_features=13, out_features=50, bias=True)\n",
              "    (1): ReLU()\n",
              "    (2): BatchNorm1d(50, eps=1e-05, momentum=0.1, affine=True, track_running_stats=True)\n",
              "  )\n",
              "  (layer2): Sequential(\n",
              "    (0): Linear(in_features=50, out_features=75, bias=True)\n",
              "    (1): ReLU()\n",
              "    (2): BatchNorm1d(75, eps=1e-05, momentum=0.1, affine=True, track_running_stats=True)\n",
              "  )\n",
              "  (layer3): Sequential(\n",
              "    (0): Linear(in_features=75, out_features=100, bias=True)\n",
              "    (1): ReLU()\n",
              "    (2): BatchNorm1d(100, eps=1e-05, momentum=0.1, affine=True, track_running_stats=True)\n",
              "  )\n",
              "  (layer4): Sequential(\n",
              "    (0): Linear(in_features=100, out_features=75, bias=True)\n",
              "    (1): ReLU()\n",
              "    (2): BatchNorm1d(75, eps=1e-05, momentum=0.1, affine=True, track_running_stats=True)\n",
              "  )\n",
              "  (layer5): Sequential(\n",
              "    (0): Linear(in_features=75, out_features=50, bias=True)\n",
              "    (1): ReLU()\n",
              "    (2): BatchNorm1d(50, eps=1e-05, momentum=0.1, affine=True, track_running_stats=True)\n",
              "  )\n",
              "  (layer6): Sequential(\n",
              "    (0): Linear(in_features=50, out_features=3, bias=True)\n",
              "    (1): ReLU()\n",
              "    (2): Softmax(dim=None)\n",
              "  )\n",
              ")"
            ]
          },
          "metadata": {},
          "execution_count": 21
        }
      ]
    },
    {
      "cell_type": "code",
      "source": [
        "print(model)"
      ],
      "metadata": {
        "colab": {
          "base_uri": "https://localhost:8080/"
        },
        "id": "gXkfK0gG2Cp4",
        "outputId": "a87b7f81-09ff-44a8-f60d-8b1b534c6f60"
      },
      "execution_count": null,
      "outputs": [
        {
          "output_type": "stream",
          "name": "stdout",
          "text": [
            "Model(\n",
            "  (layer1): Sequential(\n",
            "    (0): Linear(in_features=13, out_features=50, bias=True)\n",
            "    (1): ReLU()\n",
            "    (2): BatchNorm1d(50, eps=1e-05, momentum=0.1, affine=True, track_running_stats=True)\n",
            "  )\n",
            "  (layer2): Sequential(\n",
            "    (0): Linear(in_features=50, out_features=75, bias=True)\n",
            "    (1): ReLU()\n",
            "    (2): BatchNorm1d(75, eps=1e-05, momentum=0.1, affine=True, track_running_stats=True)\n",
            "  )\n",
            "  (layer3): Sequential(\n",
            "    (0): Linear(in_features=75, out_features=100, bias=True)\n",
            "    (1): ReLU()\n",
            "    (2): BatchNorm1d(100, eps=1e-05, momentum=0.1, affine=True, track_running_stats=True)\n",
            "  )\n",
            "  (layer4): Sequential(\n",
            "    (0): Linear(in_features=100, out_features=75, bias=True)\n",
            "    (1): ReLU()\n",
            "    (2): BatchNorm1d(75, eps=1e-05, momentum=0.1, affine=True, track_running_stats=True)\n",
            "  )\n",
            "  (layer5): Sequential(\n",
            "    (0): Linear(in_features=75, out_features=50, bias=True)\n",
            "    (1): ReLU()\n",
            "    (2): BatchNorm1d(50, eps=1e-05, momentum=0.1, affine=True, track_running_stats=True)\n",
            "  )\n",
            "  (layer6): Sequential(\n",
            "    (0): Linear(in_features=50, out_features=3, bias=True)\n",
            "    (1): ReLU()\n",
            "    (2): Softmax(dim=None)\n",
            "  )\n",
            ")\n"
          ]
        }
      ]
    },
    {
      "cell_type": "code",
      "source": [
        "#loss function 생성\n",
        "loss  = nn.CrossEntropyLoss().to(device)\n",
        "\n",
        "#앞서 생성한 model의 parameter update 해주는 optimizer; learning rate = 0.01\n",
        "optimizer = optim.Adam(model.parameters(), lr= 0.01)"
      ],
      "metadata": {
        "id": "Gl_V3ynHZ9LM"
      },
      "execution_count": null,
      "outputs": []
    },
    {
      "cell_type": "markdown",
      "source": [
        "![image.png](data:image/png;base64,iVBORw0KGgoAAAANSUhEUgAABDMAAAG3CAYAAACpLh7SAAAgAElEQVR4nOzdfVxUdd7/8ZeRjpqSJm6l9FuT3aElNcncJd3C7IrSjU3SK1E3KTcpWzQ3La+0G7S8ocwwTTZT0op0Ey8zvKxo85LKmGsNcb2hNActQSkGkUGRQen8/pgZmOEeRXHa9/Px8PGQM+d878+Zmc98z/e0MQzDQERERERERETER1zS2gUQEREREREREWkOBTNERERERERExKcomCEiIiIiIiIiPkXBDBERERERERHxKQpmiIiIiIiIiIhPUTBDRERERERERHyKghkiIiIiIiIi4lMUzBARERERERERn6JghoiIiIiIiIj4FAUzRERERERERMSnKJghIiIiIiIiIj5FwQwRERERERER8SkKZoiIiIiIiIiIT1EwQ0RERERERER8ioIZIiIiIiIiIuJTFMwQEREREREREZ+iYIaIiIiIiIiI+BQFM0RERERERETEpyiYISIiIiIiIiI+5ecbzLBZSJo0mH7BwfQLjyZxm721S9TK8khfnMic9dmtXRDsWSkkzk/D2toFaWXOdkgiw9baJbm45X2SSOIqC2qmnyfHt6nMGT2Q4OBgBg6bTOp3rV2iVlK6h/xVS8mzFLV2SeSsHaVg1XK+/3hPI/tVUPTxInIfHIx1zJ3kvrCJ4gtSPhERkZ+X8xDMyCYhOJjg+v5NTL0AX0pspD4VQ+IWGw7AUZCNvdJ03nMFwJ7BnJFRJO+8MNk1XSHZy5JIyb3A2RakERsazPDF2ThcmyoOZZC0Kod/9/CSsx2yKTzj2lBHW7Wqi2QsF+5MImlbXivl7iB78XCCQ2NJK2jC7hdJm/kMRzaJD88iZafzamDPzcNR2cplOkfFaQ9jHTMY65JMTjXnwPJDVHy8htMl56tkLeNs6nf84+nOY2JXY6u3fysoWDLYuV9yY8GA5jhE/qwH+X7rhQgSFXH649Wczm94r1O7l3N81XqMcoATGEUOjAtQupKdazj05B+dbTzmTnJnzSbvy0OcaI1zrjST7//6IHn7WiFvT4XpHBw/mNxVe5p3vjak8gS2rUs5OMXd1oOxTprCoXWZHCttqUy8ndq7nNwxt3Hwk5Ya50Ucib8N61+WU1jeQkk2ouXrICL/Di5t7QKcF7ZM0j+DwAdWs+HJMPwdNuxcoGBGWSF5e3Iw+fgHchGN5bOgNmuerzNIyYfw+E9ZPiYQh82Go2trF+pcHKJsyx5o2w6+TOf4AzfToXNrl6klnWP9StMoPxADwXW9lkn5ly1VTk8n+Cl3P5UXRYTY6UTWeuBm2r+8kJ5XVmAvraDDec7z+MfTKVqV6VkKjNx0HEvS+WH7Qto8djOXnecyeCkvorJgP20qLmSm59/pY5kcjZ/J6cIaFTueReV/Z1Gc1oeyWUsIDG7XOgUUEfmZOX/BjFvnsu2NUQSctwwakGfFAowaHIq/H9AxAP/WKIfAVZEsz45s7VL4BrXVRchE6GOb2fdYa5fj58n2XQ4OQgj/XSAApoCACxV2Pj++zaC8oB1tx8ZR+e4iHFnTYEin1i5VyzmX+v0yHL9jGTi27eF0cB/a1njZnvUxlVwNnY+2eLEvLkWcPlQBV91Mhx4A7fDvcp6/2JZnYU/JhCtGctmsOLr2aIcJKCs8RKnlv6no1vfCBjIuJt0juPatiJZJq2wPBc9M5/SxdrQJewr/sRF07u5s61PHD1GStoiTm7NwzJ3JkRcX0uOqlskWoMP1sfReE9tyCdKNHvH/24LpNa7l6yAi/w5+nmtmVDpwAKbLzt/H4uyXLtQtM2fPkZ+DZZsFyzYL2bmFZ33rgi/U1SdU2rFmWVx9ksOBsovjp0L1b/OpzVrIGYDumDpeoPwKUokNDiYh6/wkb7OkQdtITHcMwfRrqPzyywZvp7N/t4cfdmTxw44sbPkXx/WgIc2tn9vp/ExoNwjTLVfD1nSO1Zq2foKTX2bAoDG0vwooLOJEcwu3eynWMdM5UtjcA8/NqYL9VX1Y+F1R024X+QnobLpwH8BKj1J5Gi75YwxXuQIZAB279+LKyMe5ZpBHQKpwEwfHDObw7gtVuAvkAoyPYx8toeJYOy554F2ueexuArpXt3WHLr246v5XuXLGGNqczuTU6oyqc+f06aPYdhzCjsd42nsIex0z/AqTB2N9dhPHz181zrufQx1E5OLRusGMSjs56+cQM8y5+Ftw2HBi4lPJqfHpKHtFFMMfS8VWlkOya1HPgaMTsdT1KarAQuLLKQAkj61eqyMhC8hKqP6/pzq215tnsZ2c9bOY8y7w2SwGu9cCean2wpr2nSlMdy9sN3oOqd/W8WHVZiH5yWgGhwZXLYCX9H8eX5Fs6cwaMZjELMj7aA7RYcEEhw4mdn0DawiUWUl5bCD9hkYRMyGGmAkxRA+bTEo9+6a9NJnhYc78+4VHM2e91Rn4qGy8rrZtyUwf62yf4NDBRD+ZQrZXv2STPHI4k9c3/LXP9n9JTPYYB5NfSqs1Drz2/2gWUeGJZFfmkR4fzcDgYPqFx3otHmj7P4+yBQ9keFwSFq9iOLDWHH9PJpK8Yg6TRw5n1kf2ZtfRsSeZ2PB+BAcPJHqRperDiu2zBKJuGsjwsTGuPoki5gVLjVrVbqvqejrPlegwZ12i41OxltVsFAtJcVGusdSPwSMmk7AimYQnY4ganUxOzUZsQv+6NWUsN97edSjwHP/9GDx2etX6CQ1xfJvKnAnDGejOa8J0ElckMycuiuHPpFd/wSqo3SZJ22oWquH+q+qDFm6z6muMlVSPMZy8x1Fdx7HuRYyrt9clb000wcFR3mviOCzMCQ0m+LE0ry+c9o+mExzcz/s62Nh1qA6NX5cdWDclVJ/XoYO9xq3961ReWZEBZDAr3H2tjiW1oGnHN60MHgosJM1MIAPP9wbP/GjieKlH5X7KPz8KQyK4on03Og0Nh93pnKjjy9PpY5l8P+U2Cv/rYU68NIUTL02hJGERP9XYz1GYRd5LD2MdPxjrmNuwPjmb/L0nOO2xj23tg+TO28TxskMcWeJazyJ2Onn7nNPcy3I38b17nQSP7c3WjPrVp0NYJJxOw7G7RhkKt1K+ux1twwbR5hLgZClnvHaooGjrUg5OutNZj/F/5OCSTRS5xsKJ3E18/8Z6IJNTU1xrFIxZSs2iOY5kcji+ui0O7yzyakuA06X7ObJkimtxTudaB99/vL/2uhJlh8ifdydH/vpgVR/a/2tmrfS8VJ6g6OPllH8LfDufIvd6Ch5f7JqW/x7y/jqOQx8XUbZvDQdjb3OugZGcVXcQyM858+OnQ4eo+bbh1T6FWRxOXMJPQMU8dzt6BwBKdqyuXgti/B/JfWE1P9Q1BipP1NFn67Edq73rib3rOTTNtd+0RRzJ9R4fJTs81voY/0cOvrQeW421J04fy+LwC+Oq1wN5YSlHc53nSsPjo7otvdIr3c/RN2ZW90Psw3yftoeSem8h3E/ZR3vgmji63Hl1rZlHbp36x9JxILBzKydddTi55WVKXlrO8dcfrB5PL4yj8KGZ5LvbovIERR/Pp3Qr3mPHvb7MsQy+n/JHryDUuV4bqo53tdNhd561/lWfaw321VnUAVzj8oUHq6+DU2ZyeEeR9w90HseeyN3E9w2MJxH5eWm9NTMq80iNG86sLR6Xo2IrljWziPoog4XvLyHSPQWvOAdrWSHrnokm0bW/Yz+Yat07YiNtdgxJtX51CyeoJ9DIolxe6svzu2SiZ6Y2OsvBun4W0etTq57YYd+Zwqz7INDyLGHuUH1+KrF3zyLD49OFPTedxPFWHH/fwNT+Jjhjp/BrG/5fJRG7KMWVng0ubV9PzjbSpkUxxxLCpOSFTAoLxISDPEsi0yck4/WVqyybhJHRJHt8AXIUZJMyM4q8S7ew/JfvNFjX7GUDiV7s8a2hzEb2xjlEF5u8bjEq3GNtsL0cOxMZPz6p+ukmxVbSV0yn++8iePbWembXnCwkp8Afy4pYEte4jiwAk2uubN76WIbPzPDI1471k0RirA7Wvj+VUBPkvB5F1CKPZ6oUW7FsTMIdYgg/WdG8Ov6wjlkvJLr600GOnwl/d/0mJsPIuWx4YhQhXYHiHFJfmMysTd7VqtVWJwvJKYD0RdEkr6gaTWSvmUXUpYFsfzrM+ctPcTrT75hMWtVYcmD7Op3kr9Ndf4fU7oPdLTeWm9LetexMYuDoRI8v2g5sWWnMGW3HlLGcUfVNwf06iagRiR5Pw7Fj3ZZG0rY055+32qkAHFkJRI1N9tjP2SaJEzJIf2w1ax8NrfrVrKH+s7nGWku3GcU5WPPSmTlyFhnuc7Agg4T7Z+H/fHeSp3mU3bU9cMtCIupYUyLwd5GEMIeMbBvjertG5Z4MUsuAj9LJKI4k0nVcTnYaMI6wPq6Dm3IdqkuD12UH2S9FEb3C4/wqsznH7Q8mtiQF8s7YWc7yeQki6KqmHB/pPPea+d6QuK3uqkDzxktdTu3YhKP0akyDnbdQtO0/hGPMptxyFCKvrt6x3DUVnbvpMGcy3X7dCVPlCWwfv0zJ2+nV++1bTV78co8cKuBwOuUvlFL46kJ6dHduNcr2YxRupfiJ+fzk/qJYmolj7nyOTOhG+etrqmcLuLYfffU5ru7i/Pv7KTM5M/x1rvlPc71fwJpVv4b8Opz2Vy2n3JLFqYE3V60TUWxJ46e2kXTsezWX7IZThzwPqqAw+UHsn3hsPF3ET1/O53hRO/zie1AaP5/TDUYRwNi5nCMpm/jJvV9pJhUJM/nx5dfp2cOVbMEm8p6cX70PwPEsTq96kB+ynuPMzAi6AFDEkRcfpDzXTLsn4gm44Wo6UMHxfy3n2Etr6p+d8c27HF+1qfb2Xr3o0qz8wSg4hPHjJn5MWe7avwLjEhN13vRzxSDa929H2dYpHN0fgSlyDJeFmenq9TGiiKLXplBR7yLhdfeDsXc5J6ZtpWLG61xzvet2mcqjHEl4gFO7T3jt+9OXiyjp1peAseaqzWc+mc+P2zdVt9mR9ZyKhx+WP86V7cH29p2UbK6Rzo5FlLxk4tI5dzvbo3wPBc9MoaIqUHICY+8ayv5nAGcmd6a4kfFhFBzy6rPTBenkPzWbSs8ZRKV7OP1uPKXXpXL5r+tIpHA/p0uhzV0DaHjZn3Z0GhjBye1bOfP9c3C9e3smlaaFXLGyL51McCo3jaLnF1G+YDmFr8bR3VrP2HGrLKWysMjrQ/05XRvcxzdj8c9G+6q+8d9AHcp2L6Vgnuc5VQGFGVS8lEn+8CVcfX8f53XEdWyb7Uv58ZM19Y4nEfkZMlrcDmOB2WyY6/r30Dqj0LVXSVqcYTabjWHPbzUOn3RtLC809r410ehrNht9n880yt0pvug8vu+YZcaOY65dj5VUvV7LVwsMs9lsLPjq7Lc3nGehse4hs2F+cUftvI+uMyaazcZNDy4zMg+5SnimxNg6b2iNPA4b79xnNoY+vs7YW1hdk/K8D4w4s0farvTM5mHGzLQDRvkZZ3olJ426fbXA6Gs2G3FpJTVecPVLVZnLjczn+xrm+xZUl9MwDONYpvHKvZ59VX9dSz5dZiz79IBRWNV/B4x1j/Q1zOaJxgfujnblOzG1aoNRmDrRMJsXGO4UdyT2NcyDZhtb3UU+U24UWvcah+vtYHcaZsN810zjA6trR3f/HHrHGG0eakz7+16jqmnPlBuH34/z6IMdxiv9zYb5oZXG3mPufUqMvW9ONMzmicY71hKjpLx5dTSb+xqj/7bDKDnjzK+kpLy6/W5bZuw9U1cdJhrrjjbWVjcZ41/LrD5Pjm01Ftxm9mrDwvcnGmbzUGN2+mHnGDEMozzvY2P2bWZj0LytRuGx+hqzBcZyk9q7DiVbjWWvbTUOHC2vOubA353n/8T3q9tgx4ve144dic72X7m7eoyX7F5pTDSbjYnvHnC2+5m9xrLbzIa5/0Tjnd2F1W1yaKsx+y6zYTaPNt455N3udfdf7fHaMue/q179RxuvfHrAmadhGCUZC4yhZrNh/l2csfKrw1Xne+aLwxpuS8NV38c/Nkqq0u9rmKdMM6b19xxTrv2e2+q6ljXxOlSHhq6R5V/MNvqaRxsLvqgej8aZEiMzcYTXmK99DrjSaeLxZ/feUDu/5o2XujiMgteGGAcmrjIKq87zUuPI3EHGgSdSjWMeexZ/NM04ED3SOPxNjSR+TDNyowcZuR/ZnH/bvzQOv/WlUfSjw1mfMw6j6H+mGQeiBxm56bbqw1YOMg7cH2t8v+1g9Tj65xLjQPQg48ADTxmHdx0xys4YhnGm1ChYOdY4ED3I+H6XUZXHdw8MMazv7TMqGqpeM+pXlx9XDjIOPJNmFBuGceyDWONA9FPGkWL3q0eMvCcGGQdW7jYqauxrGIZR9s+XjQPRscb3WUeMk1VjodT48c0HjAPR04z8Hz3bdYnxY63cdxvfRw8yDkyeZ+Tvt7nawmEUfeBqS3d7u+sTPdb4blt1XmXF+4y854YYB6KHGN/902EYhmFU7HK278H/La07r5W7G2gNm5H/jHcdm5t/VT7RQ4zclN2ua5bDKLE7jHqdsRkFb012jgv3v4nTjO//d59R6vnetGuJV7u6VXyzynnMc6lGYbHDOV7OOIxj2142rNHe46Dks3jjQPQgw/pymte+J/J3G4Xuc8813g/MXGUU5LvHeKlR8LeRXmO0NHOV8f22g8bxU65yVBw08p8b4ixjkSutPa8bB6Ijje/+WVo1jk/+eNCwHa1uj8bGh9c4WDDEOBA91jj40T6jpMKdb6lxbNduo/hMrQS86lOdTgNc48ddx/rKdjLzZec4+8w9zlxjp67x5cq/6tw2zvHaYNQ+F2sq/myeYY0ea3yf7Wz3JvVVc+pwZp9xeOIg48D904w897lrGMbJ/C+N7x4dZByIjjXy8r2PbWw8icjPTyvdZmLH8r/p0HMqC58KJ9B9v7QpgJD7l7BkJDjWW7ynxfecwPIVkwh1hbxNXf3P/0Jx55DnqL9MIuyXrr39/AmPqLHAVG4GqTshb9Msogb3q7odpt/Q6aTXTo7w55cz9+4gTH7O9Pzrucc856t0HEQSeWsjS546LKS/7YCdycREVOcfHBZDUhOfiuc/dBKThgYRUNV/QYx6YBxgwdqMJ2n6XxYItlRmzphD8noL1mII6B1CYKONHc7cFXOJ7O3a0dU/1s9SySaPtGeiGNzPVa+Qftz+ZO2WNV1aVyZW7A5//E3Nq2PgA8tZ/bBr0Vk/E/7+JrDvwPIZBI4OJ8Sv6W3ibRRTHw2rPk+6hhMxrK79TFBHHjabg3Zdz/5saWwsN6e9vfiHM+nRcIKucqdtImjkBMYBlkOHGz62I3Wei1a7w9nu+zNIzYeI5xcyrk+A87wBTL8M59lXZxBCNhk7vW8fqLP/zlKj57/bTaP409AgZ56A/60RRACMnMCEAYFV53vYyHGENJhjCOGjA2FTuvMWi8ocLB86iLjjvxg31kTGex+TB5CbTXo+RIa5Zhk08zpUS53XSAeWT1JwkE3yhNvpF+IeEwOJWVbrZqc6NPP4lnhvOIvx4qU8C8fnFXDLzVxedQ52ovMtEXB4E2VVw/kEp3ZmQudIOtT1RA9PnW8m8P6bucJ9371fO664cwxtgZ/yayyS2SuSzoN6VY+jgUNoB3DLWAL7Xk0HP8CvE1fecS9tauTx/978X3o3Miuj6fVrXNcBEbQhA8dO1y+4h7/Ecbh6xoe3Ckos64E9VLw0iqN/ck1L/9Od2D/e3/RMgUv+EEuPX3dztUU7rggb4n2fbWkWjt3A8Oe4etDVdHTVs0MXMz2fnIcfFZze68zTvnsrEIFpQAsu7tqM/KsMWciVY/u4rlnt8O/cwEKift248v5XCXrnY7o+/RztB4XT5nQmFa8/yI+r9zR4+wmAPSsNCKfj1JEEdGnn7Cu/dnQd9DiX32uGw5mcOgbO9U/Soe1ILnv0bq99L+vRh4AaM+7aRcdwpXsdD79OXDloiNfrncJiuGZQLy53/aretm0vuo8YCWRR6T4NOnSmDUWcfiOeo2s38cN3RbS5ohfdrjqLhVVLs3DsrIBbHufKO834t3Xn24muffvQpZH3ceNk489ePXG8CGjX6I3eHfvfTFug8ttDDe/YkLO9NjTi+CczKXpjP21nvsk1/TvRlib2VXPkZuIoBb8J8fR0n7tAxx43c/W0ONqwh4q93rcHNTaeROTnp5WeZlKB3Q4EdecXtd4YTFw/IBzW27E7qP7GEhTEry7UInFu5zPP4rzaaxh4CLnKOxgRFBTYpGQd9jwggu6NPb6luJAG4w09u9OUJ+7ZczNI+3sa6V/lkLPHWnXLgKMZj6YMenAtG65KIum1VBJmppAA+A+eypIXJxHW4ONwgpy3D9UsU0GDLUtgV4BQRsVHkPLkHKLC5njtYRo6l8jqWbBNrmOQ+Ve1v0SV2bEDQQG/aKgi5yzgjklM+k0MSZNur7E2ShATXgo/r0/zaVp716PYSsZHqaR9YiEnJwdrsWt7A7e4ho6aS8Sa6cwZORCvnusYzty7XV/5y+zkARFX11HzX4cSBmSXec+frbP/LhYdTXRvZJeQmyIwkYxl51wiumeQmh/B1MEBhF49DtOKNDK+G0fk/mxyiGTSIFe7NPM6VEud18hSChu8pS+Q7g3Ow27m8S1xnT6L8eLJbklzrpWw+UG+31z79fLP98NYM+DAOAlc1a2uuGMtjuOHKM7YRPk/s/jpiMeU75qLazRVe1OzvrC4Nb1+dSnitOd3sR5DaP/rRZzaspXjQ+6m8vM1GJ0jaf8rj31KHa4qlvJTg2ty9OCSlnr0bXkpBnDJL7rVDqp0NNPu13CqtJRy4Kfyo8AQLm3Jx+42I3/3bPlLevWi2UPfrxNXXB8B10dAZRFHF42i7JP1lPxnHzo2UJ+qOnep/Vq36wZwnN3OsX2Fa4z3MmNqoWn99u8yKU1PpyJnPz8VeAwm93nQewy/mNuN4ndXU7FxPqc3won2A2j32HNc1b+O9myIux+CejXvcbnde3FpW6iwZHHsnl5cUe8JXsGJ7enASNoGNZJm+85ndb6elWZcG4o3T+fY2iLaPfE61/T1Dhg12lfNUe4MDPl1qx00bNu7L22B02VaD0Pk310rrZnRDn9/ILuQHyshwOui72BvVgZ0nMQ5/DDasDON79Kwcs760SBufiZMQGTSLuYObbmKmvwDASt5NghtKBDgmpEQ8tRmNjzQ0Dtq/XW1rokhKr6QyPhnefbBELp39cd/TwLBY5ObV2g/f0LunsGSu2dAmQ2r5R1mTUsk9m+h1WtCNEc7ExDJ8uy5hDfwSS/wpkgieluwXh2EdVs29q5BRIx/luceDqsak+dcx47++APpeYfhfD6ouGMIEcNCSAGCinPILoCAAaP46zNTGfWbhlqwBcZyE9u7ltwUYkbOoXDYszz79BuEBHTG3z+HhOBoGmzdq0KJHBqExdqdoO8sZBf7E3THBJ59ehJh7l/9OvoTCOQdtUPNUM632ViA7h3P9pN2C7TZ+dA/gnEdk0n5vxxG+aeSd9dUwrsC/SOZ1DOZ1M9yCLSmwa1zudHdJOfrOnQp0GcGm9+bQNBZzEg61+PrVd+1/5zGi+tJHA3ZmolttJkAPxNtLgP2Hml4oUjg9OH1HJm1CKP/41wWu5DLunfG1HE/BWMebijWdx40p35NSc+5eOip19M4ediMsfUoDLnZ+9iCo1TFii8Broqjy8IxdGso/cpzbBXXF8fKH4s4TY0vwGX7qfgW6N2Z9sDJ9lcDhzh9DLji3LI9m/xbjF83Olzfl7IdpRiuAXm6nh8iLml/NXCEM8eBGgGNom+ygG7OsY17jO/H4Rl5OUvH0qZQ/G4RfmMf5/IRwZi6dOKyb5ZinbfGa79OvSPo9HQEVFZQkpeFPWkmFYtWc8y9VkJTx4e7H6yHOEW3ZgQ0+tDhjqup2LyUkn8MonM9i4Ce2Lmcsu3ALeFVMxjqVVrkPA/auwMGFQ0G+s+/Cor+eybH3y/FNOt1AoO9AxlN66tm1KG9M7pWWXQCaqwGczp3N6eBNh3P82ONReSi10q3mfgTdlsE5Ccy/ZlUcty/xjps5KyZzvT1YBoZ1si06rPg+sCasj4Nm+sN2/GdhaTXUpuZUCHW/wOKC52Pzqp04Gjul5vfhDGqI6ROiyFxW171r/yVDmy5OeSd5ZeloD7hmMggbUsj93kEhBLeH3LmT2bW+hxs7vwqHdi/8/iFvN662sjeYsFBKOF3hRF0lT/+2MjZ7Vo+rxkBI/ueDLK/szvboGMAQaGhhHYFx5mza4SQm0ZhIpXJDyVi+c4jjTIb1q/zXN9D80h5fDI5o9eyNnkt2/ftY59lM0seDfP4UN0CdfQPIbQ/ODamY2lsHu85cGxLIHpREAvfXcvajF3s27eLbe8+y6jfNDYn49zHctPauzZbdgaWMgi9NZKw3gH4Xwa2PdnOBRgb6Pu896Yzed8o1r67mrWWfezbt53NSz0CGQDmcEb1hPRnYr3OL8d3GSQ8kUgOoYT3P9vgUguc/+eDXwjhI004PkwiMT2PiDtcM3L8QggfFUjOm9NJ2Ajhdw2pDqudl+tQAKG3hsKeBCY/k0qOrToRhz2PnG8be1rNuR5fP1ueFSjE7r6+uR+PfC7jpXAr5buBO17n/63ZRlCNf1eM7QOlaZQfAOhE+5A+cDqdUzsb/kR/MieTn07DJTfeSZdfdnMuCvjtbudl57Sj0WBIi2lW/ZrGv/8Q/NiDY+VyHKVm2t9S36yObnQY0AcKllKyeBO24xVV9T5VdhTbd9WLDZ4uyAJKqXTN8j9VXtG8Nuo8AFNfYPNs8j/eX/VYzFPH95OfGE8l7Wh7vbOcHX89CMjEYTnacv3QjPybrTyT76fMJu/LQ5S4Z/dUVnB892qK12bBNTfTwRWUOfnDIaCIn1zt6CivwAH4D4gEMihbsJwfClxtW1lB8ZdLKUnb75FGJ9HNTfkAACAASURBVC77XTicXs+JReu9+qzsyB5snk8PalQR5duzgD6YbhnAFd070Y4ibN84f/E33Ner4/sp2H2UE+WAXzsuD+xLu2u7wWmqFoJs8vhw98PnM/khbT92906VFRTv3sPxBmadBkROxq9tBT+tGsvhxespPFJR9f536vghCt6ewg8JazDaRtBx7IBGAyXHP0+jkqsxDXD3exGV3wHHi5xPt6msoOyCXQg8AxlLagUymtxXzalD75sxdYbK5Gkc3nGUU640yo5kcjRxOQZ9aHd9t5auqIj4mFZ7mon/sBnM/Z8MZq2fRdT6Wd4v9p7A2sfP4hf5xpjDGdUzkcSN0xm8cbpro4nwoWFAI788ebmGkKHA+skMXO/cEvj4Bj59uBnhF1MYM1ZMwDI2maQJt5Pk9WIgU9//lEm/aUaRqpIdx4z+Kcx5JpZZlXOZdFcQ7Yuz+WBRQo1fuwMZt2guGXfPInVmFKkzvdOJXLydhXf5N1jXsKGh8Fkqk8PcwSAT4x6fRCgZJI+PJaihJ1JUsWN5M5bJtRa4DmLSiLMbA6bBM1j9kIXoFUnERHi3LD2nsmHLJEIoJG8n2PvnYa+sXrPAW0AL1DGQUX8ZR8LEZGIfMrHkhT8R2rUc65YUEl7IAMLPooa1lRY4gwZ5BQ7o3ZxWO/ex3LT2ri3gpnBCySD1sYFUte6YqUzqDxmrYog1b2P5yNpfIAvzsqE4lDw7BNV3u4JfCBNemkBaneeXifB5Cxn3yyZXsYYWOP/PCxOht46Ct1PIyA9n7k3VgayQW0cRuDgRKyGM85yydZ6uQ4H3LWTuZ8Prvr7fvYTtL0c0eOvTuR5fn4CgEEwkkTAimAQAIlmyfSER/mc/XootafxEfWs+QNdbRlLy7mwc2/ZwOrgPXW9/gNJ10zm9aDKHH3kK/74B/HRoK6UpL/MT1b8wdOl7M8fIpPL1O8l73bVxUCyma8CxdQp5vT7g2jvP8YN8E55m0tz6NWlKf5dBmPpD2c5MuOZxOl5T/65dh8dzKmssp7bPp2T7fEo8X+w/j/YzwukEtLvmZmATJ2M3OQOinWPpsjyGprdQJwImPEXek/OpXPUghavwerRrmzteJ2Cg8wtchxvvpf016yl/ezr5lU9x+ZBeXHJsN6VvLz2HH86bnn+zHTnEmePpGEvScQBeq7+0NdPu/siqJ3B0CTRTxGocswa7nuwTQcflz3F18Bj870jH/slqTvx1tfcjYNveTIfHR1al4X/LZE5szeTU7kWUTFrk1Wdt/jOFgHt7NbHg3egwsA+nvt1E2SRXv9KOtvc8QBsyOZ0wnSOvLsT/mzWcXJbOSeAHz7zujKia/dD08eHRD+8+SOG7nv1gpv2Lb9KlvvHaJZyrFzzF0VnzqbQswm5ZRK3Qa/tw2j/zVNUTQ6qlceLtAfjd1Zd27Us5tXUVpe9m0uaO17mian2dq/ELBrbP5Ic/ueoa+SZB9d7i1YIK07GvywTAEX+bx1OfAMbgvyauSX3Vo3sz6uBn5orJYyiYt4aKl0ZxxOvFdlzyQDy/6NG8ati3zOL2aTlMencDE87ivU1ELj6tNDMD8Atk1NItrH4iklD3AoBdg4h4aCGb188g9HysVeEXwoTX5zKuv/NjsH/vCKa+tYXlDwXh3zuE7k2ezhxA5NNLqtKhaxAhAc3/aG0aMIMN6cuZekdI1QKT/r3DGBe/kP882/cmvyDGvbaaqYMLSY2P5vawgQweNp3swaMYVXPfnqNY/slanh0TVvWl0HRVCBGPLWdq1QKi9dc18L7lrH0i3Fn2rqGMe3kzzz48gWefCCegY2P3xbv5E/HcBhY+FFFVBme/vFX/IyEbZSL0iQ18mjSViN8EuAIi/gQNHsezi/7T9cX6GoJuhbxVsQx0LzAYHExw6GCi4hJI+9bRYnU03TqDDfNGEfR1ErHDBjMw7HZi3obIB8LOsn61de4VRCAZzBnmsZhrcDADh8UwfYWlaiZSbS0xlpvS3nX45TiW/30G4VeZAH9Cxyxk8zOTmPCMc1tg97pv4L6mdzjkJxMb5tFvwf0YPGIyCZuqH21rGjCDte8vZMIdQa4vviYCBkQy460tLB/ZtDVo6tYy5//5YOofRiTArREM8Qyy9XHOPKDPKMJ61zjmvFyHnNf3tfHjCOvtapuOAYTcMZXlU5qwhsu5Hl+f/pOqz2dMBAwIrErr7MbLUco+3wPXjOGy+hb07DKEDre0g63pHCsHOt5MQPxTtO2yn4ol47DF3smxl9bDb8d4vyH3GMkvno7jks7tgE60GfQcVzwawxV/dm7zu7wlF2yoz1nUr0k60eWOGNpcZcbv9kENP8rS72p6PJPK5WNHckkX11Tztt1oc30sl91/c9Xk88uHTqPjIPfzhjvR5v91a/YHnLZX3U2Pl1/FdGMfqqIyXcJp93AKV03oU70+hV8vfvFfr9Kut43Kdx/mWOyd2P4rnjM33N2ktVDOOf/m6j2Ga15L4bJ7I7za8JIb4+j08pve6x5c/wCX33uzK/92cM3VrnZsR/eY1+ny8JjaaSQupIfn9cbVZ53ujXCNX6B9Ly4Z9BSX39HUQIZT1+EvV5enfR/aPvwuV0aPwf/em6Gtc82UToOmeZerfS8uGf4q3dyP7aR546PufhhA2wee4vJGvjybetxNrxUf4P/AGC7p7g6VtIPu4bSNfpWAFfPo2buuoNQJfto8neIpd/JD7Cjs726lzfBX6Rbj2e/d6P7IPNr28KhntwtxHWiapvRVc+vQsW8cv5j7HO2ud4+bdnBNBKYZqQTWcyuPiPx7aWMYRr2PRBff5rC7b93wP3/rj/iqSgd5lmTmPJmIpcyEo6zmfPpw5jZpZknz8rS7VrX1P4eni9SpOIe0RbOYvsmKqcxR69aOwIfWsvmJ0It3gctmcHxnIXnBNBItpXXWNXxe3TM6RC42ZaUnnLMxOnaqenqF+JZTZSeorIQ27Ttxmb5ZyVk4/vF0ilb1otPKB7jM9cODxpOISNO02m0mcv6Z/C/A42t9koPspVFEbwxn+aZ9LPf8WbDSgW1bIqMnJmPNB1oymOF3HoIYAAVpxA6bDk9uZld8UNVjJQEos5Ly2HDm7LdSiu8HMxw7E4kanUb4Gx+yL8n793mHLYPE+2JJzj3Pi62KtJCOnVvw0Z7SKjp0VB9Ky7ikYyc0mkREmqf1bjMRaTWlWPc4FwLMy83zesSqozCPzM8yyCOUQF/5PpyfQ0YZ2PPyyCv2mKfgsJP3dToZX4Hpl4FNetTuxa7UmoMVKPzOSp7ngqplNvIsGWTkQ2hgYw8xFRERERERX6fbTOTfkv2TWdwel1p7cS4ATIQ+vpbVD4f4xkyGyhySR0aT8HU9j57oPYolK+YS0fPCFuu8KE5n1rDJpBbX/bJpwFTWrphEyPlYc0dERKSFuW8z8V8Th0LxIiLNo2CG/Nuyf51G0mvJfLAtB1sZ0DWIsFsjGPXgBCIbfaTpRabShuXNBSStz8CSawdMBPwmnDtHj+PR+zwfN/szYM8h7fUkkjdlkFPgwLnYaDgR905gwrCQep5MIyIicvE5sXc9xdsD6PRAeMOL4YqISC0KZoiIiIiIiIiIT9GaGSIiIiIiIiLiUxTMEBERERERERGfomCGiIiIiIiIiPgUBTNERERERERExKcomCEiIiIiIiIiPkXBDBERERERERHxKQpmiIiIiIiIiIhPUTBDRERERERERHyKghkiIiIiIiIi4lMUzBARERERERERn6JghoiIiIiIiIj4FAUzRERERERERMSnKJghIiIiIiIiIj5FwQwRERERERER8SkKZoiIiIiIiIiIT1EwQ0RERERERER8ioIZIiIiIiIiIuJTFMwQEREREREREZ+iYIaIiIiIiIiI+BQFM0RERERERETEpyiYISIiIiIiIiI+RcEMEREREREREfEpCmaIiIiIiIiIiE9RMENEREREREREfMqlLZ2gdczglk5SRERERERERBoQtGZbaxfhgtLMDBERERERERHxKQpmiIiIiIiIiIhPaWMYhtGSCZ44Wd6SyYmIiIiIiIhIIzpd1r61i3BBaWaGiIiIiIiIiPgUBTNERERERERExKcomCEiIiIiIiIiPkXBDBERERERERHxKQpmiIiIiIiIiIhPUTBDRERERERERHyKghkiIiIiIiIi4lMUzBARERERERERn6JghoiIiIiIiIj4FAUzRERERERERMSnKJghIiIiIiIiIj5FwQwRERERERER8SkKZoiIiIiIiIiIT1EwQ0RERERERER8ioIZIiIiIiIiIuJTFMwQEREREREREZ+iYIaIiIiIiIiI+JRLW7sAUtO/SLxxPG97burQjetu/gN/mhjLsODOrVUwERERERERkYuCZmb4glNFfLPlLZ4eczuPbcxv7dKIiIiIiIiItCoFMy5Wg+NJ3/Evsnb8i6zt/yRt2UT6dXDwxeyX+fB4axdOREREREREpPUomOEL/Ez0CIvjb/OigE/ZtdfR2iU6D4rYOPkGBiz+V2sXRERERERERC5yCmb4ENPlzvUyjthOODdUlvLNRy/zxL2/Z8CNNzBgaBRPLP6cI5UeBxV9ypwxQ1m2E478Yz4PDr2BAYOHVt+u8sM/efuZ8UQMvoEBN/6WiAlP8d6uUq98d60ezagnN1B0KpeN88Yz5MYbGDQsjrdznEEVh3UDCROGMqjGdk9FX73F0659Btz4e0ZNf4PtRa4XK4vY/sZ/8co2YPV4Z11uvIHHNhZ5JOBZzhsYcu/jrPzK43X+xdt/iuKJjUU4ct7isWG/ZcCNv+fBpf+kFMBVds96vm3xPF5ERERERER8hRYA9SGlBc4AxLU9uwFFfPjUMJ7+h0fg4HguW1bH8Q1vkfrYDZgAztgp2leE/443mLJ0LQcBKIJL28OuNxjywFKqQxcOinZuJuGBUkwfLuWeK93pfsPBI58yZ1w8XxxybfvhcxInxuP/TABvz3zLlW719p7/M5+hXZybjmyMY9Tsz6kuaSkHtyzlkVwHb66Jo+c/nuORpH/WX/EjG3jsP+P54pRHWxz6lGWxB3GsWsuj/UzOWuXkUvHjf/P8i0td+zrY52eiM0V8ODOaORnuEjjrmbj0Bn4fFs21TWp9ERERERERuVgomOELKh0c2f4Gs57/FDpEM7gvQDeuGzyaGWOjGfabnnQ2Acf/SeKEibz93ufse+wG+nkk8fbSzdwzbwMpd/TGRCmlFZ3hzHXcP2kpQ//4W6690gSVDg5unMa4Fz5ny1dF3POHbtUJHLQTPG8DL/y+N539oHTby4yd/BZzXrydqcmbua9vT0yUsn3peB5ZvZldh+YztD9weC2zZucy9Om/89c/XEc3k6s+Hz1F5DNvsOXrOKb+YSlZf3A+xeXgc1tYfI9HvuTz3sx4csPjSZk2nOu6OQMXjiObefrup1j5v9/waL8bqvb+IukN+sW9xdaYG+iMg9IyoOhTPspwMPDJDfwturfz+NJ8Dv7or0CGiIiIiIiID1Iw42K1LZ6IG+NrbOzNPQtjGej8Ps+190zz/jLe5bfc96ff8vYL35BfBP08YgK/f3opz97V0/VXZzp3ALiFP0/0ON7PxLX3jOe+Fz7nve/zAI8EboxidHhv3A+G7Tz4P7idt3j7nhju71+d7sB7RnPd6vlVhx3ctoFd5LPrhdF8+MJZtMOhz9m4C47simfcRzXbo7Ye45bytwmuWSmY6NwZKDXRrQNsXB7P0/nDGTzsFoYG9+S6oLMoj4iIiIiIiLQ6BTN8QZfeDBwcxZ/jxjPwSo/tlQ6O7N7Mp5s/56PdOzm4r8h1K8ctVJzxTuLa3j2p0/FcvvjHBj7a8k+++eYbDrqflFJxlmXtYCLA48/SH75pYOfr6NGlkfSO59NgCld29vq796+CXIEMD51v59n/foNrly7l7f+ez4cp86HDddzz5Hxm3NO79v4iIiIiIiJyUVMw42I1OJ70JVGecyNqcLD95dt5ZGNv/vzMTF56tCfdOnfmxKY4ImY3MY9Da3lk3HxsEU8x48llzOjWic6dvyHxxvG83TK1gHYmYDiLt8Xz+w4N7FdZzxNaLjFhAu565Z88G34OYYcrf8v9z7/F/fEOSo98w4fJ8STMjue6G9/ivmvOPlkRERERERG58PQ0E5/1DdvWlsK1/8HQ266jR5fOmCry+dfeXMABlY0mQNG/vmD7Keg3+A8M7NWNzh2hKOdfzsU8z7TM41+DQ6MwsYEn/7KU7Yc90jxVxMF9+dWLgtryOQjYjhc6/6504KgEgn/LPR1g48yJLLPkO7e5Xi869A1HmlLMyly2Z+RSVOoAPxOde1zHwOt70tR2EhERERERkYuLZmb4rOsYHG3i7bUvM+7ml13bbuDRuFswsZY5d7/MtTumeS0CWlO3G39PPz5n45O/Z6Nrm2lUHH/uB1+kTOSxX9VcjLP5TGGP87eYf/Lg6jd45J43vF/sEUfKpolcB3Blb4I7wBeLRzNgsfPlYS9+wQv/8Vumvjae7RPeYuWjw1nplUBPHl2zmT8HN1KIA58y569LOVKzbOHzub3XOVROREREREREWoVmZvgsEwOnbeCFUTfQGTBdeQtTV73Gn2PGO7eF9KRzY0lcE82rq6bx+ytNQGf6jZpP6oyJ/OlJ57YeAZ1apJz9HltL2itxDA3u5lqfojPXhkUzY969zkAGADfw5zfcZQHTlTfQw5W9qf80UjYu5dGh19HNdatK516/5b6Z8xnxqyYUIXgiq5ZNY1h/V/4dutFvVDwp84Y3cBuPiIiIiIiIXKzaGIZhtGSCJ06Wt2RyIiIiIiIiItKITpe1b+0iXFCamSEiIiIiIiIiPkXBDBERERERERHxKQpmiIiIiIiIiIhPUTBDRERERERERHyKghkiIiIiIiIi4lMUzBARERERERERn6JghoiIiIiIiIj4FAUzRERERERERMSnKJghIiIiIiIiIj5FwQwRERERERER8SkKZoiIiIiIiIiIT1EwQ0RERERERER8ioIZIiIiIiIiIuJTFMwQEREREREREZ+iYIaIiIiIiIiI+BQFM0RERERERETEpyiYISIiIiIiIiI+pY1hGEZrF0JEREREREREpKk0M0NEREREREREfIqCGSIiIiIiIiLiUxTMEBERERERERGfomCGiIiIiIiIiPgUBTNERERERERExKcomCEiIiIiIiIiPkXBDBERERERERHxKQpmiIiIiIiIiIhPUTBDRERERERERHyKghkiIiIiIiIi4lMUzBARERERERERn6JghoiIiIiIiIj4FAUzRERERERERMSnKJghIiIiIiIiIj5FwQwRERERERER8SkKZoiIiIiIiIiIT1EwQ0RERERERER8ioIZIiIiIiIiIuJTFMwQEREREREREZ+iYIaIiIiIiIiI+BQFM0RERERERETEpyiYISIiIiIiIiI+RcEMEREREREREfEpCmaIiIiIiIiIiE9RMEPkXNizSZ6UQEaZ6+9KG9nrU0j71tGqxarJnpVC4vwULPZGdqzMI2NFIokfWRtPtDidOXHJZDeW5s9Y3ieJJK6yYGtsR3s2KYsTSPv2QpTKQ6UNy7JYBocGExw6mOhFFv6Nu0vkopT3SSKJ8alkt3ZBmsJ1LUva0uhVrw4OrOvnEB0WTHDwQIbHpZLX4gUUEZF/JwpmiJwlx7cpxIZHk9QukO5nXBt3v0PMzDlMX5Te+BfcC8ZBdtockr6C7v6N7FpgIfmlJPLo3niyfoEE+SURHR5L6nctUtAGypVGbGgwwxdnczGFiQp3JpG0rQkfx8usZCxLJucCRxJs788kZnEGtjKgzEa23YHpwhZB/u04yF48nODQWNIKWijFnYkMD+5H7MaL56rakgp3JpG0xiOAfJFe74Cqa1l2cfMPdWQlEjszxXWsHetRBw5spE3qR/CwRLKbXdlzOVZERH4OLm3tAoj4pPxUJt83h7yxq/n08TD8/VzbfxPOpMEZWO8KJcC9r8OOvQxM/v6Y/OpJ77yykvMZcGsggY3s6bDmYCGQqb9sLOoB+IcwbtGnBC2KJmZELGxazqieLVFeaRk2Mv+RAT0nsPr9GYRd5sBmR8EMEWkVOV+kkEc4z6YvZ1ygA1uxgwAqyGntgomIiM9SMEOkuSpzSHpoFpawuWz2DGQAmEKZlLzBa/ecVVFE/S2StdlTCb2wJXWy52HNh7CQoEa/yFq/zgDCCendxLT9/Al7fDlzc4cz66EkQjZNIuR8BGyuimR5duR5SPjn7DBWC3BPGKH+ACYCurZykeTfgInQxzaz77EWTLH/VDbvm9pyCV7sfpbXOxt53zigTzhhvwQwERDgfEeKTNrF2dU24ByOFRGRnwPdZvIzsG7dOoYPH05wcDDDhw9n3bp155Sew27HlpuNZZsFqx3suRmkLE4kcU0aOXVMG7ZlpZL4ZAzDw4IJDg4mOGw4MfGpNabU55G+OJE5cVFEjUgiOz+dOaMHOu+bXWxxTqUtyCZ18XRihg10phM8kOET5pD6tWdCDnI2JpIYP5mokdNJy7eT43EPbnR8OnmV1ForIHaZBVulRzKVNizLJhMV3q+6zE8mk5Hb+H0A1nfnkFgQycJ5owis+cW90oG92GO+q8NK9ld5MDgQ/2I79mI7jkrvQxz5OVi2WbBsy8Zax9Rdh81K9s48HJUO8vZYsGyzVPeDw4Y1y+I6Poe8strHk5tDOhDyy+44vnPltSevVjnATt7+PPhdCEE1oh4NltEvkFHzFhJZkEji+xdwGnhBKrHBwSRkXbgsG2J3nTN1t23rcJQBl/k3PhvDNbasxYAjj5wGxuPPSlYCwcGxpLbQ7RDnzkbqxGCCX2rF1ROKXdcbGhvTF0FZfVXVOWbBkmWlsKVukThP18SqcbDNQs53jrO+9cVxBrjCxOUtWbhWYM/NJjvfAZX2qvffnPyf+X0uF9n7bWv6t+x/kYuZIT7tvffeM8xmc61/77333lmmWGise8idzghj4pQRRl+vtIcZMz887Nq33Mh88aY68zebzYb5rmXG3jPudHcYCzzSGHZX9X4j3jpglFsWGDfVl455mLEsp57yPTKs1v7DXvvAWPdI31rbR7/rKveZw3W+7k7zHWsDzVOeaczu75FWjbb74BGzYX5onVFoGMaO1+pumwVfuXY/ecB4Z0rNfTzb19lur/Q3G+anlhnLxlSXue+LO4zCtLgafWM2zOabjLj3vctWmDrRMJuHGiPu8c6r7z2vGDtOGrXzmpdZvalJZXQ68NZow3ybZ5+3pB3GynuHGXGphc4/j2Yayx6sWa6JxrqjHvW2rDSmjRnkaqObjGF/WWZkFnokWfixMfOeQcYrXxnG4Q9nG6N/ZzbM/QcZE1MPV+Wx8onRxqD+ZsNs7msMGjPNeCe7xLtUL5oN872zjQVTarbtAmOrZ15H1xkTPfu+qWWsz9FMY9lfRlSX7Z44Y9kXHgeeKTQyE0fXHh8v7qgnPWf54p5fYIzoX2M8vXvAKK+Rd6Pt8sYIY9iUdUbhyb3Gykec9bvpvleMzBLDMM6UGHvTFhhxd7na7HfDjLgXtxqHPceNR98UWpYZE2/ta5jNNxmjn/vYud+ZQiPztThj2O/M3tu9lBsHPPPpP8gY/dw644BrzJfkrDNm3lPzOrDA8Gyhxvqn8MOZxohbXzF2nDlsfPzcaOMms9noe+tEY90h9w6ZxrK/DHNd224yhv1lgfFBjndbefXZa+NrXQcnpnpkWLLXWPfceFe9zcZNd403ZqfuNUqacs418dgmjelGylrVLtWpVp2/5fvXGbPvu8k5dh5Zaew96eqr1NnG6Fv71tjubsfq8WAY7mta3e8XXu118oDxwYtxVXXue+toY3ZqjfF8Lm3V0DivU7lx4N24et7rFtTZXl68zj2zcdNdccayTw8769PYNbE5Y9GtcKuxoNY5Ukc7G0bDbX2mxNibOtMYVjMd93ulux2r8q3u75Ic93gxGzfdN9tYt9+7987lWGebeF9HF7yx0ljwxHhjxH0rjb11Norzs8yI5xYYcb/zrE9fY8S8rUah5xgp2evVJjfdFWcs+LTGe2cj70OFX3hcg/oPMkY/8Y6xw6vbzvHcchejoWtdE95vjcI6xqbFc4x4lHP3yupr+suZRr2jsAn90+g12DCMwi+WGXH3VLfhiL8sMzKPeme148Xa1/+6tzej/08eMNY95/1eufKLprzBi0hzaGaGj3vzzTebtb15csj4KAdT7xACOrq3WUl9bI7rl0wT3a9qYBWG3CRSLXVFq61Yc6v/CjMHYere0HoOVpLWW+r4NSiHjC21n7phXTydWVtq7539oYU8wLEtuc7XAegYRsgv6y0I7MkgtSycUbfVVdrD5GwBU58gAoDQBz5l2+JRgInIp1ezOtn5b1RvoDKP1GlRzNkfwdz3t7Nv3z72bd/AjFutpD6VTFWz5VvJLgM+TMc+dgPbdu1iV8YGVo8MgY4hTE3azLbtu9i3bx+70pczrred9CcTSfeYYHJgfwZ07E74lLVsz9nHvpztbHg6HL5OImaRR7sWWMkpg/CQXzn/bmoZXYLuGEV4fhJpOxtov3NQuMfqKquNtNkxJG6rfxZN3vpYho5PIC3L5jrGjvWTRGLu91go7oydwq9tOL5KIvYx16J0ZTa4tD3sTGJgeAwJG7Odi2fiwJaVxpzR02v/ir/Hgv3W1WzL3se+nF18mjSOwK+TiX0qtcFFYJtUxjo4shIYHh5D4ic51WX7Op3ECUOJWuZcMNC2aSYxy2ovHhje+5oGSgQZOSZmvL+dXTn72LVtA88OdZAeH0tiliulprZLcQ7WskLWPRNNwhZn/ez7weRvI+3x3xM1LZl09yyoYivpK2KJWeRRXlff5KyIZej4RDIKHICd7DWTiX09jdS4ocQsTnfNHHFtX+F5572D7JeiGO6ZT5mNw2CYtgAAIABJREFU7DWziJqWho1sksfOIvXr+hu6Sf1zspCcAgeWFbFMXpONHXAUgOkywJFN4v0xJH5idT1Bxo71k2Sm/73uRR1tm2YSs7iBp83kpxIbHsWsNZaqGTP2XAspM6O4/fG0hhccbu6xjYzpRsvqahdPhXus5P1jJlF3zyJlpx1wYNuSQPQzqaS9FMXwmSlkFzg8tqdXp+8+VxuqY01l2SSMHM70FelVdXYUZJMyM4rJDS0k2py2qnec1520beNkouIzCHp0NZ/u2ue8bm9ZzYT+tfetvt65yp6VSNQwz3MP7LnpJE5KJMPeyDWxmWOx+phYkh2RzF3vuv7nbGfD85G136sba+vdyUTPTKXWu7XZ+V7pbEeP7a7+LtySQPQI93gB+84UZt2X4P3ec7bHFqcz/Y7a19HklxJI3mghZ2dhg+Mt5//shK/Yxq6cfezL/pTl9weSsyqWme7ZibY0JodHebWJPTed5EkxJGR5pNzA+1D2soEMnuBxDSqzkb1xDtHTvN9bzuncorFrXePvt+SnEntHHWNz/HgSd1bXtXCPFccP65h1f0LVNT3Hz0Sdp0tT+6ehazAOsl8azuAJiaR/Xd2GOZ8kEjMsiqSdzbqieGm0/7GRNi2KWWu83ysTFn1c+zwQkXPT2tEUOTf1zoowm88yRe+ZD6985YqZnzlsvPNQddoj3jrg3J79ijHowWXGVmuhUX7GMIwzJcbWeUOr9hv6N/dvG54zM8zGsOddEewz5c7jjB3GK7eON5Z9esAodP14UpKxwBjqPua2Za5fSTzLN9RYkOEq3/6VxmiPXwxW7nZuL/nCIw1XdN3zV72qX+HPlP9/9u4/OqrqXvj/u0U4NuK0tEnFy1h8mDZ5mAss5mIWU3Mv04aHUfKYpSlBInkwkgvRVCK5/DCPBFKgxhqJGkslbcQoShRluKjDN2r8Sh2uKeNSGL6AQ0M5XChDSZupKQOmHCA93z9mJplMZvKLIEQ/r7VYi5w5Z5999tnn1+fss7d++tin+gfunt/affrrdD35J5v1I7F+9G3V701O1pe+3fmeoeWNhXpy8lL93ahXD6ffXqpPTE7XH/+k69qCeYt44+F+PLid7l7fJcZeXj+hb52XrCcveTfq7cdp/a2HkvXk5DX6B+GkQ+sKt4Lpcx47HNE3/ySibgyqYP3p8jbwk8dj5+PYZn1Ocrq+9LVPO+qSfvGcfuKNRXqXljGh1gjJyTP1Fc4jHfX39Oe6rp/+QN/w7Af6kVPnOpY/8tpCfWJysr7wjc487H2i8+1ipCMvzelSlt1aZvQ1j9Eufqpv+HGynjx5ob75QOiY03X93LEP9DW3J+vJyXP0zR1vpELHXLzWGJHitBzRP/9AXzM5ov70p1ySk/WJ92zQ934WyuNnp/Vzuq4fcTyub/7khH46vN2f7dYfvz1ZT54c8SY/lJ+Zj2zW9/pCM547EjoHTdTveuwt/chn4bLcqi+c3HU/nPtwjT4xeY7++IcnOspIv3ha3111V5c6E6zL3d/G9XX/dJxLbl+hv6WGZgxtp+55Wp+YfKu+xtV55J07dUT/1NfTsRyjnuu63nm8ztTXvN+5TedaPtU3PxB847rmw3jp9m/ZPtfpuHmNVa7BeSfe87T+gRq+pnReK2556PnO/Xw6VB8il49XP8M+/1TfcM9EfeIDW0MtdM7pu38+UU+++3F997GIcvlst/70T2Jv34DLKk497+biXv3xycl68kNvdXsTHe/tb0fZXvxU33B7sp48eY7+dGSd/rxFP/LJkc704p0TB1AXwy36NhyI+iG0Lzr3e1/LOnTtjlH23epcaB23zN/QmWZEfYmsBwNdNnhtTtfXNETsZ9+7+pofJ+u3PvaB3vJZvLKJU+8vHtE33x15r3JE3/rEZn3vsdMd6Z/+8HF9ZnKyPrEq4ozTw3Xo9PsbgvdE4ZYU546EWpUu1N/qWP0lHlt9vRbFq1v6CX3z3cl6+pKt+qctnWV2zveWvqjL9Sd8DzhRn/PrvcFWThfP6adPxy7nvu6fHs/BBzbo6cnJ+sQHNnfm7eI5/cT7a4KthO7erIfbyfS3ZUav+7/lLX1hcrJ+b8T90LnTJ/RPD/fSGkoI0W/SAegQZzKZUNXucV6TyTQIqSdhHBOKmQ8zkj0vl7W76gDw+loAE0wsprE2chkDtnQ7vBic6AvEinznUrLcRuIwACX0Pb+F4p2bIKIPCkOaDTu11AKcDMR4S2LClBzK3w8sWABPaLplQnC6wWTCBF3Gsk+02LAkuPC0gWvFdFLWmTCbzVhnZJJ9u62H/gU0Wk754JZgmt1+7TYSiManHhdMLcfc5dVDAPd7TjQstHxYTdWHEb/8XgVMKKEjUz3sBixYxsfJleZHPXgE3zEvHl8gtLyNpHBHj5qK9yMwrzRFvf0wYEmzwjs+WlqB0Z3rMo3pXx47GTFOBG9zvDc4fhwL0yjdFednbJS7asgeHe/3vlF3OfDgw7MqC+eq3ue3/byG8jvC7xoNGBKCeSn8acRMwxRMs/LJXeWi7tgJ6ByrJiZTWiZm1uLx+mF893n7m8cOh104ToL9yUpyJ3TuUWWsjbJfluC5owLXPj+5Y3vOX58lWLHdCXWvelCftGMx9KNcxuRTs7EQS6hVlzIqmF/TrJKux88oK7nzrdSu8uLzgyUiCdusXCzhEXIUE7fdbmPtLsidn4kpXMfHZpJ7Zymuk+GlNNzv1aEBtfnT6XJ6Cqba62b3b//YKN9YTmY4n6NCfZRcZ8CIH8eqZTDPjj39R1jGmgbWQW7AjesdMC6upCy98724kmgm98n1eC0FOD7xUpYWo4vhS1k2Qm91ui+ss/4PtnHha4oBmz14rci+N79zPxusZM81U/toHxNt81A1N4+6seXUP5UZ7MdIc9PwsgbUkmfvXgOYFietgZRVnHrezWE3DW2QOdMW+010Tw67cBwFy+pKitMi2kUkJGKa0od90e+6GGDv71wwphjbhF7SHmhZ90H2g4WhzkLpUl8Gb1mlyz1HmN+vMWJUP8d9GmbCeocZHvXgbQbzaBPZy7veKRjScsmfWkvp7334sXS5isS8DqUXUtgluyay78uldGcdqo8up9uBHlsDvhaFHXXh2Ae+faVk7SjtdXbjfTVsut8Sus9SMPR4MPR1/8Q+B3sbHfiwU/lYLubw9WKYgjG9jPWPeMj4hQuPPxfjYFwuo/d/gkJSAjieLWWZLxNbpg37eCPmHwzCuoQQXUgwY4ibP38+K1eujDl9sCnXRVw8/AECgAE/nm2bqft/XKinfHj70IEmKBhi3Cf49znY/JoTl9qC76AavwnzpRqXyxa3De97Lho+ceP6yI230Ym30UntE2ZKXtlO/vhYC56h5SSQHPsmx3fcQ9eRQIJDoip3mqKa5ap4dwJjDN1uag3/M5PCKRZ+mAgQQN3nhQnZmLpd8DW8GwvIW+dGG23GMtWKZYyGrymqA8+jXlyAPbl7+EXTAkBSKCih4VMj19XXPEZSMFwHHFa73ah9kQLNPQ30Z8YYNaKHyRTnA6dWFdc7DpzvufF6vZ2dYZ7vQyYSFJIGMY8d2gL4APuNMe4Af2DBCnjazvUhg30V2qeR+louJhPfT6C7dg3fPicNThfOfXtROz4fsAU7CLzkPIaO07iMncG+OPq3f0yhAGCUH+Sz5Y0kqp+txrGulLp1wCgrxc88SeHUfh4dbcHzremG73b/LeGfsUwDR2sw4Nvt7HQpy3aZt+c6PZi+mdDHNQXcVMzJw5FcyfZwIAOgtaVLALubMUlcH2v6QMoqXj2PkbYPsCf1O5TRuWxyb4Nrx9HvunieQAAwJRGjJLoaaFlfYYkzCikcn0d14XTquvxiIn/dAAJOxKi3mg/Pjgacv3XiOaB2fno1LcarmTjXocBRF87XnDR84sUbcV800E6mo/M44GtRWKuvx6F1zaO7lqQp+ft9Gh68f/sn9jlYC/gAe8xtME20Ah4Cn9Pbu4k+61K2Bjvlb2/C9FQVz7++FueLQIKZ7JWVlM3qfWQ5IUTfSTBjiJs9ezYQ7CNDVVVMJhPz58/vmD6Y/Mc6W4Ao30vCQICGh9Mo2gFgo+ztTWSPNUDjWiYtDF1+tAABjZjBi0iBd5aRttgJgG11PZteMWHAxdpJBaELmUYgoDGgO4xuK/PQsEvBnJZN8R25FAPqyzlkPOqBNi9ur5/8mG8eR/TwFiEUeJia2xlI8Kt4ToI9JTqQoKCMAkx2fro4u4frqA/VA8zo3hIk8E4pOet82J94n8o7wzdBHqperMMdETwJHFfxYaX7fZIfzy4vTCjDnAjhwEvnuvqax660i8A4Y5z5E8l+ronsPqbVq3gPviMUIJMaTzm2vjxkxHK0jrxZa2mZWUbZyucwJ16PweClIiUnxpv+GFpbUAHLdSMGN48JBoyA71QwlNjFHzy4gaSEa/uRYG8CtDQDY0KtDS61XNBw/+JfydtmovDnZaxfbCTJYODMGwWkrRi8XCvXABNKqH89H1MPLSHOtcf5Znow6hBgGJ9Jya8yKWnX8B93s3llEVUPbMDiLsMa65wYLz8JwaCi589/odudd9uneHaB8tM4o9ZcyrKRout0vLx+Ufwu1s4rwG1Zz/af27uOLHVNcGvMj9Sz/b5+tFIcrLKKk7YRUH1+6EtrihjLeg77YEoPAY0egoH9q4uha91OH722QxtoWV9pCWbsM83UAaZWL55mSJySzX+sKiY7XkvIXvzFrwKWYKuKNjdr0/NwjCukfMV6isckYRh1Jtg6sY/pqa/mkbW6hczVZZTNN5M0yoDhYAUpc/t2tu2Tvp7r4tWtYcHWtZnV+ylPH8RH9EHYP4rBCPjwtYIlKqChHnADSd2C9Vo7MVuD9EWX/Q8w2kr+E1vIb9cI+Lw4f1PK2hWlmG/ZQm5PfbMJIfpFOgD9Epg9ezb19fU0NTVRX18/iIGMFgL+4A2rdtLFho2u0HQjhdMtwPng0I8AuFg7M5VJ5pTOQAbAywVUH+x9Tee1znYYrtUZpE5KIaUjkAFQR8Fveor/98MfGli2NIvp1tCwrCkpwUAGAEYs5ni3bgaSvqfAATXGm6hQS4aJEa0wVC8uzFiSoyMgJizpCuxysbunoS9DwRBrjDc26gEnGnZy74z4LdSBZ2TwRG1qgARLt7cW2kfPU71LIXNhZjB40W1dfcxjFz58h8D47cGIOPXO71OBFgLh/LUF66r5lmwUHBQtqMJ9POKBq82PesjXp04E/R4X7jawTMvEOi4Rw3XgP+gJdtx1sbcUNNxvBJu32qbGLosB5zHZRvYYaFhVQFVj53CZ2nEXFcur8GLBNnkQ28ScbMCxA4zZNsxcarkAeHG9HIBxduwzzBhHGVA0H3sPqIAGgzKkbSKWaRY4WEHRKgdef2e+tIAP7x86zzUtx91AgJbQJG0Q6xCtXlx7fATagGEKiWMtWCYmQRvxl2/xoQItrX8J/t2uBfexwYrtdvA9s4zSbV4C4f3u91L3yDIcKGTfYo6d5qUs2yFGnY6X1y9CRCCjJjqQAZBowTYZvL8oonSbl44q0K4ROO6NP+TwoJRVHOMs2BLAteOD4PDh/RE67j1PFFGxM2KYXM2PuqfzbX28c2L/66IB8y0WaHPS8FEvtX2gZX2FaY0V5DxlovKVLWxx7aepaT+Nr5SRPX6A1682N87XfHC7DasBOOSirhVM6Xbs440YRilox/fiDZ3qem8/58ez042GBdvtVkyjDRjw4z0Qeqk0oFZs3fX1XBe3bo23kp0AjqV5Xa5JtGv4j3rxDTDmORj7x5yWjZEGSh+swh0eOrVdw7ezgmXPeGGyreOzxmDgow7H2/7O+RqrqdrWx5VF7/92FfdOFX9Ag2EKBqMZ60Qjg3edE0KESTBD9MBLxazgA/+k9ALqQiOQmBZUkj8BIBHbnZlRb6lMFD+3nuyOCL+C0ocod+K0bDKj3gqYltSwflZn6kqcl9z9pXpjjYwSWkd6MbNjfmISZLZkw0duvNHfwIRHAknuHC1C04K9dauqj0BrAN/R8I2BgnV+GbaEBpbNLaWuUcXfGsB/1E3dqxEjBBz34kLBEqNpsWGUCaij+mVvaFkX1SsqcAEK50M3FH7Ugxq01VLxjAu1OUCg1Y93Wyk5D9QSuL2c4hmGOOvqYx4jBby4PwLb+C/m7VyiyYyCl4q7ggGpFEspDQFQ0krYtMCEtqeaPHtnwCrFkkbGg84+9SSeeIsNC+BYnBpc1jyJdIeGZTLwYh4F2yL6kv+kjqdf9eBrDRBoVnE9k0fBiy3YHishM04T3QHncZiZ/HX5mNo8VOdPZ5I5uNwkewG1h8D2WOUlvfFxPFuN66g/WF/31FG6oBTXuHwq7zP3v1xiMmObp8DBCrImhbd5GeqNNhTclKZX4Oklhb4w3l1JebqCuq2UrLTO8p2UOp2sX3fW35uSbYCDotTQ73fU4mVw6lDgo1oK5k4n1RJa1pxKwYs+TD/NjN0qA2C0CXMCeNdldZRv6XvBVjiZD5djS1BxrMgiNbzf07JY+04A04JNlKTFS3QAy/alTsfN6+XneSF4PVK3FTE9tD3hf8E6aCT3qc5tTgvXNfMkUu1ZVH8UL5+XUs69UKzkLrHArlIKVtXhOR4q241FlG7sZdmO495LbWHncZ8yKY2MuXUdo+vEOycOpC4a7ywkN8FH7QN5VO0Mnv99exxULFmLq+ucAyzrK+tMsw+NFnzNA3vadr/8NHV7gtd2/1EXVQsKqG21Uf5wZrDN3AQbuaHjo+M8/bBK0jQFPipl+rreznSJWNMtgIMia3h/p+PQgv2D1d5b0H1krQHo67kuXt1CsVKysfs1KcU8ibSZRTiP9rT2+C51/wAwIZ/K8LalT+rI1/TCWrzYKH8qt+PlUzDwoeFcmtY53yIPysTYSfe6/w83UFqYQVpq53ozVrtQ0vO5bVzsNIUQAyPBDNEPBqyLN/HSEktHAMNwezlbltuCQ7eOspD/3EsUTrNT9nIJ9nEGSLDF+MQhhlF2yl8uwTZaAQxYFtTw0gIb9pVbKJlhwoCCzdTzsJJ9ZZr7HFseKyQzrXPIWcM4K5nLN7HzV5k9NqlVJlvJxIlzV9QN2nEVF0YsyZ1LK1OzKZnSQt2i6aRaU5k+y9H5bemYbNa/XkZmm5O1+RmkWVNJm5nH2l97Olp9+FQvYI/ogyNyGyopngKuR7NIs6aSvsSN+WfryR8Fjie2og4D2o+gHjZjnmBE3VBAhi2VVGsaWY9+QNLCTbwd8Y15zHX1IY+RArucOBNysU/9gr4GnVzYWfdQSJxiDH14oWBZvp33q4uxj08M1VUDprRcyp6aTZ/eq47Npea1iPp4TyX1qwrJXxWcZkyK+Aq8zYtjdQ7Tramk2jIoeFEj87HtrJ/VU8UfeB6VKSVseaOS/Bmmju1NnJJJyUs7qelxnb0LNFZRMDMtWF/nrqXhxmI2vVzS0blhv8olznZbH6mn8h4LBkAZbaPktRoKF+QHp00wDsqXZAwzkv2rnWxZnYs13CleQiLmGcXUPNT5vXXiHWWsD+UFDJjMSYNWhwwzytj+ZH7wPAgwyoR98SZeWmTp4TMFC4Ud50FQRlswhot0TDY1b2+i5E5LxHnLTv6T9Wxf3lOaA1i2T3W6h7xeDcZkU/PeFsrusXZ0FquMNmNfXEPxtB5q2aWUcy9Mc3/FpsVWWratJcceLNtlB6xkz+p92ZjH/Xg7xbU/xRbOVJxz4oDqYoKNktfLyR7rpboweP6fvqAOZuZjjZ53oGV9BV1/swkjLtbOnNQlGJY6M49lG934e3l7rh1ysHZu8NqeNrOA2rZMyl9fT3ZHh8VWyt6oJHeyAVBITC9hy3OFFC4MTovuSyIW4901Xe6vcp+sp+z+fMqW20hM6L3vn77p47ku7vU2WDe3N9RQPKPrPVXu6kpmJw8sV5e6fzq2bcmWrnU/IRHLnSVseq+mc18BTMin5rHc0OcoBkwzitn0Xg2FyQZME7r34dPr/h9fyGu1JWROCZVpQiKWe8rZ/mTP95hCiP77mq7r+pXOhLiaRI44YaO8YT12Q6g9gcHQp1YWX27BcctzdmazfUdhn0Ym0EIdxqEYOr+ljPU7/S/j4LIKhnDP3u0agc/BEN1JiRYINjEewDr6lEfNQ8XMHFxztlN//wCbYQ9FbQE0xYAS6hsGhuhx0uygwFaK6bmPKQy/iRqmdK9H4kvPsy6FnMNl1D+R2dHh55Cs01ez8Pl4iBxj4fP/l6oetHpxPlXKsh0qSpvWrbWmccEW6mMGrzxUpOSgrq6n8vaOI6TzGiwGx4D3z+Um+1+Iq410ACp6pshJuisFy4ISMl8pYtlT1j69qVNG9dxhXG+/9yvtYXGGOlMMvXbC2q/1dKHh+WUpta251Mz7CgUyABJC5ZIQO1A15FxnwDAob/vE0KbwzVHdRzISg+QSz8dftEu5Rl2Vmp0UzFwGD9ezf7Wpa4CmTaVucQZrD6ucoYfr+4hvYog3DK+4NIOxfy432f9CXDXkMxMh+muUnfKN+bAxj6JtPQ5K95Xg21ZE3kbI31hySSM/CCGEEJfdSS+uNgj4fPhaI975awF8hxpwfQLKWONVOaTsV4LsHyFEP0jLDCEGQJlSQs0zAQoWZ5Dj30TNAguGL0vz275qD+DZWEDeUwEyn6mhZMqX6t2dEEKIL6PJmZSMr6NiYwEZsTpfHZfN+vnWL1drlKFE9o8Qoh+GrV69evWVzoS4miRg+lEe+f9eQMECO+ZvK1wj7XdiMnx/Opn/ptDw6Eu0/69sJn3Vmuc31fLvq9sodNRSPPXbVzo34lL8QyMwPAnTv1gxfetKZ0ZcSe1t7Vx3g4VbJt4oDwviy+nrSVhmzyY1oYXm5ubQ23+FxPHTyVpUxq/L85j4zXgLt9P2j+tImnQLk/5JjpDL4pL2z+Um+1+Iq410ACrEpWoHvmqtMsK+ytsuhBBCCCGEuGIkmCGEEEIIIYQQQoghRT4gEEIIIYQQQgghxJAiwQwhhBBCCCGEEEIMKRLMEEIIIYQQQgghxJAiwQwhhBBCCCGEEEIMKRLMEEIIIYQQQgghxJAiwQwhhBBCCCGEEEIMKRLMEEIIIYQQQgghxJAiwQwhhBBCCCGEEEIMKRLMEEIIIYQQQgghxJAiwQwhhBBCCCGEEEIMKRLMEEIIIYQQQgghxJAiwQwhhBBCCCGEEEIMKRLMEEIIIYQQQgghxJAiwQwhhBBCCCGEEEIMKRLMEEIIIYQQQgghxJAiwQzRjeZX8TS6cb5ahycwiAm3+3CuWkbd0a6T247u4I+luaj33MbR0jX4DpzlQvNufC/WcOr4IK5/iPLvc1C3Q0W70hlp9+HaWMXK/5vP2h2+L2SVgT11VP3CifqFrE0MNt+OUpa92tPe89HwTBVrt3kGlL72Bwdr56SSkpJC6swiHIN+vgjmr7bRP9gJX3GB99ZStNFDoP1K50QIIYQQYmAkmCGi+HE+kkFOfh7LVrtQ2wYrWRdr75hO6YEkjAkR09t241/9Cy786TsMv+02vtbyO/7x+Qg+3/sq2run4NuDtP4hy8Pm+aWsXVpBw5V+nmp2U7uumtOJ/wPPqulkrHNf9geh88dcVL/oZTBjaoNLw/NMBimWApzNVzovV5F2P65HM5i+ykvSDd/sYcYWPBuquwU4+0TzUHV/KXX7grUjcNSHNuj1MZg/92XYt5pfxbOjjrWLMqjeM/jpE/DiXFdEhjWlI9hTHRmUMZpgYw7/usiBTwIaQgghhBiCrrnSGRBfAW0eKuYV4Li5nPpfZWMc1vnT3/5rGxcuTODa8l8y5iZg3hI0ztO6YQ9cX8CI6y9TntrP83nbebh2JNcNv0zr6I+2AAFNwTBKifrBjO0BKy41E8uoK5KzDprqxY2R4v+9ivWzx1NwVx45bGH7cgvRuRZfZRqep+6lYJuR8jdqyB57mVZzyEXdSbCtfp+ae4xofj/aFT5G+kbDsy6LnI2dLVby5w/yGo47KLqrFFdEMDpwtIGqfBeex+qpmWXEMD6X9Q0mKubkkbGIbudmIYQQQoirnbTMEJdZgIZVedSSz6Yno2+Wz/L3fbthtJ1v3BSaNAyUYce4eACYmExC9wQHx9FXaS7I5LPDl2sF/RGgYVUqqSsa6N74QsFy/ya2P5F5xR801EMuwIZ5HDA2m/Ub82FjHqXvXL3tJi4/Bcviepo8NWSOvtJ5uToE3iklbyPkb1x/+QIZgP+4Fw0ztqlGAJTERAxD4GHc/04Vjou5VG57n/0N5dguwzoUg4JhbDZlr7zPfm8TTU1N7H+7kswxGq5nnXjDMxqslGwsx+oupWCjt6ckhRBCCCGuOhLM+BLYunUrGRkZpKSkkJGRwdatWwd9HcG+C5aRNyuLZTtUvBsLSLOkMMlWhLOH79S1XVUs22Gk+KkSLFGRCe3cAS58CoxL5JozZzl75ix/bwfOnOLiGfi66Wa+EblA+3kCxw/y5717+PPew/ztQpx1njuFf++e4HyfHiMQPV/7eT77/QHghwwzBNd79lz/yiPcr4i70Y33ZOzeLDS/imefD03zo+5x4270oLbGmLHNg2cnJP4giRGtAQKtgS7N5bVAoHvz+XYN38Hg+t171Nife4TmUVuB9kBnHmLFHtp8eBs70/N326QAvsM+mGrGFGqGoUwpoXKJEecT1XiueIceor8861JIWeiIEUC7BG0uqh5xYlxSScmU2O11tJPeYD1rdOM52jLwvmAuAiShXLaIZxzNDgpSUqgY4KchibeXUP5ILpkTjCiXq0nTqEwq3ygnd4oRJRTgUcZlkjsTOBnoWuZjsqn8RSa+p6pwyKdSQgghhBhCJJgxxG3dupWVK1eiqsEmy6qqsnLlykEPaAT7LnDiPujF82wROetc+NtAa07CEPeNtA/Hs3Uwr4z88ZHT/8qpx36Mb/4yLlwGPcrXAAAgAElEQVQAfreCloLb+HPBalo/A/7YRDsw7J9u7FjiQrOLP/7HbbT83/s5u+4hzq6bz1/vzeXYf50iMlbhf/k2fPOzOb3uoeB8j+bS8u/zOXHgfHCGpk2o/+fHtL6yG3Dx94dv488Ft/HnVw72rSDafTSsyiI1LdivSF5+Hlnpk8hY0RD13bmH6hkZ5DxSRI41jYy5eeTl55BhTaXozXDnmX6ciyeRYimgtg38v8kj1ZpKqnUZzpbQHG8WMCm1828A7WAteWmTmD4ruP68uRmk3pJD9cGuj4X+HUVMn1WNc0cFWbekdubBltOljwLPhlRSLNPJyu9ML82aRdWeyPRUvDuB8UaMEVPN80rIba2l9r0vtnWG/6Nals1NY1JKCikpqWQsqsYd+VQeo7+Aip1dOy31v1NKlq0KT7uPhtU5pKakMMlW0NGJpGdjFhmLHfjb/bg3BIN3KZY0Cja48bfHSKdjiofaWRkUbfNDs5vqwmA+J9kKqP4oKnTQ7se9oYgs2yRSUlKYZMuiaF0ttb9YRt5dOdQeirP9veTd3xhRPpY0ch6O6My3PYB3WylrXwF2lZKWEiyjlHURnXC2qV3Kb5Ith7Xbeu+E1vdmNXXkUnafufuPbSp1i1OZlJ4VrGf5eeTMLKIuVkK9rD9wyMHTG12Ai1JbKP8pBcGH8T7se8+6FFJSKojudjTe9A7NbqpXVOACaudGrfdy8LupfTgnWPfC/V5E16E+p+XC+TaYfmoneu8YZhRSMtlF9X9K6wwhhBBCDB0SzBjiXnjhhX5NHwy+oxEPNRFv6rtpduPap5A70xrVp8J3+Faxg1FzbcAIhuX8kpHLf8nI5feRcD38zXcY+CHXfC80+99cnHx4BRcS7mHk07/le6828r2X6khIhfYNy/jzHyKS/m4m31jh4IYXGjFt/i1Ja5fwdQ5zfv2r/BXg+/dwwy8fYxjAvywJrfeXjJx+cx+2PEDDwxkU7VDIrw013/bup/7JbNhW1LWZ9kkVTxuYLNmU7dgfbOa9s4bccQEaHl5G3XGAROw//5Aty82AhcJnNrGpdhObaguxhr79P3HYBQlmTOGA0aFqsmZV0JJeznZ3sPl4k3sLxeO9VM0rpSGi5ccRrwtwU/dbAyVvfMx+z34aa/MxtXm6jh5xQzblr7zPx57g9jRuK8OGl+rltZ3N0ZtVvG1gM3+/a5Ek2Micq9DwZqxPZC4P37YC0u+twLnHH6qHAdT3qsibVxVsIeJ3UmTLYtnGho6WMIGjDdQW5lERGaD5vAVvs4Z7YwFFr3oIAFozKNeFfm/1oraqPL8onbxngsE72vy4nslj0eu+bulEajmoEjj8PAUz86jaGcyn1uyi6t5FoX0fzHfDw+nkPdPQsbzW7KVhYwUVLzpxH/LQEq8D3h7y7tmQSlp+RPm0+fG8uZacpaFWGAdqyVnhwBsv7TYPFbMyupSf1uyhbkUWRW/2tJf9uHd6UOZmYu12TvDjXJrF2l0mCiOOnfdr87H0e/0eaueW4ujWaagJ0zV93PcD4se5Jo+qxjiBu4CLUusksgbrc42TDgpm5FHxpidY9wj1e3HvvVTt6+O2tGv4j7pxrMsj9Y5qeHA7WxbF6ONmmInb7rbhe86JRzoDFUIIIcQQIcGMIS7cIqOv0wdFgo2yNz4OPqA/l93lTX2kwD43LrKxTuj+2zcSvsPXh50FfoSSPoUb/mUKN/zLBL51LWjHdsP1E1G+DXCeP7+ymnZmcV1ZATeMHsFwYPjwm7nxp0sYPvwY2nt7+Hso3cTbFvFPE29k5LXAsBEYfjCLkT8CzpzhHwSnjRymoQPDrLeF1juFG8aO7HWztcYqlu2A3Gc2UZwWar49TMF0Rxll8xTUXztwh58xfCpujGTOy8UyJvjooIyxUbauGCMeHLuC+0cxGOBzFcbYsN9uxZpmxZpmwagA+FAPAOlmTMFEqVtdhTq5jPU/z8Yc7uxwlIXCX5RgaXNS+074IduH7xBweyXv1xZiHWtASVBITLN3+0bfMquE7ClGDAnB7UmckEvhXLo2Rz+u4sKIJTmxW7mYp2bDLi+ffhGfmhyvY9kKFfvPt9O4PxTM8e7n/SfscLSahoNAohnb3DK2NHzc0V/Ax7X5mPBR92H0g2YtVW9YqHx7fygwVIk9chMPuAn8ry0d69r/dhk2wLPT3WvwxvNRAPvLjZ1Br9U2wIPrk9CSfheOHRrGe9bzfnhb9r/P+nuMkJhPTePHFE/uaQ2x8276n/kUV9fT6AmnWU95ugK7GtjtByYXs7+pkfJpwIItwXmammhabgE03E/lUWvIZ1PD/s7f3JsonKDh2vFB/O0O7MW9C7KnxmiVsed5Sndq2H9e0+XYMabZo4IZfVm/hWJPE42P2QAb5a7QPE0lWPq17/srkczqJppeyY9abw3Zg95fio+6JaWo6eVsb+wsh/07K7GjUv1eX7bFj+OBSaTNzKN0o5ekMQqB1hYCcY7TRIsNc5sbrwyHLYQQQoghQkYzGeJMJlPMwIXJZLps6zQvKSF3vAGgx2++W1pUmJobp+XGec6psUYsOcbF3wOmm4NvD8/s5u//dR4y72B09Lfx197MNTfDheZTaNDRv4Z27hRnvH/iwok9XGyF9k+B0TcS7hvw74cP8g+m8I0f9B7A6BTA9Z91aGOKyZ4WvUEK3x9vhTYfvlZgNKiH3XR0lhlpvAU7UNscfrur4t2lwQxLt6bfaCrej8C4xIgB4JCT2n2Q+UwmpuiODseasQC1vhbAGLGsKbhsx2a00AJYxyZ1Xb7Nh9fjQ/2jG/Uv4PsEmGDsWDa4PRZMY7qXjGI0YcZFS2jbu/NQkZJDbayfAMhnS1NJ9zf0Mai7HHjw4VmVhXNVvLlMZC/vWv8NabnkT62l9Pc+/FjojFfYKN9YTmZ4u0YZur61viWX/5hl7phfGXcb9mlrcfUhr9Z5/0H2hI4lMf3Yjm119yWVa2IcIP4WtBGGjv4OYouddyW9kMIuKzCRfV8upTvrUH1A93hUJ81Nw8saUEuePcYem9bDsv4WVKzkxjjgvZ80oJFJ5jRDjAUHaf1A//b9IDPYKHfvH5y0jrpw7APfvlKydpTGmSnWcdX1WDKk1/D+r2wYFQgcdFCxvIDp2wrZ8kYxlujdNMaIBW/wHCaEEEIIMQRIMGOImz9/PitXrow5/XJJSvhmn+YLNHtBgWtj/hpnxJJzp2hvhq/921hGAjQfox0Ybk7ufYXtpzj1qxW0uQ/Dt5L5uvmHXHP9Kf7xJ+BHNxOOmbQd/R0MtzO8X29TfageYgcdugmg7vPGDuRc1NAAZUR4VhXPQbDdG/X5BsBJHx7ANj74cBY4ruLDSuHEXh4IAY56cUUsGzm9AcgdG2pP0+6jYXURy173oowzY51qwzTKh28fcJ8p1CJEw6d6YUI2plirTlBIwoV6kjjBjMETaO7pjbQZY7i1iubDs6MB52+deA6onZ+BTIt+LW2KGaD5QiTaKfypmbwNBUx/uetPpgWV2HrdzfHzHjjqwvmak4ZPvHgPqoRDZ906ko3W2oKvp9/HJBF3tORWH14UiBGA0QI+wE5Sb9t0KevvWFlf9/1VrNVHjzV9tAHorZ+aROz3dLbDMkzIpmylF2d+Nc6PCrFEB2WVYDBMPeaHKZct5COEEEIIMWgkmDHEzZ49Gwj2kaGqKiaTifnz53dMv5IUQ7wPUIg/YsmJw1wAho+L6sPi3HlgRNS0w1z8A3DbzXwL+Otry2hzj0RZ+S43/PNIhgN81sB/v9vA18bdHPybv6IdPgX/nNJ1vX2lhYIRXSfy6QEXJBSG+rYIBz6M3T/BOejGAWRbQiGRo14aMFIY4/ONwGEP3m5vugNosZ7JjnpxA7bk4Bi34cCHOSqa4le9aNgwh2Ic3o0FFL1uoPi1jymcHHrS9Dsp2OCM6B9DxbsLmBEObkRpBw1rZ78e3VgoaWqiJN7P/TFCATKp8ZRjizeKRZubtel5OMYVUr5iPcVjkjCMOoNjYRrx3nFfGQrm6XbMrwLj/oJ3jx9GW8h+qIziu8zd+zXoI/XVPLJWt5C5uoyy+WaSRhkwHKwgZW7kO/xzxOzNM9RKxPxIPdvv62frrgRD3E/OgucCFZ8fLD09J1/K+qHf+15rJ2bwpUcX+5+tfhumoACZ1fuDnwjF0d/jSrk52ILL13KG6LMY7cEKYTJKIEMIIYQQQ4P0mfElMHv2bOrr62lqaqK+vv6qCGQAfHe0CXapHIn1Njg0Ysk1N93YZfLpYweAKVwTfjC+KZnhwIWP9xDdX+Fn9S9ygQlcO30C8Fe03x+DH2QyMhzIADh5mH9wI8Nv/k7w7/ZjXGyCr/0g1PIjkt+Lu9HbZaSKTibM04A3XbijM3LUQfWrYFmSGWze7VfxnIzRWWa7D8eva9HGFZOdFnyQ8B32BIML0Z+jAGpTA2DuePtuSLZgxouzMfqzIg3XSxV4E3LJnZEYc9mwI4ddMMaCKRHAj/cTFaZlM3tyxCvz496u/WOEtsdqivOo6lNxk4Sh11fml858SzYKDooWVOE+HvE03uZHPeQLPp8fclHXCqZ0O/bxRgyjFLTje/GqgAb9HIX38tHcVMyrwvTYFra80sj+pib2u7ZQNsuMob8P2B38eHa60bBgu92KabQBA368B0J1puNBvAX1I6C1JTisb7sWDJIlWrBNBu8viijd5u0corddI3DcG3to4bAkIyZcqDH6XDBNsKHgwrmzx3YXl7Z+6PO+DwZX6nC87e9I39dYTdW2XtIH/D4VaCEQzkvbZWjxMd5KdgI4luZR1ejrbFHTruE/6sXX2yqPu3A0qh0dhwJoxz3UPlGBGyMWc4yARbMPL0YMfWj4JYQQQghxNZBghrhsEifaMNOA53D338IjlgyLetg+f2I3DJ/Q+QnItT/kusyb4Xcr+POWg7SeOcvZlmM0v/wQrVsP8/X7VvPdmwAUvv6tEfCHVwn87hRnz5yl9cA2/vjcNuB6OH8++KB7IThEq37yeDCtPx3jb+cAfDhX5ZCXn0XaEmeMBtwKtjnFmNrqKFpajed4gECrH3VnNXlz1+JNL6dybuhN8vHgJx6uXz9N3R4fgdYAgeNuqhdmUfqJmcJH8zGHHlY1LQD4UP/gD6Z3PLxmP+pBDdLN3BTOwrhMCu9Q8DxaxNodKv7WAIHjHupW5VD0qpH8jSWh1goxlgVARf0EsJhCb9BHYEhSYFctG3YG8+nbU0fpz+sAA0q4CchxLy4ULMmxgxnefQ0wwRL7E5RBpqSVsGmBCW1PNXn2SaGhMYPDj2Y86EQFmGAjNwG867KYZA4N7fmwStI0BT4qZfq6uANvfrFaffjaoOXPvt4//+izRKzpFsBBUWho0pRJ6Tg0S7BPlXvDw4jehDkd2FZEqjmFFPMkMl70AkZynyrHlqDiWJFF2qRQGuZJpNqzqP6oh08bEs3YJkDDvu4fSCjWXEomg2tVAaWvevC1BvAfdVG7qDSqz4dLWD/0ed+b07IxouFcmtaR/vRFHpSJfShhkxkFLxV3heteKQ0BBnc0E8VKycbgyEPV+dM7tiXFPIm0mUU4u43k0pV/Xx2l+RkdQ7qmpKQwyZ5DxTsBTAsqo4bKDgoccOOOE1gVQgghhLgaSTBDXD7jLNjH+HD8tvvNfdcRS8JOceEw3T4B+c6c3/DNn0zkH2/ez2cFt/Hnh3L5/L0zDL/vBW647cZQK4yRfGfuaoZ9+xgX1mfz54Lb+MwJ1z24lK8PP4y2YzcXAK6dwnU/mQC/WxFMa+l8zqgARjJ/tYWSCcAulZhjwYwvZMtrJVg8VeTYU0m1ppFRWE1gRjnbn8zGGApQ+FQvYCCxzcnaudNJtaaSas+j9vNMyl/fQvGUzubdphmFZI9zUTErLZje467gaBHtR1B3gXGyKaLDQgP2J+qpvFvBsTSDNGsqqfYc1r5noPCllygJpxtzWTr65zBPDncKasD+YCXZ41TqCoP5zHoJ8h8tw5rgpeJlF4GO7bHHfshp9+J6zYcl2xb7E5RBp2BZvp33q4uxj08MNZQ3YErLpeyp2cH+TBQrZW9UkjvZACgkppew5blCChcGpwX7G7gKjAr2eeFandH5sJqSQoo1g7yHa3EPcKxb4901bFluIzEBGGUh98l6yu7Pp2y5jcQEI0mjABLJXLk+VEbBvJgTQ/8fk03Ne1sou8eKKdQHiTLajH1xDcU9duBpwmI34nvNhTc6ODPMRO6zmyhOa8GxOofp1lTSZi7Dk5ZNdnQyA14/fd/3E/KpeSwXyygAA6YZxWx6r4bCZAOmCUk9rACYXNhZvigkTjFyOWqUMqWE7Q01FM8wh9YFhnFWcldXMruXLoQS76ikvrqEzLTwsa6QOCWTktpG6pfHGJqVAK63nSjz7DGG1RVCCCGEuDp9Tdd1/UpnQnx5+bcVkPaogfU7K7GP6n3+nly4cBYt1E58WMJIvhGrKX77eT5vO48+bARKQnAY1wsXzqK1jwwO1xqinTvLhQsAIxh+/Yjgzb3moWJmDq4526m/v4duPts1AuHxDRMMGLrc/Gu4Vk+i4EAZ9dtyMbaGhjcdpmAwxHlK6DG9ONoCoSEWFQyjLvHpI7z+yDxqAQLthuBwrT0YzP37ldMewLujgtKHnagJGlr050tj8tnydkn3USeuZs0OCmxrMTzzIZW3x37E1wKBYEuUvtZ1cdlpeyrImOsi+416CmO02hBCCCGEuBpJB6Diskq8q5jijVksW2Gl/ledrRcGYvjwkQwf3stMw0Zw3fVdOwqNtZxy7UiUyGFW2lTqlubhmFjJ9gW9jFcyrKcAQlRnmdFDffY7vTgSeg809Fms9SuG3t82n3Sw4lEXliX1EsjoNz/OReksu1hC/f7yrqPetGuorxeRsVpFbQXLZR4hZlCNzqZ4SS1ZjyzDOrGG7FhD+Rr6cEyIL06bh6qVtbTcUxPz8xMhhBBCiKuVfGYiLq9hZgo3lmN1l1LwlCfmAApXnN/F2lk5uKdt4f2nMi8p4ELAh9pTZ5lfFm0eKhaU4rZG9BUi+uEE3p0aBHz4Tvq7dPAY8Hlp2OWGBGPnULNDiHlBDeVWN6ULKvBEtzYRV5d2H46ledSSz6aHbRJkEkIIIcSQIp+ZiC+EdrCavHlVBGZWUvPzSwwYXAaaBspg3Mnvq2LSnGpyX2miZMogpHc1Ou6k9IFlOEcVs2VjIebBaiHyFePdmEXOOm+cAJ+J7GdqKL99iAbF2rxUL8ihqjWTyl+Xkzn2SmdIdBPwUP1AHlWtmazfWI49RisaIYQQQoirmQQzxBfnuJPSxWtRlnxI2bQv5zvAwJ46aj8E2/xcLFdJP5ODK0DD0ulUJ1by3MM2Eq+yoNRQ42+s5fHnHbgaVQIEO7q0/Tib3AdysQ6lz0tiaffhXF3E2mHFfLha3vpfbby/ySDPm8uWX+RikoCkEEIIIYYgCWaIL1Y7IA/AQ5vsQ9EfUl+uTrJfhBBCCDHESTBDCCGEEEIIIYQQQ4p0ACqEEEIIIYQQQoghRYIZQgghhBBCCCGEGFIkmCGEEEIIIYQQQoghRYIZQgghhBBCCCGEGFIkmCGEEEIIIYQQQoghRYIZQgghhBBCCCGEGFIkmCGEEEIIIYQQQoghRYIZQgghhBBCCCGEGFIkmCGEEEIIIYQQQoghRYIZQgghhBBCCCGEGFIkmCGEEEIIIYQQQoghRYIZQgghhBBCCCGEGFIkmCGEEEIIIYQQQoghRYIZQgghhBBCCCGEGFIkmCGEEEIIIYQQQogh5ZornQFx9dFOevEcC9DyRxXj/87FYrjSObo8fDtKqTqTT+U9piubkXYfrhcceIyZFN/et7wE9tRR+2FL1FQz2YvtGCOmXPhsD80bfsX5w8fgWz9kxOwCEm9VOL3VyYXRdm760c2DthmD5erIcwDPq7W4/hI12ZxN8QxjzCWuCm0+XG+6UGbkYk28wnk56aJ263sc/v9GkLa6jMyxVzg/l5H2BwcVKyuo2xfAMM5Oya/Xkz0WaPfj/s0Klj7nwk8ilnlPUrPEypf0lHpVCuypo7YhgGVhIbaejgm/m+pVS6ne6YfRFvIfq6E4TfaUEKKfhsi5xPdeFY5GI7bV2ViudGauGB8NzzhwG22UzfrqlsJQJ8EMEcWPc3UWpbsAbJT/+EsYzGj34/rFvRRsU8h/8pvBac0ual/zEOh14SRs8we5TJrd1K6rJumZ/D4vcv6Yi+oXP8U87rsRUw3YFtMZzGg/xl8ef4jzzckM+7dZ8HsnF1rgmpY9/P3NTXztp3MHcSMGyVWT5/O0eF24vJ1TtJNe1Fm2qzqY4X9vLQWrXSh/MbN/8ZW9MPsaa6moNvDAXB+l9gy8L22hZOqX7WQCaB6q7i+l7mTwz8BRH1p78P/+N1aQ94wrNKMfT0BDaXZSMHMZvvu2sH2xBaWvq9lXRdacWoxP7KTmzisdqRo6gudKKJ/f01x+HI/kUbUr9Gezh0B7X/eM6C+py5E0PM9kkfOikcq3a8gcfaXzIy7N0DmXtOyrpvrVfGyrg39/NY/LFjwbqqlbYKMs3iwDvGaLL44EM8RXjIbnqXsp2Gak/I2a4NtTILDPScUGZx+Wz8e2eJBzpHpxY6R4bD8f9G75D557Lpt4l5wL3h2cOzGC4Yt/w/esI4BFaO1w8eP/5B/ciDJ65KVmPa62M2f5x/CRjLy2f8tdPXlOxP7z7dgjfvesSyHnsq29f7TWAJpiwJDQdXri1EwyJ2iY/tV8ZTLWQUP1umFMMbf9bD2zxxeQcW8OvLKdkilfsluBQy7qToJt9fvU3GNE8/vRRgH42f3/umBMPpveKMF6nYY/AIrWcKVzLKL5d9OwC4z3bWL7w1YMmp+A3LIKIfpLziVCfOEkmCG+MP5tBaStCL6ltD3WSM2sLz7yG3inlLyNkP/K+o5ABoDhx2V87I6Iyx6tI2duFabH3qc8PSLIMEwZ9Cbi6iEXYMM8bnDTDRz4AMhkxOQRHdOUYfDXo78DbuWamwZ3fR3OuPhLwQr0/LcYOeM7/Vp0KOb5CxdooNRaROCJxu5vT0ZnUrkt88rkqwsV7y5gmhkToNy9nk3Hs8hZUIplZyX2UVc6f4PHf9yLhhnb1GCLHSUxMXTregLVDdxpDbXkUkgcBZBJjaf/+0iZXEx9U/FgZVtE8qm4gew0C4ZhQEKifAp0GUldjqRgWVxP0yC/JBFXyBA+l8hxGcfogV2zxRdHghlfAlu3buWFF15AVVVMJhPz589n9uzZg5Z+4KgLp9NDy3dN2H+ciTlGM8jAISfVz1bjeE8lABjG2cleXkJJupFg/wNVVP/a3TG/a0UaKSuAe2rYv9qG0h5AdTmp+08H7zZ68beBMtqMbU4JP7vfSuKwiJU1u6l+tILNofkM46zYZuVTOMuGqaeHpDYXVY84MS6J8XZYMWCImBRoUVExkmk2YohIUwsECATAYOi6vBYIoKF0Tm/X8B3yoI2xYgx48fgC8E0jlvFGlMhtIYDvsA+mmjFFZSncdwkoJJktPW9blAsXjnHu96fgphu55sJZzl6AryeMJGHYWc6fOAVjk7k2qtXE3/92jLNH/8o/gGH/NJFvjh7B8G7p/pUzh49xQQO4nhHmZEZFpdP2+wO08x1GfEfh7JmzMGwESkL3tL4Mee6TUF3wnQauTcI82RS8yYmax3/cywnFjFnx4W1qQYszr7bPQwOJ5CeOINAaCAbYIupd4PMY9dOvBtMEDDdbMI+J8aaozYfXo2FMM2FoVfF44+QhlNcjpzQADEYL5rFR6QV8qCfBajaFHuwVLEsqKd6ZRcXGXGzLv0RNNS8CJKEkdP9JawOuMwydbd1TQcpclXJXDdlDtbl7ewB1n5eWcwAGaNOgtz3QrqEBynVDZk8NvlYVz3EF82Qj2lEP3lNanGtW33nWpZBzuJzGHloQCvGlcjWfSzQf3k98wc+pr00ioF2BPFwF15jOe2tQbgwwoGJodlBgK8X0ShMlUwY1e2IgdDGkvf7663pycnK3f6+//voAU2zRty4Ip3OXvvChu/SJXdKeqa94+0SXJU44FkbNE/43UV/oOBGVZtS/J/bqun5C3zp/Yuzfk5P1iUve1U+HV+bbqi+cHCetn2zWj/SwZSdemaMnT16j7z7XeynsrZqoJyev0T/oMu8RffNPkvXkn32gd01ir/705PC2hErxjYV6cnK6ftedt3Tdljuf1vd+HmPZx3Z3Tvr8iL75oVuitq9rubc4FurJC7bqLTHy3vKSXT+Sc2u3f3/cr+u6fkD/47xb9SO//kQ/H17g4p/0P1Xd121+9ckP9NaLnen+7f1HYqRr1/+74U/BtP76rv7f87qv98gqp97aS3kPhTzvfaLrPu6Lcwee1++dGlVPJ8/RNxyIqoSep/WJycn6zDujjrepi/S3fOFCektfFKvud9SD7vVQv3hCf3dl9DGcrM985F39xMXIDLTobz2QrCfPe1rf/FjX+Sfes1k/crHnPNzy0Ftd0wttz+PuqPJwrdEnJi/S3/qsX8XYLy0fPq8vvefW0Dbcos98cIP+wbFzUfNs0BfdGZpn8q36XQ9u0HefipHY50f0t55YpM8M7cOJ0+boaxxHOo7/096t+orbo8tjob7V16LvrprT/bz4xF5d1/fqz/9kpr7IEXX0nv60+7pe2au3dJT9u/qKO2/Vn/4keoN3688vn6PfGtovt9y+SN/gjkg7YrnT3q36mruD55Zb7l6jbz3cWS6nvVv1FXdGn4cf18O1qcW9QV90e+i8NHWmvuiJt/RPT+tx7X2i6/Lxp5/TjzjW6HOmTezY7qXP7e7c7o71d9+vu6OKsMX1uH5XzOvDQn1rrP2r67p+arf+9D3drz+PR5RzX+pLy9sr9LumPa3vvXhCf/dnc/RbkpP1idMW6luPxS8j/eJp/VPn453lOvlWfc7PNut7WwdJ7TUAACAASURBVKLmcazR740o+3t/trVb2e997i595kNb9ZbPj+hbI9b/fOhcc+7wVn1NqPwip3cs/0SynvyTNfrjD0Vfsx7XP4jMzyePdyufbtMvntY/dazovi/C56YYdbkj/xdb9N3PLgzW58m36guf7V4Xzh3eqq+ZP1O/JVwX5i/Vn37ueX3Ng3fpM1dG3C902UGd6zzx9hp9ztRQ+pH3KN2uqTGm9/F46nKcn9qtb3igs+y7HJ96RN3p9zp0Xb/You9+dpF+V8fxc5e+6Inn9ecfW6rfe+cc/XlvrMLQdf1U5Hljon7rPUv1zZ5wyX2qb/hxsp780Fvdy/LABj09OVlf4+rMR6/HZo9lH3XOnnyrPmf5Zn1v9Ir7vJ3n9CPdjqmt+pHI+66W3fqGByPqz4OP6295eziZ6XrfjsM+nEv6vU29lF3P+zGiTF5ZFNre6H+Px6x3XfR2jeljXe/tGhOzzCP35dSZ+qInPuh6r9GfYyXmvXXUuSmmqGv2qd36hvnR6URcY0Ln4Mh98vyHse7WxWCRoVmHuBdeeKFf0/vHi+sdL8o4M4kdbx1VHIvX4mgO/XmomoIVrjiRTQ3Xo7W4ew17JpH0vfgzaTtqcR4PpfdcKa622PMp1mCT9tj8uHd6UOZmYu01YO7H93ute2uJgIrnYOTb5pBmFW8b2JI7v4E44nVBQhK2h7bwsbeJJu/HbF9pg0PV5D3l7iyv8LLm7wf/bvfhWJrF2sN2yt/4mKamJpo+3k7JNBXHI30pS7h+9ja+veQevgZ8bcZjjFz+S0Yu/yXX3QS0HOPiBfj6uJtDrQ7OcqpyLm17RjBiuYN/2tyIafNvGXX/HfDxCj577TAXwgknpKAU1ZH4/G/53quN3PhkJcO/fZb22hr8Z4Bv/oikZ3+DMhq4KY+E0HpHzpnS65vpoZjnXh2qJmtWBS3p5Wx3NwX3pXsLxeO9VM0rpaG1c1bfYQ8aJixzyqjf30STdz/vV+diam1g2ZI6fACj7JTv3ELJBGByIetrN7GpdhObHrRyPcSohwEaHs6gaIdCfu377PcG061/Mhu2FVGwMaJ30/YjeHcCH9XR8M0S6t372e9pZNMCE9qetTj2hWc0YH6whnrXx8H0PO9TM89E4J1lVL3X2X2uX/WiYcMcdUAqaZnkJjTg3Om/1NKNIdiRXnp+Bc49/tAxFkB9r4qCX7pCnftqeNZlkJZfRcOh0DxtfrzvVZE3M4vqfREHWJuHilkZLNvYgBraV1qzh7oVWRS96Qc81M4txXE0Oh8mEj9ZQd4GT7fzom1ccN+0HFS7/nbSSZE9q/u6Vi9j6+HQPBcDtITz3LGcg4IZeVS86cEfOi8GjjZQde+9VIW3JbRcy84Kcu4qpW5fsCQC++oovbsidE4JbcuhOGfyfVXce28VDUdD+7hVpWHjMhz7Lv3Vnv/NIrJW1OFp1jq227mugnePd87j21ZA+r3d92vevCo8WkQeF9aizYw83rZTfkdPHfb6ca7Jo3pPtz2FaQz0q7583oK3WcO9sYCiV4OdSWvNoFwXZ9XtPpxLppO1tLazXNv8eF5dy7Jt3o55HIv+lawVdbgjyt79ailZ9iKczRHptXpRfQ2smJVBacf6XVTMK8Wxo4KsO0qpC5VfeHrkOQiAg24C0zbR6Ok8BxkP1VLwiIN+HbEHaslZ4cAb51odsy7//+y9fXiU5bno++uKOmvHOl10J910Md16MauT7RzCYQ5wOdv0MG08Tk22OZJFKtFsTM2BLKNQsyE2RyII0SBRxLCopKU4S5QgymShDhs1HNgMW8p4FIaLj7HBDBtOhsrqTJtm1Oy8SNZ7/nhnkvlMJiGIwft3XVyad573+byfj/d+7ud+enz4e/y8tLiQyg1uTZ77Qrg3VLL4jcBQuI9btbIc8kf6dBj/IRetzzXTtteH/0KYi8Ol+VEr1Y+24e3R4ue6UTp2yqg/aQRP+gmffonqokpa9g/VfcsDi2mLke+o7Iw+jTAdvyykckPH4PvKBR8dW5ppftmF52MvwVRtcKyV2bbYcUMhdMRF4/y6yNrOTMkiC7zbFll7DeF9p5VAdgX227QZMpO+OVzdezfNpiB2zO4L4X2rkfJlsTKXaTkVvM+VUpzUpxooXebS4lO8tCyopGVvjPzsdVD3evJ4PUhG/XCksSSRDMs0nNyO2I4aobeWULrKjfHhrew7ro2Nx/dvpWpGQpbGOseQiawPP8ckE8K19Efx42OPn44t1VSuj2mrjPtKCNeyUhoPGqmJWQ/tc1RldJPL0JyttXPLoXTXBWjpNLwW3ybN69/Dn2HJhTFwtbUpwuWRzprBZDKNMcZ4y4wXPopoeC91q9tirCvmvqLZQBx9NqplzVcXvd6l9l9SVfVSr/re48nayu7t8wfDvuBNSPXNxercJ7apR6M7qP1dcekte6c3IW+L1J3RHesvetXuEwfUw/5hTC5631OXJewmpOXSYXVtKk1tmt1m1bNWNZkK1U2DOwPd6s4FJtW0NHGHqFd9+xemeIuPhHd731mm5psK1bUfJewkOxfF1eVwlhmqqqoXvRvVrvJ5avfp4Z/3/b/Pq13lP1bPHVYSYlDUCy/+WO1a8Lx64X+mSURV1Z53l6ld5cvU83+MPolYUbR1pn9pguZ5dJYZ3eq2e02q6d4Yq4YoZ7ep800mdf72IUubw2tMquknm9RTCUFPvViomkxz1W3+wVyoL8wwqYW/TgypJslS//ur1XxTfgqZ71cPP5Ufb6UU2Kk+YDKpi10JOzrpdmFj+XSnushkUhfFWBqkK4+q9qsHnjSlsG4aB3yb1CKTSc2/7wX1cIwlRv+nXerR05FyRXYV8x/app4KRsJc6le7961Wi0xae3VH8nn4qXzVdO/auLjUPx9WX/j7+J3axL45xNHU40jk+VB99arvLc3XrK+cp9RottT+XrX7o6NDu1CReh5qC03GCpfuHCqLqqr9gbfVxbHpRt6b9eCmobJc6lUPrClMtkBwLkptTdGSr5puX60eiIrHpX416D+ldg/TiJlZZkQtgmL6SX+v2n2ia2jsPLtNnW8qVJe9HlM3l/rV7jcXx+Q/Mjf8ZJN6KtGiI237xJBOzjOWl2g6JtV013L17ehc9OfetHKujfUmtejxnXFx9549qh6NzG29Lq2MRU8dULujO8v9QfXUK5o1ZP5ThwfjP/qsSTXNmK++sK9L7Y3UQa97rVpoMqmm2xarL33UPTg/H362KKm8R59NZZmgql2vzI+f3zKxzNBqRGuTVGNmkixH8z83rg/0+7epi0zx+dKsJhepL50YGqt6T7ykjUHbu9Te3jQ1HknTZCpSl7uG1iq9X8TkNRPLjIz7k9bP8+9Zru48EYyk1692bdfkJHa8TOp3maYRfFtdZDKphU++N9QX+7vV954sVE23r1UPBHu1dBPpPaBuevGA2vXpkNx1va7J1KI3I/n6szaOxM01/YfV1TNMauGLkWcZ9c3h67533yZ1074uNTgo313qzoe0Nn57cJDNrJzanDdfXft+91C5L/Wqh1vmDo0B3hfUfNPt6mr3kPz0f9qlngqkH8xG0w8zmjNHUaZh5TaTdrx0VF07I7WVTdIYPdY55nJkfRi6nGvVbR91q4Nd+s+H1bV3mVTTjBdG31c+Wqvmp1rjpJ2nk8PElkNr5xTzSqRdH3hlyE68v7dbPXV6BMsf4bIQnxkTHKPRiN+frO8zGtPbKGROLoYpEddFWQbKFlTQeLANAF8gCHwH/+mo2lPBvaKY6SvSxxYMeCP/Z8WQcFYu5+6N7Lon5oHOiO1OKxzU/GyEv7gI5GAptKA76EXBTUNhHs1TzZjzrdjvKqPENsxeeiiIHysViY4pUnFOc+AUa2kB6Xeb/ac9gGVI+6748X0A5ieMCY6f9FgKrPBugGAPMDnx3TCevS4ULATfb6Xl/aE3w7/3A0Z0GfbYz84cAfLJmjzc88/5y/52uKmaG603JMRwAzrjTD7/739g4DMgsnkV9T9xMXCaLz/9DPXsWeB2/uqmyGvdnXz5JVxvNmWW0Qme57R87MJxDEo2lGBMPG9+sxkL4AgE0S7S9eP/iEFnmbGYZ9oBB4HoDuoZH+4+sM9Ivq0kUZbc/9yGMqWWsjmJMq/j7261Ql9Ai3dyzI06xniJDQeDgBVjbJtEfWac9eM7ESD8mQ8/YMuNVmikPBYjyXviOgxGMxwM8hmpPRnEOgpORTrnwb6DTvxYWPlMLdYY5766yUYskfz7DjkJYGfdmgrMUR80WToMhSvZ+LiX4mfceEMVGG7y0PGqAjiotDuSMzEnbfZGT9hDx24F3YKVrJxnHqoTnR7DzGH2jM64cR6DwLEGSnc3jJhM2SM1Q/WSpcdmt8PLKcqWAv2NBgg5WV4P/9f/Ycdms2CcOh435tyAbpIO9rfQ8HiAkjkl2ArNGKYNyaH/oBMvAbwrSnGlm1/CR/EcBMNSG+Yx+ndIRcbyMiiONpq2NFESnQsmpfOXEhnrsytY+WQZ5migLB36my2RncIwnv/WAVNqWfe4DUO0XLoczAs2svHj6VS3e/A9YR3aWZxVxn8uHJp39HPs2HHgmFdF1cxob9RjnVeBeUtjRnVgLCjBTCNeXwhuvcKeL2ZV8F/mmQf9a+im/hT7nEaSRoPs1GOHP6wk+QtKxPbU5hhrneQboTIl0/5kXfBfKJs2WCKMP7FjW5V+fBtLGrrrUpQ5FES5QZ/a34neRs3DMX9n6TDOq6JihZu2s91ADkyyU7FAR+XrbnwLzZizQPmgg7Y+Cyv/k9b3M+qbMaSs+8IaauIKY6Ts5xU07G/DH9Cyklk5Fdx721AAR9UdJNeSTfvPjXoMhHCuqIMFduyFP8Zys3GYcWMM/XAUZNp2qeU2g3Y87aGjD0qKbKN3RDrKOeZyZD0Vxnn18WuiSVYqHrTiWOEjEAJLjGyM1Fd8H3WgUELJnCvsjvUGHbnZ4HyxgbpACbYSG/ZbDZh/eGWT/aYjyowJzoMPPsgTTzyR8vl4E+fQKBQmnZHVINk5mKfmos9Eyr7w4/6vbTidXgIhf7zJZQzG+3bw4RwfHQc78B5y4/nIh+ctH563HDTfWs+O9qrUk1JPAB86yGChqwT8+DBQa4pfuHWddsOUWoxxjxUCfh9MK2PwO/CMDzdgNyUrlBQlDORGlBKJ7/o1U/8p+qRJR/8fSqiZaeE/ZrSW/Bzlk9Mw+W50N8U+v8jF87HP/8CAH5g5LYNJ7iKhnXX0/vMRuMnEX/1wJtflXmTgD/GOOT8/exKV/8h1/z6TfE70PKcnfM5PACs1+RlMnNHjS/ONSQt0RdGcF0YXNeHTXnzYqEoSrURZCuD3AndayOSTM92NOv7ODqBiUPmonHRQvbAZj5KD2fIfsf6vBpTzWlnNUUWhEsB/EsxzE5V5Gt/JzoWDfiJLrXFDCQcAO+abRw5jSOFM15hvBbyEvwAuBQkkBxliSi43Dff7aOjTxlLrrX83uqNNPQF8w/xsnjx+izbjgzvYNbmV1hedNC9voxnQF9Sy8dkarJfViHrsT+1n69S1tLzaRuNbDkCH+d6VrHu8DGM2hC8MW0qtLSN1aMz53uVkJomM5WWwDoxpTMoTuUg4DMwy83dpGz0SxpjL95LmLR3/y0wbtIc1J36jPROXrSP3SoT9CrCUNWF/rY7GebOJU8dk22i6e+TRzmgc7tjRBCPHTs3DZio3VXPHq/E/GReuwzbcENDjx/2uE9deDz6fb/B429AZHR3WuTUYXm3F6aliZYFCR3sb3LWOkuiV9pn0zdg8pan78Bk3rtdddHzkw3fSP7i2VAZGU87PCJ4fJjsYyJ0ETK5ix5u5msP65xpoew6YZKV2w/PU3JZqMLtC/XCUbZdWbkdqx74wAcCeO4b54CucY1IyoBA45qLD5cZ17Cj+wSMwNpRLo4sqOpaPpRpGhd5O0ztbMa5v4aU3GnG9DGSbKXtiHSvnJa/xhPFBlBkTnOitJVfyNpMoobNDFiC6f5+LnpvIHVy4Gaj41VbqC4c8nys9AfwhPeak+cGP3x+GyXoUBXQ6H61zS2k5D/ywis3bd2CbosP/aiXFT2uWGUrfH1EGclCOdeDWmbHdU0vJfbUw4KdtQTGNR0D52IMvWJXythWy9Sl2iVOT+sMu3W5z5ArKO42DGuToh2zy3BPCe9AH01ZG6iTxXR26SYDRzsOPXo739+gH/y0JH1xnuXQixfOLF7kECTd3XKT/9GG4vpLrcyH835+h95//QFaVk+/f+f3IgHyS7v3tXPwPt/A3kbf+p/8A3PRzdN/9JuR5JMIoqXRyZ3zxlj/n/XgB+83JEur7wAmUYblV+9vf2QFTahIUapBKDgFQIp7V48IqnDrhhuyaiMVFuht1QvhPKlBo5u+ygJ4OGhY0Eyhcx75nSwZ3qLwbHLR5SoY+4oZR5gH0DyhwmzHtB1LOvM10zkvz4zDo9AbAi+8cWNIoNLQwmkWKJWGh7T/hAXLR3wjRGjM/voddPx8PK7dhyNaUlx0fd6GQk/liJ0uHDihpPU5T4fgskfoH0pxnztJjvruejXfXQ18Iv2cbDctaqP61hQ+fsA6bZ2WA4ZXIWTlYF65jx0Jtwen7r600rGqgwWxlx30GuEGHdp1tE7Z0u+jhSB0GxldFlrm8jJYb0OuB/T66FMhJWYGRMN4gfxwg/kYvFE4d0frwCIYIl09PED9guTHBEm7Ej4l+xnZNwAhMtlBSaMTjz8V4zoO3R4/xzipWPlGD9XJvR1Cgf1wy+VWhw3yHHfNrwNQ/4jsSgskWyn6xktq55vT98kwblfMaCRatZOUTv8WccxN6vY/mvPJ4i4ZpdqqmtdC410O9OUzHuzoqHPYhJXUmfXME/K9VUroqSMmqlax80EzuJD36k83k3R+bk8zKqbsOmFbPnjeqki0iY9DfWkL9r0qoH1AInfOw7YkltDy0CYtnZQqfaleqH46x7WLJpB0ja19/IAQzRzk2fpVzTBIKnmd+RGW7kZqnVrLxUQO5ej2fvVlNwfLRp6uN5f4ki44xM9z4N9lK1bM7qBpQCAd8uH7TQOPyBsyzdlAxzGaLMHbEAeg1wM9+9jP27NlDZ2cne/bsGUdFRpBwKOKY6LybTVui5mIGau6wADqsd1ZEBt0AbYvvYLo5j7w87d906x2U/tozZMFxQ3QwDOComq2F+UcvoKBEtcmfOKgunE5eXt6gIgPA83QLriD499dRN+8OZlsi6Zg1RQYAUyypFRkAuQaMuPGfS/P7ICH8xwIwzYghbuwOEzgJTM6N320+48V9Hqwxmgt/ZwdkW5J26JQPXqL1oI6SRSXaB2fIjzfuXSOWQh0cdHM40THbaPjzWb78DP7qllviP/ajz3/wt5Hnt3BdPvDhYXoTnIR92e2i73fwrbl2/gZQPukAfsyNg0oBBh1zZhlviTz4lC9/fxHyTSSta/oCeA958acz5/k65nlYFAJHPHjPpC6Q3mTBjA/XocQjYAruV5rxZVdQcac2o4ZOewmkOL7EeSetWxSMS8vQTlAF8B9RUh5HicqSzRRxJIsR8xzgLTeeRAdwZ5y0vgaWpSURs9iIRVB+gqJuoAv/QTDMMGqfh2e8uPrAfv+QIiNW4RHNk1aeVMo8jYDfA7nJ1keXi7mgDANemh9txn1uaMGkhPx4PwnHhOmg4ZEWPOcjYQYUAvubqdvggxk2baGTY8E2A3zPLKGh3UcoGt2AQvhczO7XeKC3YrsLlFeXUPdafFqBI14CA2neu9VKWTY4l1XScigwtIs5oBA64yMwhg/J4DkPECYYEWulL+LS76Qb77mwlkZ2DkaLBcskUC6lT0RbPLbhfCc0VJ5DrbS0x4fzf+DGf0GLW6c3YL7NjIGhuM2zytDhZMnCFjwx7UpfCP/HAe17WW/GMgOUtzqS5f0yyFheRo0e60/s0NfGkl+24QvFyOs5L97zMWHOt1C3wokvKnNKCN9rddS1g26eNSPLq7Gj4HlTO2pjuy3SYyMfR23tLkID0Tx7aH3RmfBuEP8HQE+Q8ADalZXjoNwIvFHHks4ydmzfyg5PJ52dH7LnV5eryIh8sH7gxHUsKvwhfO0v0PbR5ef5iqF4aF7QgnHNDnZsP8Txzk6Ou3ewcp45+frvGEJebV6wzCnBOjUH/Y0QOunVHBTG9WkjtjILvObE8ZqLjuwy7LOGFkYZ9c1hCeHd70HBgu0uK8bJevSE8J2IzJvRD8aMypmDZY4FTjazZIUzvk+FA/g+iTqR9OE+EiDcB2TpyLnZgiU/F/rS6d6uUD8cY9vFklE7TrVgywb37gPp55J0fIVzTDI+3K+GYaod+51mDJP06JQAR0/4AQVGWRbjNBs63Lj2D2tzmTGhgB8IEo7KQ7QcA348+/2Ewop2bNBgxppvGFOehcwRZYYwDD6a52mKhemF1bRFvPYbF66japr2/7qCerYuHGbnMjh0HMX8o4pk64jTfkJYsD+UEEd2CRt/G39eTnedH1/a6zx02B79WfoJJceMbRp0HBvOaA6gW/uwm2VM+mDUZQPbW2k95Cd0zodrSx2l8xrxosNiipYs8nHX56B5g7ZID/eE8LU3UP6Qg/BdTdTeGVkUnvPhjntXh/XBldiyO6i7X/PWHuoJEzrjoe01z8jHeqKcP82/cgPXGf5t6uc3fz/y4Ab+7V3VfOvLdr54divBP3zO55/9iT//biuBletR8x7nu/doyoW/uukWoJ3P//k0vZ99Tu+5w3S3bORfAQYU/ucAgIKqAMGzfBH8nM+DZ+n5i/bc++v5lFeVUzy3FV+qAf1rl+fhUY60Mv/+SsqLSmk9mSLA1BJq7tbhfXoJjbu1dgyf89K2opwlrxmo2lI/uJPVfdoNuGld34b3XJhwT5jAoVYq5zXgubWGpgVRqVZQvgDO+zW5uuAf8qURkSWzcei8qm1+Lca+NpYsa43EG8K/v5XK+xvxFTax7v6IhKe4jUeLU/MdY4lajOhzMQJtW9rwRdJ3b1pG80FABxeVmPKkUOZp+PDuBfOM1EdQLotpVaxbaET52EG1ffqQUrWgmPK2iPfzaJgjrVRGlKZ55uncUePAh42m9dExykDF+iZs2X6cy0spmJ43GHa2vZTWDzLujRmgp+SXTdiyw3Ssik/rjvsbcadTwOqs1G+pwtjnpbUqRpFsnk5B0RJcSbesjMwPTDbAyZLZkbq724GPMJ5/qqbcPnsoDWs1jvNGauamt8rQFAEKrmUFQ+VZ7EWXHxvKR8fj1RTbhuKeXtSIO9tG1Z0Re7XIHKMcaaUypl3zLAUUP+KKeIg3UPZIBbrzDqoXtuA+EyLcE8Db3szip8d+ZjtzeRk9+qJ6mgp1hN9tpLQgRl7t5TTu98eF8bc3UGqNlHt6AaWrOghPrWLr0uGtYkbNR2288JqXQE+kf2+opPrlILY19ZRELVNMNsqmgPJWHQXRNrNX49Ulegz4AeZCoH0Js81avRW/PNL8OzLBgBd6ggTGswtGP1jx0jJ/9lA9bwmSO3XEl68ePQECfRD8l5gPzQzImWXDAjgfnT0o04VOBcsM4OVKqtuH7hEx3FWBnQ5aNrgxLCqLs1zIrG8OmxOshRbAyZJB+S7EqWh+YxwPVGu3cmRYTsO964b6S2yfmj20sRb+wEH1/bEbYrOpfjmA8eH0N91dkX44xraLJaN21FmpWGqBgw1Ur4isMS74cW9ZQsOWERL4yuaYVJixLdDByWZKo3OipQ7/923o8NBQ2Iw35XvpilJB/Qxwr6imITLGhc64cSxuSOFfZWRyjGZ0+GieG81bAx1h4HQHDTXFFMwemi+KV7nRFVbx06/zWDLBEWWGMAr0WB/dyitLLTEDtw7LY3s45KinpGDoA0U32Yz1nnq2PlMyuNjTzaxna2sV9qnRHZ4czNk6+gHzws1svM+CHtBNLmHlG03Y51SxeUMFlsk6mGTBkGOk4sUdND1cgvXWqDm2HmNBCfWv7GfzPcNtkRmx2A0EXnen/piOct6Pj5irUgex8J+fLcPY56alqpgCezmOc1ZqHrEC9qEjKZHdbN3km/Bv0hbps60FlD59gNxFW3ln/dCudsDvi38XYEoZG99YSUmfi8aqYgqssykoqqTx197hz/DH8Jfu08CPk3xApHp+/Q8r+d4Ti/mrc5sJL/sp/1L9f9Kz8WXUGY/zN7+8m7+J5PXf/qcn0d0M/7rzQULVPyX0/BGuf2QN1/81DGzfTV8WwC3c+LO7+dYnv6L3Fz/lX35RwV8+/BOgw/LoO2ycB5z3ptzV/vrleXh0M2t551dlQACvP9WlhXrsz+5h3b06nMu0dpxtL6dxr56aV16hfuaQlZL/BDAph953Gim3z2a2dTZ3VDlQ7mpi1/ZaLIMmI0Z++lAZxoPNlNpmM9tWTONBLe2UsnRrDTter8fibYnEW0BxTSvhO5vY9XzZkHXFOT9uDFgSfMRo/jnMWEyR/vrDCtYttcD+Ri39ojo805rY+HM9tDez80xMeQrTXJN80o3zvIWyOVfi6IYOy9Id7Ho+YYy5s5atD9ki40XqMJZ76tm6dzNlsQqYKWVs3ruDlfdZMUY+5HSTzdgf3UzteDsRm1LG5ne2Un+PZfAabP1UKxVrmgbPp6cs8cx6dnVspvZOc/x7q9bxszH4s825e+XgOAx6jOZc9OixP7mLdQvtg/Wgn2qn9pVXqJ0xzBJ+WhWb11REjmfoMd5Zy9a9m6kx6TFOix4yMlOzPbbcOnJmVtD0xkZKBnfadVge28W+1lrsceN+BSvXDymwdXPq2bWmDOPHrVQXFTDbegeVr0LJz62jr4hBRiEvoyXLQNmv9rP1sRJtjgOYZMR6XxNN9xiHDWNfuI497fUxY8M40efDuaqcO6za+FL9skLJml1snBejsskyU/WbJipmRKRkqp3aV/azeaER/VQzuTE75SVPbBwMxyQjGlM0EAAAIABJREFU5pzL7zc/mGqD8w6qox+VeXnk5U2nYO4Smnf7x3yyRV/0JFsftWlymJ2D5b4m9rSvwf69nCvvG2CsTNJ8tLhXFcdZxeZZi6n8pQNPuvt0b65g8+v12CbrAD2W+9axZ0UNVSu0Z4bcmEOdEUegYKHqPyVuF2XWN4fDcO9mdjwWqfdJFiqe38PKf6hi5WM2crIjfi4yLWekv+xYVYE1YQ7Y/AvNAab+zpXx/XmSEfujW3llsSW9QuJK9MOxtl0sGbaj8f5fsfVRK8H2yBrDVkzdCStlGRzn/GrmmJQpY318D+sGvwts1L++mZqFVdqzaYbRbYhkGal4cSu1BcHBMa6gqA5vQRlloy8GzKgZklt05MyM5OfWGl531FMyM9IfImPJrudLxtVHmBDPt1RVVa92JoSvF0o4jKLTa2cABxTCYW15oNOn8Yw9UbjgpNrWiH7D+6y7a4yLEyWsmSfqIt6k+8KEYz2in2mjtKgRy2+Ps/I2RQvL2OpO6QkPLswS3w+1V1Pwrp1Dv70c3xoxDFzki76LqMC3/vrb3Hh96mB9n33Ov3ID1990gzZQD1zkcwV02TcMHg/58svPUSIHj7Oyv82/yQII4VxUQKN+I+8/bx+fXfkrnud4vM/lUc4OOh/TdiBD7dUUPK1n4/512FM4CBzKQMQ5GDr0kxKWS4qbxunVeJ/Yw677DYN9jWx9+jO4URkkQ7mK6cPDxpspkfLEpq30hGHEvFwBGRCERAblPUV/E9LifS6P8tMr2fNsyaA/m6/jnK+c8+BYu4wWz2fo+pQk5UW6246uSQbC+HY30/BLF/5sBSXxiNWUKna8U49loneDa7GcV6NM0bVDlm7EW3+uZZRw9MjkOKyHhK8F4gBUSEKnj7lOLusaWhBOLqN2qYPSx+uw5o9xV02XMPhlx5/913azI1fA6nSXNVDq0l7rdwXIuoEbb0q86jSZ7Ju+nfTetxN2Ja6//ttcH6tYGAjhfuYBGoM1bN0wjh+xVzLPIxA62MgDTwep2bJxeEUGaDKSbucm1llmFpn1tUQZHInx7sMpyqObNHKrBtqX03jQQv07osgQriDX0pz1laPjO5PG35/NeKEca6F0vgvbb9+hszU+l0rITcu91TjOjPc9SV9XQrgWF1J3qZ49x5vinTcPKPjfWELxKj/+Hgavpp6YXIvlvEplGu3a4Rol7htHuCaQYybCNwrzws00WT00LGzGO46O4qIEznkB8+BVlt94FD9ti4poyapnf3vt+JtFf+V8if/VSorW66h/Zxe1My9vSkx/8821hXKkmerlHqxr1lEh50YFQRgDn/l9+IHgOT+B2Pm7L0TA48Z9HiyGr9NFsleSbnz7FQgHCJwPxTlnDAd8dBz0QLYh5bXCE4trsZzXYpkE4eohlhnCN4ssA2XP7yC4sJzyeWHW/Xr4M+mjI3ITyhyjdpXlleajF1g0ry3mQQkr26tIdMN2VdEZqWh9nwrdRNODh+hYsYjWGM9Uynlg3vUY79/M+/frxsX82t/ZAVSkcZZ5bRDY3UD1Mhf6pTviz94LgiCMgpzCMsomLcH5dDmup5N/182sZcc935QxxkLJY2bannNQXZTKhaGRsg1VaZ1aThyuxXJei2UShKuH+MwQvpkMBHCtWkJjVi3vr7KNk8lZgI4NTnzmMmrvvLILKuW8F+/ZxNPCuZgLrsAtEd9IFALHvAS+SHj8PTPWH45XDYfxvubAjY2qQYdY1xg9HdQVtZL77G+pn/NNMP0WhIlJYG8LztAEGIvCPly/acWx243vgoLmcNKG/e+rqCrK/FrLa4XQIQdrX3LiPuQnjOak2PaTMioeqrjM62q/XlyL5bwWyyQIVwNRZgjfbAaAb9jiRxC+UqSPCYIgCIIgCFcAUWYIgiAIgiAIgiAIgjChEAeggiAIgiAIgiAIgiBMKESZIQiCIAiCIAiCIAjChEKUGYIgCIIgCIIgCIIgTChEmSEIgiAIgiAIgiAIwoRClBmCIAiCIAiCIAiCIEwoRJkhCIIgCIIgCIIgCMKEQpQZgiAIgiAIgiAIgiBMKESZIQiCIAiCIAiCIAjChEKUGYIgCIIgCIIgCIIgTChEmSEIgiAIgiAIgiAIwoRClBmCIAiCIAiCIAiCIEwoRJkhCIIgCIIgCIIgCMKEQpQZgiAIgiAIgiAIgiBMKESZIQiCIAiCIAiCIAjChEKUGYIgCIIgCIIgCIIgTChEmSEICYSPOah+xo0yXJgjbbQ804o7NIYEQh5aawqYnpfHdFs5LYfCY81qWgJ7W2h52cNYspcRAwFcK+poO3OlEriG6emgcbEDb6pmH/DhWNyI69xXnitBEARBEARBmFCIMkMQBlHwv1rNj+a3orslF2UgfciLZ920vuwleGm0aYRwPl5Jy/4QCqBc8BIe0F1GnlMTPNZK66HAuMcLQMhN49130HAiF0N29KGCv72Rctt08vKmU3B/I86PM1DSDITwbFpCsTWPvLw8Zs+vw/HB2FUwoQ9aWVI0W4uraAmthzKLK/a9PGs5dVs8hFK0/7iEyzJgzGql3FaNM0lp8T2MU7w02Itp/mD8lVyCIAiCIAiCcK3wLVVV1audCUH4OhBor6Z4eYCKV3ZQf5t+2LCh9moKlkOTezNlk0eRSMhFdUEd/p9vZdcvreiVEGFy0GeP/Opo8D6XR/npJg79toyc8Yy4z0vzvHLabmliz6/KMGQBKHg3lFK+yZ8Q2EjN67uonZFOWRPCVVNI3f5EGxgdJRveZ91dw7dBUmxvVVP4y0SLGh22Z/ez+Z70tZD6PdDdvZH3n7ejvxLhBsJ41pdTud1A0+7NlE2JDxt4o5riFQEqtu+ifub4K7sEQRAEQRAEYaIjlhmCAPBxK9XLPVjXbB5RkXFZBPx4AFuBBX0WkD3+iowrR5iOFZU4qGLr81FFBnDOSfMmP7rClezydNLZ2cmh1gqM+Gl9xkk6+xDl0CYa9isYF2xm33HtvQ/bmyibquB6vAXPcOd8kiLzsGmVG2VqBZv3H9fienMltmwF96pN6eNK8V6nZxdN84wou+toOaRcmXBZeqxLN9Nk9dCwsBVfgnWH4d6NbF0IjoUNdPSMoh4EQRAEQRAE4RuCKDOEsTMQxn/Eg+eQB88hL/4LYUJnfARG8xH6dWDAT9uqFgJ3r2PdPEOaMLFl9dHVN8ZCDigogO7Gr3q3PYRzUR55z3nHHINysIW63QZq19djiVHA+N514MXGyicrME/SnuUUrmTjExY45sSdxq+G7yMnSnYFKx+zYYhUh35aGSufrsLQ10bHB5nXcfi/OWnrM1D1dD22KVpk+lsr2LihAt1wcX3swdmno+KJofeYZKbsySaqpii07fVoFhbjHQ4gy0DZmnWUXGih5c3E4zA6LEvXUTvZRfMW77D+WwRBEARBEAThm4goM4Rk+vw4V5VTYMmL+D+ow5HgeyB0sJnSWbMpvr+SyqpKKqvKKbbNpqCoBU90J/mCk+q8PKrbEz7UUj0P+3A9F+M7oWgJzfvj9/RD7zZQamvBOxCgY1U5s/PymJ7gdyD0gYO6+zXnmnl5syle3IpnBLcJiqeN5mMW6n8xdFRg+LKWUvm0J2Vcw6Z/wUPL820AOO7XypmXl0fzEWAgjG93c4yfhWKWPOcmELtjP5r6jGUghGfTMpoPAlvKB9NNGz4lAZwvtsGClVTdGldi/McCcJsda8JxG2NBCWZ8uE+kSeeiArPM/F2CXkc3044d8J7L3OeHv7MDsGNLONKiu81GGeD0+lK/OKCgYMVsTMyEBXsRcCKgWZaMd7gok+zULLXgfnFnknUGWWaqHq8guMUh1hmCIAiCIAiCkIAoM4QEQriWldLwmpdQH4BC6IiL5vXvEfWIoBxr4YFFDpSideyJHA/o9Oyi6e40Vg0jJuliia2Uui0d+CMfbeEzHThqKmk+ErMn/UUQ3wUFz5ZqlrzmJQwoF0B3o/ZzoL2awgeacR0JRXayw/j3tlC5oAXvMFvbvt85UeaU8dObk38bKmvT4BGKdGUdPv0QrtWVtB5JzIgN45QQrqU/onSZg44zEaePPX46tlRTuf7yd+VDu5dTucFDaneSfhxzpzN7eUea3yNc8OA+pqOiyEr8Z3o3fg+QbySpRnJyMQKK0p8+Xn+QP6ZxtOq7kKkDzBCB3yswx8jfZSX8pMsldwoow1rS+Amm0+ucDMTUy3iH0zDeWYbtfCuuY8nBdQUlVGR34Np/xe6lEQRBEARBEIQJiSgzhHhCh3HtV7A+sUf7cO/s5PiH+9i1tgSjFgDXi634p9Sy7qkSBjegJ5n58e3GsaWZY8Z2/0p2dHzIcV/Ed4KjCiMB2t5P3FF30PKmhXXvRP0RrMOeA5xro265H/tTuzgUVbD4jrPvWTucaaXjZLrEfXjeUTDPsaRwlBlb1rLBIxQpyzpi+jmUtHbSub0KgKrtkTCdmymbnIN5TgUrt+/jw0Hl0FaqpkJgu5s0NgUZk3PPZjo7d1AF2NYcGmzXzfMydw0aPubBTRnWacm/KX1pXtLnkgt4zgVT/my81Q7nW2nc4iUcUWgo57y0rWikDTDoMz+Ko6S9VeZ75BqBM4HU19RONWMnQOuaVrxR64e+AN7XGmjcDkzRa8qb8Q4Xy2QLtmkKHl+iA1Ugy4z1HnCfOCVHTQRBEARBEAQhhuuudgaErxk36MjNBueLDdQFSrCV2LDfasD8w8jv4aN4DoJhqQ1z4i74mDFS9li8ckBfUEHVbQ4afh8gRKyiwUbTliZKorc/TNI+Dv0HnXgJ4F1RimvFKJJWggTPg9WUQhEzirKOOf0Ixnn1xOVgkpWKB604VvgIhMAyrleSxKVM1ZvHqRohVDDoh9sqSDw9AaBL58BUCaMA1ptzU/6sv7OKmqkdtK4vZ/b6mBzNK8OKD8OtmSvHdNcBKRUavSh/BmYZUt/qMslO1cNGOja1UG5tGXo+tYwyK/j+nVlrl/EOF4cBQ346SxQdBqMZDgb5DJIVIYIgCIIgCILwDUUsM4R49Haa3tlK/Rw4/EYjdfPuYPqsUhra/drOcF+YMGDM+d74pqsE8LY7aFxcSqltOnl5d9DwAXApcT/aiHFK8uvhC8PZL5gxTErzU09Q82GQSq03irKOOf0oAwqBI04cq5ZQOlfzuXHHCs0vR3qrg6+O8AUf6OCvk375AYZZwAl/8q0l5wN4gVx9mtthdBZqX91KbWEOOkA32ULFmq3U3uTFnV2B/bZMP91zMEwFDvrpSjyyogTwnwTDd9PdUKPDsvgVtj5qIycbyM7Bcl8TW5fq8e7XUXFn9FjNeIeLz4P+RuC0P6X1yHeyc+Ggn+4Ma0MQBEEQBEEQvgmIZYaQzGQrVc/uoGpAIRzw4fpNA43LGzDP2kHFJD16oCPQDan3upNQBobxmQDQ56GxsBLn1Bqalm+kdkou+kmf4VxUQEOmeb5BB5Sw2duEbTRXnWbrUzr9jP0to7KONX0AFDzP/IjKdiM1T61k46MGcvV6PnuzmoLlKUKPVJ+pGLi8Qwo6fTp/KDmYZxlgvRP3mTIqpg794j/kwoeZMtMwV93mWKlpPUQNwEAI97OLWPJyANuzD2MdhRmCMb8EaKPjUC3WOUMvKh+4cQJlw1l5ZOVgfXgzhx7W/gztb2bRMgeBwnU8XKC7cuFiUC4BU1Nbj/QPKHCbkdT2LYIgCIIgCILwzUQsM4R4Bvx49vsJhRXI0qE3mLHmGwAFBgC9GcsMUN7qwJPOV0KUiDLA0+7CG7GgV0I+nC+2EXcXyMdu2nrAWGjHfqsB/SQdyrmj+Pxaspl8uptnlaHDyZKFLXjOxXy494XwfxxI729An4shG3z+FDdnjKKsY04fAB/uV8Mw1Y79TjOGSXp0SoCjJyIVELU2yLQ+UxEM4AeCPX/U/h5QUNI43kzF9yYbU1s+AOY5ZRjx0vzEkJ+I8JFWGtZ7YU4FP52a/M4gAwrhcz5cW+oonVVA9ct+jA9vZeM9Q5/1ypEWSi3TKV3REX+7Swz62+yUZCu0PdOI64xW28oZF43PtKFMqaJkBCsPJRzAt9tB3dzpFNQ48N9cw9bnS5KUC+MdTiNA4OP01iMBvwdyh1G6CYIgCIIgCMI3EFFmCPGc7qChppiC2dO1KzzN0yle5UZXWBX5KDVQ9kgFuvMOqhe24D4TItwTwNvezOKn3fFx6a3Y7gKOtVA+W7sOdHpBKY5QbrzfgGk2KrLB91wp082RcL/0kztHBx80cMdz3hGzrSuoZ+tCI8qRVirt0wevH82zFFD8iIsUrhUjmLHcA54PfClu88i8rGNPX8uDbYEOTjZTOj36Xh3+79vQ4aGhsBnvaOozFZONmCN1HG3Xhr1hMr3NJCffhpkOvKdT/HhrFU0LjShHWiiPXq17fwtebDStKhv8gPe/XMp0a0PcNaOh3UuYbS+l7rmIFcfze9j1qCX+KIbegHmygu+NOpwn0mRwkp3aJ2zozjipK9Lqf3pRHc4zRqqeq8USiTC8v4HZllIcH8e8G3KxZPYdlC5rxvUxmO9dx572WiyJFjbjHS5K2IfnA7CltB7x4d0L5hlGUWYIgiAIgiAIQgyizBDiubWG1x31lMzU/BhEz/zvitlV1s2pZ9eaMowft1JdVMBs6x1UvgolP7cmRKanZEWiT4Q97HrSTu5kM7k3RiO0svLNdVTM0AM6cgrr2fHbGmoWac/MkzP5jNNheWwX+1prsd8ayTt6jAUVrFz/M8zDvWctgd0u3D0pfs24rGNNX3vX+vge1t1nQQ/oJtuof30zNQurtGfTDJEP2QzrMyUWal6txzY54tlhsgXDTcNmKp6pFuxTAjj/WyrfIDosS3ewY1UJlkna3zkzK2h6YyNlKfybxJJjsmK51U7Vmh0c+ij1lbe6H5bR9PRILkrBMG8ze1qrBsuon2qn9pVXqJ85wnmVHCPWGWbsC5vY4T7OrqdKMKRy+Dre4SKED7pwpfMRctKN87yFsjljvClIEARBEARBEK5RvqWqqnq1MyFMUAYUwmEF0KGfpCPUrvl4aHJvpmzy1c7cKFC8NBeV456/iz3/kEbtkFDWbyKh9moKntazcf867CM5NB1n/K+WU7zdxq7dNeN4i87XgGFlL4RzUQGN+o28/7xdLDMEQRAEQRAEIQaxzBDGTpYO/ST9xP+411mo+WUJgfV1NB9J493iWinrZZAzt5bayS7qljvT+q64EoQ/aGbJej1NW64xRQYK3n9swNFTQf2CZCVaoH05jQct1D8iigxBEARBEARBSESUGYIA6O9qYutCcCxcgvP81c7N15QsMzVbmrB6Gqhe7x3Bqek4oXhpezlM7e7NIx5ZmWgE2pdQuQWqttQn3YCjHGmmerkH65p1cTfECIIgCIIgCIKgIcoMQQA0vw+b2VgUoOHuclqPDecO8xvMlDI2vlqLfns5pctdV95CQ2ehprUJ+7WkyBgI4/1NOcXLA5Rs2Jzk0yOwu4HS+9vQL93BxnnprsQVBEEQBEEQhG82oswQxo0bbrFR87ANY7pbG77uZBmwP7WDHY/ocDzjwv8VHqWYSOim1bDjzXVYfI04Dn0l9hnXFqfbaPinXOp376LprgRlRU8HLU/7sP12Pzv+wcw391CTIAiCIAiCIAyPOAAVhFQMANeUf4YrgNTR2Bmu7qReBUEQBEEQBGFERJkhCIIgCIIgCIIgCMKEQo6ZCIIgCIIgCIIgCIIwoRBlhiAIgiAIgiAIgiAIEwpRZgiCIAiCIAiCIAiCMKEQZYYgCIIgCIIgCIIgCBMKUWYIgiAIgiAIgiAIgjChEGWGIAiCIAiCIAiCIAgTClFmCIIgCIIgCIIgCIIwoRBlhiAIgiAIgiAIgiAIEwpRZgiCIAiCIAiCIAiCMKEQZYYgCIIgCIIgCIIgCBMKUWYIgiAIgiAIgiAIgjChEGWGIAiCIAiCIAiCIAgTClFmCIIgCIIgCIIgCIIwoRBlhiAIgiAIgiAIgiAIEwpRZggTj7AXR00z7r7Yhxf503vr+R81P8X/YAX/47nXCP4F+jp30/1yO8G/XK3Mfk0YCOFtb8P1iXK1cwLn3ThanuD/frAR17mrnZlrj/CRNlqeacUdGilkgI4NLTS2e8ct7cDeFlpWORm/GCc2Uh+CIFwu2pjuwj9B8xDY20LLyx5GnJKuJAMBXCvqaDszTJiwl7YNzbTuH0tOFfztjZRb88jLm03xYieBseZ1hPy5PhnviK8+vpeX0Lh73GtM+IYgygxhQqF80ka1rZzWGwzkXhp63uf5FX95uZ1//e5PueF/+z7/6vuUgRvgswPPcPF3n/NXf3P18vy14MQ2Kpc3Ure+4+ouKIDAIQfNrb38u1u8NNiLaf4gfJVzdG1x8ayb1pe9BC+NFDKId1Pr8Iu7URI81krra1dzyZ2CsJvGeaU4jn31SX8t62NMhHDVTCevqAXv10Af+vVGwbuhmDxLNa4LVzsvwlfGBRfVljyKN3gZ7y6ijek+ruZMmXEeUtRD8FgrrYeGPlSVYy0U502n+q2vaDUSctN49x00nMjFkD1MuD4/7k0OvD2jT0I50kL18rbIu2H8nyrjLgfR/PnGWxAGFEJnvLhea2RJUeuVUb4PhPBsWkKxNY+8vDym28qp2+IhNKD9/L1/b8C74g6Kn/MQHrgSGRCuZa672hkQhIw572TJvY0E7t/KvqVW9FnRH/7EX/a0ww+WMqlxHt/Ngi8HgKyz/PH3gPEWdFcoS19++TlKP2Rlf5t/kzVy+CuN0hNG0enRJ07Yt9qoKXDjv8tCzlXJWRQFv88DU2r56ZMb+dmt1RQ/UA7bd1E/80q1kvCNpi9I4KQPnSyQBEEQvln0eWleUI3zlib2/KoMwxVap/nebyOAjZUdm6kwKIR6lKu81sqQPi/N88pxDG5qVFE13mkMBHAuLqZh/5B6R7ngxfVcJb6eHex6zEJOYT273jRSPbeScrRnsiIUMkUsM4SJwYCP1oUNeKxNbI5TZACfneTiJ/At60y+G3l+fRZc/9k5vrwA3/rhzXz7CmUrvPPn/Msj2/n8a6DIINxBg3U2dXtT7HboLNQ4drHuHsNXn684/PgOAnPMGAHDvRvZuhAcCxvoGMNuiCAIXwU5lLQep/OdWiyywhwBHZZH99Dp3UzJ5KudF+ErY3IJm72d7Hn0G/4RlkE96GbUsqfzOJvvudKf+2E6VlTioIqtz185RQaECPxegWk2rDcDWTpycvRXKrHxYyBExwYnPLCOXR3H2bfGdkWSUTwOGveD5eGt7DveSWdnJ8f3b6Vmpg7/ltYhC7aby9i4pQq2VNLwrljsCpkjyoxrgJ07d1JcXExeXh7FxcXs3Lnz8iMdCOHZUke5bTp5eXnkWQoo/2Ub3tjxZUAh3BPAd8iD+2Qo4pfBQcsGB85D/mRTsYiZWWk0Tmsxlb904D4z8qDl395Iy4US1q1JnpD6fn+CAeC63Jv4/LPP+bzvIl8CXDirPZ96S0I+LtLzyRH+5egR/uXU2dQmbQMXCZ87qYU5eoTQHy4mmQx++eVZ+n//KUz9W7I++5zPP/ucvtHs/kZM+zyHPHgO+QikskmMhPGeV1BCfryHPHiOpKhbQDnmpYMczDk3EO4JEw4rcfGEe1Ik0Ke1n+eQB2+6dugL4Dvk18xLe4bJQ1x5PPjOpUgvHMB/HqxmY2Sho8OydB21k100bxl/89wo3ufyyFvkvOpHbK4IA2H8RzyDctTVl74WlfO+wfbxnglefn0rQ/LjOeInmEmER5rJy6vGOc4m+F+LNh5LfQgaV0guhuWCk+q8PJqPfIVpjoUBhcBJD/4eYmTMq/0tCJkwjrI+OI+kWYuMiSvQ/5WDLdTtNlC7vh5LmuMl4YQ1y1iHbOUS8F0d3xlrZsfK5dRbVg72x5uov68E8806/nrcM6fhP+lGoYLaxVYMEQ2XboqV2hU1GHDjPz8UVjeznnVLDbiebZUjjULmqMKE5o033lBNJlPSvzfeeGPskX5xVF17V3KcJpNJNd21Vj36RSTcR2uHni9crC6+LT5s/n2b1FPRsJe61Z0P5aeO0zRX3eYfJj/9h9XVM0zq/O3d8c//9J76PxbcrnaVJ/xb4VJ7VFX9S8cytat8iXr+05ii/X67eubnCeEXVKvdv1dGjrfpPbXnkhYk+Io9+ffy29X/73iGdRx4T11+T2J9FKnL30koo/cFNd9kUovumavmx4a9bbH6diASJvi2unhGinpduFMNagHUtx+K/VtVVbVfPfXbB9RZpmHaLPbdBS+o29bE5yH/vm1q16Xh8zDrF2+r3ZdioouUZ60nvpj97tVqvmmx+vafM6y/TLnUq55yLlfnJubt2aOxqatdrrXq4rtmab/NuF2d/+ROtSumHoLvLFfnznlBPXqpW33vyfnqLJNJzZ+zSN15VlVV9aj60t8XqYudQbX/9E519b2zVJMpX739oZciddmvdjlXq/Pn5Cc8H4beU+rbzy5WiyJ9atZdi9W1+7qTggXda5PLZjKpJtMidWeM3KtfdKnbfjErdf+LqwstbGza+XPmq6udXWp/XKB+tWv74iT50f6tVRNiHCqWb2cKuY8PH3x/k7r4nts1WZtxuzr3kU3q4U/TRKiqI7fxpzvVRSaTuvYjVe31blOX3avVw6x7V6s7T/cnxxc8rL702Hz19hlDdb/JE0wOdxn1EfS8pC67L1JG0yy16JFN6uGYJIbkrVc95Vytzr9NC5col0PlX60+EJXf24rUB57cqZ7qTUhzMM6gevjFRVr5bpuvro6OOcHD6qZHirQyxD6PcPS3c9WiX8SMIcH31OX33K6+8JHWrquHqdfg+zHlnXG7Ov+xberRmPyNKBejLmOqfprAp4fVTQ8m9omEfvPpYXXTI3MjspCv3n7PYnXT+yPJQkw+hmrv8saIiAwvfiqxv89SF2+P75uD7fTFKfVQghXvAAAgAElEQVSlh7Q6n3XvC+rhaF2NWJen1E0/MammX7ytJlSvqp7YpBaaTOpq91CKI8lyMkN1oX56WN0UyWP+nEVJ/ezos6n7T9LzGFkMejapi+bkR/rLe9r8cymoHn4xOqbFPI9j5Hlg+LqNKVcsn6YYT/Z1D7VZBmN90Llo2HFVVVVV/aJL3fnk/CFZvW+Z+lJUVkeS9YzzsFhdvSZ5LbItrr8n18PRZxPWHzHtparD9f8uddvfDy+Ly95J+iVCt7rtXpOa/9RhNcUor6rBA+rapDS1f4sS23C4OSEy/xSlW3/Ftb/WLtu8sXkOqjsXJq7P0jyPmcuGr7exMZKcjb6vx8Y7P3md/9FaNd80X92WOD5/cUBdPcOkLnala1tBiEcsMyY4//RP/zSq5yMTMctL5xTwjIPmt1J4HD7YQYeSg3nqkGmdcqSFJS9qu+3KIUfcebk4sq2Ybx4mSyfdOPtslP0k4YjEd35M7vNt/HU+cL2dv37sH/n2Y//It+fPRAdc7D4M10/j+oip75efbOXCql+h5j/Od1oPYXztEIbW36D729MoTc/w6eCNJzdxXck6Jv3je/zttkMY/snJjf/7LXBiNX/53edaiJ+1k/MPdwM3kFUeSfexf+TGHwxTjig9HdTdvQRXdhVb9x+ns7OTzuN7WDcPnI9W0/rxUNDAaS8KRizzV7LneCedvuPsa63A2NNB3dI2zVv2JDtN+3dQPw2YUcNGx1a2Oray9RErNwHQjW8/6KYZB89w+n5TSulzQexrdvGhTzP7+3B7LeaPWyhf0THk5GugC99+4IM2Or5Tzx7PcY57D7F1oRHlSCPOQaeKesyPbGaP+0OO+zrp9O5j8wIj4XfraNk7ZPER8vtQsGE2xleJrqCEiuwOXGPyIj4MJxyUL3fi60sXQMH7XCnFyxx0RC1T+kJ4X2ugdJlraJf/iyC+CwqeLdUsec1LGFAugO5G7efgST+B/2c5pXc30HYsDCiE9jdTvsKJ67lSipe34b2gxDzvSO9ILeRiia2Uui0dgzuv4TMdOGoqaT4Sc+b0WAsPLHKgFDWxy6O1YadnF013Jx4lCuFaVkrjQSM1jn1a+/iOs89RhSUx7T4vzfOK49JWLnhpW17KkhhnbaG3llC6yo0xwWy0aka6QgF4cdzfgPPjdNstCt7niimoaqHj45C2Q9YXwre3hcqiUlqPpXlvxDbW8Lc3UD6/EdcxrebDx9pouLcZT2y0551U31lJ81teQpH4wmc6aHngAVrSpc/o6iPQXk3hA824jkTKSBj/3hYqF8Q41/wiiO9CkI715ZTGOJXzvtZA6XrP0O7hQADn4h9RurwNT1R+e/x4Xmug1L4k3gHlF0F8F3y0Li6kcoNbK1+Pl7ZHq2ndrZW7ZW/UAivyPGYsoseHP7aOL4UJfhwiuL+Z8rlRuU+uV++m2RRUxZS3L4T3rUbKl0WtaEaQi1GXMX0/jWkxXKsraTmU3ipQOdJMsa2Slr2+iCwohD7uoKWqkNJNI1iRRfIRy3iMEW6fjvo3tTH2+KFdrCxU6FhVTUvMuKC1U5CdK8pp3q/Vefg06PSZ1qWZkkUWeLct6bYp7zutBLIrsN+mba9mJMspCJ70Ez79EtVFlbRE8qhccNPywGLaxnLDVUQWfVuqKXygBfcFBa2/LKH6Ny6ciwup3BAd0yLPt/hiIshwHhiubiPlii22cqSF0qIU40lNC+4wGY/1I6ON8Q2veYdk9YiL5vXv4R9J1keVBze+7Hr2fHicTt9xDrWvxKZ00PgP8e2dWA9JRNpLCzNc/zdiK0sliwqeNzVZLPtJmuMcFzy4j+moKLImH3dRvLQsqMahlNDU/qE2d/o+ZNdTJSQdxB1pTojMP0lunk1Gco61MtsW+67WLo3z68bBAmX4cTO8v4HZllIcH6f8edSMta8D5Mxdybq7/DTO02Q00AdccNP4RBvmx1ZSlrj+z7ZRcr+OjreuvsN6YYJwtbUpwuWR2tJB+zcmIprfqBXG4chOef+Jl9S5iTuesZYZv3hbDUZ2OnrfX6sWDuZjtXqgP6qZjWq9Ixr/S/1q79lT6gFP4q5vPKd+Xaia/n6b2pXy1z+o5+tvV7vWHlA/G/b5H9TAY7erXY851T8l7sicd6r+8ttV/9t/SJ+JP7rUM+W3q2feDQ0+0iw/Vql/CA+T+ST61cNP5aumGavVA4k7rBELlNidhMNrTKrpJ5vUUwlBT71YqMZbtBxVX5hhUgt/nRhSVdXATvWB2B2Ms9vU+SaTOv+V5Brt3j5f06CfjX83SUMeafvoDkFKIrIUu8uRrjyq2q8eeNKkmp48MKwsjI3IDkeiBYKqqv3vr1bzTfPVte93q/1RubjUqx5umRu3czUov3ctV9/2R3L4595IXo+qa00mNf++F9QD/t7BOA6sKYxYp7ykHg1E3uk9HLF6Gm73pEvd+ew29ejZ3sE89b6/Vi0ymdT8luhbkTL9ZJN6KkGetbzG7Lp9tFbNT9WGkXwP1UtENu9dqx4+G9MKfz6svvD3MTtEl46qa2ek3i1Lt5OanL8UYSI7bfkPbVNPBSPpX+pXu/et1na97t2mJtumDMaato2jcjjrwU1D5YppnyEZ1nbyCpfuHEpfVdX+wNvq4lQWLFFGUx9nt6nzTYXqstdPqYNJXOpXu99cHJcXrY5mqQ+8eFjtjo4Tfz6grv1JfHy9Lu29oqcODIXrD6qnXlmk7XbHjCVanEXq8u1H1e7Iw37/Nm28nzFXXevqUnsjstT9uvb+ouF2VzOs1959m9RN+7rU4GD+uiJWeovUt2OtUdLIxejLmK6fpuCjtcnWGKqqqpci1gkzFqnbTgQH+2H/2QPq6rtM8WNkCpLLcpljRMKO7CCRHUzT0vcGZU+TOc3K7mh0/o7UQcZ1+WdN5uPmk8j8VPhi5FmGspxMpC7uWa7ujNbtpX61a/uipF3xjC0zIvVT9Pi2oXrs71K3LdR2w+eueVvtilr9nd2pLpoRL8uZzgPD1W20XIP5v3RK3XSXSTXNmK++EBvvF0G166OuSHtlMtZnYJkRfFtdZDKpD8TM6f293eqp0zEjUjpZv8w8aFaVsRYSCfWgph87YmUkbRmjsvjiMLKYgt53lg2uPxPR0ipUN51I+CFpzZLpnJDGuqL3gLrpxQNq16dD81lXdGx9Mzj8uxlYZgyVJcW4uW+5OmvGXPUlX9oqSlMvKdpgzH09hkvd6ttLb1dNM/Ijlh23q4u2p1/797tXp20/QUhELDMmOEajcVTPR+S8H3f0/884qIxeozSvGd9w7xkM5ER8WegLyqiaFv3BTzAEORbb4JlF9/I7yLMWU7qogdbfBTGYjMM4zFIIfhqAWUZSlqj/LJfOAT/4fryTz8Tnn3TQ3w1ZJT8ddBI6yN/mcT2gBv809CzqM+N3uwn8/+y9f3Rb1Zmo/TAmOdSAqFu7DRO1yYpKfKOGrKjGC814vqjjLETiG13wRBQTXTDRGFNRXDzBwZeYuB4XQw0m12koHoxH4GaUhCKP6VWuYZQPt8pXt8oKqbJCRqlD5UkGubhjtW6V4HISXL4/ztEP25J/m8RhP2tlrfho73323uc9++z97vd99yutvPevP+XPQMYN16sJLvCnX/0CluXxmeuZOlEf7r0y2m9aMY314ZS+gv4WkM+GOQdAiNDbxINlJqPPMwNBwjGf6b4gvmEwr9WPu6UcCuJHi26ZsoMRfNNJAAv2O8b3qHalAQgQjozOq9eN3v2IDg4CRnTJAe5iMTO63Th3N9Pc5iUEaHNiHaS2x6Abv/uBhFanh/5Bte3jiXSUK7FW0vwr75iuDl/Gf8iFTACnfT1r9GpZ+nxKX0gl7SYa2hqwrFClNUszSm6Nm/8npphlUoYGk9kMgPU+O4alakqNEeuW8c9oNDqs220YlmmQ4u+UDfutIP8qrOxURH+J/zBo7zahnySoWfBtLzIWLOsmCUgm+/HuleG4k1LzmkTfGktpOZmU7rQf7zBYNpqYyxBnwR43Ycw0PGVDn632V4aEtrCWPY/r4biPwCy2aazfcmBcFis38Xzi9PlwH4fwwRqKCxLtX1NYhXeigqfRH6HDbgKE8ewspmBNTN7WsP6xVHewUvmQMXGUYJYJ88bk36P4f+KFpZU0PW5KpJOy0d+7hz2bQe7wjxm3TVjvMST8llfcjnkdcIuNv9+kiwdW1t5hwzpJW+K1nKRfNYUOHIU6suP102G93wb4CaUw8hvNzNo40Xs6JU77cPeD+btN2FZnx99DaZmJ2u9XoyeA7/j0hXHuxgiVTCOmO4CDgdE7w0vttLY5MGSp9c7SIE2nL7PM2O6VCL/qI6jGRJCPeHENG7D/d6Vu05PlFH1x7z9gjfVthoTub83MNvygabMt0Y+Sjts3mAAjtq0WdGpfsMyC7Y7kXNP8DqTs2xSc9uHuA8NjTVQWaOMyRGY2ujydOlZMYayfCoslcjLB/4Maqp524TkZhmu16G+aygg9uzpIt5qwAp535ukI6pgsuhOyGP2JG9ewHvuG9O/J4GAIbtWjG/dwovzy5z5YasW0OlXOJGb6TYihMeF4yIRuSeJ7pttsxwb4z7w3lRJmjKawgaOBTuyrZl/WlN71Y43j52XPqoe89nup2VSEa+XzHH37BCdO9ND51NcZfKaIv3nEQzhF3BVJq0NPmEERF0gwBYQyY4GzdevWaV2fLZoVevRZk6W6Aelzsf+HGYwCK2wc8L9F53O1OO4xo88aJNjjwVlXTlHhRKZw5xjsB65OMx197zQXgUVjg3wO/oaPkq6fHzgD5LH4psnPNRnu3c9/lP0tgzt38MH/PcbHwMfvK/mvXr5YTXWGj94B/ttyPjtpiUn0hwiQWukwjmiIwMnkYJkJZFkGpPjkI3o6QDCF+wZA+GwAMKFfARAlfDoMtxrRT2GeEzrlS8qbdL3XC+jRqsoM+aST0oI1FGx+mMZ/8TMIRPtDhDGij80m5DChk6Bfq0u56LshMwcOh5jfT3wyqmylRUvOKFnXoVs6+7vekJkzeSI5TKDDSf3DxWrA3PXUHAE+Uu05h6NEAV32FyYvKhoGcsiZ7HkPDTLh2nJpjuK2NBwlDORMWuD0UOqpRZtifNHdbASiRD+Y01uOZig8ocJWvyRNe6fRH9GBCe+Qsu3puUA0Cuhy+MI4hZbEV/NMipzMJIiaNAMFwARE+3y4nq6idHMR+bm55N7nBGTkSYMHzqSNc/Ceqs9Ue2OKZ3qTASMQHf5wljdJz5TGCAAkNONcaACdjq+MC3g4nb6UMN7pQNvfgtuvuGx4O1ywwYZFNQmfW1n+JBnbZ9P8DqTs2xSoMmRYOckJYpON9VNBY6bhjXaq18EvflRP1eb1rLmlmJqOSdw95qIOczxWpLjBOFn0veGBtVZMK9Lnig4EQSJFUMuk92CyW8/0mzCqjBC+/Y1U2YspMuaSqy/FCcgXJs96uTC7d13G/3IVbm0tzz9oUBTmUjb6zQ10/qga7ZtV1B9MoTLLlMgZExxUIEjH1Ze6AoLZcddddwFKjIxQKIROp2Pr1q3x69MmS4selAF8XTWdTyftkspRIv1hPlw6yUJ85D1lBx4AHdocIBrAe1hCX2ClcpONSiC0t4SiJwMwHMQfjGBfleqYrsVoJvhexJQUCSWDev3MST4ed/0cH19MUch7vVwE/uJLN8IffPxXw/P8+avf4XNVZrLUSd/gK/u52GeOx9/g92e4eA4ydMtTFDg5MWXE6Iv/TvAwSA+psS1iio9l4ydDwSNuwIpB1bqHer2w1IFuXBdGCR0Pwq220TsUH6SO2h0K+gGTGsMkpvgYu7sRIXRShkI9X8kAhrzU3NtIuLCJt56xxE+bCex24vJbEguLviA+wLwytdXQhyMy3Koj3TQ+e3MrvZvT/DghH5JuRiddDayuputHdnSXw/G6AMN+6gtLca9w0LBjD5VLc9BkncP9QAE1sTSZGjSAN/weTHKavaTRAiHCETBMlFRVGOof76Lz/gksuzI1aIFQOAJ50z9a78OR1A9DqWeY8BDxXc8YoXf8QE7qhZtSatpnPGUyJCTA0nKChsJpTM+n0x+LJcBCa6BhvGXWtFHHxsAg/zVC3DJOQebfj/kg04HmEp8TGdpfSnHdIJa6Wmq36snJ0qA52UjuFueodKnlYp7b+FGa6+ozDb8fhbGq13cD+IGczPmK/T8dogwOAEunsqCcZl+uNmNf3Uz9IT/V+ijeNyVsTnOiN+ZUlidGHgHmcXyel++AKkOB02HIS6PQmMpYP1WWGLE/cwD7iEw0HMTzYg31O2rQ33IA2zLSy/ps6xAdZBDQznKgSfddAGC1BfvaZur/1UelLornTTA/lyK+RRLK9yQV6nvQHWbSr+dMvwkx+lyUbq5ncGMttU+8hD77ejSaII25JTjHppVhJurRCfttrpjSu15Nb291iusRwmdlyJRYPPanL+swAOFUsjkC8ljrX4EgDcIy4wrgrrvuoquri97eXrq6umauyABYYcIaC1p3uHGUaV3umnwKNlbgSRUcdGhQOaJrJEpwXwuuWKC4DRZM2cC7XqoeLWa9MVFe0ZOqCRpaDPp0nxQNOV+W4J1Qyl3jP4V+CqxMKBnGXM9QV8bXLV/NVZxGPnqG0fqMCwy8/jwfL9rMZwo+D++9w8hFWFyUUGTA77jYdwG+mstn1CsX//M0f2Yli5aPt/SInPLjP5nGOHOFHhPg7vaPW3uFftSCCwPVFiUsY+R0gHAqa4t+Ny1tMrptVkwSQJjQMTmlOwqElACeN8dcOzTo1urhpAf/2Oc47MO1K4h0jw1zdqq8KiO/JnQYtGtVpUtfAM8wmLdYko7NTSg8YnVS2mNEl2aOEQ75IUczp64LCoOEjpAkozKyDJCNYZ0BTjZSsdNNMJIUXDMaJvjuJTrn/JQP1xDoCs2YV2nRZEnIZ39JMERiwqPRY1gL8o+9+CcJfKlbbULCh6d7Epv+bAOmtRB8uoKajiDx7hiRiZ4NJo6BXGHAlAm+gz9NaR46GYNn/UBUsdgCZPUoWX2BFS1ear7VjL9fjt873N1I1e4grDVNoIxJ94ynwSoj1kxwP1pKc084YTUwIhPpS3N0MkyrP/S3WJFwU1HWjD/56OLhCKFT4WnqYzQY/9YM/c1U7XQTjD0fOUJwfxVVHSBtNjJFh4V5IkKg24+MAdMGI7olGjRECMZM0pMmsanlYn7bGAmHgEGisXJjxxqvNGFdCt6d5aNkQT7ro3F7M0EMmNZOX5E35/R7cR8ErdU0hT6Ybl+qwRf3u3Hu9+DNtGK+JbGgm1tZTo2yIHXhfkP9no7IhHtaaO6Yg8LjzNN3QJWhwDMVNHYnjSdyhNAxNdDuVMb6qTASwt8dIhKVIUNCo9VjvFmrFKLeN62sz7IO4TfdeNBiLZjdSJPuu6CgxXKvGQ56aNnrxpdpw3bbxDOFLyzRweEQvx43JmvQ32KAYQ/eI5NI6Uy/CSqRgA//MBjWWTCuyEZzLUROqi5hcasXVblyxB0PTo0cIdjxv3G9nbrcZCbut7lhdu96NrqVErxZT83+pHmFHMb//RZcSOiWpxhLwyH85KCZjhu34FOLUGYIxqDFtmsi7WtYMdEbS0cF+XrFz7T4SZ8yuGWaaHjMggZlxz/dgCcVVnLXBH59eoMVjvgJjruvqmTIXTlG45u4fk1scf2l2/nM2sV8/FoN7//0DH88d57zvzlJ/+4H+eDnf8ni7Q+zJBO49vNcBVzo6CAyeJ7zg2cY2PuP/OldYBH8WdWEfPThBeAcI2fe5/y58wy99z5/Auj3sGNLKaWbC6g4mKKjJBPWbTrk/RVUvBggPBQlOhDC90IpJU8GMT3VhE01nXzvtA/w0bLLReBslOhQlHBPC6Wba/CvctBwb2zyICN/APSHCA0o5cVjaQyECA6DaWXimBXdJgeWzAD136rH0xdRyj3momZLBa4ldtofMym7fCnyAnA2hB8wxCxGNDnoAFebi+BArD2P0ngYkOCCnNSeTEMaE/AggUPpXVBmx5fQF5Iko2soekUxm9R+o4mGQolQxxif2Pz1FP+TP/2JI/PJahO2TAg+Wxz3317zWIicdRIcqWH9swFAi/VbNqR+J+Vlzfj6IkSHwgQ6Gnn4Sd+o4iSjjeq14NtZrkQSH4oS6fPhfLhmzO5Q7N0P4d4x2jc231xMy5ForEBs2wxwuIbynapsDoTwtVVQ0zZ587600gS4qchX27bJqViCrbbTVKZDPtZCaeGahF+uw0kQEw27bBPsxKV/xlNGMlLdZkc3HKBllO/8mvRK3Gn2h1RQrZ4E1DI6LomhgKJvecZHxJ8EzcbqhPwaY0rnAorrvERX2GnfliKS/ydKNsZCA+CmIl6/QtyyAQPgvK88HtU/nVzMZxuzdXokgjTeGXsONXijQIYe+7PjZWGNuRznKZRxeqITuOYJ9w9a1HddHbPLavCtsNN0/9QWktPtS+0GG2a8NO/2oX3AijHpx7mW5VQoCk4Zz6MFifHg4QDSzXNQeBLz8h2Iy1AQpyNpPFlTQNEWl3ICxJTG+ilw2kuNo4iC/MS4WVTnQyq0c7s6n0gr69Oqg5vmF3zKPGMoTGB/DeU7fejKmpLipM2MtN8FFc1tNmyZXpxtAaQtllGymIrsm03o8RI4Pf437R0ObJlhnN8spbk7RGQoSviYm8Zt9Yz6es70mxCrwy0mDID7kfx4vkK3jGEt8EqpGudLVTISoPnu/MQ72TZIzgRuNJP121yeZjLbd91wbwOmzCjeuqR5xZr1lLYFkAob+Pu88XmCx72w2oBu7ieEgisQocwQjGeplVZfJ01lZvSxwEVo0K02Y3+uE8ctkxchrbLS8KM9WNWFq27LSxx4yoGlQB8PBKdZYcSyvZ3u5y0TmvpJa41Y8OA5PGZKMXKGj94FVi7nhkmvX8eNVfvINC7m4os2IuW389tHH+TD49ezuPr7LLlZVYes2IzGshp6d/HHb9/Obx/9Ry7c9DjXff06OLqH6Bkl2WfWbkJa9jsuvmDlt+W38/saD+cBllpo3VeNHvCFUg/x+rIDHNhuILCrhPXGfPJNRZS/FMX8VCd7NseWa2FC7wBZ2fzxjXpKzPnkG/NZb3cib2igc19lPKAq6Lj9m1Z0hxspNinl1R9Wd7LOhvChxbAyqYezzDS93oRVclO1sUApd0s93s85aN9bnSg3VV5i8Tn0GFaqX5mbbDRtM0B3vXL/jVX4Vzew534NdDTyWl9SewpTWY+gHL/bb8C6boaBayckG8sTe7CtVeubpUOfHQvCp8X6fDcH6mwYY4H5MrPR31ZJ67fnNsDllJGM1L7epNZXIruwmgMvOXA8oFyL+elK66rpfMqK7lQL5RsLyDeup3QvWO43ji4vQ4ftB+1UFgzirlNkrmBjFYEC6/ggj0uttB46QO09xnjAPGmJHvMjrVQmBRDVbXme9keMDHaosmkqouodI9YpuAFlb6plzz0GtW816PQ56v8lDNsO0PmcHXPSszDcUU37odb4WJKm1PTPeBpIedV0elupvG30OGWra+KulenzTb0/JAzbO3mrpRLzqmx14ahBV2Cjdtdd07cwUOW3fbsFQ2ysztJhLmuiqyPpXb6EaL/RyoHtJqU/swzYnuui9kE7tdtNZGcm4hGklYv5bONaR6JuSGTnaePvvJRXzYHXm7DfpovLZ3aeheofdtO6eZI4CPNEtKdZfdfVMfvGytFj9mRMty/V4IuQCPyZYI5lORWr7bQ+ZVPdzjTobquk/VArjpUadKunGldkCszTdyClDK0yU+l8SLGqnOJYPymrHLzqrMaSpz6HzGwM9zTQ+VzS3CqdrE+rDlH8u8spMuWTb1xPSZ2XnEfa+eE2w6yVpum/CyqSEcv92YAWx8Zxh4qPZ4UB89Iw7p+kUGpnmqj+UQPWZUFaHEUUGPNZX+aCjXbGfD1n/E0AYJmN1lerMS2RAA2Ge5ro2unAvlO5FguOrtn4HdofUZ+N+uy6Op7C/IXsSWVg0n6bE2b5ri+x0PpGO9V3GOJ9KC0xpJ//jwTxvRrGYDWlni8KBGO46uOPP/74UldCsEA5luT3XNbOiQf1qm+rhGZOHbVlAs8WUdJtpfOgY9LTGyYt7cPzXLwIsJhF1y9O+RGOpfmLzOvIVO83fO48V2Vex2eS7j987jx/Blh0HdepLtTysUaKtviwvt6FY6JI0nKUqOoiIGkSkcSV33zUrykn8EQXnVu0RGMR7jI16f3DJyovXZahqGIxI2nQzHbhowaPS763PBSFSesSwf1AAfWaPfzsOfOlUSAsZEZkVT4kNFkTv3dyNKq8oxPJ0XSIydycv/MLFNEfgvlgwE25qQbdS0dxxKwShIwJPknkKFE0aEjMM+bsOzIlwrjuXk89tbz16kRWegkiHeUUPKlhT3cT5jRBKmNzoKnOmQTzz1Sem0CQjAgAKpgjJOVjME9lG8qqseyroGqXkc7ts9sFkK65DmmS2G2p0mRePz4+xthr8rsuKsrc6J/pnFiRAYoCIV1DkoNlZjDpInXS8tJlmcmxhenIHK8QkbImV02EO3ZQf9hA9RtCkTEjMiZXYsSY83d0BjJ3RSP6QzCfXKtBIyb3gkuBpInv/l+SMe6kB+dxMNSZpqTIAMi+s5LKtmKqdhjpet6aFNMrwZzOgQSzp9/Njid9GLZ1CUWGYMoINxPBwiDLTEObHdpKqeiYJJDhJSJyuJ7ie/2Y9r3FnjtmZ4YcPRuaMFjmlYJ8rJHyHX6MSbFCBAKBQCAQfMqJhJUgmyNhXLubCWPGtmEak6IMPY62Boz+Gsp3BeYkKK1gHhkO0FhWg9/YQNMW4WAimDpCmSFYMEh51bTuthDeUUTJiwHl1ILLiOyCajp79mBbNXv7glCvF9CnCZZ5ZRA+WEPxFheabQeSYoUIBAKBQCD4tBPsKGX9mlxy9TMpm3IAACAASURBVOupPwy6bQ4s092tX2plz95KNPtKKN7hmdEJXIJPgLMeajaX4Mqq5MBzqa1oBIJ0CGWGYOasreSo/6jy71tTCMg0B2g3NHDg1UqklxvxnP1Ebjl1MqQ58rmMwhfsOOrMV27woyEvzU8GMb3UzYEH9cLMUyAQCNKRqcP0kGOCo4kFgisNGSnboAR/zczGUNbKD8tmFlZWWu3gwOtNGIL1OHuEfcblRxTv9+sJrmule68D/WUQuFqwsBABQAULkxFAaG4XNuIZCgQCgUAg+CQQc47LF/FsBLNAKDMEAoFAIBAIBAKBQCAQLCiEm4lAIBAIBAKBQCAQCASCBYVQZggEAoFAIBAIBAKBQCBYUAhlhkAgEAgEAoFAIBAIBIIFhVBmCAQCgUAgEAgEAoFAIFhQCGWGQCAQCAQCgUAgEAgEggWFUGYIBAKBQCAQCAQCgUAgWFAIZYZAIBAIBAKBQCAQCASCBYVQZggEAoFAIBAIBAKBQCBYUAhlhkAgEAgEAoFAIBAIBIIFhVBmCAQCgUAgEAgEAoFAIFhQCGWGQCAQCAQCgUAgEAgEggWFUGYIBAKBQCAQCAQCgUAgWFAIZYZAIBAIBAKBQCAQCASCBYVQZggEAoFAIBAIBAKBQCBYUAhlhkAgEAgEAoFAIBAIBIIFhVBmCC4NchCnPZ/c3DUUOFyERqaZfyiEr8NJ8+56KtoC81LFaSFHCB3z4+924zwUvtS1mVuiAZyORnzDyRcv8Lt/28V/OG4ntNXGfzy7n8E/wMWBXxB+pZX3z16qyl4mjEQIdLjwvCtf6ppAvw9n8xP8r631eD7tz+UTJHyomeY6N5fB6DQrwgdrqNofutTVuAwI493djLMnMvuihrzUP+wkEJ1dMdHjTsqf9jHRKDMrOYz4aXEUsCY3lzWmEpp7ZlnhFIQPNdP8ip856NWpMRLE+bAYCwUCgeBKQSgzBJeGkx4ae6KATKS7Ge8708zf56Z8RyMtL7jwDs1HBadH5OAOiraUUuqoofH44KWuzpwhv+ui3FRCy2ItOR8lrg/7n+cPr3Tw58/dzuKv3cifg+8zshg++OV+5H97Hz536ep8WfDOv1C6o56qXd5PbpKehnCPk8aWP/LF5QFqzEU0Hpn7Bcknh0xgdxG5hnI8A9PLGe2up3iz8xNTLgweb6FlISsBRiL4nixi/c4gOV+8AYDAs7nk5pbjnqzvo0E8z1ZQZMxVFNZb6nGfWshyBzBI4IUW/NOUu5RkaNFltFBiKsc9o0W1TGhvOX9zdwvS8hzkCTYDZi6HEdyPl9LcHUEG5IEA0RFpJpWdkMHjLbT0zPEGwHAId10JBYZccg0FlNS5CcbF7wvoll4JY6FAIBAIQCgzBJeKVRaqCzQAaAoqMd98iesjGE+/m4pv1BPe0s5bu2zoNbEffscfujrgS9vIqt/Glyqa+HLbNj6feYEPQ8fg+uUsvn6e6jRygQ/OneeDi/NU/nQZjhIdSrEvusqEo0CPZYOB7E++VknIhIJ+WKrn9u900vVdLa77Smg8dhlYjHzCXBgKEzx55Sga5xeZwK77KO/Q0vB6J9WF05Difg8V5mKq2ryEhpSyIsdc1Nz56ZS7lGj02Ha9RfuWMDV3luPun172cEcFxU+Gsf3wLfbco0eTMQ91jPwC72HQ3t/O0WAvvYEeKm+Ze2XGnCMHaN5cRM3+AJFhYDhCYH8NxXc3E5CBjGxMj3+6x0KBQCC4khDKDMGlIVOP3XmU3t5ejjpt6OZjMpbMsUZyc3OVf88udMPvT4CRIC1lNfiNDbRuM46eLJ87yYV34SpjHp9Try/KgEWc4aN3gJtXkjlf9erbz0C5hd+fnq8bTIco3p355O9IYX0hGXA4O2m6Q3spKpZEiOBhYJ0eHaD9xh7ay8BZVnNZWDRNHwnDI130BlqxLLnUdblyib5ZQ2kb2Nv2YF02zcwfRYkusVK77y1OBHvpDZ7grRYbOkI4n3FzhTnhzZwMDcZtrTQY/dSUtRCcqqvlqRbKd/gxPtVK9a2aydPPlHAIP2AqMCjjf2Y2mnkb2OeO8L820tInYXqiU1HCBHtovVcHfS00/mtC+hb+WCgQCAQCEMqMK4LXXnuNoqIicnNzKSoq4rXXXpthSRE8DnXBn7uellOx60FaCnPjyoDGI7HrARpjCoIxpsfRUx4aHy4iX/09f2MFjd3J09gw3qerKN1cTJGxcZTpd6THSdUWxU83N3cNBXdWUL/fg79ngpgU0SDuuhLlfsYS6jtCcT/i8KFGqp5xJ9K2lSh13uxixkbgcphgtxvn7macHT5+cXqCHd9RJte55BqLqHjWR3js5HU4jK+tihLTGrVP8ymyV4320R4I4N5dRenG/KQ0ySbcIVybY89kDY3HksofcFMef171+CbYkArtq6d5wELTU1a0YxRNw796hxHg6pzrOX/uPOeHL3AR4Nz7fHQO/kK3nM8kZxi5QPTsSX77y2P89pen+UMaq4rh35xW0xxj8Ozv+NPY/hm5wO9/9Q7wV2Roziv3/jB9G8YxIhPpCyhy1BMknKr9appAv4wcCRHo8eM/FiKaaqExHCDQDdk35bB4KEp0KJow9x6RU1tsDIcJ9vjx9/gJ9KUxcR4OE+wJEQUYmrgO8tmg2h4/gb7IeHPzaJhQPxj1OpQ9VQnDtiYql3hobAtM6Gv/6SWC+4EZKD3lxLP1HwsxuFA7d9hH8+MetNuaqM6bwU78MhvtHQ3Y8rRIGUCGhLawloYyCY4Hksz9UyAnZF/uD8b7MuX7dzmgjqmjxtnpkKHF+lQTloFmml+fgkPaSAhXXTPhTU00bU6jKJ0rORyRkQHp2k/aGmOG7x8AQTwvBWBdLU/dq1qsZGRjenwPtWsh4PYlffPFWCgQCARXAldf6goIZsdrr73GE088Ef87FArF/77rrrumWVo2+r/WQ3cQCBM4HYFV2dAfxJ9kBus9HqT6Vj0MhBITg9UmDOpOabijnKIdo4OSRfu8OB0+Qk910bpZCwwSeMWDHwCjmkom8GwxJW3JKgaZyCkvrjovrtilsgPYC5OSDHlpvNuJsy/2dwDXjmJYcpTaAonB4048x1M093MSN0yzhwCiR5op/WYLweHJ09LvpnxTzejgmUMhvG3l+Poa6HpeVRb0e6kpq8Ddl5w5SqjHQ2NPDvpgNYa3G/mb+5yMXgtECfW4qOnxM/h6F45VOkxWA5wMADKu7gDVeQYAIj1efGou6V4zxnRzVNmPa1cAw2NNmLOSrv/ey5nKf2REVUZcfOF/8FuAmx7n8/Wb+Ox/9jICLPrLG+NZLg74eP+pOi4OXohfO89y/vBQE0v/nxtZBMBJ3tv6IBfGKCaiOaVovldOTibQ206orjX+258e8/EngNte5Dr76jQNSaLfS823qnCfSpZKHdbdrTRsSFoUvNNC4d0taFfpCZ8KJmQ4y0xTxx4sSwEieB4ppOpN9dcXS8l/EcBEg68V65IInocLqPqogZ6XrKqbiUywrZzSZ/2jnp+UV8mBNgf6+I5nBM+j66n6wEHtYR+NryTqIOXV0rk3ZsUUoMVYQvOYHUVplYP2fZUYYuX1BfECtmVJbczQY3/cRssDTrxle7BkMYfI+J/Mp3SvldYTtZhiMnbWRYm5nsFHOnnrIX08dfDF9RTv0qn9puQPHWym+QduvH1RyMzGcMc/0PCYFZ3apsibNTzwdA61vkoMsYIiflrqGvmXniCRYYnsVSb+xyYDnPbhP2ui4VU7X4ilHYkS+FE9jbs9BIY0GO6pTpQ/EsH/4qM0HgYOl5DbpmQxPdVD6+Z0rhYyof1VlNR5mdwDf/L2ATDgx7mrmX8+pJjKa1aYsW+vxl6oVZRS0SCeF1to6VBcOTQrzFi3V1NdqAVkfHVrKD9cSechB/pkZeSQhwpjFcFtnbz1oJ5UhH/cggsb7fen/n1KpLC0kzQ5k2aLHKyneIeE7f4w7ldGv3+1e5uw3TRm0Ir4cT4zpp/qvoPjVvVZRbzUlP0jOTt7sGe6aa5rxHU8imatjeonq7EmlRfpcfK9H/wz3mMR5MxsDLc9RPUTNgzpjB8G/LTsaMQH+Lbk4gSUMWAPOf80jf7PMuPYZqDoB68RvHNM+jHIfheNxw1UP2NmfLWmI4cQOeLke7vV9qJBd5ud2joHxmylbc3PKV9cZ7xtYN/XS/XaKME3WmiJyXCWDvPmaqq3mRKK72ON5G5xKunzkm6a7nqMGb1/yY0KEegH4zeNo937MnQYN+nhSR/BiA1d7Md5HQsFAoFA8EkgLDMWOC+//PK0rk+G7hYzsWWP/8x7AETf8atKB4WwN6AoMfpD8cWx1mxAB6oJbLro6jK+J534022BnHXTGFNkrLDTfrSX3uBb1K6L1w5DgT4pdoNKR5IiI+lersPz4E7S56L8vpgiQyI7z4LlNj3ZqcxvVVcNXxqlh9xdj9MvA1G8u6rGKDKS2GRAnwFSjpb0TgshWjr8yIB2gw1z7B77vARGAKL88udxVQa2jUbS7red9OEeNmH92zF3u+Hr5Dzn4pqbgUVmrtn+fa7b/n2uuzsPCfhD+DTwV1z9ZTX9H3z0P7aDi5n3cN3//glf3t/Dl3/oIjMfRl6o4rfvJorO+OvH0Tz3b9z4Lz18+Yf/hxvu+isYbCf6uupP8pV7+OL3n1LWSF/bptx3+/e5bv3ytD0SZ8hL1aYKPJl22rtP0NvbS++JLpo2g/uR8iQLJAifDiCjw3B3LV0nkkzkh7xUbXOpJvLZmL/7Mw5s1wMGHLvbaXe20+50YMwCeI9gN0irdfEJdfDFYoqfHcT8lGr63NvL0X2V6E81U7IzafEx8muC3cARF94bqunyn+BEoIf2Mh3ysXrcSUq5nM0NHPAeVUz5T/TQ+YQJTrVQtTcYTxMJBZExodeN7hKpwIIt04une67Dk0oY1lkBN/6TiauRt30EgLDbl2ROHybYE05ShCrKzKJHncoiCRL+7o96Eq48HwwSHEgaRIa8VN1WSvOhoOIjrypAnc824vyxn+DxwaTxKIR7ZwkldR4CQwBRpfxdyrsTObiD0t3+KS0G4237cQXFdT50D7Xz1gnl2Z7obse+dmzKqbVPPtZM8cZSGn+s+vyjKIObHc34okDEQ4UpOSZFTFlcqvr/SxhvsyH1t+AeM9iG33ThxYB9QzpFRQR/dwBpiyW9snMmjATxvRpG2mTGOKlnhI9gZjVdR0/QGzxBT0ctJtlL/YNqzIMY/W7Kb0vRT/fdR/NxNeFHUQZPRRjsbqTkzhpcx5V+jx53UfONxvi3KPBCPgX2RjzHlGCXDEcI/LiekkfdaQL4RvD8Y2ma0z2m3/+626yY+ltSK92TCP7cjbzOyu0pXH+mLofKhkPhfUntJUroUDOl9zYTkJW2tYyLJWFCtzSCZ9vfUJwsw6pyvnTX7K0bJn7/QjjvXEP+jgmUNaprjF43/kuZk6MDZOQxlZy/sVAgEAgEnwRCmbHACYVSO0qkuz4pK42Y1YW5fDJEBJmA3wOAlKnObk/6CEYgEk7cw7xWmZwFDrao1hoSpu92qT7TR9mzWU04HCaczj81Ek64mxSqk94MLabC2P6rFutTnXQ+aBidb62ddp8yeet6POm3vjARwLC9l16nLX7Z9EyPsqCN75pPFRn/voRLjOm7XfTsa6Lp+U5+/IRpfPLjHlpUBYVU2KAsjnt7ObrbGi8vPHAOBry4D8ZmWDqsz6n91tvLiZ4u2rd+TdmFW6HHtMRIZUsXPbGyXrLHFRxyt6pkyjJju1d9VsMuvMcBOYD/oJpwqQNLiglujODbXuQkS5s4GYu5Nkfiqijw1a9zw9fy+OLX8vjiV2/kM4B85hdw/c1InwO4wG/31THCZq6tLeeLSxazCFi0aDk3PrSNRYvOIB86plhXsJq/fGATOX95HZkZsGjR58n+u/tZDPDhhfi9r8uQ+RjIMN6u3PdreXxx2XXpG6L2sf8HVXiwsaetEuNStV8kHZbv1GLLTCiBAMIhPyy1YLvHgFYibiLf9IgWjrvxxZ6nRgMfhGCpCfMGI8YCI8YCNU9/iCBgzlU1CGdd1O8KYXhiDw2bE8H6NHkOmh4zIB90Jo4JHAgreZ97i/aHjGizJKTMbIyFY+XLgHW7FcMyjWLKL2Wjv9eBDQhHE7P1X5/2wVJDYicy/iz1GO8A3zv/Pufm1dJaIxZkvG/HlCoRfvqmD+0my+gFWzSI/wjo7zSiA+SeRkrbNNidb8Xlvzd4lPaH9MjdHn6a5hSJyGE3nmEttucT+U5078G2FLLvb6XHn2TBQYCwtpa3Amr5/lbsS0He6yMIZN/RSm/vAewou8G9vUq6tLvCIwH+uc6HvKGB1keMyvMHpKVGzLeMTjql9o0EcT7RQhADjuR0gR669jmUMTFbj2lLbUKR1dvLUacdHWFcP1P6XDJacSyVcf0oeeEXxvd6ADbYsKSLgxH9Jf7DYL11FlYZ45AJ7KqiechE7bZUFgVjsVH9iBGtRoIMiezVNvbstiH1O3H9JNaaMK5tNYQKG+jsORF/Tie6mzATouVQcFSJ3lMaar0n4n3eer8Whl34VIWb7r/ZlXE1JhcnumgolOCwl1+kXONmY2nppXefHcUaQ83Xq1gYTbv/lxgwrZbxByf6bgfxvyGjX5ciqPA05JCzLqp2hDB/tzP+HekNnuCtZ8zQ14L3ZHLbFGuMRNuy0a+zUbvvLY7G8vrbsa+A8D7lHZoN037/xvWDnHY80+TkAH5CY8eReRwLBQKBQDD/CDeTBY5Op0upuNDpdClST4EMHYZC4CBwOMR7sQCCgPW7DfBoFS58BIIy2jMxew0LhlUAEUKnY9MBGd/OItbsnMa9s7UYQFEWvO0nEDVguDaMr1tVH2Rq0aYyA73FjFFdeOtujpcwishAIs6GTjvT8yWC+Dti7bNg3TBxcMfImUTcDrm7hqI1NakTJlm4cKsdxyZd3GpCytYpZr8AGKjsbh9lwq0pMGHGqZgB90fV+0kY73Sg3dtMWHU1qfzAF3fT0d5tmsCUWWbw/TDcoiOlBH14ho/OAmtuZLQa4Qwf/QrQLVfqfu4X/On/uwCWTSwZa7VyzXKuXg4XB95Hhnh8jeHfnObcwBk+OnGGP/M+F4GrPpu4y59On+TP5PGZmyZTYCQR9eHeK6PdZsU0th7SV9DfAvLZMOcAiRCht4kHy0xGn2cGnEmKuBDBwzLcZmDssk8OBfGjpXKZsmwLvukkgIU9d4zvUe1Kg1JuBFiWlFc3eskXHRwEjOjGKJjks0EC4RCht0MMoigD9UtiedX2GHQpLHoktDo9HB5U254C1SQ8LWUH6N1uGH9dY8S8CTyv+gg+qEc/9At8h7VYOyrJiXqof8NPZZ4RjvvxoKXyFmXH1H/IhQw47esZf9cUysIx7Unl2hCJyCzOSm6dlcqHjIn+yDJh3gjOtkmKT8dpP95hsGw0TbJIn2L7Tvtw94GhronKgqSnlpmNLi82EOiwbh8tS5oCG/ZbndT8KkwEA9kZeiwPGGiu8+Ibsijm86c8OI+D7aUJFAqRQUIYsenmyCxjJIr/+VLK92mo3LsH69KZFSPdasKKC9c7IZo2GKDPh/s4hI/XUHwwzbiahPVbDowxBUKGBpPZDK8knoKm0IFj1A11WO+3UdPtIhSGaR9JNO3+16K9GYIDE9gEyYMM9oNxZYqRecpyCKHDbgKECewsxjOd77OKbnP16PExy4htqxHnziDhCBjm7fgmHfbXT2CfKEmGlNbiUP5AJtUYOqWxUCAQCASXLcIyY4GzdevWaV2fHA1f++vYwiFIqDuAtx/AgnGdCeMm5Rf3ES+hX6lL9XVGvjaVoOqZ2ehX56BJp0JbZqX6Ib0ymTjeTEl+Lrn69dQfBpAwPWGfW9PnGSDHXUZyyJlVIHmJ7FV6cq6dXq7IcTfNj5VSvFkNrqovTbEwAlaZ4gsH+Q0fzp5YANSJTMwBzjHYD1ydpqPfO81FYNGKMe4dH77PyABcddMyRckxcEaJn6FfOWmbLg74+M9v/y3vP1rBB3t/ygjA4G/4GLg66T7DfT+HRatZNJ1TLPpDBEhYDk1INETgZHKwzASyrJjvSxmj05r0XxlXTPhsADChXwEQJXw6DLcax7tHpSB0ypeUN+l6rxfQo421vd9LzZ1rWGMupX6XV3X7UpQZ8cWOHCZ0EvRrdSkXODdk5qgKy7lGHUP6vQT6IHrEh3epFdMqLV/fYELu8BKQ1bYutWJaBXG5S4uWnDT+7Nm3OXCsCuNyrGeNXglwu6awAle/DvuWyRd3s2I4ShjImXQwmGL71PIMKyc5BUcOE+hwUv9wMcWmNeTmrqfmCPBRYm9ZcTfz4npTUeQGf+ImnGnDfOsEg+hQmGAaxdC0GQnj2VlC6X4tta8fwLF6FoO3pBn9Tg6FJ7QCSCj0pk60z4fr6SpKY2PrfU5AHh9Ud4pMr/8lNNcCp0Np3FqAoUHFzS3V93PKcgjRgQl7LvWGQTIjMuFjbpx1FRTfqQTqXr9T2diQP5r09vPLEi1GIBgaHyRcGZdz0KQ4Nnz+xkKBQCAQzDfCMmOBEwvy+fLLLxMKhdDpdGzdunUGwT8TZBtM6PERxI93v6RMGtcZ+ZpGA39tgoM+5DdacKq71Amz1+vJie+8abE93051oTa+AJSHwoQiGvRpd24kDFtrcRwpobkvm2w5ogTzyzPz99/6X9gL5mbLJ3Q6DHlakGWQpjfBljKBYQA/wT4wrEif9vqcxIJEe88e2h8zo41ZBwxHCfcNolmdDX1a9KD08xEnLR16qu9U3RGGwwT6rsGwOpvom1UUPKK4/Jjqumjfp0ODj/o15arVhUw0KoNGStoZDEB/C82vqPdda8E04VGLi9FMMB8+P3AGyOPq5YtH/5BWyXEBGJP2w9N89C5w+3I+O3Ka8Hd3cPGacm5oLSVbnWj+8VAVkV8mxd/gd8in34ev5o4+KWWKxJQRoy/+O8HDID2kxraIKT6WjV9IBo+4AatqgYQaWFOLY+VYmYwSOh6EW22M2tz+ILX5cyjoB0zolyl5FcWHfnReIoROylCo5ysZqLFYKnBrKjlw1BEPUBj5cTktP06Kj9EXxAeYU+3kAh+OyHCrjrRhGfOq6e2tTvfrhGQXmDFRgy8QJOfnHrTWTsUaqNCCeUcV3iNWdN4w0kZj3LJFuhpYXU3Xj+zTO6o5U495ox4XoBsKEhiA7Dwr/7CzEuuqGSygR6ZhbJ6pQQuEwhHIm3h8mlL71PICsTEqFcN+6gtLca9w0LBjD5VLc9BkncP9QAGjbBRUd7PSlzwEv2HE81IY7QPWiRXC6v1nTTRAyzdLacHBAa8jfRDNKZc3yCAoricQ34G3tJxQ3EFmSWh/KcV1g1jqaqndqicnS4Pm5CSWSQATLd6n2f/yR8AKbXojkExNesXcNOSQxRJgoTXQMN5abVJk/E//DaUdOhzfrWXPI1pyNBrOvV5OwY4UyWei3JjO+zeWJXoMS6G5w0doc9KR7yMh/AeDsNqKLkUnTjoWCgQCgeCyRVhmXAHcdddddHV1KTEjurpmpcgAYIUBs6qU8B1WHCBMG75ONjFFB9AfIjQMoMV8S2yxpAY+AyCM6+HETmlubi5rjOsp/qcJgusNeakyldB8DGzPdKv+yyfo2dc0e0VGktrOV7deqdPDnvS7YCnRoY+fohKk8Ylm/GejRM8GeO3/9Y9LLd1qxqZOFsP7K1hvSPRFriGf9Ztb8EeBFSas8RgWIdw7ismP9ZthPSU/+AUR4IKc6DlfXRH5a3LJjSsyAFyUv5jYdUsOBBrDfK9lksWKhpwvS/BOiBQH4PKn0E+BleOsI/545h0gj6tj17+0kkXAxaPHGBv/9Pddr3CR1VyzfjX8/jQXfw9/Yd4UV2QAXHgvOf4GMHKGj3qTLD+SiJzy4z+Z5kmu0GMC3N3+ccqE0I9acGGg2qKe9nI6QDhFsEz63bS0yei2WeOncyiBQsdbUEBICeB5c8y1Q4NurR5OevCPDfA67MO1K4h0jw1zdqq8sbb/mtBh0K5VlS6DQQJ9YPrGXaMWie+NiY+htMdIilh4ShtCfsiZYIE0G5YYMa0F35vNuA9qsa6LndxgwrwBXE9X4TopYYvHw8nGsM4AJxup2OkmGEk8LTkaJvhuevN7uaeRkl06mvYd4IDvhDpm1GJdNcOWDYYJAYND/6X8PTLB7vwKA6ZM8B386fijlkcxxfatVCyqAs8oR1nH7ytHCB1Tj+s95cM1BLpCM+ZVWjRZEvLZXxIMATIkDgVS3c363Xh2eXANG7D/90kslHK06PAROjtxsgnp91Jzdwme5Q107Z0DRQYQftONBy3WArX+q4xYM8H9aCnNPeFRRyJH+tIcu5yWCIFuPzIGTBuM6JZo0BAh+I7qvjnBglyJGzVINOZ+Npx84+n0f5jwKdB+boLO0uSgzUxtdTB1OQT9LVYk3FSUNeM/m1Tf4QihU+FJ4kYE8e2Nwgoz5tv0aLM0SHKYX76jCl/s3qpyxdXhIaJek8/6afmBO025SUzn/RvfOkx36+B4IzVtAeVI35EogbYaGo+DacvtKd0n53UsFAgEAsG8IpQZghTo0K9L/luPKeYIm6ToUBi9oJMKqmkvmyBex2A0vTKjL4BHXfm6HliTWPjn5rLGVEzFs24CMww4nn2rebzX/bTNSjWYyyrjkyH5WAul5nzyzSU0d6eYAkpGqtvsqWNPADBI9ByAFtuuCXbJ/Eo9s9dZsYxJo9vWyp7Nia0+KdkIIsuM9Z7k1GbMBZNP1/QGKxzxExz3oH7Hxb4LkLtyrK2FonxIdgG55q+41rIcfr6D3x44ydC585wfPMPA3m8z9Npp/uL+Or7wJeCa67lqEfz5/7Qz8JvznD/3PoOepzn3U+DaxXwcW5ldVAKBftx/VinrN2f4w4dAv4cdW0op3VxAxcEUgdZJ/wAAIABJREFUkiWZsG7TIe+voOLFAOGhKNGBEL4XSil5MojpqSZsqvy+d9oH+GjZ5SJwNkp0KEq4p4XSzTX4VzlouDexEJHlKBAm9G6E6FCE0Fn13gMhgsNgWvmleFrdJgeWzAD136rH0xdRyj3momZLBa4ldtofMykKwBR5ATirROg3xCxGMjXkZIKv7QV8Z6NEh8IE9tdQvw/IkuKuUO+d9kGmAV3KOAVBAofSu6DMHq1yFOJhH75MM8aYRQsaTLeZoS9ECCvGpFN1td9ooqFQItRRQ3FB4v1fkz+xEvTcQBiZQcIDs9jRTWaJDn0mBJ8tVuqgX0PNoTR3l4zYthngcA3lO1W5GQjha6ugZkwcjim1L0OP/Vk7uuEgziS3mdw1BRRtcSmneaw2YVPrF3ereSxEzjoJjtSw/tmkmEGrLdjXhnG2udKegjGKbD2m1crx2+nxUWPKHTU+K//KcQ9AxO/G3QehjirW61OkMzSniGqUjJvmF3yEBhKyXb7Th66sifgpzLGxdThAiz2pn/RrKNhYgSfdyVCpG42x0AC4qTDG+rsQt2zAADjvU9qVMqdOj0SQxjtjbavBmywqU+1/NRiuadVEsa70GO4A/5Hg+HdhGnIY+0Yr36+k76yhgKJveZg4dLge070SnGykeE0sXxWhG01I+KkpVANkq0o5+cdVFMRk1FxOQEoRY2csad+/KZxmAujvbcC+Qiawq0TZFNDnU7IrAIUN1N6ZalNkvsdCgUAgEMwnQpkhSIGEwWhJ/LnUnOROocd0d9JW7yYjBmlM3u1d9DirsRQkJgfSEj3GO6ppf3oCy4AVhnGL9RjyQBBvWw0l9445nm+qLLHS9Gotlrxs1XJEg65AQp7OGYwAqxz88CU7+qR6Sqvs1D5kTJlcyqumy9dO9R1GdDFf5Mxs9AUWqp0NWGKL/6VWWn2dNJWZ0S+RRqd7/n8qpzFkmWnYW41piQRoMJS18sMyE+YnDlB9mw4NEiZd8kJYIufGpN6+x4p5Mn9oYqdRePAcHtM5I2cU95CVy7lh1A/vc/E041xAPn/3i9zwdzfz5x8/yO/Lb+e337bxwaFzLLr/Zb54+40sArjexGcf2MRVv+/gg0dv57fl9/MB96ApyYOB5zl/9LxS2DV5XPt3q+HnO5SyHt3KuRCw1ELrvmr0gC/NCT76sgMc2G4gsKuE9cZ88k1FlL8UxfxUJ3s2x/onTOgdICubP75RT4k5n3xjPuvtTuQNDXTuq8SQ9Mx1tzmwrvDRuLmAfGMBRd/zKVY+Z0P40GJIdj/JMtP0ehNWyU3VxgKl3C31eD/noH1vdaLcVHmB6OkAQfQYVqpvk8aM42kruj4X5eZ88o3FOLHT8LgR6WQjrsPRRHsKxwczBZTjd/sNWNfNMFDwFIgd8yxtMWNIDlq7zoIF4B7TaJP7DC3W57s5UGfDuEJta2Y2+tsqaf12+tgX1y/XocVH/cbRCtD8jaVUtfnjO8NTx4Aj/p6BtMSANoWffbydW56n/REjgx2q3JiKqHrHiHXzmIRTbJ+UV82B15uw3xYbPyWyV5mpdD6kWAZJRmpfb8K2VqP8VljNgZccOB5Qro2OF6Hl9i2KfZb5DvMU4ljqMJi1hF9NPkJ3jhmOEp1wDI/i311OkSmffON6Suq85DzSzg+3GUY5ikl51XR6W6lMOhpbs8KIra6JuyYP1TMK7TdaObDdpJSTZcD2XBe1D9qp3W4iOzN9vBbWOhL5kMjO046R06n1f/SwB89k8Uxi3+WDHnwpTgSbshwiYdjeyVstlZhXJX8PbdTuumtcQOOxeY2Pd9F0jwENIC0xUf1qK44yu3Jttdr+DD32FxtUGQXNCjOVP+ymtUyHZoWenAndyKb3/o0j00D1qweovUOpI5nZGO5poPM5K9pU9/0ExkKBQCAQzB9Xffzxxx9f6koIBDHC3Y1U7XROaIFh/2Ev1bfOzf0Cz+ZSMsWTDExP9SSOiBtR41Mgocmavc/2XCIPhJFztGg+8FFvKsc1DCBhcx6ltmAqdZUJPFtESbeVzoOOCU4+mRoXL55HVi0sMjKv4zMpyoulueqa67h2kXLtT8Pn+VhSjmuN1+zD81y8CLCYRdcvRgLkY40UbfFhfb0Lx6rxZScyR4mqVguSRpMI5gkgK7FHAk900blFqz5bFD/1dF0Wl4FJ0iXfZkg9cUbSoJm2v/rYwtT2JN1bjkbh2jFtG0cE9wMF1Gv28LPnpnJU5mXOUBDPrhqqDoaQhsfHJtGWHaBru2FcUNc5J/Y8MiQ0UxGGTwQZ/5P5lHZYaffXTi2A8oCbclM9mt0/o2nDJysdkY5yCnboaD3qwJDksnDZdOe0mUL/ywEaN5bgu7uTrgcncQOaStrLUg4vV66wsVAgEAg+hYgAoILLBJnAs8WUtIVgQxM9uyxkx4N3yUQO1VPwiOJvOzgUhUs97ci4/JQYClG8T6+n6s0xl5c6sE75KBgJQ1k1ln0VVO0y0jnLheCiRdexaNH003wmc/wRrNI11yFdk/hbftdFRZkb/TOdEysyQFEgpGtIcrDMDKb2bGcgA1KWZu4W1SnaI00UvVUl3LGD+sMGqt+4AibvAx7KN1bBY12cqNONVuIMh3A9UkT96RDn+ASUGRPJ16ViyItrr4x0r3mMBd0ELLFSuc1J8eNVGG9unfFxqrNBo7lC4hdM2v8yge/X4Byy0XrvFE5ckgw4HrPgeqSKxls6qc5LUejlKIeXKVfUWCgQCASfUoSbieAyIYi3TXUTOB3g35MjuMmD/DoWjC3TgvlWMe1Iy4AXz1hFBhK2Ovv0LCyyzDS02aGtlIqOVKFALz2Rw/UU3+vHtO8t9twxuzMYomdDEwbLvFKQjzVSvsOPMSlWyIKmP4hvGKLhMOGh5DEjSviUF9/bIC3TMh0r9QXPcITwEDASxf9PzcqpO3cap6XM0Ze10mD0U1PWSGBsBF/BxEyj/8MdFZS2gb2tesoni2g2NNBeBs6yCtwTHvcrmIgrbiwUCASCTynCMkNwmaDH/JAO5wsh6HNRbnaNT5JpoHJvw5TiPkwVw/ZeerfPXXmXHEmH8Q4j4cN+QkOKr7K97js4JvTFTlNUXjWtu6OUP1JESaSd1jKDclzsZUJ2QTWdPdIkLhVTI9TrBWxpgmVeGYQP1lD+qAfNtgNJsUIWOGstVK9y0dhWTlEqd7EVVvZsnd5CfqETPfw91qtHOANIm/ZgWz1BhlRkaLE+d4DBshJKNkdp+qcGLJMFDxUAU+z/kSiBtnJKd0Wx7G5NbWGRFgnDtlb2DJVTsamEwZdbcawVCv7pcEWOhQKBQPApRcTMEFxGyIS7XTT/i4dfBIJEhgE06FYbMW2xY9tkQPtpWpVcJkSPO6n4phfzvgNX6A5WlMB+Jz5M2NXAdlccQ16qNraQ88xLVK+b5THHlxsjEfwvf4+WDh/+vihKwEwTt99t46FvGBPuap8SIj3N7NjhxDcgobujkj11NnQzjc8yEsZTV0F9RiU/qzPNu1IoesyF82c5WB8xT3KE9OXLlPr/VAtFW4PY9jZhu2mGvToSJfByBeWHzBzYZ0P3KZPzGXMlj4UCgUDwKUQoMwQCweSMAGKyvLARz1AwU4TszD1z1afi2Uwf0WcCgUBwxSCUGQKBQCAQCAQCgUAgEAgWFCIAqEAgEAgEAoFAIBAIBIIFhVBmCAQCgUAgEAgEAoFAIFhQCGWGQCAQCAQCgUAgEAgEggWFUGYIBAKBQCAQCAQCgUAgWFAIZYZAIBAIBAKBQCAQCASCBYVQZggEAoFAIBAIBAKBQCBYUAhlhkAgEAgEAoFAIBAIBIIFhVBmCAQCgUAgEAgEAoFAIFhQCGWGQCAQCAQCgUAgEAgEggWFUGYIBAKBQCAQCAQCgUAgWFAIZYZAIBAIBAKBQCAQCASCBYVQZggEAoFAIBAIBAKBQCBYUAhlhkAgEAgEAoFAIBAIBIIFhVBmCAQCgUAgEAgEAoFAIFhQCGWGQCAQCAQCgUAgEAgEggWFUGYIBNNBjhA65sff7cZ5KDytrOH/n723D2+qShe+f1ppoEAUaUfQ+MhDzqQvGepLhL5WeoY45SIDHHqk0yofHaj0QLUzwDBQ5dgKAx0Rqoj1oFQrVlBLUdKDGl6UeETiDDYePsIrEA9I+sAQoNpAacDS3VL3+0eS5qNpm5YCout3Xb242Fl7rXvde62197rXve61rYC8Cof/QrWZ4peKMVf3sIwRIh0yUvxSOVbX9Sn/x4jrgJHybQ6k6y1IixPL+mKe/vdsCrd1rZ0JBIKfEk7MLxVTWGm73oLc2LislOQmc298PPfqp1K82329Jbpi3PvKKV5pwtF5UkGLC+u6HJJ18cTrkpm6xsqN3wIEAgEIY4ZA0CVc2/KZOD2LrNwCig7URnZTiwvLMxMZu8RO3B23tl527C6hZJ0bxV1XSdhOsJkKKPnAjTL2+pT/48PGO7MKKFxUhPl6G3hqrJQ9X0J97P/GtmQsE5+34m65zjKFxUF5dhoFH18DhbktFKanUXbg6hcl8HENny+AZKVQF098fBrlYY28Loxz4omPj2fsOnsH+VgojPekK9oX8tM3JormTiQxPp74+HtJnjyPokobrnb6l7vaQtmTWUxM8uQXnzSRrCeLMe67VoNELbZ1Je3o41oiYXtpIvG6HEw111uWruLC+FQWxTtdSIBUY8PdouhiHpH2hWunp6bjFko22K/bpFw6UMzE+HvJ+SCSvnCNx5IQXO/nk/WSBVcD0ODC5pboagv4seB4O4u0JWau92fKjcilmn04n59P9axkHNOSccz8V6qfeZnTB89eu0WsC1X848+zcB65VgX+9BHGDIHgqiJhWzOTnEoVK97fyuIUn+XAjeOAHYarUV2XN6oDx15Ap0Z1PYq/njS4cdeFe21p0T+ehPahVHQDrrlUQUgOO1ZUaP9lCVvfX4FqUxZT19iuv8dIG9w4d9up/f4aFNVQi/OQndofpVHnp8o1fL6A9KWZ8gYFihg7ZZ90YKwAnEYL9vYMEJ+ZKA+X/74i0iblUfaJwzsBlHB9baYsfyrJ6WUhK9wS9tem8s8Tcij6wIqjznu5zoH1gxIKpieTtkGsid8QuKowfw6qRzeyx36EI7bdLBjV1Rfvte0LPz2up/5cVP2XBe7KZuOeIxyxf8XuPyXdsMYMd40Ve43wK+kaTZw15XP6z/OR9u9DbvRebj6LfLiCS8/+K6fWWDh/Lb4vGs/SUnMUuekalPUz4ZbrLYBA8FPG/XEBWeshe9NaMu4J/MWJwwaMU6O+LoI5sB0C7WQ1yutR/nXDjXlJIvMaVrO7JJVgpxQFusc2svU6SRaI42sLoEc7FFBksHa9g7TpWRQk/J3V439eT0zwc8GN5YNyGLGUxaOKKHzXgn22Fm1U25RJ4w04Py7BdCAX7cgw+XxkgrtUqE4FbtFyYnyuDEeMnqVvP0vGsFgUUSC5nTg+N1HmSgoai52V85i6xgbDMli6JJeMESoUUUCLhNtpx/xeGbUjrsvofZ1QoPvTdo786XrL0Q2cDqxARrIOZRQQE3sV33s3sJ66iGLEArYfWXC9xYiAkziswENJ6JQACmKv84KF4Npyfkc+5zdVQe+RRM97itsTBtO3F9DSRJ3dxIXXX6Z5Tz7nNr5GdPZwYq63wIIuITwzfgJs2bKFiRMnEh8fz8SJE9myZcuVZeh2YKkoZN5kz/5Snytuye5gpzbpaxPFLxUyLz2NvG1O3F8bKZySSHx8PIlTCjGf8qRz7S4hR3+vJ5/ckjYxGtxfGynMbuv26wxchnbbMT0/r62r704r1t1WTBXl2NxubBXFFD2ZRVp6HqZv7JTlJnNv/L0kzzXh7ELd/JV0Yt9ppOylYsoqLVQdjXBrCUCDheKnTKgWrmbxyJA1AJcD2ylIUquQXA5su61Y9zna30rQIuGqtmHdbcW62x6smzblOrHv9ujFVt2O9f6UAxuQpAn5GG9xe2KC7LZiPeRECpUnSA4r9hNhBGmRcB7yrmS25mfD0c2FhFb97LZiPxW+4pLLge2AE8kX02S3zb+SGkiDDdtOiP1lHNF1btx17qA6Sm532Do7D3l10t4z6kKdpRP2Vv3Zql1ty8ON86gT7tei9jYbxcjFrF6owvRcCbYfn3tGj2J7Pp74OcYfpQvtj1m2K2JfEfHxORiv5/aBOgumbaCbrCczJRPFKSOWr0MTncTxOSiSDWTcJVH+kbWtt1KdBfPHkDkrGzVQW+vrhLU4DwDTc8kc7jFkACiUKrSTcln9qDYgDzPFz1ggZQXbK1eQOVLVmp4oBcp7dGQ8sZbcET2rAh/SqcAxovZH6JF1lagxkhNma9AV0yIhAYq+EazF/xj6wo3Mj1R/UgPQV3njeGNcrb4QCYHfM5Lve7Kdb6pIqPN+nwFu3/djuO/Lq0VDFe7yKrh9GspX/oO77/MaMgCiohmQkM7/enETfeKjkT9ZyblveqbY2rJkHEu3cb5nshN0hCy4oXnvvfdkjUbT5u+9997rXobHt8gzR7TNz/OXIC/6qL41aa1xTutvkx+fI08ITT9+nfzhu3PkhNDrj7wjn/Tm0bh3Vdv7fH9/2SU3yrIsO7fIc9qVyfc3R95yplbeMtv3/xR5wviE4Ly6UDdZluV664vy5I7KfW5/h6o8uWmKrBmxXK5qDPPj3lWyRqORJzw0OVg/98+VP3SGpHXukPMfSggpf4Kc/9HJkISN8uHXZ8qjQuRMmLZOPvx9cMra9+fIGs1MeUtAWbWWVW3qG3Rv7Yfy3DD6GDX/Q/nk5bZ5v/hWSH4jpsjvODpUWTCXT8o7np7cpv1MeGpHUHmyvF9+cYRG1oyfHCL/KHnu+z4d1cofzg/Voa/dBMrt/78sy3LjwTfkmfeH3DNiirzuYPBDjazO++V1oXlpNHLCQy/K+4Oej7c+z1YF6+P7XfLyERp5rim4nV45jXLVXxNkjWa5vCuwWsffkadoNHLKK4eDUh9+NSVAT/vlVRqNPMdYK8vHd8mrHh8tJ2g0csKYOfI6a23bor4/Jn/43Fx5glcPCWOmyMuNxzz9/HK9fNiY37bP+frZmS3yHI1GXrVXlutt78iLHhnlaX+PLJe3HA3TyWqr5DeemCKP9uY3avzcYJlqd8j5D42WX9wryyc/Wi5PuV8ja0aMlucYQ/tVBLK1plkuzxw/ytuXJ8gz/7JFPtzZ4/KOBav2dn691rpOnhuQ/9znPmybf2f1DqHeviXM+LJK9tSsB59vJ9Sb5vrb1eXD8rrfaOSENmOsX57Dr6aEHV9rjXM8149/KM/xye6998URGlkze0vI+BFGlo8WyRpNirzuYASC+8r9KF+ePOZFef/lk/KOv0yRR3n1tOW49/e/vyEvmubRn2bEaHnKE+/I+0Of3ffH5Hfmj+ra+8a+Tk7RhB8XDr+SEtSvO5dhv/zG7ybIc421cuPBN+Q5YxJkjWaUPOWFKrk+sI6B9e5CnvKZKnlde23oTJW8blZo3YPH4zZE0ufOVMkvTms79rfpb3LP9YWweoqk7wYJczioL40aP1de9Wnw2OT5BlsVVI5cWyWv++Nkb/9PkEc/NFde9fob8qonZsqTH3lDPhyQ/5a/zAzIf6a83HhYrg95t3bUHgLH0J7U3/7XJ8sT5m+Ra78/Jm8J6EtveN+7jUe3yMun+e9/42AHI8zlWrmqeErb79Dn9ndev+7o6egWefkjozy6f/wN7/dTo3zMuFyeMiYh5Ho7dNIX9j/nGcdqL5+Udz03x/OsR4yW57xSJde2Gdsa5WOmVf62N2K0POUvW+RjHZbvedfO/WvoN+Eoee6mkPH8TOD7JkEePW2R/I4tuGHvf04ja363XF4VMrYlPLRK3hXmNVJrDRhTNKPkCX9cJ1cFvro7GWtDufD5MvnY1AflE/8tdVBpWW5ybJIdU0fLx8qP+MuqeFR2rDDJdZddcs1bi+RjM0bLx2akytVv7ZXPt/ceuXxBdn38rOyYMVo+NjXg7w3vC+U7k1w9dbT8j69k+cIho/x/Fho8vy98QT7laCtj09m98snncjxlTx0tH3v8KfkfNpfc1GFtfl4Iz4wbnDfffLNL1ztlUBzqhvZ+lDC96fVwCMG+09I2onZ1MXlLLG1XlQ6YsZ4CcGB8NnSfsh99wq9QIGF9sxBLA4AC/V8/5ciRI+wpy26N9aAapkM7PNTi7sRR7S85SatG0ZW6VZeTM7MEu7fc2JGppI7TEhux75kL604biumpJIVZCnA67IAa3ZSlbP/Ks4fz05JM1HVm8haW++WoM5M3aR6mmGw27vyKI0eOcOSr7axOB+OfcigJWLm0v5ZG2vO1GJ7d6tkXfOQIezYtQPt1MVOXmIOChJ08aoEYHWpv8FFpXxEz55SjeHQju7337n45k7h9xRR+4JNGifaPpWy37OEr+xGO2D6ldIYa98d5FH/iz/2Y3QJYKf9MyeL39/CV7St2l2WjbrB1ISK/G/OTE5m3TUF22aee8uxfsf2FDKicR876gP30pxzYGkCty2DpNo+OvtpZSuZQN+Yn8yg/ARCL4a9/Z/MTWkBH7ksb2Vi2kY1luSQNCNSJFvUgb75fl5CWXkRtygq2Wj06OWLdzIJhdopnFGAOWKWItM5x6SvYbPbq76vdbH1aD1+XkPd2QH1qHNgbQK/9p2CVxOhJna7A/EFPB/5SoBuTARixHvJfde21YCM0NoET+24nDNejG+RPW/vFi0ydnENZa4A9C8Uz53p176XBRlH6RPLWm1tXeKQaG+X5acz7wAUHy5iab/T2ufZxVBYwdUohpgOeNuc+UE7BI0VYAweaU0ZyxmVR9IHNE/ANcFebKZ45k+ID3oSX3dR+7ULaW0LOn8qx1QENLrild9tCO5OtxYlx7j+Tll+O1ecNVefAWlFAmmFejwQClA4UM3NmMeaA/M3r8zAeCKh4JPUOwkbZ9AKMX3e89t8jz7dDnJjeNsP4VAyDgCgt+gwV0iZT8HMNQDsuG21DOeYvpaB8drxnQZFuQHePKmQLnw7D42r4vICJKTkUVVpxuMJn7jhoAgzohnUidiDf12KvkbCuz2FehQ03INWAoi/Y1iWSnF2EaZ9HfzS4sH1QyNRFgV4+LkyL0ij8XE1uwJj3aVk2uo7KHZZK9ggwvx3ybm6xYXrdiWKGgSRFpDJA7SEH0rdbKJhRhKVGAtzYoxSebRneOvroSp7uo2+QMyEwCGdgG3JhWp7VtRNGIupznnxL9oU+Z33ru89PD/aFED1F1HcDcZmYp08L6kvuajNluVkUtalLAHVm8sZlUfyJ3dv/vTFhni+i7AMr9gNeL59TRnL0aRRUWAPyt1Ken8bYhabI24NvDO1p/dXZcTjN5KdPpKC1L1komlGAcVsRaZMKKN/nv78o5H0cpMpt+WStaxtvSj/07s7r10U9Of8r3yPbAbdH9zuLmLrEiOn5NCbml2OrkQKum9sJ3BphXzhn5cUZE8lZ7w9qankpi7nvBY4CErbn05i4qMzf9hpc2CoKSFtk6vQ7wmJXeL5n7Ef4avdWlqZImJflUOxrgwdKSNQHvm8kXPtMFE7Ja+uZc8iKe8xGdtv837uqr8vIeSp4rHBW5pAyM2BMwY3jk2KyZhT7vVI7GGvDcekbM5BKdEJ0h/XtNXQk0f2Bo8ep916TG44iu49z4a8ZXNxeBc1A81l+2D6fs9vPhM/ofzZxfsM25OYOi+PyJyv57pk1tJy+6LlwupJLy17m20Z/muaabTgXzEfaf8hTNsB5C01F86k5LIJutHK9rSmCK6Mjb4XuUSt/OH+ynL9pv3zSa7ltdLwjz2nNd5G8w2t0DfTMSHl2l8dSffmY/MYjfhnmvOm1YNdXyat+E7oq4rHUazQaWTN6VesKW2N9rXxs7y758BmPPH5vi4BVmstV8vI2K1aBaTVywuPveFY+LjfKjZe7UjffSrW3Du/6V0MC69yhZ0b9DnmRRiMvt4RfMah6ViNrfrNOPhxy3bOSNtm7mu+VY8RyeVeoFb2xSl4+QiMn/LXKYyX3rqJPeetYm7JObpoiazRT5HdardYn5S0zNLJm4Q7P6sPlw/K68V5Lf9Cd3ufTUT29Fnz/6qc37/kfyiG2+c7zCqze35fLCZqEMPrz66R1Rda6yrOKag9JetCzYjk5QCf7ixPC6r2NTuST8juPaGTNI+/Ix0Kt7z5dbzoZfG+36hwmTXv1kWW50bK8rQdFT+Btrymv+jTj6UspCxfJczQJ/lVMbzq/Tj3yJzyUL285WOvpZ5cb5WObPP3E3y68z+2RVXLV8QDhz1XJL/4usO15+3A4nXnb2qhZ6/x5XK6Xdz2bErLS6nl2KQu3yIdr/WU1Oj+U54bx9NBoJsj5pmNe2evl+nZXrNqXzeNVoJEn/HVX69giN9bKh9/yeKa19tNwROiZsb84QdaMXi7v8jWyy41yreOwfLI14wjrHa5m4VZ4PaX28PNtB2+fCvIuOLhOTtEkyMv/Hqi5gNVdXx8N7HfH35GntLbXwLQ+nYXxsLl/irzo9eAVzf3Padrqo7W9hFt1Dng3jM+XP3R4ZT5XLzfKslz/6Tp53afH5NrWtnFM3vJ4gqzRzJE/9Im3d5WcENbDovNxxNP+gscMzxjq9y6JSIbWd3KCPOXV/d53eqNcX98YUEd/nbuSZ+dtSPa2+U68MYLqHGGfa6+PheHK+0LbPDrvu6Eck7c89468/3i999tFluv/7vFiTSj2SxZajsdDMEVebj7Zel+jc4e8/DcaefSzu+Tac42yLNfLH873jHvLPw1IV3tYfudxj+eAv8913B4CveV6Un/7n/N4Nb746bFWD4h6yyo5RaORNffPld/Ye7J1vK56bkIEz7a9PtRR/bqup4RpL8q7HN6HHPBuGjX/DXm/05u2vkpeNT7M+BJKB33Bo5/Jcr7xsOwb6lu/ZQN5LAMEAAAgAElEQVTGWs8YMEVe9Xe//PLlermqeHLH/SzMc5VludU7tPU7qX6XvO6VXfKxM773caN8zOuNPef9kOcZ5h1w7K0pwePW8XfkKZoUedG7/nrJlxvlk+/PDXrGHY214fjujdHysalr5e/a+d2PSz61ZLR8bIlJrgu8d8aj8omPj8j1XleIhn8Y5eqpwenazeuNMO59Xs+MY/kb5JpTktcz9YJc82q6fMzrseHhtOx8YrR8bJVJrq2TWj0xGs7skP/P1Hby/pkiPDNucNTq8AHI2rveObGkrtnKimk6VF4vBMVQPYb7fb+7cYdZnVRrfuUJrBWlRjcq4HqC1nNd+U+0FUlN0jTvRVcZWffeS/LkNPLWfIgNNeo4gP6o7vG5Nlix7vXYcN1WCxbvVZ0qLkw9tCx+IhOtEohSePc7R1o3O9ZKnwk4lYzx3Tjvw1WLgyS06nA7NL0niYzRtgn+qR1pAOw46wC3BePbEqrHM9CHeoQo/gntKJBOOLkA2D8uw0Yq2Q+1fe4qjQ6w4fSZvyUH9i9BpVF5Vh+OWjBWg+oWO++8VExx6185NkARaMz2xczwxhEpXm/GAaji+gfnrQ0JLOqupRZIuifcswrFjeU/y5HuyiVjTKj+FPzTsCRocHp0BDiOWmkNlhnIMB0GCIj67cD+uQTjdGhDkrbRydcmyg5A6qxU1KEBCO/RogNsztpu1dkTM8NEeYCOtYP8d3rqowuzcggKlRotTmrb27u6r8gTU6a9v+fb8YxRJmGYBM53LdgB6qqwfK4iY9YCDGP8sQmkA1ZMqDCMCm5nSTP+TIYvDkGUAvVvDOiDKm3F/LYEB8rIMtzrlycpi5JDdImMP+aS5BsTopToDYbgBNUWjAfAua2AtGR/Wfem5GEOk5/+r6WsmKT2yq5E2eXIX26sn5nhrgWsfkrfOragiEU7Yy1r00GqtNLx2Rydo+yrApeR/MWFlFV6Vgpjh2r9pyF1sd5d4Wo/X8fnRmwYMCQH9KDhek9cjE/CxMUAQIV+sg4+NmOpC8jnrlxS24tlEaVEm76CrXu/4tPKUlb8IRWdwo7p+SxS5hpxBu3hdvjHzIjRs2L9ClKHeh/KAI/HoDIll9wUtd+zT6Em49FMwIrDu5Bq32tGIpXUMV0PTakcl0lmjBPjZ75WJmH9pBxpRDapw71pIpDBh+rRUjY+5g2WGaVAqQwfaaAreXbahrrEtelz4ehOPTrtu21Qk/FEJrp7lK2xWpTJmWTfD9L/ODtZUVdAmKC5LpdE9AAFuK1YPgbVn1azNMUfC0YRqyXzhbVkIGHcG6y5SNtDJESsv1EZ/D5F7SkTUI4xYABIzybbF8MmSklSembb93kXCVu/bugpKf336Id6+2/AuyljZja6u7w6UyaRMf1KJQZGZfLndC2xvrhaQ3+LYUxgAu8YgI2y7LHcq/WOydpEsjo61rojYpLQPwRss3k8qpV6cv+gRz3I9z5WoE7PJhOwHj/ZaXbq5FS0OLHZPS3a8x5wYlqSRvK9PnnvZeyTYd/cYcfa9mmipbHDBMBZfqgBbo7mpsDLQ9JR/laD0htno8/dD6L4ZafV65ToqVnccWe0R+6oftwx+sHgBCe/QDoJHFhJfe5v+Mc0z3Gyp/+8HHGoWzDiNJMbnFmzZvH000+Hvd5d3CcsmN4yYjzo5Ltqe6u7cs+jRL9sO3tmWjHvtGD9wkqVzY75azvmiiKK0tfy6bMGkmatwLAtD3OdhGlRMqZFAVkMzWbxQ+GMDXEowkxKIq2b1Ho9jrjuhD2vc2Jv56PCd5JI0hR1m8FXkiTAa3zxBuk0jOjsxecLGJnrMd50xiknNkA/zDMhdR214QR0/UNvVpH0h1wyDZ7ypUNl5MwuwirFotU9QNL/rUI65cAZaLSptmMJyLuVajtmIPOeSAxDvpNewhgd2uA94vb+TNrYjS57g775jDFevetnhmzfgDY6cZ/w1Cs3IQKFRlrnU2YK/piH8WsF6uFJJI1Ro/SWm90aiFXybEEanoE6XNExCuKw4DgFDArze7dRct9oPWwzY6vORXXUgvmuDHKHqfjFeD0Fz5ixPZGE8msL3JWBvivu9wB1tWG3p7VyVxz9r0D64LKcHU5iAg1HAGr1lR5O3ITbDajj+EWb/q7gVyP1UOnG7ena3UY9azNbB5VQ8oqRovxyigBl8gLWPpdLUixdrnePciXPt8WO+U07YCcvKZ680N8rTFgW6jEogRpH0LZE1W8y0C8rwLTTRWr6d5jftKPKWBF0AkptQz2EnFtElALVcD0Zw/Vk/EnCvi6LtJdKMB3NIHcYqBNSARNmq5vUSV69Dcqg9EhGaxa25+OZuj5UWHVYIySAu9qC6V0T5r127IccrS7mviB4ktsJGLr3vlEkkTFHRfnrRqz/tpSkBjPGCjC8kBp09HZnMrTWQvNPETfVSPPsWa5Nn+spOu274ZCc2LaZMX1mwnbQ4d+2Mqb9bRyx43LJHZZFSe7YkKOJ1WQ/r/cY2xvcuAH1Hb9om0HMr9CNAWOdm0DVdaU9XHNiFESyRNIRYevXDT1Fyq0xVypxJFyg9lRHv6uI6/KJLgqUoVs56hxYPjZi+sSK3W73BwmNZAdEyLNz13T4BkMVJG/7Y20o0Xc/AJhoOjAXktrfatJcvY+mC3DTvRpujSzrq8v5M8gd/HzTbf2umSg/doQx4wbn4YcfBjwxMhwOB2q1mlmzZrVe7zJfl5A2uRgnoJ5dyrtv61EpHJTPmkjhlwASUp0Eg3rm1eb83IhT9SCGGUlkzAYkC4X35lAOuCttOJ41oLsrlcVPW9i/yAyDFLhq3DBAjSE9l9zHUtFGupIacd3wGEIaAKzYq0EXuurfGTFK2p0i+YwUYSb29i+NQIZnr3a155rPwBGEdBj756D4g9r/mf69FHYF02H3ei54j4Z1H7VhJ4lM7+w/WuH5etZNWcCCNscceqkzUzCjCGfKaj59LhWV9wPS9lIZ5dbU1peKzwgQ6pHictiR0KPtisOQJIX5UJA4fNACMbne2BY+w4eqrb4PWTECGTqvSaTajhkVuZq2X4+hOvFeRQqn0Go7VkCv8ey5jajOLXZKZs/DqFzA5j253uPhwPVBDiUfBOrFgf1z2j+ytwUkkvxxPUIZuZgjRxa382PHxCYb0FOAxWYn7gsTqoytnklhSiqG/DzMX2agNjtRTEjq+krYLR7daJ/aztZHO2oEjVzx0Q1RChRAaslXrEjpyU/w9mSLRqkEbLV81wKxQZMricP7PO2108XMy538HqVEO2kxaycthgYXDus7FCwqJudVHXueTkJxBfVubLlCpUf8fMPwtQVjhx/dJkyfL8UwKcwsf5CB1PEF5L23A0e8G+MpFRm/CW6dfs+s9lCgHakDylv7u/J+A6kxJkxL8jDqSsmI8KO5PRwVWaQtqyV12VKWztISN0CJ8lAR8dPL/FIoVfi8QXTtTXA7QDs+G+1LhZi/XIzWbcYck8nGcQEeXxHIcDXq1SU66wOt9FCfC8MV94VwdNZ3Q9M3WClMycI4NJcV+WtZcFccygEXMM5JpqCjcmK0GCZoKQfUdXZsNRA7MoM/L1lAxjBvKTFKlIDt2+9oY+RrOIztc1D8ofunflwV/V0PrrKeOiXivtA+iluA4YvZ/l52Ww/TbuGmtga4y1vv6nKy0gupnbCUpU+/jja2P0qlnaL4qUQ0AtTV4gB0fb0GhmgFkEqpbUVbb+Qr4NZEA3VlVTS/XUrtvXOJC5d3yxlq3ypFZji9k4b0QKlNkRl0OuJmj16i5n3GkNEdx/v4uSO2mfwEePjhh9m+fTtHjhxh+/bt3TdkAEgSvsNHHetzGKuLJ17rm+wDWClc03ngoMhwYX27gKwJyST6XMq8hgwAJulQA/bXJjJ2kQnXyMW8tXOPNxDjdtY+kRqZJ0KX66ZGm+K7Zqfo6WKsJ9y4T9jY8l/WyMqKU6HGguNE2588nhBhJvanjJSsl1AvzECvAIZq0QPGnW3drB3vlVCOjsWpOkCJeoQWDpmwVockbLBQvsaOYlomBu/72HHEDGhReSfEymE6dID5yw6s4tU2TA1gmO43ZIALxyEJUvzbZXx5h1rMjx21wF061L5vApcd6247rrCrd2q0Y4APLFhDPWeqjZRUgG5hqiconveI2zbBMlucGF8tQxq6gIxkz+eG86jNY1wIY5gKlVup0aHFjml3aHhaCctbRdhjMskcFxt5nWvt2KpB/8jDrYYM8AYdDdKL/8jesDgdWIlD2WNuDAEMSkI/AiwfF2PcpiJjjHdSOECPYTyUr8yj/JCCzJQOwxGGJ1aHfgTYV86joNJOa9zFFgn3iYDVHGpxfAnU1XqOwG2RwhuUOmJYEhkxYFyURfHugOPfWiRc1Z0ca9wh7cmmJOk3BjhVTN4SI3ZfXSQX9oo88ipBkd6BAchr+CyvNLX2B+mElZJXjEHJ3Ics2E54jw6OiUWt06EbANJl6YrrXXvCCrjxnWIqNXRRSRE/37bYPirBiZ4VFm+Q3cC/rzaSGQPmTyztBMtToh9ngAMmil4x4hyejaFdryEH5TOzPMd+u/31c1ebKFxWBjEZJPnuHWBgwdN6FA0WCtKzKNnpaFMnW4euKIG4sO20IqFDPz4J9SAlSlzYD3rHFu+kRT1cjwILpp0RZxzMUD0ZI6C8sozyD8yeIKitM63IZOgaPZ+ny+kAanH72ku77fAK+1wHXHFfCEOnfTeUry2U14E6xYBhmArlAAXSif3YHYAE7XnLS7uLmLpGzepNm9ls+YojR75i96alZAwLeOkok9CPB+dLeRRU2luPGpdcdsqfysOIgoxR3d8GcTX0d124ynrqjMj7QnvEohujg0NFzFtixB4Q7FhyO7F/04Vguz5OmTFuA1WGHi3gsnm+0XRjUkkaGouyL7gOebegtNe2/VJgfd+IEwP6+z3tUzsqAwVG5s0uxnoi4P4GF46vnd1f57jNQP/UIXCuAvcf53Pyi+O4fcE0W5qoO1jJP/48nUtHmrgpdRG/uLO7BQVylpYTwPmzXGzxlNPQSUDQNqhH0qsXtLw6j5P7z9DQ+k5vov7EUc53um3m54MwZgiCSTCQGzLZU0xaS+kTATPvW3rIFu31LgiPmtwZes/H0V7vx9G+QiZqA2MAJDIxO4+ynREOchHXTYlh9oLWCbq0r4QsQyKJhqkU74xwOI3Voh8O5gNtDQQnj1oACyVryrGdcOOuc+PcXUJWegHWYbmsmOF9QSr0ZCxUI1XMY95rNpx1btw1Dizrspj6jB39s6vJ9NZHPSmX1BgbhX8sxFTt8uS5r5yC6fMoH5TNxif13hUEvwHin3xGiXsyWDxbjfOlqUx9yYT9hBt3nRP7tjJMvvO2lXGogfL15dhrfHIsouhzQAFNUnDedwfV2BsjRKf2ek84MS2ZSlZ2GskLTWEmKQr0Uxagbihn3qISr45cOHaWkDW9EHvKClZP9z6dE54tHpZXX6R8nxN3nRv3CSslc9Io2Ksl95nsVpdzSXIDThzfuDz5nfCVHEbuoankTlJge2YehdscuOo8xqzyJVOZV6Eie/1i78pBhHWOURIXA5b167B49WurKKBwEzBA4d/WdMKOBQU6TXhjhv2AGYbrwm9BuWJUJE3SwucWLDEG/8TON2GsduAgg6Th3cs7c80K9DEOjPnB+2ETDWmUfOl7Fnd7DImV80jUen6fuKGL+3sVSSxe7zlJpiRor/C9JE+YhynU4Bcx7cumnLCYFSkKHJUFpCX5DLPJpC0z4x6azcaFYVZffWj0ZNwF0gd5JHtlvdeQg00RaDRyY30zh6mGRH99knIoO6Umd7I37yuo990aPWBkXqK3/EllXYw3EOnzDUGyYtok+U8xCcW7fYKPTZjbORFGOSaVVGxYdjrRZejDezQBuJ3Yj1opy5/K2ER/XI/ECXmUVysxLMsOOnlKlb6WzQt1KOqsFOdObFOnoo9BOT6034cjlqQUHWBkXmvbSMEoeYzIZTNzMNaAIimTxSPAsiSHggrPeO+qtlA2tyCyVU5UpM4wwMfFFH+u8reLLsjQNXo+z1i1FgV2iiZ789MVYG6n6VxRn+uAK+8LoUTQd0MZriczBuzPp7Xec++TDuLGKODLAsa2E/voQo0TiVqcNR19pyhJfdLfVxN9+SenUfixG/XsjSxO7v43Xs/r73pxdfXUGV3pC+2hemS1v48ExlFKHEvaq9Z2DMR+jK+UYAn8npxdgGVoNqsf9Xyjxo7SowOMf0psHRtTjBK6EcCGLHIqA5Y995bzYkXAd+xLWeRsqEX/7GJSvdtHFMmL2Thb7f3mDoi9pEtm4h9N7Z58GAkDp7xGv99qoHEfTWszqZ3piT/h+P1vOPfsGppr4aYHVzNwioZeV1COn8FExQN78vn2955yzmw52rUseo8k9olp3NR8iKbnMzjze7/Mrn/P52LnYUl+NghjhiCYKC2569eSOUIJKIidtJStfzWgn1XK2mk6YmNAmaAKdbrrHgo9Cz4qZek0A1pf0KSYWLTjslm9bSsLRiiAWLSj2vs8dePYbaIod2IER/91sW7Dcnnr9eygLSyKYdks/UNShJVTozOoPAEVg7wPnDiq1WiHa6n/qJCphkQSkxIZm12GNH4FWzctQBdQpnb2ZjY/ocO2ZipjkxJJ1E8k53U3hme3sjY9YMI7wMDq91eToTCSNyHZk+f0Qsy357Lx7cX+PFuO4fgcVCMCtqegQLfwLUpna3GsyyPNkEhi0ljSFhVjcXj1+stMVi/Uwc5C0vSJJE7Iwzp8BWsfVUJlEVuq28ub1lgV2hG+AJkqUl/ezOLhwOeO8C+oYblsfncxOluxV0fJTMwtwT1uBVtfyGj1DvEccasktsFE4fSxJCYlkmjIouz7VFa8t5kFI/0fG+pxuWQMtVCUnuzJb5XF42EUVm4lhue2s/oRBcZFE0lO8hizCj9RkvvWWyz25RtpnZUGcldmoK4uJ8eQSGJSGmVks+KpJBSHiij/3B1QH0NY7xFa7Fje7WTCdoWoRxlQAYrpBnQBbqmeCSMwTR/2qOGIuCuD0k82s3RaEmrfx8sgLYY/lbKgNehhLKlP+/ooMECNNrbrlhvFyMVsNZeyIOA4ZeXQJDKXreZhTTfl70i2KBUZL+9k4xOp6Hxb8AaoMcxezfbKxUF9ug1RWrJfW9Gar3KogQVv7aR0thrlUC1xUQBKDH/ZyurZhlbdedK95R0nr6zesZOWsnaazts/lai1cXRZ6xE932CkvWaMDQoyHzG0W572X7LRYcH4WTseC0o9GY9p0Q43kDG6g/gnSj0rdu9m87PZGIbFeieRStTjsln9/qesbRN7SYH2sc38/aNSFj/krxMD1CQ9tJjSj/aw56XUiN6FqkdK2fyE3vNMBujIfGE7Sx/LZukTemJjvHvXo9RkvrKRBcm1GJd5xvvkCXnYkjPI6KwAXxXHZZIZAwQE/uySDF2kx/MckevPDwWxI1Xtt8Mr6XMd0CN9IYjI+m4QiiSWvr/a/62SspjNr+eSO8dzrb34N/2HqFFhoXBCwEQwPp7ECVnkrbf6PSHvyqD0o40sfkgXME4YyH5hO1uf0F3R1ome19915CrqqVO60hfaw9tHNi/LJCnoG3sBpfP1nebn3l1MTuD35OAFwd+T92RS+u5i9IM8i4C6aavZviSX7CWea62B4QEa7K3jWqJ+IjkbJFJDv2NRoHtiK5+WLAgeo5MzWbrm4SsL9BrVjzsefZM7nluN4r6R3OQ7gb33EG6+L4uYFSbufuwBbu2R7TgAA4l7/Fl63dnPX87ArrvUxiTMZdALq4n+lYZWK8ttI+k1fRn9u7r9/SfMTbIsdxRfRCC4/rhtGJcXUrCtA/v+/Sv49K2M9uNUdJcWCbc3iphyQBdfXTVGcvSFKF/6O6vHh3lttOaNZ39mR9lL/lNkFEp/hPOwSb1BqVB042SGgHLC3t/gCaoWKINU54ZOZGpbjo2iCVOxTNnK9sc6eEV1qCMJy7J7yTm4lO2Vmah89e4o2npXdO7DW+dutYFQfPoNKFtyu6Fv5/pzVeaQ/IyStTtXY+jGxEMgENwYSG7floQIxyiBAKDOjmlNAXnbHCga2sbQUs3ezParPQkX3PjUGMnRF6B+fQ+5Cd5rV3CKje35eKYeXcr251JbA3529h0rEHQFEQBU8OPmlJGcSQVYGlTkvnuEBYFH7jXYKJsxlaJDgLO2U5e5bhF1BRPYQRksWFhG2lN5JCWECSLXlbwVkX/UKjo9ouoKyolpa+BQDOjiekGDg/JFWRgTVrN1die29g51FBIsM5J6d+d5hqlztwmjX4UyAv2dMpL/jAXdwu3CkCEQ/MRRKK9iYEHBT5MaEzkT8uDJ7Xy1TB08UWxwUP6niRQedXABYcwQREhfJcoe+95QcOsA5Y3rpSP4USO2mQh+1LisZiwNALXYDwYHlnNVO1oDf6mn6K/4rPGrgXZ2KSuSrBTMLsJ21Y64vYFwWShMn4p1zGY+XRMYTLQbuJ04OgqW+VOhwUbR7AKsSQGxQgQCgUAg8HHKjqUB3E4nzroAnwzJjfNrM5a9oLhH1XNHYAsEAsGPBOGZIfhRE5ucij7GgqVBwvJMGsnPtE2jTl9LaWcr/NeLKBUZL2ymdvZUpqa7Wf3qClLvud5CXUdi9Sx+fw+KnlgaqrZjBjJ/ysaMEyYKHs/DNGABmwNihQgEAoFA0MqIVBYPK6dofQ4T14f5fWgGa2d1LyiqQCAQ/JiJWrZs2bLrLYRA0C794knN+GcG3+ym5nwttd4VB8UgLYljs1laXExBhhblj9nHqFcciZNTGXL0LQr/v8FkPTjkZ21FvKWHKu8+5YA79Iwdey+Df5JfaG7Mf/03Phq2lsoXMrjnJ1lHgUAgEFwxN8ehe/hhEmNqqamp8XpnKIgdNpa0uUt5dUUWCbdebyEFNwQ/SLh7xaG+Lwn1bVeeXUtDC33v0DEqYbAwpgmuCiIAqEBwLWkBxOq6IFJEexEIBAKBQCAQCMIijBkCgUAgEAgEAoFAIBAIbih+zM75AoFAIBAIBAKBQCAQCARtEMYMgUAgEAgEAoFAIBAIBDcUwpghEAgEAoFAIBAIBAKB4IZCGDMEAoFAIBAIBAKBQCAQ3FAIY4ZAIBAIBAKBQCAQCASCGwphzBAIBAKBQCAQCAQCgUBwQyGMGQKBQCAQCAQCgUAgEAhuKIQxQyAQCAQCgUAgEAgEAsENhTBmCAQCgUAgEAgEAoFAILihEMYMgUAgEAgEAoFAIBAIBDcUwpghEAgEAoFAIBAIBAKB4IZCGDMEAoFAIBAIBAKBQCAQ3FAIY4ZAIBAIBAKBQCAQCASCGwphzBAIBAKBQCAQCAQCgUBwQyGMGQKBQCAQCAQCgUAgEAhuKIQxQyD4GdNQvY1/LPotjmnJOHLzOX3y6pV18XAlJ1/fSM25q1fGj4cz1Gwo5R87Dl1vQa4vFw5xasPLOK1nu3Sbc1sBeRWOjlJgfqmYwkpbt8SSvjFSOCWR+Ph4EifMw3iiW9l0gEe+st2uns64B7gKstWZKZxbhs3dc1kKBAKBQCAQdMYt11sAwY+Ylouc+9KE+//dRkv1cc+120YSlTIN5fgHuL3/9RVPcIU0HuLsqpU0X/D+//wZ5E5vOsOpJzNoPAm9/vQZ/yspOuLiLjuraNoJUZO7Ke8NxVmad2ykedzoDtIc4uS0x2gKvdx/OFHjchjwu5HcGnUVRbwWNB6naUcFDJ4WWfoWF5aVM8mpVJD9wq0dJKzFtq6E8tl6lnZVJslG8WMFlJ/y/Ndd7URq6WomneGRz/Hs78nuoRxtz8czdX17v+pZYSklY9D1kY0oFeqoAqbqrax4v5SMe3oqY4FAIBAIBIL2EcYMQXgajnOq+DEaD14Mvn5+Hy3/uY860zSa35jLHb2uj3iCHsDxBU0X4ObpRu5MHcwP58/S0pmB6uQXSCejoVcTzZYqLibp6XdNhP0ZceEQLf85H9fhp5CXTOK2G92gETEStjUzyalUXd0J8dcWyk+BftmnlE5TIblcSAOuUlk/F5RaMtd8inrNVLIm58C2UjLuut5CCQQCgUAg+KkjjBmCMFzkzNpZNB6Em5IW0v/hVJR3RqMApMazfL/fjPvwnfQVhowbmvrTRwEN0SMGowC4bWCn95z9WwVyr1R6Tz5N45YdXDivp99tV1vSnzi/fIqBhZPwqVE6fxRX8WM0HnmBC/ZJ3JZwXaW7Zrg/LiBrPWRvWntVV/ZdJ+xIaNHfrwJAERvraf83BF3xwLjGRClJWljKiuqJFMwuQbstF+3PxhAnEAgEAoHgeiCMGYI2XNpTSsOBJm4a9xqDsocTE/CbovdAFKOncXtH3vOCGwL5B4CB3NQ7whtajnJp1xlI0nP7r89Qs2Ul0oGL8GA7vhktFzn3P0dolgD6c3NjExD5tpQbjUs1R3Gf9uzZuXngxQi27IRHcZuGu/5tLtVPruHy6bOQ0LmR6ceE+8QhLp2VAIi6WYrspgYLxU+ZUC3cyuKR4U0L0ik7tuOeoAyKwW4izLktlwHiUMR0lrCHqTGSoy9AvekIi0de47KvFVEqMp5djTVlHsXvP0xpeuz1lkggEAgEAsFPGGHMEIRwkfM7K6FXOn2nBxsyOkKq3cd3r71M09Gj0BwNcQ8Q/egifnHfQP+q5zkL/1j2AjfN+ZABfbdx7pW1NJ++CHem0+ePc7lzaDRwFGfOLKQhfyEu34AyoIzmIxv5x7LSoFgN9QcqqNtUQcvJs0A/bvrVdPr+IYs7bvfcU79rJWc3DaR/SSqX1y2j4YtD0P8B+ixZzZ13Q/O5fdSsC5F7dAKcrKK55gFufWEaAwEajnOmvJRLX1iQG4H+w+mV/hSxvx3i1dEhnH9eyeXx/8Hg+47z3SvLaTpyFvo/QPQfnmLQiIEEOrI0XziKa/OG4PxS59NU7nwAABgySURBVHHrxOH+OAmdltkOLRc5+1+luN/fwQ/nL0LvIdx83zSUj05ioHcbycXqbZz/sAqAS/OT8YRafIA+/7GaO+PCZ9t8rArpQjTRvx5Jn7iL9E5YScPOXZx/0O9V4KPe+jJn11UgN4fm8kDQ/6TafdRuKEU6eMij/7sfpHfWIn7xq36t+nJtnoW7Op3bFwyn4Y2VXPI+Q8WiZ1HFR9NQvQ3Xq6U0nzwbdL092uj+Nj3RM+bxi9GDW9uqv91M5+b/KqV+cyVyYz9uGj2PW/9tEgMDH0B7W7KugOYGjzHk5piQiX1HbeJkJdVPruHmx3YwJMTA5Ho7g/rtCcSU/oXB/YmojXRVD83nqjizLJ/m2jZRQDqNNO38oIRyMtn4qLbtjw0Oyp+aSuHHkUSXlHBsK6b4FSPmajfExKJ76M+seDIDdQy4vzby4noLAAX6eAqAVm+HGDum10ooqTTjqAPlUAMZTyxmcYqqNXdP3IpsNh9ZjC6g1Paut1JjpSS/CAtgmR5PWWC5Pexl4dpdxqpX3sC8z4UUE4tu3B9Y/HQmOmUHNzU4MD5XwIsf2HA1KIgdaeDf/vjvZCfHBqUxvVLcqh/FIB0Z81ewOF0d7NkywEDuQh0TX9mCfbLwzhAIBAKBQHD1EKeZCEI4zuUDQOIDKCNcsW84+DKn5s+n6fBRaAZogloLTc9ncOrtQ1zyJWy5QEvtWVr2vMx3BSs9hgyA05VcWvYy3zYCaOibOhwOVnLhdHA553dvgF7pKEZ4Jqrnd+ThKnrZa8gAuIh8uJSLS0qpbfRckaWzyBeakN7N8xgyAC4AfYHzFk4tCCP3By/TtH8f8umz/ADQcIiTT2TSsNM7gQS4cIjmDbP49hP/KQ1yzXHk4xWcXjTfY8gAuFBFU1E+3wXUpbnGzKn5s9rmt2kZF6p9So2szDa0nOH0X1M5v6HSM0kFaDzOD1+s5Pz8fM7UAhyibtlKWtqcKjKEXu0YMqCJc59ugP6P0kcL0I++o/XwjYnvQ57TpcOlnH2pAkY8xa0lu1FX7EZV8iZ9RgwOTnhkI87585H2H/Lr/6SZxmeWUVvrTyY3HEWu3UXdE5keQwbAhSqkFSs5vetlagpWegwZAdfPnG+nGufMnPpjiO7PW2haO4/vDvon4Z52c5bGjY9xfkOlN+1F5C9Wcn7DPn+b5iynn5tF4/8MIfoJI3e+sxv1O58x8Ilp3NSeKjuh4fQ+at7cALdPo+/IAKNEZ23i7tEo7oaW7TuoC8ywcR8Nn5yBX0/itv5E2Ea6qIfGQ9QsyaO5xUCfwh2oKnajfmcHt84wRFBjF9adNhTTU0lq45ThwrQojcLP1eSWfcpX9iMcsX/Fp2XZYYwGErbn05i4qMxjyABocGGrKCBtkQkXNsqmF2CsDr1PjfoWE/P0aeSt90zUAdzVZspysyja120fEH8dlmdRvLsdY4zbQkHSvaStt19hOWBbl0hydhGmfS6P50qDC9sHhUxdZKT9s0s8Oi6osOFqAJBw7TNRtGYHrefJNNgoSp8YpB+pxkZ5fhrzPmibs3pcBvpTJZgOXHGVBAKBQCAQCNpFeGYIwtO3P30iSddylHNrK5B7PUDvJU9x+9CB9ImChtNVuFbk0bx9LefGvsZddwbc4uhPvxc+47Y7o1G0XOTb9Y9ycVclTd8shAQY8Ot06jctp3HXUZiu8dzUuI9Lu5pg3CRu7w2cruTchuNEzXiT28dpUPYCWpo4v3MZZ8s20vhNDrTGGqhA2j2JmOfeJPbuaH44f5GW26D+ExMtzYPp9Ye1xI0eTJ8ouFRjoXZpPs2Jq4mbOhIFTXy7YR5NvafR74Ucj8yAdH4f3y2fT9Pfqjg/zu+Z8MPhC/RZ8iEDhg6kD02c255P3aYqmg6ehTsHAhdxbVxJS+MQoh79C7eneGRvbr7Ixf85zk1DgS6WGYj7b2u5dKSJm369mgHZDzCgNzQ3n6XetJL6LRYatuzj0h9Gcvdbuzm/I4+zG+jQG6OVxoNI1iYY90Cr54hyxIOcYznSvjNwp89QcZa6dzci98/h1j9NItabVnGbhpgRQ7gUOLm5U4Ni4mpixo+kb1w0ipYmzu3Ip+7tKqQDZ2FcwPaKsxe45fFybr1/CMoocO95mdo1FVzaqEeRb2SgdjB9uMi3Gx/j4idmLp/8C2EVdLuG6F8vpNe//JZ+d/SjTxS497+M6/kKmvYdhYThAYl3cbnXs9z+5kgG9AbpfBXfPplH89+quPiHkfQBmg9WcOlIE1GPvcDd9/kMD9Hcdt+DXKCi7Ukl4fhmJWenrSTIRHVPDspVWcS1ej5E1ib6T9TT+FoF3x9JZ0C8585LBy00Nw9GMdYjc6RtxN//O9fDecsGms4NRrHsKe78pfe2qH7EJo7kwtvmjuvv3o/1c8iYEcYrY98bFOyUMLxQyoJkn2uBAlWyAR1lBB7MKu0uImu9kuyyT1mQpEIRBbS4sb6cRdY6E7tqSllgO8LvK3NIzifEK8KBfvpSsh9JRatSoogC9+4ipmaXUf53O4tHhvW3iJBYUkuOkLqviPjpjrbeGF06ztQS4FHiw+/hof6/sllQYuDhJDWxMYDkwLggjYKdZqpcGaSG2/XhqsK0UyLp6e1snKEGQHI7cXyrxPs/rGuyKFNms9G8gKR7vBanOivFs7Mo2bYL10MZBGU9SId+uITR7oCR6q5UUCAQCAQCgSBihDFDEJ7vL3AJOjdoVFchXYCox5Zx1y/9q8gxdz7A4EVzOVnwMk2HfRN5D9FTs7jDZ9yI6scdox/k4q4Kf563PUifX6/k4q4qXFM0xEbBpQMWmpuH03ushl7AOes2ZM7Q8vYsat+GgMXkMDxAnyVPMdg3gbjNI2c9AAoI5wZ9romb+0ejaKxC+lsTUMHFRRW02UgQcvrHzf+Sw52/9NU1mtuTHqR+U5U/wYV9SAea4NcLueO3mlb99urVjwG+iXTjvi6V6eci339pgf45KB97gAFRvrwHEvu7Z7l8/Dd8b93XOgHtCh79D0bx/2j822VuG41iBDTs/IJzqencDnDhEE3fAKkPtBoy2qX/A6hmBPw/KprbfzuNi29X0XzqDBBgzBiSSv/RQ1q3HSkTH6SeCpp+PR1Vgs+Q0o87xv2O7z9Z00GhQ7hzzpCgK8r70rl4TwWXjp+mnuH4DwRNpd+MkfgOulDc9gB9kqD5E/+97oO7AAOKkT18psuJUtyrormpYJpnUhphm1AmpXO+bD7Sfx+lOV5DL9+2sUELiYmH7rWRzvRwkUsHqqB/Dn3iu1FXVy0OkshUt42VYd9rRiKV1DEd7ZEAkLB+Uo4ElGWP9W7jCETfyf1qMp4InnQrkzPJvr+Mgv9x4kLHVYv+oNSzwvpVz2SVkktu4AWFmoxHMynYWY7DCWErEa0gLgaMrxSQ50xFn6rHMEyF1meUkqyY35aAMrIMbTXLmHCSqFAlgL2mS5YagUAgEAgEgi4hjBmCEIZwywho2lOFu/EB+nS21aTRE/AwamDbyVyvoQn0ApobIlqfDiCa28c+ysW/baBh/zRIbPJMyBL+Qn+vEaTl/NEO7tdwc9Cq/BB6hdmXfmvyo7hN82ham8HptcHpoyc+4Dly9MJZWjoSNW5g105CaLzgiYWgHtK+QaHbZUrI3wODBnJLG0NCNL1/9QDf77nID81Al06i8U6IAWlZst/1vJUKGr5J5/Zf4q/fwMiCVkrnj1Nn2Ubjf+/jh9NH/dsnfuiKfAH0VnS6vaO5+Qznd+7i0h4zl/9xHPmCt33+sqnLQTt/aDwDPMgtnR1p2xEhp5k0N1/k4sFNnC9+mfpX76T3Qj39Im0TvUcSM24w9Z9s49zDC7mj8QukA3DT9NEeY9NVaSP+PLsVHqHOib0do6LkdgIG4jqzZXCB2lMd/a4irrPjVyUntm1mTJ+ZsB10YK/xbi8Zc6XbTHqSzuNsuKstmN41Yd5rx37I0er4IbXXgJQGVny0EfWaYt54rxDTBiBGS8bTq1markZRV4uzI5HuigtjX1Wg7AscdVxdQ5BAIBAIBIKfNcKYIQihH7elpNNwoJLvNxloyO4kCGhvz2dsy9mLQLBBo7n6IM3ATTFdP8GiV7ye3oNKabTu49IvLyAdjKbXwgf9AUFvjgYM9H3jKQZ191SCGA19kjQ0WeHmxqP8cAG4O5U+j+cQN9Qrc5Tn35t+V87dDw/pmg0gHL37cxPQ4jjOJQaGN2h0u0wFN/UFHGe53ELI5LCJxsNV0CuLm7taifNfIB3sKMEZJOtRmn+poZevfmdCPCvC0HyyktMFa5BHLKRvzmr6xvVHEXOUmmmPRbY9ozs07OPMH+fTfEcWMf/2LLcPGkiv/hc4u/RfA+JgRM7NvQcDx2k+B15rwRXTq1c/BtyXzqUhG7m05yCX0NOvC20iduw03NvXcGlPDucbzLSgJ+bXPu+Vq9FGvHkePk2beK+REKNE1c5PCqUKcOB0ga6TGbHiFmD4Yra/l426q1aVBiuFKVkYh+ayIn8tC+6KQzngAsY5ySFbOjxIbXQXAZe7mL4bOCqySFtWS+qypSydpSVugBLloSLip4fxqAhkUBLZz20mu0XC7bRjeq2AwvwCtKM2k9nXYzrVPrWdrY9GvmVEugwMVQlDhkAgEAgEgquGCAAqaEOfxCz6xEcjf/IYNc9U8O3pi1zyrupJjWc590UFx9ds4zzA0AdQ9IeWskWc3H+mNV3D6SrOFJciM5zoX3XnaMkhxKQMhy9MnDWZaemViiLBbxTp96tUYBvfF5by7emm1mMapcaznKs+E9HE9NKel6k3DaHvqtf436Wfoa74DPVzC7lzqP8kDW5PIPpukP+zgFM7juL2zdZamvj+9FHOtRdosj36j0SRAPwtn29NwfnVHTzE+ZYrKbMffe/Xw4VS3C9tw+VN19x8FpdpGd/vAZJG0tUNEee/NNNCNNH5nmCewX9Get8N/K2K+hagv4ZedwNf7OLbho7z/d5exQ/NcPN9v+W2ewbSTwGXvjnomfM1S92bGHeGo4rmRrhpxIPcNnQw/fpH03L6EJdroDsWlJhfjgaqkKxnek7elibqDm5DOg7EazyH2XalTdz5W/okQMvfNnDh0yr4dTq3tXoqXY020o/e2uHQbObSgW4oMU6FGguOE21/Ug/Xo8CCaWeHvgFALLoxOjhUxLwlRuwuvzeF5HZi/6aT7Q5fWyivA3WKAcMwFcoBCqQT+7E7AAl8DkMe40o5xo+8QS9bJJy7Syiu7LyaLqfj/2/v/mOrKg8wjn9L09tyVy6lK0hryToaMevKRkFnlbg6DAVNuwxbHaxxBcbKaqgyQRE7foykMkZhgCyOjoDEIBjbMGUjmUYjbBEWYlhi0mUsLmx2wELFWSpw21X2Ry/QAoW2IPPI95P0D07OPffk3tNLz3Pf93mBY7ScbWc9ea1HfDRz4M19RMmjYHI+2cMjRGim8d3YWKqewpSO99j35ns0t0QhPpFIZg75ozOBKHQAaXkUjIHG5VVUNzRy7qXtiNLyj8ZzhaDdNdH0F8hMveKQGkmSpH5zZIYu4YtkPLk5ttzkelrnrb94jn5SReffxvGjSK2axtFnttG2spTuC1uEGDB9KcMyLnxw75wtAo3uAu7f3Fn8GTPw9jlEJr5Dy+tbaJ23pfv5DargTF35FXshosc7z7bjgzbaw6Eevu1OZ9jjC2l6cjkdz8/g2PPd+zniH/k9qXf35dYvmbSZseO9OINjL3Y93iiSfr6ZlBH9f87I3VW0vrWXU/uX89H+5bFekJjUaUSm97Uv4wgfvxHrQ7hEPyOkx0onn+dUYzmMTmfIAyUcWbuN1mUhzlSWkJzaxqm3G2jdupeuS7OmjL6T4+ylY8MkmjbENt5VQeIIiL71KE1Zr/LlSf0Jwi7jljtJSNhG+yszOPxKbNuIis6g7O3lfLApi5SZuZc9RFcDxz5A0ogGTr8wn391LGTwPVkMOP4uJ15Y3/ts5FIFoABkESq5J9bh0ZdrIpmUiSWcXL2NNkKEHu7+nl/7awSG3DudEy/Pp311Fe//aCGR0Wl8cugtTmxdxSdcITVPy6EgFzb9uZEFd3S/yBLzy1gwZivLFlVQ3VFD5eRskj48wKurV1zUi5H5UC01e+6nuqGaKQ0XjKcoepb9q7ov9dxNbgFl4U1sXTmFr62MbRszl7nfTIRt1dy7Mpu/PpFHzvhSMlevYee88eycF9svXEDBbcCey79Gadk5JPIcK75zKysAKObZ/bUUspvqwioaZ21nx6xL/pL1Uhr5E/JgTz1V+fWxbYmUPV5JHrvZ9P0Ksi81ReXga1RXrrloKknihFomjQTIpGx1DbuLqql/egr1T3ffr3jtfmonX/DKtjSy709QMMvyT0mS9OlxZIYuLZzFzQsaGFI1h/iRXQoTUwpImLqOtI3l54YPh0fPYVjNEkJfPbtfCEYUkrignsxJ6f2fmpFyDwPvDgHniz/PCzF05mZSqyoYMPTsDW8ycSNLSHqsqOebli4SM7KAvZx+8lv8c9p43jv7U/koh15+p3OkAZAwvIjMNRtIumsccWcDlUGjGHB/LYP7UfyYMLyIjFXrSBybe76XIGUcCdMXMjjjKp8zPp2MRfUkP1DIgEGxkSxJWQyYsISUlXO6rI7RS4ffJvo+xBUX9ljoGckvISGhjbY/dC7VGc6fQ8r0IuIOb+Hjp77NvytKafkdhCaM6/7AjBKG/WRO7DyTibtrCamPlJP6g85t8YOvpoiiB0njuOlnS0jISAZCcOscBi8q56YHl5KQkUxcSh/fz/gshj21jtDIZjpenM3xikk0P7WU/369qH/9EdD5fo0tJ1yzgeFdRiP15ZoYOLaQUJguS+l2PedrfI0AhO8kbelCElIO0vZsGc0Vkzi+sgG+Ma0X/8lkk1eYSdNLu2m8sNchPpuyX25h7vhj1C+dyr35tzP+vvkcGF9K6YWHic+kdP2bbF9aRv7I2CdAOI2ciXOpe7Tg8p8Jifks/k0tZWMiQCJpExaw/deVVP6wc1vO8Nijc2dS90wZeUMAImRPnMuW1+uoHBUhO/cKSwKNqWT7EwWdha4kkjYus1efU32R+VDd+ecYkkfZql0snj2TxU8UkBbuoTfkK5W8tGkBxePSOntXwmnkTathx6ri81NEbi6l7vXtLJ6WT3bsGInDcyh8rI65lyhnbdmzk53hMgrv6FOjkCRJUp/EnTlzpq+dd9LnQvQ/B/lgy3JOvXMI2i/xPfrEDWTMzO3zt9SK6Wij9WQbECJhUKhvRakBdOpkKx0dEJeUzBeuulzlKh1u4O/zVsP36hlZnH7l/a+hkydaO0djhJMJ9zbROVpPRcEyImv/ePG3/DHRlpbOropwhMjn/WIKsugBVtw3ld3f3cGu2Vcz0kSSJOnynGaiG9Ox1zg876fw4FYy5mQxsMtNV/T0IZqfKeP0oUNEMczot/gQyYP6Xv4aVAPD13h51qvQ/MY2zpBL0rjrG2QAhAf143UYXsrcxzcxZeF88kfXUXrzxbskRiKf+0As+KIcWFfNpg/LqHvYIEOSJH26nGaiG9PRg3zSDmeOHeHUibZz5Y3t7a2c/Ntu2g4Bw9O9eVJgfHS0s4A3eriBE7uOwOiSc0sZB0HOrDpq8vdRPWsFB65QHqvPpqaGKso3wsyNCyjo7ypTkiRJveQ0E92YOg7S9OPZRI/1UNOYWkR40ULSLyzLkz6TDtJUMYPoibP/ziJx2VYyb/l/nlM/nGzkuVlTWfNhMbW/qqH4S//vE1KvdLRwYGMF5atbKF5bR83knhbblSRJunYcmaEbU/woMn8RK0E8V/oYgqGxgtN1BhkKkPYQA26JrcIyKJfQY+u4KWhBBkA4h8oXdlF7WyPLNu/mWi9eqk/Jwa1Ubx7Kgt/uMMiQJEnXjSMzJEmfPR3Q/yVhdN35fkmSpOvMMEOSJEmSJAWK00wkSZIkSVKgGGZIkiRJkqRAMcyQJEmSJEmBYpghSZIkSZICxTBDkiRJkiQFimGGJEmSJEkKFMMMSZIkSZIUKIYZkiRJkiQpUAwzJEmSJElSoBhmSJIkSZKkQDHMkCRJkiRJgWKYIUmSJEmSAsUwQ5IkSZIkBYphhiRJkiRJChTDDEmSJEmSFCiGGZIkSZIkKVAMMyRJkiRJUqAYZkiSJEmSpEAxzJAkSZIkSYFimCFJkiRJkgLFMEOSJEmSJAWKYYYkSZIkSQoUwwxJkiRJkhQohhmSJEmSJClQDDMkSZIkSVKgGGZIkiRJkqRA+R8u7cXxHmeZjAAAAABJRU5ErkJggg==)"
      ],
      "metadata": {
        "id": "fElSowus4Whb"
      }
    },
    {
      "cell_type": "markdown",
      "source": [
        "[출처] https://pytorch.org/docs/stable/generated/torch.optim.Adam.html#torch.optim.Adam"
      ],
      "metadata": {
        "id": "lRmXOCmf4YMa"
      }
    },
    {
      "cell_type": "code",
      "source": [
        "losses = []\n",
        "\n",
        "for epoch in range(100):\n",
        "\n",
        "  for x, y in dataloader:\n",
        "    optimizer.zero_grad()\n",
        "    x = x.to(device)\n",
        "    y = y.to(device)\n",
        "\n",
        "    #forward 연산\n",
        "    hypothesis = model(x)\n",
        "\n",
        "    #loss 계산\n",
        "    y = y.squeeze()\n",
        "    cost = loss(hypothesis, y)\n",
        "    #역전파\n",
        "    cost.backward()\n",
        "    #parameter 업데이트\n",
        "    optimizer.step()\n",
        "    #값만 가져오기 위해서 .item()\n",
        "  losses.append(cost.item())\n",
        "\n",
        "  #10의 배수에 해당되는 에포크마다 비용을 출력\n",
        "  if epoch %10 == 0:\n",
        "      print(epoch, cost.item())"
      ],
      "metadata": {
        "colab": {
          "base_uri": "https://localhost:8080/"
        },
        "id": "28aBgUNPbxbX",
        "outputId": "eb9d1b3c-8027-4b42-abe6-f1eab2b8b885"
      },
      "execution_count": null,
      "outputs": [
        {
          "output_type": "stream",
          "name": "stderr",
          "text": [
            "/usr/local/lib/python3.7/dist-packages/torch/nn/modules/container.py:141: UserWarning: Implicit dimension choice for softmax has been deprecated. Change the call to include dim=X as an argument.\n",
            "  input = module(input)\n"
          ]
        },
        {
          "output_type": "stream",
          "name": "stdout",
          "text": [
            "0 0.7494566440582275\n",
            "10 0.7294405102729797\n",
            "20 0.7188915014266968\n",
            "30 0.5514863133430481\n",
            "40 0.5516260862350464\n",
            "50 0.7567762136459351\n",
            "60 0.5514597296714783\n",
            "70 0.5514764785766602\n",
            "80 0.5522871017456055\n",
            "90 0.5514723062515259\n"
          ]
        }
      ]
    },
    {
      "cell_type": "code",
      "source": [
        "import matplotlib.pyplot as plt\n",
        "\n",
        "plt.plot(losses)\n",
        "plt.show()"
      ],
      "metadata": {
        "colab": {
          "base_uri": "https://localhost:8080/",
          "height": 264
        },
        "id": "GP2BNwThdZot",
        "outputId": "c0d3eb36-0456-40cd-87c7-9f604c79ed7b"
      },
      "execution_count": null,
      "outputs": [
        {
          "output_type": "display_data",
          "data": {
            "image/png": "[encoded data removed]",
            "text/plain": [
              "<Figure size 432x288 with 1 Axes>"
            ]
          },
          "metadata": {
            "needs_background": "light"
          }
        }
      ]
    },
    {
      "cell_type": "code",
      "source": [
        "from sklearn.metrics import accuracy_score, roc_curve, auc, roc_auc_score\n",
        "\n",
        "#gradient를 사용하지 않음\n",
        "with torch.no_grad():\n",
        "\n",
        "    model = model.to('cpu')\n",
        "    X_test = torch.FloatTensor(X_test)\n",
        "    y_pred = model(X_test)\n",
        "\n",
        "    #tensor를 numpy로 바꿈\n",
        "    y_pred = y_pred.detach().numpy()\n",
        "    predicted = np.argmax(y_pred, axis = 1)\n",
        "    \n",
        "    print(f'model의 output은 :  {y_pred[0]}' )\n",
        "    print(f'argmax를 한 후의 output은 {predicted[0]}')\n",
        "\n",
        "    #accuracy 확인\n",
        "    accuracy = (accuracy_score(predicted,y_test))\n",
        "    print(f'accuracy는 {accuracy}')"
      ],
      "metadata": {
        "colab": {
          "base_uri": "https://localhost:8080/"
        },
        "id": "koQ57zj3fMRb",
        "outputId": "dd2534f4-db89-44db-cf2d-09220ae168b5"
      },
      "execution_count": null,
      "outputs": [
        {
          "output_type": "stream",
          "name": "stdout",
          "text": [
            "model의 output은 :  [7.743532e-11 1.000000e+00 7.743532e-11]\n",
            "argmax를 한 후의 output은 1\n",
            "accuracy는 0.9491525423728814\n"
          ]
        },
        {
          "output_type": "stream",
          "name": "stderr",
          "text": [
            "/usr/local/lib/python3.7/dist-packages/torch/nn/modules/container.py:141: UserWarning: Implicit dimension choice for softmax has been deprecated. Change the call to include dim=X as an argument.\n",
            "  input = module(input)\n"
          ]
        }
      ]
    }
  ]
}