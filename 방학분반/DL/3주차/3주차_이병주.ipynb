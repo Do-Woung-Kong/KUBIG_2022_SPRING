{
 "cells": [
  {
   "cell_type": "code",
   "execution_count": 30,
   "id": "5de40fa5",
   "metadata": {},
   "outputs": [],
   "source": [
    "import torch\n",
    "import numpy as np\n",
    "import pandas as pd\n",
    "from torch import nn, optim\n",
    "device = 'cuda' if torch.cuda.is_available() else 'cpu'"
   ]
  },
  {
   "cell_type": "markdown",
   "id": "70e88220",
   "metadata": {},
   "source": [
    "### 전처리\n"
   ]
  },
  {
   "cell_type": "code",
   "execution_count": 31,
   "id": "d056c606",
   "metadata": {},
   "outputs": [
    {
     "data": {
      "text/html": [
       "<div>\n",
       "<style scoped>\n",
       "    .dataframe tbody tr th:only-of-type {\n",
       "        vertical-align: middle;\n",
       "    }\n",
       "\n",
       "    .dataframe tbody tr th {\n",
       "        vertical-align: top;\n",
       "    }\n",
       "\n",
       "    .dataframe thead th {\n",
       "        text-align: right;\n",
       "    }\n",
       "</style>\n",
       "<table border=\"1\" class=\"dataframe\">\n",
       "  <thead>\n",
       "    <tr style=\"text-align: right;\">\n",
       "      <th></th>\n",
       "      <th>gender</th>\n",
       "      <th>age</th>\n",
       "      <th>hypertension</th>\n",
       "      <th>heart_disease</th>\n",
       "      <th>ever_married</th>\n",
       "      <th>work_type</th>\n",
       "      <th>Residence_type</th>\n",
       "      <th>avg_glucose_level</th>\n",
       "      <th>bmi</th>\n",
       "      <th>smoking_status</th>\n",
       "      <th>stroke</th>\n",
       "    </tr>\n",
       "  </thead>\n",
       "  <tbody>\n",
       "    <tr>\n",
       "      <th>0</th>\n",
       "      <td>Male</td>\n",
       "      <td>3.0</td>\n",
       "      <td>0</td>\n",
       "      <td>0</td>\n",
       "      <td>No</td>\n",
       "      <td>children</td>\n",
       "      <td>Rural</td>\n",
       "      <td>95.12</td>\n",
       "      <td>18.0</td>\n",
       "      <td>NaN</td>\n",
       "      <td>0</td>\n",
       "    </tr>\n",
       "    <tr>\n",
       "      <th>1</th>\n",
       "      <td>Male</td>\n",
       "      <td>58.0</td>\n",
       "      <td>1</td>\n",
       "      <td>0</td>\n",
       "      <td>Yes</td>\n",
       "      <td>Private</td>\n",
       "      <td>Urban</td>\n",
       "      <td>87.96</td>\n",
       "      <td>39.2</td>\n",
       "      <td>never smoked</td>\n",
       "      <td>0</td>\n",
       "    </tr>\n",
       "    <tr>\n",
       "      <th>2</th>\n",
       "      <td>Female</td>\n",
       "      <td>8.0</td>\n",
       "      <td>0</td>\n",
       "      <td>0</td>\n",
       "      <td>No</td>\n",
       "      <td>Private</td>\n",
       "      <td>Urban</td>\n",
       "      <td>110.89</td>\n",
       "      <td>17.6</td>\n",
       "      <td>NaN</td>\n",
       "      <td>0</td>\n",
       "    </tr>\n",
       "    <tr>\n",
       "      <th>3</th>\n",
       "      <td>Female</td>\n",
       "      <td>70.0</td>\n",
       "      <td>0</td>\n",
       "      <td>0</td>\n",
       "      <td>Yes</td>\n",
       "      <td>Private</td>\n",
       "      <td>Rural</td>\n",
       "      <td>69.04</td>\n",
       "      <td>35.9</td>\n",
       "      <td>formerly smoked</td>\n",
       "      <td>0</td>\n",
       "    </tr>\n",
       "    <tr>\n",
       "      <th>4</th>\n",
       "      <td>Male</td>\n",
       "      <td>14.0</td>\n",
       "      <td>0</td>\n",
       "      <td>0</td>\n",
       "      <td>No</td>\n",
       "      <td>Never_worked</td>\n",
       "      <td>Rural</td>\n",
       "      <td>161.28</td>\n",
       "      <td>19.1</td>\n",
       "      <td>NaN</td>\n",
       "      <td>0</td>\n",
       "    </tr>\n",
       "    <tr>\n",
       "      <th>...</th>\n",
       "      <td>...</td>\n",
       "      <td>...</td>\n",
       "      <td>...</td>\n",
       "      <td>...</td>\n",
       "      <td>...</td>\n",
       "      <td>...</td>\n",
       "      <td>...</td>\n",
       "      <td>...</td>\n",
       "      <td>...</td>\n",
       "      <td>...</td>\n",
       "      <td>...</td>\n",
       "    </tr>\n",
       "    <tr>\n",
       "      <th>43395</th>\n",
       "      <td>Female</td>\n",
       "      <td>10.0</td>\n",
       "      <td>0</td>\n",
       "      <td>0</td>\n",
       "      <td>No</td>\n",
       "      <td>children</td>\n",
       "      <td>Urban</td>\n",
       "      <td>58.64</td>\n",
       "      <td>20.4</td>\n",
       "      <td>never smoked</td>\n",
       "      <td>0</td>\n",
       "    </tr>\n",
       "    <tr>\n",
       "      <th>43396</th>\n",
       "      <td>Female</td>\n",
       "      <td>56.0</td>\n",
       "      <td>0</td>\n",
       "      <td>0</td>\n",
       "      <td>Yes</td>\n",
       "      <td>Govt_job</td>\n",
       "      <td>Urban</td>\n",
       "      <td>213.61</td>\n",
       "      <td>55.4</td>\n",
       "      <td>formerly smoked</td>\n",
       "      <td>0</td>\n",
       "    </tr>\n",
       "    <tr>\n",
       "      <th>43397</th>\n",
       "      <td>Female</td>\n",
       "      <td>82.0</td>\n",
       "      <td>1</td>\n",
       "      <td>0</td>\n",
       "      <td>Yes</td>\n",
       "      <td>Private</td>\n",
       "      <td>Urban</td>\n",
       "      <td>91.94</td>\n",
       "      <td>28.9</td>\n",
       "      <td>formerly smoked</td>\n",
       "      <td>0</td>\n",
       "    </tr>\n",
       "    <tr>\n",
       "      <th>43398</th>\n",
       "      <td>Male</td>\n",
       "      <td>40.0</td>\n",
       "      <td>0</td>\n",
       "      <td>0</td>\n",
       "      <td>Yes</td>\n",
       "      <td>Private</td>\n",
       "      <td>Urban</td>\n",
       "      <td>99.16</td>\n",
       "      <td>33.2</td>\n",
       "      <td>never smoked</td>\n",
       "      <td>0</td>\n",
       "    </tr>\n",
       "    <tr>\n",
       "      <th>43399</th>\n",
       "      <td>Female</td>\n",
       "      <td>82.0</td>\n",
       "      <td>0</td>\n",
       "      <td>0</td>\n",
       "      <td>Yes</td>\n",
       "      <td>Private</td>\n",
       "      <td>Urban</td>\n",
       "      <td>79.48</td>\n",
       "      <td>20.6</td>\n",
       "      <td>never smoked</td>\n",
       "      <td>0</td>\n",
       "    </tr>\n",
       "  </tbody>\n",
       "</table>\n",
       "<p>43400 rows × 11 columns</p>\n",
       "</div>"
      ],
      "text/plain": [
       "       gender   age  hypertension  heart_disease ever_married     work_type  \\\n",
       "0        Male   3.0             0              0           No      children   \n",
       "1        Male  58.0             1              0          Yes       Private   \n",
       "2      Female   8.0             0              0           No       Private   \n",
       "3      Female  70.0             0              0          Yes       Private   \n",
       "4        Male  14.0             0              0           No  Never_worked   \n",
       "...       ...   ...           ...            ...          ...           ...   \n",
       "43395  Female  10.0             0              0           No      children   \n",
       "43396  Female  56.0             0              0          Yes      Govt_job   \n",
       "43397  Female  82.0             1              0          Yes       Private   \n",
       "43398    Male  40.0             0              0          Yes       Private   \n",
       "43399  Female  82.0             0              0          Yes       Private   \n",
       "\n",
       "      Residence_type  avg_glucose_level   bmi   smoking_status  stroke  \n",
       "0              Rural              95.12  18.0              NaN       0  \n",
       "1              Urban              87.96  39.2     never smoked       0  \n",
       "2              Urban             110.89  17.6              NaN       0  \n",
       "3              Rural              69.04  35.9  formerly smoked       0  \n",
       "4              Rural             161.28  19.1              NaN       0  \n",
       "...              ...                ...   ...              ...     ...  \n",
       "43395          Urban              58.64  20.4     never smoked       0  \n",
       "43396          Urban             213.61  55.4  formerly smoked       0  \n",
       "43397          Urban              91.94  28.9  formerly smoked       0  \n",
       "43398          Urban              99.16  33.2     never smoked       0  \n",
       "43399          Urban              79.48  20.6     never smoked       0  \n",
       "\n",
       "[43400 rows x 11 columns]"
      ]
     },
     "execution_count": 31,
     "metadata": {},
     "output_type": "execute_result"
    }
   ],
   "source": [
    "df=pd.read_csv(\"dataset.csv\")\n",
    "del df[\"id\"]\n",
    "df"
   ]
  },
  {
   "cell_type": "markdown",
   "id": "f4392539",
   "metadata": {},
   "source": [
    "### 데이터는 stroke 여부를 예측하는것"
   ]
  },
  {
   "cell_type": "code",
   "execution_count": 32,
   "id": "53f9f8b6",
   "metadata": {},
   "outputs": [
    {
     "data": {
      "text/plain": [
       "gender               0.000000\n",
       "age                  0.000000\n",
       "hypertension         0.000000\n",
       "heart_disease        0.000000\n",
       "ever_married         0.000000\n",
       "work_type            0.000000\n",
       "Residence_type       0.000000\n",
       "avg_glucose_level    0.000000\n",
       "bmi                  0.033687\n",
       "smoking_status       0.306267\n",
       "stroke               0.000000\n",
       "dtype: float64"
      ]
     },
     "execution_count": 32,
     "metadata": {},
     "output_type": "execute_result"
    }
   ],
   "source": [
    "df.isnull().sum()/ len(df)"
   ]
  },
  {
   "cell_type": "code",
   "execution_count": 33,
   "id": "d34eae88",
   "metadata": {},
   "outputs": [],
   "source": [
    "del df[\"smoking_status\"]  #결측치 30% 이상이므로 삭제"
   ]
  },
  {
   "cell_type": "code",
   "execution_count": 34,
   "id": "3c0ab18f",
   "metadata": {},
   "outputs": [
    {
     "data": {
      "text/plain": [
       "0        kids\n",
       "1         50s\n",
       "2        kids\n",
       "3         60s\n",
       "4         10s\n",
       "         ... \n",
       "43395    kids\n",
       "43396     50s\n",
       "43397     80s\n",
       "43398     30s\n",
       "43399     80s\n",
       "Name: age_range, Length: 43400, dtype: category\n",
       "Categories (9, object): ['kids' < '10s' < '20s' < '30s' ... '50s' < '60s' < '70s' < '80s']"
      ]
     },
     "execution_count": 34,
     "metadata": {},
     "output_type": "execute_result"
    }
   ],
   "source": [
    "bins = [0, 10, 20, 30,40,50, 60,70,80,90]\n",
    "labels = ['kids','10s', '20s', '30s', '40s', '50s','60s','70s','80s']\n",
    "df[\"age_range\"]=pd.cut(df[\"age\"], bins,labels=labels)\n",
    "df[\"age_range\"]"
   ]
  },
  {
   "cell_type": "code",
   "execution_count": 35,
   "id": "5d3e0f3a",
   "metadata": {},
   "outputs": [
    {
     "data": {
      "text/plain": [
       "age_range\n",
       "kids    18.866401\n",
       "10s     24.993708\n",
       "20s     28.712198\n",
       "30s     30.677261\n",
       "40s     31.186276\n",
       "50s     31.464315\n",
       "60s     31.149074\n",
       "70s     29.079810\n",
       "80s     27.566589\n",
       "Name: bmi, dtype: float64"
      ]
     },
     "execution_count": 35,
     "metadata": {},
     "output_type": "execute_result"
    }
   ],
   "source": [
    "#나이대 별로 bmi의 평균을 구함\n",
    "\n",
    "bmi_mean= df[\"bmi\"].groupby(df[\"age_range\"]).mean()\n",
    "bmi_mean"
   ]
  },
  {
   "cell_type": "code",
   "execution_count": 36,
   "id": "e27fcd3a",
   "metadata": {},
   "outputs": [
    {
     "data": {
      "text/plain": [
       "0"
      ]
     },
     "execution_count": 36,
     "metadata": {},
     "output_type": "execute_result"
    }
   ],
   "source": [
    "# BMI가 빈곳에 나이대 별 평균 BMI로 채움\n",
    "\n",
    "for i in range (0,9):\n",
    "    df.loc[(df[\"age_range\"]== labels[i]) & (df[\"bmi\"].isnull()), 'bmi'] = bmi_mean[i] \n",
    "    \n",
    "df['bmi'].isnull().sum()"
   ]
  },
  {
   "cell_type": "code",
   "execution_count": 37,
   "id": "25d00e58",
   "metadata": {},
   "outputs": [
    {
     "data": {
      "text/html": [
       "<div>\n",
       "<style scoped>\n",
       "    .dataframe tbody tr th:only-of-type {\n",
       "        vertical-align: middle;\n",
       "    }\n",
       "\n",
       "    .dataframe tbody tr th {\n",
       "        vertical-align: top;\n",
       "    }\n",
       "\n",
       "    .dataframe thead th {\n",
       "        text-align: right;\n",
       "    }\n",
       "</style>\n",
       "<table border=\"1\" class=\"dataframe\">\n",
       "  <thead>\n",
       "    <tr style=\"text-align: right;\">\n",
       "      <th></th>\n",
       "      <th>gender</th>\n",
       "      <th>age</th>\n",
       "      <th>hypertension</th>\n",
       "      <th>heart_disease</th>\n",
       "      <th>ever_married</th>\n",
       "      <th>work_type</th>\n",
       "      <th>Residence_type</th>\n",
       "      <th>avg_glucose_level</th>\n",
       "      <th>bmi</th>\n",
       "      <th>stroke</th>\n",
       "    </tr>\n",
       "  </thead>\n",
       "  <tbody>\n",
       "    <tr>\n",
       "      <th>0</th>\n",
       "      <td>Male</td>\n",
       "      <td>3.0</td>\n",
       "      <td>0</td>\n",
       "      <td>0</td>\n",
       "      <td>No</td>\n",
       "      <td>children</td>\n",
       "      <td>Rural</td>\n",
       "      <td>95.12</td>\n",
       "      <td>18.0</td>\n",
       "      <td>0</td>\n",
       "    </tr>\n",
       "    <tr>\n",
       "      <th>1</th>\n",
       "      <td>Male</td>\n",
       "      <td>58.0</td>\n",
       "      <td>1</td>\n",
       "      <td>0</td>\n",
       "      <td>Yes</td>\n",
       "      <td>Private</td>\n",
       "      <td>Urban</td>\n",
       "      <td>87.96</td>\n",
       "      <td>39.2</td>\n",
       "      <td>0</td>\n",
       "    </tr>\n",
       "    <tr>\n",
       "      <th>2</th>\n",
       "      <td>Female</td>\n",
       "      <td>8.0</td>\n",
       "      <td>0</td>\n",
       "      <td>0</td>\n",
       "      <td>No</td>\n",
       "      <td>Private</td>\n",
       "      <td>Urban</td>\n",
       "      <td>110.89</td>\n",
       "      <td>17.6</td>\n",
       "      <td>0</td>\n",
       "    </tr>\n",
       "    <tr>\n",
       "      <th>3</th>\n",
       "      <td>Female</td>\n",
       "      <td>70.0</td>\n",
       "      <td>0</td>\n",
       "      <td>0</td>\n",
       "      <td>Yes</td>\n",
       "      <td>Private</td>\n",
       "      <td>Rural</td>\n",
       "      <td>69.04</td>\n",
       "      <td>35.9</td>\n",
       "      <td>0</td>\n",
       "    </tr>\n",
       "    <tr>\n",
       "      <th>4</th>\n",
       "      <td>Male</td>\n",
       "      <td>14.0</td>\n",
       "      <td>0</td>\n",
       "      <td>0</td>\n",
       "      <td>No</td>\n",
       "      <td>Never_worked</td>\n",
       "      <td>Rural</td>\n",
       "      <td>161.28</td>\n",
       "      <td>19.1</td>\n",
       "      <td>0</td>\n",
       "    </tr>\n",
       "    <tr>\n",
       "      <th>...</th>\n",
       "      <td>...</td>\n",
       "      <td>...</td>\n",
       "      <td>...</td>\n",
       "      <td>...</td>\n",
       "      <td>...</td>\n",
       "      <td>...</td>\n",
       "      <td>...</td>\n",
       "      <td>...</td>\n",
       "      <td>...</td>\n",
       "      <td>...</td>\n",
       "    </tr>\n",
       "    <tr>\n",
       "      <th>43395</th>\n",
       "      <td>Female</td>\n",
       "      <td>10.0</td>\n",
       "      <td>0</td>\n",
       "      <td>0</td>\n",
       "      <td>No</td>\n",
       "      <td>children</td>\n",
       "      <td>Urban</td>\n",
       "      <td>58.64</td>\n",
       "      <td>20.4</td>\n",
       "      <td>0</td>\n",
       "    </tr>\n",
       "    <tr>\n",
       "      <th>43396</th>\n",
       "      <td>Female</td>\n",
       "      <td>56.0</td>\n",
       "      <td>0</td>\n",
       "      <td>0</td>\n",
       "      <td>Yes</td>\n",
       "      <td>Govt_job</td>\n",
       "      <td>Urban</td>\n",
       "      <td>213.61</td>\n",
       "      <td>55.4</td>\n",
       "      <td>0</td>\n",
       "    </tr>\n",
       "    <tr>\n",
       "      <th>43397</th>\n",
       "      <td>Female</td>\n",
       "      <td>82.0</td>\n",
       "      <td>1</td>\n",
       "      <td>0</td>\n",
       "      <td>Yes</td>\n",
       "      <td>Private</td>\n",
       "      <td>Urban</td>\n",
       "      <td>91.94</td>\n",
       "      <td>28.9</td>\n",
       "      <td>0</td>\n",
       "    </tr>\n",
       "    <tr>\n",
       "      <th>43398</th>\n",
       "      <td>Male</td>\n",
       "      <td>40.0</td>\n",
       "      <td>0</td>\n",
       "      <td>0</td>\n",
       "      <td>Yes</td>\n",
       "      <td>Private</td>\n",
       "      <td>Urban</td>\n",
       "      <td>99.16</td>\n",
       "      <td>33.2</td>\n",
       "      <td>0</td>\n",
       "    </tr>\n",
       "    <tr>\n",
       "      <th>43399</th>\n",
       "      <td>Female</td>\n",
       "      <td>82.0</td>\n",
       "      <td>0</td>\n",
       "      <td>0</td>\n",
       "      <td>Yes</td>\n",
       "      <td>Private</td>\n",
       "      <td>Urban</td>\n",
       "      <td>79.48</td>\n",
       "      <td>20.6</td>\n",
       "      <td>0</td>\n",
       "    </tr>\n",
       "  </tbody>\n",
       "</table>\n",
       "<p>43400 rows × 10 columns</p>\n",
       "</div>"
      ],
      "text/plain": [
       "       gender   age  hypertension  heart_disease ever_married     work_type  \\\n",
       "0        Male   3.0             0              0           No      children   \n",
       "1        Male  58.0             1              0          Yes       Private   \n",
       "2      Female   8.0             0              0           No       Private   \n",
       "3      Female  70.0             0              0          Yes       Private   \n",
       "4        Male  14.0             0              0           No  Never_worked   \n",
       "...       ...   ...           ...            ...          ...           ...   \n",
       "43395  Female  10.0             0              0           No      children   \n",
       "43396  Female  56.0             0              0          Yes      Govt_job   \n",
       "43397  Female  82.0             1              0          Yes       Private   \n",
       "43398    Male  40.0             0              0          Yes       Private   \n",
       "43399  Female  82.0             0              0          Yes       Private   \n",
       "\n",
       "      Residence_type  avg_glucose_level   bmi  stroke  \n",
       "0              Rural              95.12  18.0       0  \n",
       "1              Urban              87.96  39.2       0  \n",
       "2              Urban             110.89  17.6       0  \n",
       "3              Rural              69.04  35.9       0  \n",
       "4              Rural             161.28  19.1       0  \n",
       "...              ...                ...   ...     ...  \n",
       "43395          Urban              58.64  20.4       0  \n",
       "43396          Urban             213.61  55.4       0  \n",
       "43397          Urban              91.94  28.9       0  \n",
       "43398          Urban              99.16  33.2       0  \n",
       "43399          Urban              79.48  20.6       0  \n",
       "\n",
       "[43400 rows x 10 columns]"
      ]
     },
     "execution_count": 37,
     "metadata": {},
     "output_type": "execute_result"
    }
   ],
   "source": [
    "df=df.drop(\"age_range\",axis=1)\n",
    "df"
   ]
  },
  {
   "cell_type": "code",
   "execution_count": 38,
   "id": "aec8f3f0",
   "metadata": {},
   "outputs": [],
   "source": [
    "y=df[[\"stroke\"]]\n",
    "x=df.drop(\"stroke\", axis=1)"
   ]
  },
  {
   "cell_type": "code",
   "execution_count": 39,
   "id": "4de70236",
   "metadata": {},
   "outputs": [],
   "source": [
    "y=y.values"
   ]
  },
  {
   "cell_type": "markdown",
   "id": "29624a86",
   "metadata": {},
   "source": [
    "### 파이프라인"
   ]
  },
  {
   "cell_type": "code",
   "execution_count": 40,
   "id": "689626fa",
   "metadata": {},
   "outputs": [],
   "source": [
    "from sklearn.pipeline import Pipeline\n",
    "from sklearn.preprocessing import StandardScaler\n",
    "\n",
    "num_attributes =[\"age\",\"avg_glucose_level\",\"bmi\"]\n",
    "x_num = x[num_attributes]\n",
    "\n",
    "num_pipeline = Pipeline([\n",
    " \n",
    " ('std_scaler', StandardScaler()),\n",
    " ])\n",
    "scaled_x_num = num_pipeline.fit_transform(x_num)"
   ]
  },
  {
   "cell_type": "code",
   "execution_count": 41,
   "id": "a579cd08",
   "metadata": {},
   "outputs": [],
   "source": [
    "from sklearn.compose import ColumnTransformer\n",
    "from sklearn.preprocessing import OneHotEncoder\n",
    "\n",
    "\n",
    "num_attribs =[\"age\",\"avg_glucose_level\",\"bmi\"]\n",
    "cat_attribs = [\"gender\",\"hypertension\",\"heart_disease\",\"ever_married\",\"work_type\",\"Residence_type\"]\n",
    "full_pipeline = ColumnTransformer([\n",
    " (\"num\", num_pipeline, num_attribs),\n",
    " (\"cat\", OneHotEncoder(), cat_attribs),\n",
    " ])\n",
    "x_prepared = full_pipeline.fit_transform(x)"
   ]
  },
  {
   "cell_type": "code",
   "execution_count": 42,
   "id": "4e78e3c7",
   "metadata": {},
   "outputs": [
    {
     "data": {
      "text/plain": [
       "(43400, 19)"
      ]
     },
     "execution_count": 42,
     "metadata": {},
     "output_type": "execute_result"
    }
   ],
   "source": [
    "x_prepared.shape"
   ]
  },
  {
   "cell_type": "code",
   "execution_count": 43,
   "id": "ec1850fe",
   "metadata": {},
   "outputs": [
    {
     "data": {
      "text/plain": [
       "(43400, 1)"
      ]
     },
     "execution_count": 43,
     "metadata": {},
     "output_type": "execute_result"
    }
   ],
   "source": [
    "y.shape"
   ]
  },
  {
   "cell_type": "code",
   "execution_count": 44,
   "id": "9888f097",
   "metadata": {},
   "outputs": [
    {
     "data": {
      "text/plain": [
       "<AxesSubplot:xlabel='stroke', ylabel='count'>"
      ]
     },
     "execution_count": 44,
     "metadata": {},
     "output_type": "execute_result"
    },
    {
     "data": {
      "image/png": "[encoded data removed]",
      "text/plain": [
       "<Figure size 432x288 with 1 Axes>"
      ]
     },
     "metadata": {
      "needs_background": "light"
     },
     "output_type": "display_data"
    }
   ],
   "source": [
    "import seaborn as sns\n",
    "\n",
    "sns.countplot(data=\n",
    "              df,x='stroke')"
   ]
  },
  {
   "cell_type": "code",
   "execution_count": 63,
   "id": "f84de91c",
   "metadata": {},
   "outputs": [],
   "source": [
    "# train, validation, test split\n",
    "\n",
    "from sklearn.model_selection import train_test_split\n",
    "\n",
    "X_train, X_test, y_train, y_test = train_test_split(x_prepared, y, test_size=0.4, stratify = y ,random_state=42)\n",
    "\n",
    "X_test, X_val, y_test, y_val =  train_test_split(X_test, y_test, test_size=0.5, stratify= y_test, random_state=42)"
   ]
  },
  {
   "cell_type": "markdown",
   "id": "fa1ba35d",
   "metadata": {},
   "source": [
    "### y값이 불균형이 심해서 train set에서 오버샘플링 하려함"
   ]
  },
  {
   "cell_type": "code",
   "execution_count": 77,
   "id": "7329761c",
   "metadata": {},
   "outputs": [],
   "source": [
    "\n",
    "from imblearn.over_sampling import SMOTE \n",
    "\n",
    "sm = SMOTE(random_state=42)\n",
    "\n",
    "X_train_over,y_train_over = sm.fit_resample(X_train,y_train)\n"
   ]
  },
  {
   "cell_type": "code",
   "execution_count": 78,
   "id": "6a046f55",
   "metadata": {},
   "outputs": [
    {
     "data": {
      "text/plain": [
       "((26040, 19), (51140, 19))"
      ]
     },
     "execution_count": 78,
     "metadata": {},
     "output_type": "execute_result"
    }
   ],
   "source": [
    "X_train.shape , X_train_over.shape"
   ]
  },
  {
   "cell_type": "markdown",
   "id": "44a65b61",
   "metadata": {},
   "source": [
    "#### train sample의 수가 26040개에서 51140개로 늘어난 것을 볼 수 있다."
   ]
  },
  {
   "cell_type": "code",
   "execution_count": 79,
   "id": "38a1ba99",
   "metadata": {},
   "outputs": [
    {
     "data": {
      "text/plain": [
       "array([[0],\n",
       "       [0],\n",
       "       [0],\n",
       "       ...,\n",
       "       [1],\n",
       "       [1],\n",
       "       [1]])"
      ]
     },
     "execution_count": 79,
     "metadata": {},
     "output_type": "execute_result"
    }
   ],
   "source": [
    "y_train_over = y_train_over.reshape(-1,1)\n",
    "y_train_over"
   ]
  },
  {
   "cell_type": "code",
   "execution_count": 89,
   "id": "8b43c4f6",
   "metadata": {},
   "outputs": [],
   "source": [
    "X_train = torch.FloatTensor(X_train_over)\n",
    "y_train = torch.FloatTensor(y_train_over)\n",
    "X_test = torch.FloatTensor(X_test)\n",
    "y_test = torch.FloatTensor(y_test)\n",
    "X_val = torch.FloatTensor(X_val)\n",
    "y_val = torch.FloatTensor(y_val)\n"
   ]
  },
  {
   "cell_type": "code",
   "execution_count": 81,
   "id": "e5e2de19",
   "metadata": {},
   "outputs": [
    {
     "data": {
      "text/plain": [
       "tensor([[0.],\n",
       "        [0.],\n",
       "        [0.],\n",
       "        ...,\n",
       "        [1.],\n",
       "        [1.],\n",
       "        [1.]])"
      ]
     },
     "execution_count": 81,
     "metadata": {},
     "output_type": "execute_result"
    }
   ],
   "source": [
    "y_train"
   ]
  },
  {
   "cell_type": "markdown",
   "id": "d4140f32",
   "metadata": {},
   "source": [
    "### 모델링"
   ]
  },
  {
   "cell_type": "code",
   "execution_count": 82,
   "id": "19270b1d",
   "metadata": {},
   "outputs": [],
   "source": [
    " import matplotlib.pyplot as plt"
   ]
  },
  {
   "cell_type": "code",
   "execution_count": 99,
   "id": "348346b8",
   "metadata": {},
   "outputs": [],
   "source": [
    "# optimizer, learning rate, epoch 을 입력 받는 함수\n",
    "\n",
    "\n",
    "\n",
    "def mlp(opt,lr,epoch):\n",
    "    \n",
    "    \n",
    "    model = nn.Sequential(\n",
    "          nn.Linear(19, 100, bias=True),  # input_layer = 19, hidden_layer1 = 100 \n",
    "          nn.LeakyReLU(),                 # 은닉층 활성화 함수로 leaky relu 사용\n",
    "          nn.Linear(100, 100, bias=True), # hidden_layer1 = 100, hidden_layer2 = 100\n",
    "          nn.LeakyReLU(),\n",
    "          nn.Linear(100, 1, bias=True),   # hidden_layer3 = 100, output_layer = 1\n",
    "          nn.Sigmoid()                    # 이진 분류이므로 출력층의 활성화 함수는 시그모이드\n",
    "          ).to(device)\n",
    "        \n",
    "        \n",
    "        \n",
    "    loss_fn = nn.BCELoss().to(device)\n",
    "    optimizer = opt(model.parameters(), lr=lr)\n",
    "    losses = []\n",
    "    \n",
    "    val_loss=[]\n",
    "    for epoch in range(epoch):\n",
    "\n",
    "        optimizer.zero_grad()\n",
    "        # forward 연산\n",
    "        hypothesis = model(X_train)\n",
    "\n",
    "        # 비용 함수\n",
    "        cost = loss_fn(hypothesis, y_train)\n",
    "        cost.backward()\n",
    "        optimizer.step()\n",
    "        losses.append(cost.item()) # 값만 가져오기 위해서 .item()\n",
    "\n",
    "       \n",
    "        val_pred= model(X_val)\n",
    "        val_cost=loss_fn(val_pred, y_val)\n",
    "        val_loss.append(val_cost.item())\n",
    "        \n",
    "        # 50의 배수에 해당되는 에포크마다 비용을 출력\n",
    "        if epoch % 50 == 0:\n",
    "            print(epoch, cost.item())\n",
    "            \n",
    "    plt.plot(losses, label = 'train_loss')\n",
    "    plt.plot(val_loss, label='val_loss')\n",
    "    plt.show()\n",
    "    \n",
    "   \n",
    "    "
   ]
  },
  {
   "cell_type": "markdown",
   "id": "2fd61960",
   "metadata": {},
   "source": [
    "### SGD를 사용했을 때"
   ]
  },
  {
   "cell_type": "code",
   "execution_count": 100,
   "id": "b1c048c9",
   "metadata": {},
   "outputs": [
    {
     "name": "stdout",
     "output_type": "stream",
     "text": [
      "0 0.6990976333618164\n",
      "50 0.44280803203582764\n"
     ]
    },
    {
     "data": {
      "image/png": "[encoded data removed]",
      "text/plain": [
       "<Figure size 432x288 with 1 Axes>"
      ]
     },
     "metadata": {
      "needs_background": "light"
     },
     "output_type": "display_data"
    }
   ],
   "source": [
    "mlp(optim.SGD,0.7,100)"
   ]
  },
  {
   "cell_type": "code",
   "execution_count": 101,
   "id": "3c9961cc",
   "metadata": {},
   "outputs": [
    {
     "name": "stdout",
     "output_type": "stream",
     "text": [
      "0 0.6875328421592712\n",
      "50 0.44871851801872253\n"
     ]
    },
    {
     "data": {
      "image/png": "[encoded data removed]",
      "text/plain": [
       "<Figure size 432x288 with 1 Axes>"
      ]
     },
     "metadata": {
      "needs_background": "light"
     },
     "output_type": "display_data"
    }
   ],
   "source": [
    "mlp(optim.SGD,0.5,100)"
   ]
  },
  {
   "cell_type": "code",
   "execution_count": 104,
   "id": "597e7cf6",
   "metadata": {},
   "outputs": [
    {
     "name": "stdout",
     "output_type": "stream",
     "text": [
      "0 0.6952810883522034\n",
      "50 0.5455443263053894\n",
      "100 0.46349671483039856\n",
      "150 0.4528028964996338\n",
      "200 0.4483637809753418\n",
      "250 0.44510555267333984\n",
      "300 0.44260406494140625\n",
      "350 0.44051018357276917\n",
      "400 0.43867751955986023\n",
      "450 0.4370080232620239\n"
     ]
    },
    {
     "data": {
      "image/png": "[encoded data removed]",
      "text/plain": [
       "<Figure size 432x288 with 1 Axes>"
      ]
     },
     "metadata": {
      "needs_background": "light"
     },
     "output_type": "display_data"
    }
   ],
   "source": [
    "mlp(optim.SGD,0.1,500)"
   ]
  },
  {
   "cell_type": "markdown",
   "id": "ef3a9453",
   "metadata": {},
   "source": [
    "#### lr 이 컸을때 overfitting 이 일어난것을 볼 수 있다."
   ]
  },
  {
   "cell_type": "code",
   "execution_count": 105,
   "id": "7011e3fa",
   "metadata": {},
   "outputs": [
    {
     "name": "stdout",
     "output_type": "stream",
     "text": [
      "0 0.6950837969779968\n",
      "50 50.0\n",
      "100 50.0\n",
      "150 50.0\n",
      "200 50.0\n",
      "250 50.0\n",
      "300 50.0\n",
      "350 50.0\n",
      "400 50.0\n",
      "450 50.0\n"
     ]
    },
    {
     "data": {
      "image/png": "[encoded data removed]",
      "text/plain": [
       "<Figure size 432x288 with 1 Axes>"
      ]
     },
     "metadata": {
      "needs_background": "light"
     },
     "output_type": "display_data"
    }
   ],
   "source": [
    "mlp(optim.Adam,0.5,500)\n",
    "\n",
    "# 결과가 비정상적인데 원인을 잘 모르겠음"
   ]
  },
  {
   "cell_type": "code",
   "execution_count": 108,
   "id": "6887ae23",
   "metadata": {},
   "outputs": [
    {
     "name": "stdout",
     "output_type": "stream",
     "text": [
      "0 0.7047443389892578\n",
      "50 0.42704683542251587\n"
     ]
    },
    {
     "data": {
      "image/png": "[encoded data removed]",
      "text/plain": [
       "<Figure size 432x288 with 1 Axes>"
      ]
     },
     "metadata": {
      "needs_background": "light"
     },
     "output_type": "display_data"
    }
   ],
   "source": [
    "mlp(optim.Adam,0.1,100)"
   ]
  },
  {
   "cell_type": "code",
   "execution_count": 107,
   "id": "7542186c",
   "metadata": {},
   "outputs": [
    {
     "name": "stdout",
     "output_type": "stream",
     "text": [
      "0 0.6912195682525635\n",
      "50 0.3871002197265625\n"
     ]
    },
    {
     "data": {
      "image/png": "[encoded data removed]",
      "text/plain": [
       "<Figure size 432x288 with 1 Axes>"
      ]
     },
     "metadata": {
      "needs_background": "light"
     },
     "output_type": "display_data"
    }
   ],
   "source": [
    "mlp(optim.Adam,0.01,100)"
   ]
  },
  {
   "cell_type": "code",
   "execution_count": 109,
   "id": "28697ef0",
   "metadata": {},
   "outputs": [
    {
     "name": "stdout",
     "output_type": "stream",
     "text": [
      "0 0.6896964907646179\n",
      "50 21.221973419189453\n"
     ]
    },
    {
     "data": {
      "image/png": "[encoded data removed]",
      "text/plain": [
       "<Figure size 432x288 with 1 Axes>"
      ]
     },
     "metadata": {
      "needs_background": "light"
     },
     "output_type": "display_data"
    }
   ],
   "source": [
    "mlp(optim.Adam,0.2,100)"
   ]
  },
  {
   "cell_type": "code",
   "execution_count": 112,
   "id": "ff0e288e",
   "metadata": {},
   "outputs": [
    {
     "name": "stdout",
     "output_type": "stream",
     "text": [
      "0 0.6938520669937134\n",
      "50 0.44958433508872986\n",
      "100 0.4264977276325226\n",
      "150 0.40631088614463806\n",
      "200 0.37688323855400085\n",
      "250 0.34535038471221924\n",
      "300 0.3200770616531372\n",
      "350 0.2997824251651764\n",
      "400 0.28507038950920105\n",
      "450 0.2715873420238495\n"
     ]
    },
    {
     "data": {
      "image/png": "[encoded data removed]",
      "text/plain": [
       "<Figure size 432x288 with 1 Axes>"
      ]
     },
     "metadata": {
      "needs_background": "light"
     },
     "output_type": "display_data"
    }
   ],
   "source": [
    "mlp(optim.Adam,0.001,500)"
   ]
  },
  {
   "cell_type": "markdown",
   "id": "e12d962c",
   "metadata": {},
   "source": [
    "### Adam optimizer의 경우 lr 이 작을 때 validation loss 도 감소하는 추세를 보인다."
   ]
  },
  {
   "cell_type": "code",
   "execution_count": 118,
   "id": "2d8a85f0",
   "metadata": {},
   "outputs": [],
   "source": [
    " model = nn.Sequential(\n",
    "          nn.Linear(19, 100, bias=True),  # input_layer = 19, hidden_layer1 = 100 \n",
    "          nn.LeakyReLU(),                 # 은닉층 활성화 함수로 leaky relu 사용\n",
    "          nn.Linear(100, 100, bias=True), # hidden_layer1 = 100, hidden_layer2 = 100\n",
    "          nn.LeakyReLU(),\n",
    "          nn.Linear(100, 1, bias=True),   # hidden_layer3 = 100, output_layer = 1\n",
    "          nn.Sigmoid()                    # 이진 분류이므로 출력층의 활성화 함수는 시그모이드\n",
    "          ).to(device)\n",
    "        \n",
    "        \n",
    "        \n",
    "loss_fn = nn.BCELoss().to(device)\n",
    "optimizer = optim.Adam(model.parameters(), lr=0.001)"
   ]
  },
  {
   "cell_type": "code",
   "execution_count": 130,
   "id": "69f39a79",
   "metadata": {},
   "outputs": [],
   "source": [
    "for epoch in range(500):\n",
    "\n",
    "        # forward 연산\n",
    "        hypothesis = model(X_train)\n",
    "\n",
    "        # 비용 함수\n",
    "        cost = loss_fn(hypothesis, y_train)\n",
    "        \n",
    "        \n",
    "        optimizer.zero_grad()\n",
    "        cost.backward()\n",
    "        optimizer.step()"
   ]
  },
  {
   "cell_type": "code",
   "execution_count": 131,
   "id": "c77bab7d",
   "metadata": {},
   "outputs": [
    {
     "name": "stdout",
     "output_type": "stream",
     "text": [
      "model의 output은 :  tensor([0.0241])\n",
      "sigmoid를 한 후의 output은 tensor([False])\n",
      "accuracy는 0.8557603686635945\n"
     ]
    }
   ],
   "source": [
    "with torch.no_grad():\n",
    "\n",
    "    model = model.to('cpu')\n",
    "    y_pred = model(X_test)\n",
    "\n",
    "   \n",
    "    \n",
    "    predicted = y_pred >= torch.FloatTensor([0.5])\n",
    "    print(f'model의 output은 :  {y_pred[0]}' )\n",
    "    print(f'sigmoid를 한 후의 output은 {predicted[0]}')\n",
    "    accuracy = (accuracy_score(predicted,y_test))\n",
    "    print(f'accuracy는 {accuracy}')"
   ]
  },
  {
   "cell_type": "code",
   "execution_count": null,
   "id": "ad84ee61",
   "metadata": {},
   "outputs": [],
   "source": []
  }
 ],
 "metadata": {
  "kernelspec": {
   "display_name": "Python 3 (ipykernel)",
   "language": "python",
   "name": "python3"
  },
  "language_info": {
   "codemirror_mode": {
    "name": "ipython",
    "version": 3
   },
   "file_extension": ".py",
   "mimetype": "text/x-python",
   "name": "python",
   "nbconvert_exporter": "python",
   "pygments_lexer": "ipython3",
   "version": "3.9.7"
  }
 },
 "nbformat": 4,
 "nbformat_minor": 5
}
