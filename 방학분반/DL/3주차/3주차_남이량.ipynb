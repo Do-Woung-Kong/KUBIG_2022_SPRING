{
  "nbformat": 4,
  "nbformat_minor": 0,
  "metadata": {
    "colab": {
      "name": "3주차_남이량.ipynb",
      "provenance": [],
      "collapsed_sections": []
    },
    "kernelspec": {
      "name": "python3",
      "display_name": "Python 3"
    },
    "language_info": {
      "name": "python"
    },
    "accelerator": "GPU"
  },
  "cells": [
    {
      "cell_type": "code",
      "execution_count": 1,
      "metadata": {
        "id": "dW6rRb2ZAqMT"
      },
      "outputs": [],
      "source": [
        "import torch\n",
        "from torch import nn, optim\n",
        "from torch.utils.data import Dataset\n",
        "from torch.utils.data import DataLoader\n",
        "from torch.utils.data import  TensorDataset, DataLoader\n",
        "from sklearn.model_selection import train_test_split\n",
        "from sklearn.metrics import accuracy_score\n",
        "\n",
        "from sklearn.datasets import load_wine\n",
        "import numpy as np\n",
        "import pandas as pd"
      ]
    },
    {
      "cell_type": "code",
      "source": [
        "device = 'cuda' if torch.cuda.is_available() else 'cpu'\n",
        "\n",
        "torch.manual_seed(777)\n",
        "if device == 'cuda':\n",
        "    torch.cuda.manual_seed_all(777)"
      ],
      "metadata": {
        "id": "vl80dIahBs65"
      },
      "execution_count": 2,
      "outputs": []
    },
    {
      "cell_type": "code",
      "source": [
        "wine = load_wine()\n",
        "df = pd.DataFrame(wine.data, columns=wine.feature_names)\n",
        "df['target'] = wine.target"
      ],
      "metadata": {
        "id": "LQdM8DM9CJM0"
      },
      "execution_count": 3,
      "outputs": []
    },
    {
      "cell_type": "code",
      "source": [
        "wine2 = pd.DataFrame(df.drop(['alcohol','ash','magnesium','color_intensity'],axis = 1))"
      ],
      "metadata": {
        "id": "yn4aD5nZCZW9"
      },
      "execution_count": 4,
      "outputs": []
    },
    {
      "cell_type": "code",
      "source": [
        "input = wine2.drop('target', axis = 1).to_numpy()\n",
        "output = wine2['target'].to_numpy()\n",
        "\n",
        "X_train, X_test, y_train, y_test = train_test_split(input, output, test_size=0.33, random_state=2022,stratify=wine2.target,shuffle = True)\n",
        "\n",
        "#X_train = torch.FloatTensor(X_train).to(device)\n",
        "#y_train = torch.LongTensor(y_train).to(device)\n",
        "#X_test = torch.FloatTensor(X_test)\n",
        "#y_test = torch.LongTensor(y_test)"
      ],
      "metadata": {
        "id": "K5-NCD5lCeS2"
      },
      "execution_count": 5,
      "outputs": []
    },
    {
      "cell_type": "code",
      "source": [
        "print(input[0])"
      ],
      "metadata": {
        "colab": {
          "base_uri": "https://localhost:8080/"
        },
        "id": "p5a5ZNHJvRh8",
        "outputId": "cae6f994-ce5d-48ca-fa6e-8fc6eeb559bc"
      },
      "execution_count": 6,
      "outputs": [
        {
          "output_type": "stream",
          "name": "stdout",
          "text": [
            "[1.710e+00 1.560e+01 2.800e+00 3.060e+00 2.800e-01 2.290e+00 1.040e+00\n",
            " 3.920e+00 1.065e+03]\n"
          ]
        }
      ]
    },
    {
      "cell_type": "code",
      "source": [
        "print(output)"
      ],
      "metadata": {
        "colab": {
          "base_uri": "https://localhost:8080/"
        },
        "id": "gKyayJxNvT6z",
        "outputId": "d47f8431-ba16-44db-b509-f6c02457f7e4"
      },
      "execution_count": 7,
      "outputs": [
        {
          "output_type": "stream",
          "name": "stdout",
          "text": [
            "[0 0 0 0 0 0 0 0 0 0 0 0 0 0 0 0 0 0 0 0 0 0 0 0 0 0 0 0 0 0 0 0 0 0 0 0 0\n",
            " 0 0 0 0 0 0 0 0 0 0 0 0 0 0 0 0 0 0 0 0 0 0 1 1 1 1 1 1 1 1 1 1 1 1 1 1 1\n",
            " 1 1 1 1 1 1 1 1 1 1 1 1 1 1 1 1 1 1 1 1 1 1 1 1 1 1 1 1 1 1 1 1 1 1 1 1 1\n",
            " 1 1 1 1 1 1 1 1 1 1 1 1 1 1 1 1 1 1 1 2 2 2 2 2 2 2 2 2 2 2 2 2 2 2 2 2 2\n",
            " 2 2 2 2 2 2 2 2 2 2 2 2 2 2 2 2 2 2 2 2 2 2 2 2 2 2 2 2 2 2]\n"
          ]
        }
      ]
    },
    {
      "cell_type": "code",
      "source": [
        "class CustomDataset(Dataset):\n",
        "  def __init__(self):\n",
        "    \n",
        "    self.x_data = X_train\n",
        "    self.y_data = [[y] for y in y_train]\n",
        "\n",
        "  def __len__(self):\n",
        "\n",
        "    return len(self.x_data)\n",
        "\n",
        "  def __getitem__(self, idx):\n",
        "\n",
        "    x = torch.FloatTensor(self.x_data[idx]).to(device)\n",
        "    y = torch.LongTensor(self.y_data[idx]).to(device)\n",
        "\n",
        "    return x,y"
      ],
      "metadata": {
        "id": "ElDKJL3rIUtj"
      },
      "execution_count": 8,
      "outputs": []
    },
    {
      "cell_type": "code",
      "source": [
        "batch_size = 8\n",
        "\n",
        "dataset = CustomDataset()\n",
        "dataloader = DataLoader(dataset, batch_size=batch_size) #sampler를 만들었다면, sampler를 파라미터로 넣어줄 수 있음 : https://hyelimkungkung.tistory.com/29?category=935193 참고 ㅎㅎ"
      ],
      "metadata": {
        "id": "GKG7p55sIX_9"
      },
      "execution_count": 9,
      "outputs": []
    },
    {
      "cell_type": "code",
      "source": [
        "class Model(torch.nn.Module):\n",
        "\n",
        "  def __init__(self):\n",
        "    super(Model, self).__init__()\n",
        "    self.layer1 = nn.Sequential(\n",
        "          nn.Linear(9, 50, bias=True),\n",
        "          nn.RReLU(),\n",
        "\n",
        "\n",
        "        nn.BatchNorm1d(50)\n",
        "        )\n",
        "    self.layer2 = nn.Sequential(\n",
        "          nn.Linear(50, 50, bias=True), \n",
        "        nn.RReLU()\n",
        "    )\n",
        "    self.layer3 = nn.Sequential(\n",
        "          nn.Linear(50, 50, bias=True), \n",
        "        nn.RReLU()\n",
        "    )\n",
        "    self.layer4 = nn.Sequential(\n",
        "        nn.Linear(50, 3, bias=True), \n",
        "        nn.Softmax()\n",
        "    )\n",
        "\n",
        "  def forward(self,x):\n",
        "    output = self.layer1(x)\n",
        "    output = self.layer2(output)\n",
        "    output = self.layer3(output)\n",
        "    output = self.layer4(output)\n",
        "    return output"
      ],
      "metadata": {
        "id": "GPhF-Y6lJyzq"
      },
      "execution_count": 10,
      "outputs": []
    },
    {
      "cell_type": "code",
      "source": [
        "def init_weights(layer):\n",
        "    if isinstance(layer, nn.Linear):\n",
        "        torch.nn.init.xavier_uniform(layer.weight)\n",
        "        layer.bias.data.fill_(0.01)"
      ],
      "metadata": {
        "id": "ZeM36nmDtKrJ"
      },
      "execution_count": 11,
      "outputs": []
    },
    {
      "cell_type": "code",
      "source": [
        "model = Model().to(device)\n",
        "model.apply(init_weights)"
      ],
      "metadata": {
        "colab": {
          "base_uri": "https://localhost:8080/"
        },
        "id": "no1j2zeZtdJJ",
        "outputId": "6bd70c1d-8540-45b7-ea10-565914670faf"
      },
      "execution_count": 12,
      "outputs": [
        {
          "output_type": "stream",
          "name": "stderr",
          "text": [
            "/usr/local/lib/python3.7/dist-packages/ipykernel_launcher.py:3: UserWarning: nn.init.xavier_uniform is now deprecated in favor of nn.init.xavier_uniform_.\n",
            "  This is separate from the ipykernel package so we can avoid doing imports until\n"
          ]
        },
        {
          "output_type": "execute_result",
          "data": {
            "text/plain": [
              "Model(\n",
              "  (layer1): Sequential(\n",
              "    (0): Linear(in_features=9, out_features=50, bias=True)\n",
              "    (1): RReLU(lower=0.125, upper=0.3333333333333333)\n",
              "    (2): BatchNorm1d(50, eps=1e-05, momentum=0.1, affine=True, track_running_stats=True)\n",
              "  )\n",
              "  (layer2): Sequential(\n",
              "    (0): Linear(in_features=50, out_features=50, bias=True)\n",
              "    (1): RReLU(lower=0.125, upper=0.3333333333333333)\n",
              "  )\n",
              "  (layer3): Sequential(\n",
              "    (0): Linear(in_features=50, out_features=50, bias=True)\n",
              "    (1): RReLU(lower=0.125, upper=0.3333333333333333)\n",
              "  )\n",
              "  (layer4): Sequential(\n",
              "    (0): Linear(in_features=50, out_features=3, bias=True)\n",
              "    (1): Softmax(dim=None)\n",
              "  )\n",
              ")"
            ]
          },
          "metadata": {},
          "execution_count": 12
        }
      ]
    },
    {
      "cell_type": "code",
      "source": [
        "print(model)"
      ],
      "metadata": {
        "colab": {
          "base_uri": "https://localhost:8080/"
        },
        "id": "kFsD5a8itnFl",
        "outputId": "6ad91ab4-f081-4789-e763-8eb07de0d8fa"
      },
      "execution_count": null,
      "outputs": [
        {
          "output_type": "stream",
          "name": "stdout",
          "text": [
            "Model(\n",
            "  (layer1): Sequential(\n",
            "    (0): Linear(in_features=9, out_features=50, bias=True)\n",
            "    (1): RReLU(lower=0.125, upper=0.3333333333333333)\n",
            "    (2): BatchNorm1d(50, eps=1e-05, momentum=0.1, affine=True, track_running_stats=True)\n",
            "  )\n",
            "  (layer2): Sequential(\n",
            "    (0): Linear(in_features=50, out_features=50, bias=True)\n",
            "    (1): RReLU(lower=0.125, upper=0.3333333333333333)\n",
            "  )\n",
            "  (layer3): Sequential(\n",
            "    (0): Linear(in_features=50, out_features=50, bias=True)\n",
            "    (1): RReLU(lower=0.125, upper=0.3333333333333333)\n",
            "  )\n",
            "  (layer4): Sequential(\n",
            "    (0): Linear(in_features=50, out_features=3, bias=True)\n",
            "    (1): Softmax(dim=None)\n",
            "  )\n",
            ")\n"
          ]
        }
      ]
    },
    {
      "cell_type": "code",
      "source": [
        "loss = nn.CrossEntropyLoss().to(device)\n",
        "optimizer = optim.SGD(model.parameters(), lr=0.05)"
      ],
      "metadata": {
        "id": "gRnmQg6Qtonf"
      },
      "execution_count": 13,
      "outputs": []
    },
    {
      "cell_type": "code",
      "source": [
        "losses = []\n",
        "for epoch in range(2000):\n",
        "\n",
        "  for x, y in dataloader:\n",
        "    optimizer.zero_grad()\n",
        "    x = x.to(device)\n",
        "    y = y.to(device)\n",
        "\n",
        "    # forward 연산\n",
        "    hypothesis = model(x)\n",
        "\n",
        "    # 비용 함수\n",
        "    y = y.squeeze()\n",
        "    cost = loss(hypothesis, y)\n",
        "    cost.backward()\n",
        "    optimizer.step()\n",
        "  losses.append(cost.item()) # 값만 가져오기 위해서 .item()\n",
        "\n",
        "  # 10의 배수에 해당되는 에포크마다 비용을 출력\n",
        "  if epoch % 10 == 0:\n",
        "      print(epoch, cost.item())"
      ],
      "metadata": {
        "id": "XurYUoqutsDz"
      },
      "execution_count": null,
      "outputs": []
    },
    {
      "cell_type": "code",
      "source": [
        "import matplotlib.pyplot as plt\n",
        "\n",
        "plt.plot(losses)\n",
        "plt.show()"
      ],
      "metadata": {
        "colab": {
          "base_uri": "https://localhost:8080/",
          "height": 265
        },
        "id": "T5YhZY7ryMGD",
        "outputId": "fdb2cc71-8008-4eb0-a3b6-44d123f7cf05"
      },
      "execution_count": 15,
      "outputs": [
        {
          "output_type": "display_data",
          "data": {
            "image/png": "[encoded data removed]",
            "text/plain": [
              "<Figure size 432x288 with 1 Axes>"
            ]
          },
          "metadata": {
            "needs_background": "light"
          }
        }
      ]
    },
    {
      "cell_type": "code",
      "source": [
        "with torch.no_grad():\n",
        "  model = model.to('cpu')\n",
        "  X_test = torch.FloatTensor(X_test)\n",
        "  y_pred = model(X_test)\n",
        "\n",
        "  y_pred = y_pred.detach().numpy() # tensor를 numpy로 바꿈\n",
        "  predicted = np.argmax(y_pred,axis=1)\n",
        "  accuracy = (accuracy_score(predicted,y_test))\n",
        "  print(f'model의 output은 :  {y_pred[0]}' )\n",
        "  print(f'argmax를 한 후의 output은 {predicted[0]}')\n",
        "  print(f'accuracy는 {accuracy}')"
      ],
      "metadata": {
        "id": "reGh85ss1GsK",
        "colab": {
          "base_uri": "https://localhost:8080/"
        },
        "outputId": "445df599-c556-4cc4-8e24-3f31c6efeb54"
      },
      "execution_count": 17,
      "outputs": [
        {
          "output_type": "stream",
          "name": "stdout",
          "text": [
            "model의 output은 :  [0.0024401 0.        0.9975599]\n",
            "argmax를 한 후의 output은 2\n",
            "accuracy는 0.847457627118644\n"
          ]
        },
        {
          "output_type": "stream",
          "name": "stderr",
          "text": [
            "/usr/local/lib/python3.7/dist-packages/torch/nn/modules/container.py:141: UserWarning: Implicit dimension choice for softmax has been deprecated. Change the call to include dim=X as an argument.\n",
            "  input = module(input)\n"
          ]
        }
      ]
    },
    {
      "cell_type": "markdown",
      "source": [
        "reakyrelu는 84프로의 정확도"
      ],
      "metadata": {
        "id": "pU28HkNv3acs"
      }
    },
    {
      "cell_type": "code",
      "source": [
        "class Model2(torch.nn.Module):\n",
        "\n",
        "  def __init__(self):\n",
        "    super(Model2, self).__init__()\n",
        "    self.layer1 = nn.Sequential(\n",
        "          nn.Linear(9, 50, bias=True),\n",
        "          nn.ReLU(),\n",
        "\n",
        "\n",
        "        nn.BatchNorm1d(50)\n",
        "        )\n",
        "    self.layer2 = nn.Sequential(\n",
        "          nn.Linear(50, 50, bias=True), \n",
        "        nn.ReLU()\n",
        "    )\n",
        "    self.layer3 = nn.Sequential(\n",
        "          nn.Linear(50, 50, bias=True), \n",
        "        nn.ReLU()\n",
        "    )\n",
        "    self.layer4 = nn.Sequential(\n",
        "        nn.Linear(50, 3, bias=True), \n",
        "        nn.Softmax()\n",
        "    )\n",
        "\n",
        "  def forward(self,x):\n",
        "    output = self.layer1(x)\n",
        "    output = self.layer2(output)\n",
        "    output = self.layer3(output)\n",
        "    output = self.layer4(output)\n",
        "    return output"
      ],
      "metadata": {
        "id": "5fIzR3TRLOhl"
      },
      "execution_count": 18,
      "outputs": []
    },
    {
      "cell_type": "code",
      "source": [
        "model2 = Model2().to(device)\n",
        "model2.apply(init_weights)"
      ],
      "metadata": {
        "colab": {
          "base_uri": "https://localhost:8080/"
        },
        "id": "AgkM4IjfMdpD",
        "outputId": "1a3beacd-8d0b-4741-daec-f1d1d6459b4b"
      },
      "execution_count": 19,
      "outputs": [
        {
          "output_type": "stream",
          "name": "stderr",
          "text": [
            "/usr/local/lib/python3.7/dist-packages/ipykernel_launcher.py:3: UserWarning: nn.init.xavier_uniform is now deprecated in favor of nn.init.xavier_uniform_.\n",
            "  This is separate from the ipykernel package so we can avoid doing imports until\n"
          ]
        },
        {
          "output_type": "execute_result",
          "data": {
            "text/plain": [
              "Model2(\n",
              "  (layer1): Sequential(\n",
              "    (0): Linear(in_features=9, out_features=50, bias=True)\n",
              "    (1): ReLU()\n",
              "    (2): BatchNorm1d(50, eps=1e-05, momentum=0.1, affine=True, track_running_stats=True)\n",
              "  )\n",
              "  (layer2): Sequential(\n",
              "    (0): Linear(in_features=50, out_features=50, bias=True)\n",
              "    (1): ReLU()\n",
              "  )\n",
              "  (layer3): Sequential(\n",
              "    (0): Linear(in_features=50, out_features=50, bias=True)\n",
              "    (1): ReLU()\n",
              "  )\n",
              "  (layer4): Sequential(\n",
              "    (0): Linear(in_features=50, out_features=3, bias=True)\n",
              "    (1): Softmax(dim=None)\n",
              "  )\n",
              ")"
            ]
          },
          "metadata": {},
          "execution_count": 19
        }
      ]
    },
    {
      "cell_type": "code",
      "source": [
        "loss2 = nn.CrossEntropyLoss().to(device)\n",
        "optimizer2 = optim.SGD(model2.parameters(), lr=0.05)"
      ],
      "metadata": {
        "id": "06S7FjbBNAiH"
      },
      "execution_count": 20,
      "outputs": []
    },
    {
      "cell_type": "code",
      "source": [
        "  losses = []\n",
        "\n",
        "  for epoch in range(2000):\n",
        "    for x, y in dataloader:\n",
        "      optimizer2.zero_grad()\n",
        "      x = x.to(device)\n",
        "      y = y.to(device)\n",
        "\n",
        "      hypothesis = model2(x)\n",
        "\n",
        "      y = y.squeeze()\n",
        "      cost = loss2(hypothesis, y)\n",
        "      cost.backward()\n",
        "      optimizer2.step()\n",
        "    losses.append(cost.item()) \n",
        "\n",
        "    if epoch % 10 == 0:\n",
        "        print(epoch, cost.item())\n"
      ],
      "metadata": {
        "id": "uNtmmlS5NJ3f"
      },
      "execution_count": null,
      "outputs": []
    },
    {
      "cell_type": "code",
      "source": [
        "plt.plot(losses)\n",
        "plt.show()"
      ],
      "metadata": {
        "colab": {
          "base_uri": "https://localhost:8080/",
          "height": 265
        },
        "id": "lltDOPHJO-yc",
        "outputId": "46fe184e-5a87-4d78-b443-e8bda6a3096d"
      },
      "execution_count": 23,
      "outputs": [
        {
          "output_type": "display_data",
          "data": {
            "image/png": "[encoded data removed]",
            "text/plain": [
              "<Figure size 432x288 with 1 Axes>"
            ]
          },
          "metadata": {
            "needs_background": "light"
          }
        }
      ]
    },
    {
      "cell_type": "code",
      "source": [
        "with torch.no_grad():\n",
        "  model2 = model2.to('cpu')\n",
        "  X_test = torch.FloatTensor(X_test)\n",
        "  y_pred = model2(X_test)\n",
        "\n",
        "  y_pred = y_pred.detach().numpy() # tensor를 numpy로 바꿈\n",
        "  predicted = np.argmax(y_pred,axis=1)\n",
        "  accuracy = (accuracy_score(predicted,y_test))\n",
        "  print(f'model의 output은 :  {y_pred[0]}' )\n",
        "  print(f'argmax를 한 후의 output은 {predicted[0]}')\n",
        "  print(f'accuracy는 {accuracy}')"
      ],
      "metadata": {
        "id": "6Tc2U3_71Gj2",
        "colab": {
          "base_uri": "https://localhost:8080/"
        },
        "outputId": "ac517dc9-f206-4493-f1e6-01c9723572c4"
      },
      "execution_count": 25,
      "outputs": [
        {
          "output_type": "stream",
          "name": "stdout",
          "text": [
            "model의 output은 :  [1.000000e+00 3.594666e-27 2.579021e-39]\n",
            "argmax를 한 후의 output은 0\n",
            "accuracy는 0.6949152542372882\n"
          ]
        },
        {
          "output_type": "stream",
          "name": "stderr",
          "text": [
            "/usr/local/lib/python3.7/dist-packages/torch/nn/modules/container.py:141: UserWarning: Implicit dimension choice for softmax has been deprecated. Change the call to include dim=X as an argument.\n",
            "  input = module(input)\n"
          ]
        }
      ]
    },
    {
      "cell_type": "markdown",
      "source": [
        "그냥 relu는 64프로의 정확도"
      ],
      "metadata": {
        "id": "Kmewzn3F3jV-"
      }
    },
    {
      "cell_type": "code",
      "source": [
        "class Model3(torch.nn.Module):\n",
        "\n",
        "  def __init__(self):\n",
        "    super(Model3, self).__init__()\n",
        "    self.layer1 = nn.Sequential(\n",
        "          nn.Linear(9, 50, bias=True),\n",
        "          nn.RReLU(),\n",
        "\n",
        "\n",
        "        nn.BatchNorm1d(50)\n",
        "        )\n",
        "    self.layer2 = nn.Sequential(\n",
        "          nn.Linear(50, 50, bias=True), \n",
        "        nn.RReLU()\n",
        "    )\n",
        "    self.layer3 = nn.Sequential(\n",
        "          nn.Linear(50, 50, bias=True), \n",
        "        nn.RReLU()\n",
        "    )\n",
        "    self.layer4 = nn.Sequential(\n",
        "          nn.Linear(50, 50, bias=True), \n",
        "        nn.RReLU()\n",
        "    )\n",
        "    self.layer5 = nn.Sequential(\n",
        "        nn.Linear(50, 3, bias=True), \n",
        "        nn.Softmax()\n",
        "    )\n",
        "\n",
        "  def forward(self,x):\n",
        "    output = self.layer1(x)\n",
        "    output = self.layer2(output)\n",
        "    output = self.layer3(output)\n",
        "    output = self.layer4(output)\n",
        "    output = self.layer5(output)\n",
        "    return output"
      ],
      "metadata": {
        "id": "wTEqLcRX3mEM"
      },
      "execution_count": 28,
      "outputs": []
    },
    {
      "cell_type": "code",
      "source": [
        "model3 = Model3().to(device)\n",
        "model3.apply(init_weights)"
      ],
      "metadata": {
        "colab": {
          "base_uri": "https://localhost:8080/"
        },
        "id": "HOdGgRC-4jon",
        "outputId": "dc6b12c9-d391-4797-e7c6-84bd9b3b231f"
      },
      "execution_count": 29,
      "outputs": [
        {
          "output_type": "stream",
          "name": "stderr",
          "text": [
            "/usr/local/lib/python3.7/dist-packages/ipykernel_launcher.py:3: UserWarning: nn.init.xavier_uniform is now deprecated in favor of nn.init.xavier_uniform_.\n",
            "  This is separate from the ipykernel package so we can avoid doing imports until\n"
          ]
        },
        {
          "output_type": "execute_result",
          "data": {
            "text/plain": [
              "Model3(\n",
              "  (layer1): Sequential(\n",
              "    (0): Linear(in_features=9, out_features=50, bias=True)\n",
              "    (1): RReLU(lower=0.125, upper=0.3333333333333333)\n",
              "    (2): BatchNorm1d(50, eps=1e-05, momentum=0.1, affine=True, track_running_stats=True)\n",
              "  )\n",
              "  (layer2): Sequential(\n",
              "    (0): Linear(in_features=50, out_features=50, bias=True)\n",
              "    (1): RReLU(lower=0.125, upper=0.3333333333333333)\n",
              "  )\n",
              "  (layer3): Sequential(\n",
              "    (0): Linear(in_features=50, out_features=50, bias=True)\n",
              "    (1): RReLU(lower=0.125, upper=0.3333333333333333)\n",
              "  )\n",
              "  (layer4): Sequential(\n",
              "    (0): Linear(in_features=50, out_features=50, bias=True)\n",
              "    (1): RReLU(lower=0.125, upper=0.3333333333333333)\n",
              "  )\n",
              "  (layer5): Sequential(\n",
              "    (0): Linear(in_features=50, out_features=3, bias=True)\n",
              "    (1): Softmax(dim=None)\n",
              "  )\n",
              ")"
            ]
          },
          "metadata": {},
          "execution_count": 29
        }
      ]
    },
    {
      "cell_type": "code",
      "source": [
        "loss3 = nn.CrossEntropyLoss().to(device)\n",
        "optimizer3 = optim.SGD(model3.parameters(), lr=0.5)"
      ],
      "metadata": {
        "id": "ZF05DpyR49iM"
      },
      "execution_count": 35,
      "outputs": []
    },
    {
      "cell_type": "code",
      "source": [
        "losses = []\n",
        "\n",
        "for epoch in range(2000):\n",
        "  for x, y in dataloader:\n",
        "    optimizer3.zero_grad()\n",
        "    x = x.to(device)\n",
        "    y = y.to(device)\n",
        "\n",
        "    hypothesis = model3(x)\n",
        "\n",
        "    y = y.squeeze()\n",
        "    cost = loss3(hypothesis, y)\n",
        "    cost.backward()\n",
        "    optimizer3.step()\n",
        "  losses.append(cost.item()) \n",
        "\n",
        "  if epoch % 10 == 0:\n",
        "      print(epoch, cost.item())"
      ],
      "metadata": {
        "id": "sDXDTlXg4yAK"
      },
      "execution_count": null,
      "outputs": []
    },
    {
      "cell_type": "code",
      "source": [
        "plt.plot(losses)\n",
        "plt.show()"
      ],
      "metadata": {
        "colab": {
          "base_uri": "https://localhost:8080/",
          "height": 265
        },
        "id": "hEQ8Pd1O6T8f",
        "outputId": "24e8479a-c632-4acf-cd7b-7796620bed59"
      },
      "execution_count": 37,
      "outputs": [
        {
          "output_type": "display_data",
          "data": {
            "image/png": "[encoded data removed]",
            "text/plain": [
              "<Figure size 432x288 with 1 Axes>"
            ]
          },
          "metadata": {
            "needs_background": "light"
          }
        }
      ]
    },
    {
      "cell_type": "code",
      "source": [
        "with torch.no_grad():\n",
        "  model3 = model3.to('cpu')\n",
        "  X_test = torch.FloatTensor(X_test)\n",
        "  y_pred = model3(X_test)\n",
        "\n",
        "  y_pred = y_pred.detach().numpy() # tensor를 numpy로 바꿈\n",
        "  predicted = np.argmax(y_pred,axis=1)\n",
        "  accuracy = (accuracy_score(predicted,y_test))\n",
        "  print(f'model의 output은 :  {y_pred[0]}' )\n",
        "  print(f'argmax를 한 후의 output은 {predicted[0]}')\n",
        "  print(f'accuracy는 {accuracy}')"
      ],
      "metadata": {
        "colab": {
          "base_uri": "https://localhost:8080/"
        },
        "id": "OQKqF1el69tK",
        "outputId": "7e9cb812-85c7-429c-866f-90eb421c6e12"
      },
      "execution_count": 38,
      "outputs": [
        {
          "output_type": "stream",
          "name": "stdout",
          "text": [
            "model의 output은 :  [0. 1. 0.]\n",
            "argmax를 한 후의 output은 1\n",
            "accuracy는 0.3898305084745763\n"
          ]
        },
        {
          "output_type": "stream",
          "name": "stderr",
          "text": [
            "/usr/local/lib/python3.7/dist-packages/torch/nn/modules/container.py:141: UserWarning: Implicit dimension choice for softmax has been deprecated. Change the call to include dim=X as an argument.\n",
            "  input = module(input)\n"
          ]
        }
      ]
    },
    {
      "cell_type": "markdown",
      "source": [
        "왜인지 레이어를 늘렸는데 정확도가 떨어졌다... 과적합이 일어난 것 같다"
      ],
      "metadata": {
        "id": "0sDzIvOw7d2P"
      }
    },
    {
      "cell_type": "code",
      "source": [
        "batch_size = 10\n",
        "\n",
        "dataset = CustomDataset()\n",
        "dataloader = DataLoader(dataset, batch_size=batch_size) #sampler를 만들었다면, sampler를 파라미터로 넣어줄 수 있음 : https://hyelimkungkung.tistory.com/29?category=935193 참고 ㅎㅎ"
      ],
      "metadata": {
        "id": "3ni5GK967k3-"
      },
      "execution_count": 39,
      "outputs": []
    },
    {
      "cell_type": "code",
      "source": [
        "class Model(torch.nn.Module):\n",
        "\n",
        "  def __init__(self):\n",
        "    super(Model, self).__init__()\n",
        "    self.layer1 = nn.Sequential(\n",
        "          nn.Linear(9, 50, bias=True),\n",
        "          nn.RReLU(),\n",
        "\n",
        "\n",
        "        nn.BatchNorm1d(50)\n",
        "        )\n",
        "    self.layer2 = nn.Sequential(\n",
        "          nn.Linear(50, 50, bias=True), \n",
        "        nn.RReLU()\n",
        "    )\n",
        "    self.layer3 = nn.Sequential(\n",
        "          nn.Linear(50, 50, bias=True), \n",
        "        nn.RReLU()\n",
        "    )\n",
        "    self.layer4 = nn.Sequential(\n",
        "        nn.Linear(50, 3, bias=True), \n",
        "        nn.Softmax()\n",
        "    )\n",
        "\n",
        "  def forward(self,x):\n",
        "    output = self.layer1(x)\n",
        "    output = self.layer2(output)\n",
        "    output = self.layer3(output)\n",
        "    output = self.layer4(output)\n",
        "    return output"
      ],
      "metadata": {
        "id": "buHQuWqa8NSM"
      },
      "execution_count": 40,
      "outputs": []
    },
    {
      "cell_type": "code",
      "source": [
        "model = Model().to(device)\n",
        "model.apply(init_weights)"
      ],
      "metadata": {
        "colab": {
          "base_uri": "https://localhost:8080/"
        },
        "id": "58NqQGxZ8XpN",
        "outputId": "98228837-eeb8-48bd-8066-37f6e2d5ded3"
      },
      "execution_count": 41,
      "outputs": [
        {
          "output_type": "stream",
          "name": "stderr",
          "text": [
            "/usr/local/lib/python3.7/dist-packages/ipykernel_launcher.py:3: UserWarning: nn.init.xavier_uniform is now deprecated in favor of nn.init.xavier_uniform_.\n",
            "  This is separate from the ipykernel package so we can avoid doing imports until\n"
          ]
        },
        {
          "output_type": "execute_result",
          "data": {
            "text/plain": [
              "Model(\n",
              "  (layer1): Sequential(\n",
              "    (0): Linear(in_features=9, out_features=50, bias=True)\n",
              "    (1): RReLU(lower=0.125, upper=0.3333333333333333)\n",
              "    (2): BatchNorm1d(50, eps=1e-05, momentum=0.1, affine=True, track_running_stats=True)\n",
              "  )\n",
              "  (layer2): Sequential(\n",
              "    (0): Linear(in_features=50, out_features=50, bias=True)\n",
              "    (1): RReLU(lower=0.125, upper=0.3333333333333333)\n",
              "  )\n",
              "  (layer3): Sequential(\n",
              "    (0): Linear(in_features=50, out_features=50, bias=True)\n",
              "    (1): RReLU(lower=0.125, upper=0.3333333333333333)\n",
              "  )\n",
              "  (layer4): Sequential(\n",
              "    (0): Linear(in_features=50, out_features=3, bias=True)\n",
              "    (1): Softmax(dim=None)\n",
              "  )\n",
              ")"
            ]
          },
          "metadata": {},
          "execution_count": 41
        }
      ]
    },
    {
      "cell_type": "code",
      "source": [
        "loss = nn.CrossEntropyLoss().to(device)\n",
        "optimizer = optim.SGD(model.parameters(), lr=0.05)\n",
        "losses = []\n",
        "for epoch in range(2000):\n",
        "\n",
        "  for x, y in dataloader:\n",
        "    optimizer.zero_grad()\n",
        "    x = x.to(device)\n",
        "    y = y.to(device)\n",
        "\n",
        "    # forward 연산\n",
        "    hypothesis = model(x)\n",
        "\n",
        "    # 비용 함수\n",
        "    y = y.squeeze()\n",
        "    cost = loss(hypothesis, y)\n",
        "    cost.backward()\n",
        "    optimizer.step()\n",
        "  losses.append(cost.item()) # 값만 가져오기 위해서 .item()\n",
        "\n",
        "  # 10의 배수에 해당되는 에포크마다 비용을 출력\n",
        "  if epoch % 10 == 0:\n",
        "      print(epoch, cost.item())"
      ],
      "metadata": {
        "id": "tKHS2hsy8ihS"
      },
      "execution_count": null,
      "outputs": []
    },
    {
      "cell_type": "code",
      "source": [
        "plt.plot(losses)\n",
        "plt.show()"
      ],
      "metadata": {
        "colab": {
          "base_uri": "https://localhost:8080/",
          "height": 265
        },
        "id": "htRmCHKg9O3k",
        "outputId": "c1bbb434-5783-4143-c234-f0a078614223"
      },
      "execution_count": 43,
      "outputs": [
        {
          "output_type": "display_data",
          "data": {
            "image/png": "[encoded data removed]",
            "text/plain": [
              "<Figure size 432x288 with 1 Axes>"
            ]
          },
          "metadata": {
            "needs_background": "light"
          }
        }
      ]
    },
    {
      "cell_type": "code",
      "source": [
        "with torch.no_grad():\n",
        "  model = model.to('cpu')\n",
        "  X_test = torch.FloatTensor(X_test)\n",
        "  y_pred = model(X_test)\n",
        "\n",
        "  y_pred = y_pred.detach().numpy() # tensor를 numpy로 바꿈\n",
        "  predicted = np.argmax(y_pred,axis=1)\n",
        "  accuracy = (accuracy_score(predicted,y_test))\n",
        "  print(f'model의 output은 :  {y_pred[0]}' )\n",
        "  print(f'argmax를 한 후의 output은 {predicted[0]}')\n",
        "  print(f'accuracy는 {accuracy}')"
      ],
      "metadata": {
        "colab": {
          "base_uri": "https://localhost:8080/"
        },
        "id": "jDr1mzpK9UuS",
        "outputId": "8105ad50-19e9-4791-bf0a-bf5764b2ec7b"
      },
      "execution_count": 44,
      "outputs": [
        {
          "output_type": "stream",
          "name": "stdout",
          "text": [
            "model의 output은 :  [9.990798e-01 8.407791e-45 9.201202e-04]\n",
            "argmax를 한 후의 output은 0\n",
            "accuracy는 0.8983050847457628\n"
          ]
        },
        {
          "output_type": "stream",
          "name": "stderr",
          "text": [
            "/usr/local/lib/python3.7/dist-packages/torch/nn/modules/container.py:141: UserWarning: Implicit dimension choice for softmax has been deprecated. Change the call to include dim=X as an argument.\n",
            "  input = module(input)\n"
          ]
        }
      ]
    },
    {
      "cell_type": "markdown",
      "source": [
        "batchsize를 10으로 증가시킬 경우 정확도가 90프로 가까이 증가하였다."
      ],
      "metadata": {
        "id": "k_ad5JXc9cJS"
      }
    },
    {
      "cell_type": "code",
      "source": [
        "class Model4(torch.nn.Module):\n",
        "\n",
        "  def __init__(self):\n",
        "    super(Model4, self).__init__()\n",
        "    self.layer1 = nn.Sequential(\n",
        "          nn.Linear(9, 50, bias=True),\n",
        "          nn.RReLU(),\n",
        "\n",
        "\n",
        "        nn.BatchNorm1d(50)\n",
        "        )\n",
        "    self.layer2 = nn.Sequential(\n",
        "          nn.Linear(50, 50, bias=True), \n",
        "        nn.RReLU()\n",
        "    )\n",
        "    self.layer3 = nn.Sequential(\n",
        "          nn.Linear(50, 50, bias=True), \n",
        "        nn.RReLU()\n",
        "    )\n",
        "    self.layer4 = nn.Sequential(\n",
        "          nn.Linear(50, 50, bias=True), \n",
        "        nn.RReLU()\n",
        "    )\n",
        "    self.layer5 = nn.Sequential(\n",
        "        nn.Linear(50, 3, bias=True), \n",
        "        nn.Softmax()\n",
        "    )\n",
        "\n",
        "  def forward(self,x):\n",
        "    output = self.layer1(x)\n",
        "    output = self.layer2(output)\n",
        "    output = self.layer3(output)\n",
        "    output = self.layer4(output)\n",
        "    output = self.layer5(output)\n",
        "    return output"
      ],
      "metadata": {
        "id": "tf4vhAvs9bji"
      },
      "execution_count": 45,
      "outputs": []
    },
    {
      "cell_type": "code",
      "source": [
        "model4 = Model4().to(device)\n",
        "model4.apply(init_weights)"
      ],
      "metadata": {
        "colab": {
          "base_uri": "https://localhost:8080/"
        },
        "id": "96fCLqBN916x",
        "outputId": "dc48049c-be1a-4043-cd8a-014ee9742979"
      },
      "execution_count": 46,
      "outputs": [
        {
          "output_type": "stream",
          "name": "stderr",
          "text": [
            "/usr/local/lib/python3.7/dist-packages/ipykernel_launcher.py:3: UserWarning: nn.init.xavier_uniform is now deprecated in favor of nn.init.xavier_uniform_.\n",
            "  This is separate from the ipykernel package so we can avoid doing imports until\n"
          ]
        },
        {
          "output_type": "execute_result",
          "data": {
            "text/plain": [
              "Model4(\n",
              "  (layer1): Sequential(\n",
              "    (0): Linear(in_features=9, out_features=50, bias=True)\n",
              "    (1): RReLU(lower=0.125, upper=0.3333333333333333)\n",
              "    (2): BatchNorm1d(50, eps=1e-05, momentum=0.1, affine=True, track_running_stats=True)\n",
              "  )\n",
              "  (layer2): Sequential(\n",
              "    (0): Linear(in_features=50, out_features=50, bias=True)\n",
              "    (1): RReLU(lower=0.125, upper=0.3333333333333333)\n",
              "  )\n",
              "  (layer3): Sequential(\n",
              "    (0): Linear(in_features=50, out_features=50, bias=True)\n",
              "    (1): RReLU(lower=0.125, upper=0.3333333333333333)\n",
              "  )\n",
              "  (layer4): Sequential(\n",
              "    (0): Linear(in_features=50, out_features=50, bias=True)\n",
              "    (1): RReLU(lower=0.125, upper=0.3333333333333333)\n",
              "  )\n",
              "  (layer5): Sequential(\n",
              "    (0): Linear(in_features=50, out_features=3, bias=True)\n",
              "    (1): Softmax(dim=None)\n",
              "  )\n",
              ")"
            ]
          },
          "metadata": {},
          "execution_count": 46
        }
      ]
    },
    {
      "cell_type": "code",
      "source": [
        "loss5 = nn.CrossEntropyLoss().to(device)\n",
        "optimizer5 = optim.SGD(model4.parameters(), lr=0.05)\n",
        "losses = []\n",
        "for epoch in range(2000):\n",
        "\n",
        "  for x, y in dataloader:\n",
        "    optimizer5.zero_grad()\n",
        "    x = x.to(device)\n",
        "    y = y.to(device)\n",
        "\n",
        "    # forward 연산\n",
        "    hypothesis = model4(x)\n",
        "\n",
        "    # 비용 함수\n",
        "    y = y.squeeze()\n",
        "    cost = loss(hypothesis, y)\n",
        "    cost.backward()\n",
        "    optimizer5.step()\n",
        "  losses.append(cost.item()) # 값만 가져오기 위해서 .item()\n",
        "\n",
        "  # 10의 배수에 해당되는 에포크마다 비용을 출력\n",
        "  if epoch % 10 == 0:\n",
        "      print(epoch, cost.item())"
      ],
      "metadata": {
        "colab": {
          "base_uri": "https://localhost:8080/"
        },
        "id": "6wOFASQi95Kk",
        "outputId": "b8759862-8300-4778-d34d-a8012d0e3152"
      },
      "execution_count": 47,
      "outputs": [
        {
          "output_type": "stream",
          "name": "stderr",
          "text": [
            "/usr/local/lib/python3.7/dist-packages/torch/nn/modules/container.py:141: UserWarning: Implicit dimension choice for softmax has been deprecated. Change the call to include dim=X as an argument.\n",
            "  input = module(input)\n"
          ]
        },
        {
          "output_type": "stream",
          "name": "stdout",
          "text": [
            "0 1.1835360527038574\n",
            "10 0.8017328381538391\n",
            "20 0.7356793284416199\n",
            "30 0.731231689453125\n",
            "40 0.7327108383178711\n",
            "50 0.7328962683677673\n",
            "60 0.7386424541473389\n",
            "70 0.7354408502578735\n",
            "80 0.7257237434387207\n",
            "90 0.742519736289978\n",
            "100 0.7151781916618347\n",
            "110 0.7649528980255127\n",
            "120 0.7304109930992126\n",
            "130 0.7261471152305603\n",
            "140 0.768601655960083\n",
            "150 0.729958176612854\n",
            "160 0.7352673411369324\n",
            "170 0.6903524994850159\n",
            "180 0.7848976850509644\n",
            "190 0.7597911357879639\n",
            "200 0.7662385106086731\n",
            "210 0.7221719026565552\n",
            "220 0.7530509233474731\n",
            "230 0.7614943981170654\n",
            "240 0.7510396838188171\n",
            "250 0.7621196508407593\n",
            "260 0.7453920245170593\n",
            "270 0.7689065933227539\n",
            "280 0.7416830658912659\n",
            "290 0.7972152233123779\n",
            "300 0.6834931373596191\n",
            "310 0.6819607019424438\n",
            "320 0.7259416580200195\n",
            "330 0.7023509740829468\n",
            "340 0.7499406337738037\n",
            "350 0.7310308814048767\n",
            "360 0.7621461749076843\n",
            "370 0.7689636945724487\n",
            "380 0.7429031729698181\n",
            "390 0.746813178062439\n",
            "400 0.7663787603378296\n",
            "410 0.7121069431304932\n",
            "420 0.6884772181510925\n",
            "430 0.7155764102935791\n",
            "440 0.7240523099899292\n",
            "450 0.7171473503112793\n",
            "460 0.7818310856819153\n",
            "470 0.7382252216339111\n",
            "480 0.7442625164985657\n",
            "490 0.7244513034820557\n",
            "500 0.7178629040718079\n",
            "510 0.7064664363861084\n",
            "520 0.7468863725662231\n",
            "530 0.7148773670196533\n",
            "540 0.7422363758087158\n",
            "550 0.7457794547080994\n",
            "560 0.7617297172546387\n",
            "570 0.8524484634399414\n",
            "580 0.7337824702262878\n",
            "590 0.7614973783493042\n",
            "600 0.7299349308013916\n",
            "610 0.7228132486343384\n",
            "620 0.7271090149879456\n",
            "630 0.7774648666381836\n",
            "640 0.7557767629623413\n",
            "650 0.7719663977622986\n",
            "660 0.8033022880554199\n",
            "670 0.7196537852287292\n",
            "680 0.8001580834388733\n",
            "690 0.8525646924972534\n",
            "700 0.6811131834983826\n",
            "710 0.7522134780883789\n",
            "720 0.8205966949462891\n",
            "730 0.8388674855232239\n",
            "740 0.7478265166282654\n",
            "750 0.7470232248306274\n",
            "760 0.7187893986701965\n",
            "770 0.7506787776947021\n",
            "780 0.8112928867340088\n",
            "790 0.7860769033432007\n",
            "800 0.7689223885536194\n",
            "810 0.6506723165512085\n",
            "820 0.79349684715271\n",
            "830 0.8284106850624084\n",
            "840 0.8003131151199341\n",
            "850 0.7691503167152405\n",
            "860 0.7690522074699402\n",
            "870 0.7187276482582092\n",
            "880 0.8107616305351257\n",
            "890 0.8020023703575134\n",
            "900 0.7735123038291931\n",
            "910 0.7628524899482727\n",
            "920 0.7440667748451233\n",
            "930 0.7955849170684814\n",
            "940 0.7928178310394287\n",
            "950 0.7762742638587952\n",
            "960 0.8089237213134766\n",
            "970 0.6890313625335693\n",
            "980 0.7645105719566345\n",
            "990 0.6905773878097534\n",
            "1000 0.7225720882415771\n",
            "1010 0.6979291439056396\n",
            "1020 0.7037020921707153\n",
            "1030 0.6925297975540161\n",
            "1040 0.6754243969917297\n",
            "1050 0.6383382081985474\n",
            "1060 0.6417936086654663\n",
            "1070 0.6537396907806396\n",
            "1080 0.6649495363235474\n",
            "1090 0.6529484391212463\n",
            "1100 0.6526791453361511\n",
            "1110 0.6432571411132812\n",
            "1120 0.5896682739257812\n",
            "1130 0.5970402956008911\n",
            "1140 0.6525678038597107\n",
            "1150 0.6031064391136169\n",
            "1160 0.5822258591651917\n",
            "1170 0.6271486878395081\n",
            "1180 0.5885106921195984\n",
            "1190 0.6421823501586914\n",
            "1200 0.632697582244873\n",
            "1210 0.5952448844909668\n",
            "1220 0.5962277054786682\n",
            "1230 0.7105110883712769\n",
            "1240 0.5711856484413147\n",
            "1250 0.5546340942382812\n",
            "1260 0.5600956678390503\n",
            "1270 0.6040235161781311\n",
            "1280 0.5664050579071045\n",
            "1290 0.5834734439849854\n",
            "1300 0.6117382049560547\n",
            "1310 0.568453311920166\n",
            "1320 0.5822520852088928\n",
            "1330 0.5784326195716858\n",
            "1340 0.5709568858146667\n",
            "1350 0.5815542936325073\n",
            "1360 0.57182776927948\n",
            "1370 0.5727636814117432\n",
            "1380 0.6330615878105164\n",
            "1390 0.569828450679779\n",
            "1400 0.5678229928016663\n",
            "1410 0.5712080001831055\n",
            "1420 0.5910078883171082\n",
            "1430 0.5581076145172119\n",
            "1440 0.575023889541626\n",
            "1450 0.5574123859405518\n",
            "1460 0.593005895614624\n",
            "1470 0.626410722732544\n",
            "1480 0.6144649982452393\n",
            "1490 0.5651318430900574\n",
            "1500 0.6423560976982117\n",
            "1510 0.5917344689369202\n",
            "1520 0.572799801826477\n",
            "1530 0.5675325989723206\n",
            "1540 0.561636209487915\n",
            "1550 0.5682215094566345\n",
            "1560 0.5613252520561218\n",
            "1570 0.5733253955841064\n",
            "1580 0.6021818518638611\n",
            "1590 0.5709788799285889\n",
            "1600 0.562615692615509\n",
            "1610 0.6072461009025574\n",
            "1620 0.5675103664398193\n",
            "1630 0.5642015337944031\n",
            "1640 0.6418055891990662\n",
            "1650 0.6291096806526184\n",
            "1660 0.5722849369049072\n",
            "1670 0.6391907334327698\n",
            "1680 0.5707060098648071\n",
            "1690 0.5616312026977539\n",
            "1700 0.5610657334327698\n",
            "1710 0.5560476183891296\n",
            "1720 0.5663478374481201\n",
            "1730 0.5685254335403442\n",
            "1740 0.5667504072189331\n",
            "1750 0.5693274736404419\n",
            "1760 0.6182082891464233\n",
            "1770 0.5722014307975769\n",
            "1780 0.5901440978050232\n",
            "1790 0.5682625770568848\n",
            "1800 0.564024031162262\n",
            "1810 0.6251671314239502\n",
            "1820 0.6028575301170349\n",
            "1830 0.5645999312400818\n",
            "1840 0.555519700050354\n",
            "1850 0.6443750858306885\n",
            "1860 0.5560656785964966\n",
            "1870 0.6327510476112366\n",
            "1880 0.6215907335281372\n",
            "1890 0.6485269069671631\n",
            "1900 0.5780384540557861\n",
            "1910 0.5640404224395752\n",
            "1920 0.5576658248901367\n",
            "1930 0.6161229014396667\n",
            "1940 0.6230280995368958\n",
            "1950 0.6276246309280396\n",
            "1960 0.6417191028594971\n",
            "1970 0.5725216865539551\n",
            "1980 0.6488430500030518\n",
            "1990 0.6504498720169067\n"
          ]
        }
      ]
    },
    {
      "cell_type": "code",
      "source": [
        "plt.plot(losses)\n",
        "plt.show()"
      ],
      "metadata": {
        "colab": {
          "base_uri": "https://localhost:8080/",
          "height": 265
        },
        "id": "3Gq5zoXp-jad",
        "outputId": "dbe29b97-cc0d-48dc-cb5f-ccea9b0a39f3"
      },
      "execution_count": 48,
      "outputs": [
        {
          "output_type": "display_data",
          "data": {
            "image/png": "[encoded data removed]",
            "text/plain": [
              "<Figure size 432x288 with 1 Axes>"
            ]
          },
          "metadata": {
            "needs_background": "light"
          }
        }
      ]
    },
    {
      "cell_type": "code",
      "source": [
        "with torch.no_grad():\n",
        "  mode4 = model4.to('cpu')\n",
        "  X_test = torch.FloatTensor(X_test)\n",
        "  y_pred = model4(X_test)\n",
        "\n",
        "  y_pred = y_pred.detach().numpy() # tensor를 numpy로 바꿈\n",
        "  predicted = np.argmax(y_pred,axis=1)\n",
        "  accuracy = (accuracy_score(predicted,y_test))\n",
        "  print(f'model의 output은 :  {y_pred[0]}' )\n",
        "  print(f'argmax를 한 후의 output은 {predicted[0]}')\n",
        "  print(f'accuracy는 {accuracy}')"
      ],
      "metadata": {
        "colab": {
          "base_uri": "https://localhost:8080/"
        },
        "id": "br7c_q3c-n8C",
        "outputId": "44119017-b318-4762-dc14-f7cf55898599"
      },
      "execution_count": 50,
      "outputs": [
        {
          "output_type": "stream",
          "name": "stdout",
          "text": [
            "model의 output은 :  [9.9999976e-01 0.0000000e+00 2.3143977e-07]\n",
            "argmax를 한 후의 output은 0\n",
            "accuracy는 0.864406779661017\n"
          ]
        },
        {
          "output_type": "stream",
          "name": "stderr",
          "text": [
            "/usr/local/lib/python3.7/dist-packages/torch/nn/modules/container.py:141: UserWarning: Implicit dimension choice for softmax has been deprecated. Change the call to include dim=X as an argument.\n",
            "  input = module(input)\n"
          ]
        }
      ]
    },
    {
      "cell_type": "markdown",
      "source": [
        "과적합이 일어났던 모델에 대해 배치 사이즈를 증가시킨후 해본 결과 과적합이 해결된 것을 확인할 수 있었다."
      ],
      "metadata": {
        "id": "QNKO9KZZ-v6M"
      }
    }
  ]
}