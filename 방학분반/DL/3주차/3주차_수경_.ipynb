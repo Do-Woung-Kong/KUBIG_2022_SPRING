{
  "nbformat": 4,
  "nbformat_minor": 0,
  "metadata": {
    "colab": {
      "name": "3주차_수경..ipynb",
      "provenance": [],
      "collapsed_sections": []
    },
    "kernelspec": {
      "name": "python3",
      "display_name": "Python 3"
    },
    "language_info": {
      "name": "python"
    },
    "accelerator": "GPU"
  },
  "cells": [
    {
      "cell_type": "code",
      "source": [
        "import torch\n",
        "from torch import nn, optim\n",
        "from sklearn.datasets import load_wine"
      ],
      "metadata": {
        "id": "Fzf8A7CWhq9F"
      },
      "execution_count": 1,
      "outputs": []
    },
    {
      "cell_type": "code",
      "source": [
        "device = 'cuda' if torch.cuda.is_available() else 'cpu'\n",
        "# for reproducibility\n",
        "torch.manual_seed(777)\n",
        "if device == 'cuda':\n",
        "    torch.cuda.manual_seed_all(777)"
      ],
      "metadata": {
        "id": "W14DSAz9z_Le"
      },
      "execution_count": 2,
      "outputs": []
    },
    {
      "cell_type": "code",
      "source": [
        "import torch\n",
        "from torch import nn, optim\n",
        "from sklearn.datasets import load_wine\n",
        "from torch.utils.data import  TensorDataset, DataLoader\n",
        "from torch.utils.data import Dataset\n",
        "from sklearn.model_selection import train_test_split\n",
        "from sklearn.metrics import accuracy_score\n",
        "\n",
        "wine = load_wine()"
      ],
      "metadata": {
        "id": "qojjOSrao0vU"
      },
      "execution_count": null,
      "outputs": []
    },
    {
      "cell_type": "code",
      "source": [
        "import pandas as pd\n",
        "import numpy as np\n",
        "df=pd.DataFrame(wine.data, columns=wine.feature_names)\n",
        "df['target'] = wine.target\n",
        "print(df.head())"
      ],
      "metadata": {
        "colab": {
          "base_uri": "https://localhost:8080/"
        },
        "id": "_VYgF-gLh2io",
        "outputId": "9948399b-d216-49bc-a8aa-1f7e329b0020"
      },
      "execution_count": 21,
      "outputs": [
        {
          "output_type": "stream",
          "name": "stdout",
          "text": [
            "   alcohol  malic_acid   ash  ...  od280/od315_of_diluted_wines  proline  target\n",
            "0    14.23        1.71  2.43  ...                          3.92   1065.0       0\n",
            "1    13.20        1.78  2.14  ...                          3.40   1050.0       0\n",
            "2    13.16        2.36  2.67  ...                          3.17   1185.0       0\n",
            "3    14.37        1.95  2.50  ...                          3.45   1480.0       0\n",
            "4    13.24        2.59  2.87  ...                          2.93    735.0       0\n",
            "\n",
            "[5 rows x 14 columns]\n"
          ]
        }
      ]
    },
    {
      "cell_type": "code",
      "source": [
        "import matplotlib.pyplot as plt\n",
        "import seaborn as sns\n",
        "import plotly.express as px\n",
        "import plotly.graph_objects as go\n",
        "\n",
        "#warning\n",
        "import warnings\n",
        "warnings.filterwarnings('ignore')"
      ],
      "metadata": {
        "id": "Pw-dQA4tkPr0"
      },
      "execution_count": 11,
      "outputs": []
    },
    {
      "cell_type": "code",
      "source": [
        "corr_df = df.corr()\n",
        "corr_df = corr_df.apply(lambda x: round(x ,2))\n",
        "corr_df"
      ],
      "metadata": {
        "colab": {
          "base_uri": "https://localhost:8080/",
          "height": 552
        },
        "id": "7X36TaeImjDV",
        "outputId": "7da291a1-517c-4f09-98c7-9759dd60f85f"
      },
      "execution_count": 22,
      "outputs": [
        {
          "output_type": "execute_result",
          "data": {
            "text/html": [
              "\n",
              "  <div id=\"df-d18f2dd7-a843-4c9f-9175-ce50bd1c920b\">\n",
              "    <div class=\"colab-df-container\">\n",
              "      <div>\n",
              "<style scoped>\n",
              "    .dataframe tbody tr th:only-of-type {\n",
              "        vertical-align: middle;\n",
              "    }\n",
              "\n",
              "    .dataframe tbody tr th {\n",
              "        vertical-align: top;\n",
              "    }\n",
              "\n",
              "    .dataframe thead th {\n",
              "        text-align: right;\n",
              "    }\n",
              "</style>\n",
              "<table border=\"1\" class=\"dataframe\">\n",
              "  <thead>\n",
              "    <tr style=\"text-align: right;\">\n",
              "      <th></th>\n",
              "      <th>alcohol</th>\n",
              "      <th>malic_acid</th>\n",
              "      <th>ash</th>\n",
              "      <th>alcalinity_of_ash</th>\n",
              "      <th>magnesium</th>\n",
              "      <th>total_phenols</th>\n",
              "      <th>flavanoids</th>\n",
              "      <th>nonflavanoid_phenols</th>\n",
              "      <th>proanthocyanins</th>\n",
              "      <th>color_intensity</th>\n",
              "      <th>hue</th>\n",
              "      <th>od280/od315_of_diluted_wines</th>\n",
              "      <th>proline</th>\n",
              "      <th>target</th>\n",
              "    </tr>\n",
              "  </thead>\n",
              "  <tbody>\n",
              "    <tr>\n",
              "      <th>alcohol</th>\n",
              "      <td>1.00</td>\n",
              "      <td>0.09</td>\n",
              "      <td>0.21</td>\n",
              "      <td>-0.31</td>\n",
              "      <td>0.27</td>\n",
              "      <td>0.29</td>\n",
              "      <td>0.24</td>\n",
              "      <td>-0.16</td>\n",
              "      <td>0.14</td>\n",
              "      <td>0.55</td>\n",
              "      <td>-0.07</td>\n",
              "      <td>0.07</td>\n",
              "      <td>0.64</td>\n",
              "      <td>-0.33</td>\n",
              "    </tr>\n",
              "    <tr>\n",
              "      <th>malic_acid</th>\n",
              "      <td>0.09</td>\n",
              "      <td>1.00</td>\n",
              "      <td>0.16</td>\n",
              "      <td>0.29</td>\n",
              "      <td>-0.05</td>\n",
              "      <td>-0.34</td>\n",
              "      <td>-0.41</td>\n",
              "      <td>0.29</td>\n",
              "      <td>-0.22</td>\n",
              "      <td>0.25</td>\n",
              "      <td>-0.56</td>\n",
              "      <td>-0.37</td>\n",
              "      <td>-0.19</td>\n",
              "      <td>0.44</td>\n",
              "    </tr>\n",
              "    <tr>\n",
              "      <th>ash</th>\n",
              "      <td>0.21</td>\n",
              "      <td>0.16</td>\n",
              "      <td>1.00</td>\n",
              "      <td>0.44</td>\n",
              "      <td>0.29</td>\n",
              "      <td>0.13</td>\n",
              "      <td>0.12</td>\n",
              "      <td>0.19</td>\n",
              "      <td>0.01</td>\n",
              "      <td>0.26</td>\n",
              "      <td>-0.07</td>\n",
              "      <td>0.00</td>\n",
              "      <td>0.22</td>\n",
              "      <td>-0.05</td>\n",
              "    </tr>\n",
              "    <tr>\n",
              "      <th>alcalinity_of_ash</th>\n",
              "      <td>-0.31</td>\n",
              "      <td>0.29</td>\n",
              "      <td>0.44</td>\n",
              "      <td>1.00</td>\n",
              "      <td>-0.08</td>\n",
              "      <td>-0.32</td>\n",
              "      <td>-0.35</td>\n",
              "      <td>0.36</td>\n",
              "      <td>-0.20</td>\n",
              "      <td>0.02</td>\n",
              "      <td>-0.27</td>\n",
              "      <td>-0.28</td>\n",
              "      <td>-0.44</td>\n",
              "      <td>0.52</td>\n",
              "    </tr>\n",
              "    <tr>\n",
              "      <th>magnesium</th>\n",
              "      <td>0.27</td>\n",
              "      <td>-0.05</td>\n",
              "      <td>0.29</td>\n",
              "      <td>-0.08</td>\n",
              "      <td>1.00</td>\n",
              "      <td>0.21</td>\n",
              "      <td>0.20</td>\n",
              "      <td>-0.26</td>\n",
              "      <td>0.24</td>\n",
              "      <td>0.20</td>\n",
              "      <td>0.06</td>\n",
              "      <td>0.07</td>\n",
              "      <td>0.39</td>\n",
              "      <td>-0.21</td>\n",
              "    </tr>\n",
              "    <tr>\n",
              "      <th>total_phenols</th>\n",
              "      <td>0.29</td>\n",
              "      <td>-0.34</td>\n",
              "      <td>0.13</td>\n",
              "      <td>-0.32</td>\n",
              "      <td>0.21</td>\n",
              "      <td>1.00</td>\n",
              "      <td>0.86</td>\n",
              "      <td>-0.45</td>\n",
              "      <td>0.61</td>\n",
              "      <td>-0.06</td>\n",
              "      <td>0.43</td>\n",
              "      <td>0.70</td>\n",
              "      <td>0.50</td>\n",
              "      <td>-0.72</td>\n",
              "    </tr>\n",
              "    <tr>\n",
              "      <th>flavanoids</th>\n",
              "      <td>0.24</td>\n",
              "      <td>-0.41</td>\n",
              "      <td>0.12</td>\n",
              "      <td>-0.35</td>\n",
              "      <td>0.20</td>\n",
              "      <td>0.86</td>\n",
              "      <td>1.00</td>\n",
              "      <td>-0.54</td>\n",
              "      <td>0.65</td>\n",
              "      <td>-0.17</td>\n",
              "      <td>0.54</td>\n",
              "      <td>0.79</td>\n",
              "      <td>0.49</td>\n",
              "      <td>-0.85</td>\n",
              "    </tr>\n",
              "    <tr>\n",
              "      <th>nonflavanoid_phenols</th>\n",
              "      <td>-0.16</td>\n",
              "      <td>0.29</td>\n",
              "      <td>0.19</td>\n",
              "      <td>0.36</td>\n",
              "      <td>-0.26</td>\n",
              "      <td>-0.45</td>\n",
              "      <td>-0.54</td>\n",
              "      <td>1.00</td>\n",
              "      <td>-0.37</td>\n",
              "      <td>0.14</td>\n",
              "      <td>-0.26</td>\n",
              "      <td>-0.50</td>\n",
              "      <td>-0.31</td>\n",
              "      <td>0.49</td>\n",
              "    </tr>\n",
              "    <tr>\n",
              "      <th>proanthocyanins</th>\n",
              "      <td>0.14</td>\n",
              "      <td>-0.22</td>\n",
              "      <td>0.01</td>\n",
              "      <td>-0.20</td>\n",
              "      <td>0.24</td>\n",
              "      <td>0.61</td>\n",
              "      <td>0.65</td>\n",
              "      <td>-0.37</td>\n",
              "      <td>1.00</td>\n",
              "      <td>-0.03</td>\n",
              "      <td>0.30</td>\n",
              "      <td>0.52</td>\n",
              "      <td>0.33</td>\n",
              "      <td>-0.50</td>\n",
              "    </tr>\n",
              "    <tr>\n",
              "      <th>color_intensity</th>\n",
              "      <td>0.55</td>\n",
              "      <td>0.25</td>\n",
              "      <td>0.26</td>\n",
              "      <td>0.02</td>\n",
              "      <td>0.20</td>\n",
              "      <td>-0.06</td>\n",
              "      <td>-0.17</td>\n",
              "      <td>0.14</td>\n",
              "      <td>-0.03</td>\n",
              "      <td>1.00</td>\n",
              "      <td>-0.52</td>\n",
              "      <td>-0.43</td>\n",
              "      <td>0.32</td>\n",
              "      <td>0.27</td>\n",
              "    </tr>\n",
              "    <tr>\n",
              "      <th>hue</th>\n",
              "      <td>-0.07</td>\n",
              "      <td>-0.56</td>\n",
              "      <td>-0.07</td>\n",
              "      <td>-0.27</td>\n",
              "      <td>0.06</td>\n",
              "      <td>0.43</td>\n",
              "      <td>0.54</td>\n",
              "      <td>-0.26</td>\n",
              "      <td>0.30</td>\n",
              "      <td>-0.52</td>\n",
              "      <td>1.00</td>\n",
              "      <td>0.57</td>\n",
              "      <td>0.24</td>\n",
              "      <td>-0.62</td>\n",
              "    </tr>\n",
              "    <tr>\n",
              "      <th>od280/od315_of_diluted_wines</th>\n",
              "      <td>0.07</td>\n",
              "      <td>-0.37</td>\n",
              "      <td>0.00</td>\n",
              "      <td>-0.28</td>\n",
              "      <td>0.07</td>\n",
              "      <td>0.70</td>\n",
              "      <td>0.79</td>\n",
              "      <td>-0.50</td>\n",
              "      <td>0.52</td>\n",
              "      <td>-0.43</td>\n",
              "      <td>0.57</td>\n",
              "      <td>1.00</td>\n",
              "      <td>0.31</td>\n",
              "      <td>-0.79</td>\n",
              "    </tr>\n",
              "    <tr>\n",
              "      <th>proline</th>\n",
              "      <td>0.64</td>\n",
              "      <td>-0.19</td>\n",
              "      <td>0.22</td>\n",
              "      <td>-0.44</td>\n",
              "      <td>0.39</td>\n",
              "      <td>0.50</td>\n",
              "      <td>0.49</td>\n",
              "      <td>-0.31</td>\n",
              "      <td>0.33</td>\n",
              "      <td>0.32</td>\n",
              "      <td>0.24</td>\n",
              "      <td>0.31</td>\n",
              "      <td>1.00</td>\n",
              "      <td>-0.63</td>\n",
              "    </tr>\n",
              "    <tr>\n",
              "      <th>target</th>\n",
              "      <td>-0.33</td>\n",
              "      <td>0.44</td>\n",
              "      <td>-0.05</td>\n",
              "      <td>0.52</td>\n",
              "      <td>-0.21</td>\n",
              "      <td>-0.72</td>\n",
              "      <td>-0.85</td>\n",
              "      <td>0.49</td>\n",
              "      <td>-0.50</td>\n",
              "      <td>0.27</td>\n",
              "      <td>-0.62</td>\n",
              "      <td>-0.79</td>\n",
              "      <td>-0.63</td>\n",
              "      <td>1.00</td>\n",
              "    </tr>\n",
              "  </tbody>\n",
              "</table>\n",
              "</div>\n",
              "      <button class=\"colab-df-convert\" onclick=\"convertToInteractive('df-d18f2dd7-a843-4c9f-9175-ce50bd1c920b')\"\n",
              "              title=\"Convert this dataframe to an interactive table.\"\n",
              "              style=\"display:none;\">\n",
              "        \n",
              "  <svg xmlns=\"http://www.w3.org/2000/svg\" height=\"24px\"viewBox=\"0 0 24 24\"\n",
              "       width=\"24px\">\n",
              "    <path d=\"M0 0h24v24H0V0z\" fill=\"none\"/>\n",
              "    <path d=\"M18.56 5.44l.94 2.06.94-2.06 2.06-.94-2.06-.94-.94-2.06-.94 2.06-2.06.94zm-11 1L8.5 8.5l.94-2.06 2.06-.94-2.06-.94L8.5 2.5l-.94 2.06-2.06.94zm10 10l.94 2.06.94-2.06 2.06-.94-2.06-.94-.94-2.06-.94 2.06-2.06.94z\"/><path d=\"M17.41 7.96l-1.37-1.37c-.4-.4-.92-.59-1.43-.59-.52 0-1.04.2-1.43.59L10.3 9.45l-7.72 7.72c-.78.78-.78 2.05 0 2.83L4 21.41c.39.39.9.59 1.41.59.51 0 1.02-.2 1.41-.59l7.78-7.78 2.81-2.81c.8-.78.8-2.07 0-2.86zM5.41 20L4 18.59l7.72-7.72 1.47 1.35L5.41 20z\"/>\n",
              "  </svg>\n",
              "      </button>\n",
              "      \n",
              "  <style>\n",
              "    .colab-df-container {\n",
              "      display:flex;\n",
              "      flex-wrap:wrap;\n",
              "      gap: 12px;\n",
              "    }\n",
              "\n",
              "    .colab-df-convert {\n",
              "      background-color: #E8F0FE;\n",
              "      border: none;\n",
              "      border-radius: 50%;\n",
              "      cursor: pointer;\n",
              "      display: none;\n",
              "      fill: #1967D2;\n",
              "      height: 32px;\n",
              "      padding: 0 0 0 0;\n",
              "      width: 32px;\n",
              "    }\n",
              "\n",
              "    .colab-df-convert:hover {\n",
              "      background-color: #E2EBFA;\n",
              "      box-shadow: 0px 1px 2px rgba(60, 64, 67, 0.3), 0px 1px 3px 1px rgba(60, 64, 67, 0.15);\n",
              "      fill: #174EA6;\n",
              "    }\n",
              "\n",
              "    [theme=dark] .colab-df-convert {\n",
              "      background-color: #3B4455;\n",
              "      fill: #D2E3FC;\n",
              "    }\n",
              "\n",
              "    [theme=dark] .colab-df-convert:hover {\n",
              "      background-color: #434B5C;\n",
              "      box-shadow: 0px 1px 3px 1px rgba(0, 0, 0, 0.15);\n",
              "      filter: drop-shadow(0px 1px 2px rgba(0, 0, 0, 0.3));\n",
              "      fill: #FFFFFF;\n",
              "    }\n",
              "  </style>\n",
              "\n",
              "      <script>\n",
              "        const buttonEl =\n",
              "          document.querySelector('#df-d18f2dd7-a843-4c9f-9175-ce50bd1c920b button.colab-df-convert');\n",
              "        buttonEl.style.display =\n",
              "          google.colab.kernel.accessAllowed ? 'block' : 'none';\n",
              "\n",
              "        async function convertToInteractive(key) {\n",
              "          const element = document.querySelector('#df-d18f2dd7-a843-4c9f-9175-ce50bd1c920b');\n",
              "          const dataTable =\n",
              "            await google.colab.kernel.invokeFunction('convertToInteractive',\n",
              "                                                     [key], {});\n",
              "          if (!dataTable) return;\n",
              "\n",
              "          const docLinkHtml = 'Like what you see? Visit the ' +\n",
              "            '<a target=\"_blank\" href=https://colab.research.google.com/notebooks/data_table.ipynb>data table notebook</a>'\n",
              "            + ' to learn more about interactive tables.';\n",
              "          element.innerHTML = '';\n",
              "          dataTable['output_type'] = 'display_data';\n",
              "          await google.colab.output.renderOutput(dataTable, element);\n",
              "          const docLink = document.createElement('div');\n",
              "          docLink.innerHTML = docLinkHtml;\n",
              "          element.appendChild(docLink);\n",
              "        }\n",
              "      </script>\n",
              "    </div>\n",
              "  </div>\n",
              "  "
            ],
            "text/plain": [
              "                              alcohol  malic_acid  ...  proline  target\n",
              "alcohol                          1.00        0.09  ...     0.64   -0.33\n",
              "malic_acid                       0.09        1.00  ...    -0.19    0.44\n",
              "ash                              0.21        0.16  ...     0.22   -0.05\n",
              "alcalinity_of_ash               -0.31        0.29  ...    -0.44    0.52\n",
              "magnesium                        0.27       -0.05  ...     0.39   -0.21\n",
              "total_phenols                    0.29       -0.34  ...     0.50   -0.72\n",
              "flavanoids                       0.24       -0.41  ...     0.49   -0.85\n",
              "nonflavanoid_phenols            -0.16        0.29  ...    -0.31    0.49\n",
              "proanthocyanins                  0.14       -0.22  ...     0.33   -0.50\n",
              "color_intensity                  0.55        0.25  ...     0.32    0.27\n",
              "hue                             -0.07       -0.56  ...     0.24   -0.62\n",
              "od280/od315_of_diluted_wines     0.07       -0.37  ...     0.31   -0.79\n",
              "proline                          0.64       -0.19  ...     1.00   -0.63\n",
              "target                          -0.33        0.44  ...    -0.63    1.00\n",
              "\n",
              "[14 rows x 14 columns]"
            ]
          },
          "metadata": {},
          "execution_count": 22
        }
      ]
    },
    {
      "cell_type": "code",
      "source": [
        "ax = sns.heatmap(corr_df, annot=True, annot_kws=dict(color='g'), cmap='Greys')\n",
        "plt.show()"
      ],
      "metadata": {
        "colab": {
          "base_uri": "https://localhost:8080/",
          "height": 414
        },
        "id": "l4w-giHdldSp",
        "outputId": "4c8ec392-4a92-4c7a-c8a7-d3087a15db3d"
      },
      "execution_count": 23,
      "outputs": [
        {
          "output_type": "display_data",
          "data": {
            "image/png": "[encoded data removed]",
            "text/plain": [
              "<Figure size 432x288 with 2 Axes>"
            ]
          },
          "metadata": {
            "needs_background": "light"
          }
        }
      ]
    },
    {
      "cell_type": "code",
      "source": [
        "column_new = ['malic_acid', 'alcalinity_of_ash', 'total_phenols', 'flavanoids', 'nonflavanoid_phenols', 'proanthocyanins','hue','od280/od315_of_diluted_wines','proline']\n",
        "wine_data = df[column_new]"
      ],
      "metadata": {
        "id": "leFF446hlqu7"
      },
      "execution_count": 27,
      "outputs": []
    },
    {
      "cell_type": "code",
      "source": [
        "wine_data.shape"
      ],
      "metadata": {
        "colab": {
          "base_uri": "https://localhost:8080/"
        },
        "id": "E3wPXmgWo8Oa",
        "outputId": "434f0a33-102a-4c18-97c1-49715c131e9c"
      },
      "execution_count": 32,
      "outputs": [
        {
          "output_type": "execute_result",
          "data": {
            "text/plain": [
              "(178, 9)"
            ]
          },
          "metadata": {},
          "execution_count": 32
        }
      ]
    },
    {
      "cell_type": "code",
      "source": [
        "input = wine_data.values\n",
        "output = wine.target\n",
        "X_train, X_test, y_train, y_test = train_test_split(input, output, test_size=0.33, random_state=42,stratify=output,shuffle = True)\n",
        "\n"
      ],
      "metadata": {
        "id": "MpGw6kgghrFx"
      },
      "execution_count": 33,
      "outputs": []
    },
    {
      "cell_type": "code",
      "source": [
        "print(y_train)"
      ],
      "metadata": {
        "colab": {
          "base_uri": "https://localhost:8080/"
        },
        "id": "ZJ2XZT12bxmC",
        "outputId": "bff10dd6-2b0a-4c81-d524-89437d2530bb"
      },
      "execution_count": 29,
      "outputs": [
        {
          "output_type": "stream",
          "name": "stdout",
          "text": [
            "[0 0 0 0 1 0 2 1 2 0 1 2 1 1 0 0 0 1 1 0 1 1 1 1 2 2 1 0 2 1 2 1 0 2 1 1 1\n",
            " 1 1 0 0 0 0 0 0 1 1 2 0 2 1 0 1 2 0 2 1 1 1 0 1 0 1 1 0 2 2 0 0 1 2 0 0 2\n",
            " 1 1 2 2 2 2 1 1 0 0 1 1 2 2 1 1 2 0 0 0 2 1 2 1 2 2 0 1 1 0 1 1 2 0 2 0 0\n",
            " 1 1 2 0 2 1 2 1]\n"
          ]
        }
      ]
    },
    {
      "cell_type": "code",
      "source": [
        "print(X_train[0])\n",
        "print(y_train[0])"
      ],
      "metadata": {
        "colab": {
          "base_uri": "https://localhost:8080/"
        },
        "id": "g5ZtXeuA2B-4",
        "outputId": "9883c6c6-6b8a-4681-a425-06068d9be052"
      },
      "execution_count": 34,
      "outputs": [
        {
          "output_type": "stream",
          "name": "stdout",
          "text": [
            "[1.73e+00 1.60e+01 2.60e+00 2.76e+00 2.90e-01 1.81e+00 1.15e+00 2.90e+00\n",
            " 1.32e+03]\n",
            "0\n"
          ]
        }
      ]
    },
    {
      "cell_type": "code",
      "source": [
        "class CustomDataset(Dataset):\n",
        "  def __init__(self):\n",
        "    \n",
        "    self.x_data = X_train\n",
        "    self.y_data = [[y] for y in y_train]\n",
        "\n",
        "  def __len__(self):\n",
        "\n",
        "    return len(self.x_data)\n",
        "\n",
        "  def __getitem__(self, idx):\n",
        "\n",
        "    x = torch.FloatTensor(self.x_data[idx]).to(device)\n",
        "    y = torch.LongTensor(self.y_data[idx]).to(device)\n",
        "\n",
        "    return x,y"
      ],
      "metadata": {
        "id": "f5uu6fuWb_Pf"
      },
      "execution_count": 35,
      "outputs": []
    },
    {
      "cell_type": "code",
      "source": [
        "batch_size = 8\n",
        "\n",
        "dataset = CustomDataset()\n",
        "dataloader = DataLoader(dataset, batch_size=batch_size)"
      ],
      "metadata": {
        "id": "cRfwXv6ncAOY"
      },
      "execution_count": 36,
      "outputs": []
    },
    {
      "cell_type": "code",
      "source": [
        " model = nn.Sequential(\n",
        "          nn.Linear(9, 100, bias=True),  \n",
        "          nn.Sigmoid(),\n",
        "          nn.Linear(100, 100, bias=True), \n",
        "          nn.Sigmoid(),\n",
        "          nn.Linear(100, 3, bias=True), \n",
        "          nn.Softmax()\n",
        "          ).to(device)"
      ],
      "metadata": {
        "id": "0DR3spZthrIu"
      },
      "execution_count": 44,
      "outputs": []
    },
    {
      "cell_type": "code",
      "source": [
        "class Model(torch.nn.Module):\n",
        "\n",
        "  def __init__(self):\n",
        "    super(Model, self).__init__()\n",
        "    self.layer1 = nn.Sequential(\n",
        "          nn.Linear(9, 100, bias=True), # input_layer = 2, hidden_layer1 = 10 \n",
        "          nn.Sigmoid(),\n",
        "\n",
        "  # activation function 이용 \n",
        "  #   nn.ReLU()\n",
        "  #   nn.tanH()\n",
        "  #   https://pytorch.org/docs/stable/nn.html 그 외에도 여기서 확인 가능함 \n",
        "  #   파라미터가 필요하지 않다는 것이 특징\n",
        "        nn.BatchNorm1d(100)\n",
        "\n",
        "  # batch normazliation 1d, 파라미터 값으로 vector의 길이를 전해줌\n",
        "  # 추후에 이미지를 다루게 된다면, 그때는 batch normalization 2d를 이용하게 됨 \n",
        "  # 그때는 파라미터 값으로 채널, 가로, 세로 길이를 전달해주게 됨 \n",
        "\n",
        "\n",
        "    )\n",
        "    self.layer2 = nn.Sequential(\n",
        "          nn.Linear(100, 100, bias=True), # hidden_layer1 = 10, hidden_layer2 = 10\n",
        "        nn.Sigmoid()\n",
        "    )\n",
        "    self.layer3 = nn.Sequential(\n",
        "          nn.Linear(100, 100, bias=True), # hidden_layer1 = 10, hidden_layer2 = 10\n",
        "        nn.Sigmoid()\n",
        "    )\n",
        "    self.layer4 = nn.Sequential(\n",
        "        nn.Linear(100, 3, bias=True), # hidden_layer3 = 10, output_layer = 1\n",
        "        nn.Softmax()\n",
        "    )\n",
        "\n",
        "  def forward(self,x):\n",
        "    output = self.layer1(x)\n",
        "    output = self.layer2(output)\n",
        "    output = self.layer3(output)\n",
        "    output = self.layer4(output)\n",
        "    return output"
      ],
      "metadata": {
        "id": "cNJVZvAZcRs6"
      },
      "execution_count": 45,
      "outputs": []
    },
    {
      "cell_type": "code",
      "source": [
        "def init_weights(layer):\n",
        "    if isinstance(layer, nn.Linear):\n",
        "        torch.nn.init.xavier_uniform(layer.weight)\n",
        "        layer.bias.data.fill_(0.01)"
      ],
      "metadata": {
        "id": "zDI8n5wucVfA"
      },
      "execution_count": 46,
      "outputs": []
    },
    {
      "cell_type": "code",
      "source": [
        "model = Model().to(device)\n",
        "model.apply(init_weights)"
      ],
      "metadata": {
        "colab": {
          "base_uri": "https://localhost:8080/"
        },
        "id": "kRPFIQWKcW4H",
        "outputId": "cd46007f-6fa2-4c3d-bff5-d3ca9eac7bde"
      },
      "execution_count": 47,
      "outputs": [
        {
          "output_type": "execute_result",
          "data": {
            "text/plain": [
              "Model(\n",
              "  (layer1): Sequential(\n",
              "    (0): Linear(in_features=9, out_features=100, bias=True)\n",
              "    (1): Sigmoid()\n",
              "    (2): BatchNorm1d(100, eps=1e-05, momentum=0.1, affine=True, track_running_stats=True)\n",
              "  )\n",
              "  (layer2): Sequential(\n",
              "    (0): Linear(in_features=100, out_features=100, bias=True)\n",
              "    (1): Sigmoid()\n",
              "  )\n",
              "  (layer3): Sequential(\n",
              "    (0): Linear(in_features=100, out_features=100, bias=True)\n",
              "    (1): Sigmoid()\n",
              "  )\n",
              "  (layer4): Sequential(\n",
              "    (0): Linear(in_features=100, out_features=3, bias=True)\n",
              "    (1): Softmax(dim=None)\n",
              "  )\n",
              ")"
            ]
          },
          "metadata": {},
          "execution_count": 47
        }
      ]
    },
    {
      "cell_type": "code",
      "source": [
        "print(model)\n"
      ],
      "metadata": {
        "colab": {
          "base_uri": "https://localhost:8080/"
        },
        "id": "X8ULSqoScsJX",
        "outputId": "a2cb6d21-af8f-48fd-d153-f65bbd8a3a3a"
      },
      "execution_count": 48,
      "outputs": [
        {
          "output_type": "stream",
          "name": "stdout",
          "text": [
            "Model(\n",
            "  (layer1): Sequential(\n",
            "    (0): Linear(in_features=9, out_features=100, bias=True)\n",
            "    (1): Sigmoid()\n",
            "    (2): BatchNorm1d(100, eps=1e-05, momentum=0.1, affine=True, track_running_stats=True)\n",
            "  )\n",
            "  (layer2): Sequential(\n",
            "    (0): Linear(in_features=100, out_features=100, bias=True)\n",
            "    (1): Sigmoid()\n",
            "  )\n",
            "  (layer3): Sequential(\n",
            "    (0): Linear(in_features=100, out_features=100, bias=True)\n",
            "    (1): Sigmoid()\n",
            "  )\n",
            "  (layer4): Sequential(\n",
            "    (0): Linear(in_features=100, out_features=3, bias=True)\n",
            "    (1): Softmax(dim=None)\n",
            "  )\n",
            ")\n"
          ]
        }
      ]
    },
    {
      "cell_type": "code",
      "source": [
        "loss_fn = nn.CrossEntropyLoss().to(device)\n",
        "optimizer = optim.SGD(model.parameters(), lr=0.5)"
      ],
      "metadata": {
        "id": "TVkoFyHahrLq"
      },
      "execution_count": 49,
      "outputs": []
    },
    {
      "cell_type": "code",
      "source": [
        "losses = []\n",
        "for epoch in range(100):\n",
        "\n",
        "  for x, y in dataloader:\n",
        "    optimizer.zero_grad()\n",
        "    x = x.to(device)\n",
        "    y = y.to(device)\n",
        "\n",
        "    # forward 연산\n",
        "    hypothesis = model(x)\n",
        "\n",
        "    # 비용 함수\n",
        "    y = y.squeeze()\n",
        "    cost = loss_fn(hypothesis, y)\n",
        "    cost.backward()\n",
        "    optimizer.step()\n",
        "  losses.append(cost.item()) # 값만 가져오기 위해서 .item()\n",
        "\n",
        "  # 10의 배수에 해당되는 에포크마다 비용을 출력\n",
        "  if epoch % 10 == 0:\n",
        "      print(epoch, cost.item())"
      ],
      "metadata": {
        "colab": {
          "base_uri": "https://localhost:8080/"
        },
        "id": "nRjnE8kZlvbN",
        "outputId": "700990bf-26c4-4b15-91e0-cd5109b32953"
      },
      "execution_count": 50,
      "outputs": [
        {
          "output_type": "stream",
          "name": "stdout",
          "text": [
            "0 1.0992778539657593\n",
            "10 1.12117600440979\n",
            "20 1.10701322555542\n",
            "30 1.1051629781723022\n",
            "40 1.1058006286621094\n",
            "50 1.1066486835479736\n",
            "60 1.1072219610214233\n",
            "70 1.1076253652572632\n",
            "80 1.1078999042510986\n",
            "90 1.1080949306488037\n"
          ]
        }
      ]
    },
    {
      "cell_type": "code",
      "source": [
        "import matplotlib.pyplot as plt\n",
        "\n",
        "plt.plot(losses)\n",
        "plt.show()"
      ],
      "metadata": {
        "colab": {
          "base_uri": "https://localhost:8080/",
          "height": 265
        },
        "id": "t4eib4ZboW6E",
        "outputId": "8d37386b-f9e5-4615-df24-5c2f69991ad3"
      },
      "execution_count": 51,
      "outputs": [
        {
          "output_type": "display_data",
          "data": {
            "image/png": "[encoded data removed]",
            "text/plain": [
              "<Figure size 432x288 with 1 Axes>"
            ]
          },
          "metadata": {
            "needs_background": "light"
          }
        }
      ]
    },
    {
      "cell_type": "code",
      "source": [
        "import numpy as np\n",
        "with torch.no_grad():\n",
        "\n",
        "    model = model.to('cpu')\n",
        "    X_test = torch.FloatTensor(X_test)\n",
        "    y_pred = model(X_test)\n",
        "\n",
        "    y_pred = y_pred.detach().numpy() # tensor를 numpy로 바꿈\n",
        "    predicted = np.argmax(y_pred,axis=1)\n",
        "    print(f'model의 output은 :  {y_pred[0]}' )\n",
        "    print(f'argmax를 한 후의 output은 {predicted[0]}')\n",
        "    accuracy = (accuracy_score(predicted,y_test))\n",
        "    print(f'accuracy는 {accuracy}')"
      ],
      "metadata": {
        "colab": {
          "base_uri": "https://localhost:8080/"
        },
        "id": "y6BQc_FJoZUd",
        "outputId": "f1df195f-70d9-4632-a882-999b65dc4503"
      },
      "execution_count": 52,
      "outputs": [
        {
          "output_type": "stream",
          "name": "stdout",
          "text": [
            "model의 output은 :  [0.2983739  0.54713774 0.15448835]\n",
            "argmax를 한 후의 output은 1\n",
            "accuracy는 0.3898305084745763\n"
          ]
        }
      ]
    }
  ]
}