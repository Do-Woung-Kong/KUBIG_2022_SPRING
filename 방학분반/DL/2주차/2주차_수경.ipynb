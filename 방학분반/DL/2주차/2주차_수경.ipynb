{
  "nbformat": 4,
  "nbformat_minor": 0,
  "metadata": {
    "colab": {
      "name": "2주차_수경.ipynb",
      "provenance": [],
      "collapsed_sections": []
    },
    "kernelspec": {
      "name": "python3",
      "display_name": "Python 3"
    },
    "language_info": {
      "name": "python"
    },
    "accelerator": "GPU"
  },
  "cells": [
    {
      "cell_type": "code",
      "source": [
        "criterion = torch.nn.BCELoss().to(device) # loss function 생성\n",
        "optimizer = torch.optim.SGD(model.parameters(), lr=1)  # 앞서 생성한 model의 parameter를 update 해주는 optimizer (다음 시간에 자세히)"
      ],
      "metadata": {
        "id": "csL1nmPRSHHl"
      },
      "execution_count": 6,
      "outputs": []
    },
    {
      "cell_type": "code",
      "source": [
        "import torch\n",
        "from torch import nn, optim\n",
        "from sklearn.datasets import load_wine"
      ],
      "metadata": {
        "id": "Fzf8A7CWhq9F"
      },
      "execution_count": 49,
      "outputs": []
    },
    {
      "cell_type": "code",
      "source": [
        "device = 'cuda' if torch.cuda.is_available() else 'cpu'\n",
        "# for reproducibility\n",
        "torch.manual_seed(777)\n",
        "if device == 'cuda':\n",
        "    torch.cuda.manual_seed_all(777)"
      ],
      "metadata": {
        "id": "W14DSAz9z_Le"
      },
      "execution_count": 22,
      "outputs": []
    },
    {
      "cell_type": "code",
      "source": [
        "import torch\n",
        "from torch import nn, optim\n",
        "from sklearn.datasets import load_wine\n",
        "from torch.utils.data import  TensorDataset, DataLoader\n",
        "from sklearn.model_selection import train_test_split\n",
        "from sklearn.metrics import accuracy_score\n",
        "\n",
        "wine = load_wine()\n",
        "\n",
        "input = wine.data\n",
        "output = wine.target\n",
        "X_train, X_test, y_train, y_test = train_test_split(input, output, test_size=0.33, random_state=42,stratify=output,shuffle = True)\n",
        "\n",
        "X_train = torch.FloatTensor(X_train).to(device)\n",
        "y_train = torch.LongTensor(y_train).to(device)\n",
        "X_test = torch.FloatTensor(X_test)\n",
        "y_test = torch.LongTensor(y_test)"
      ],
      "metadata": {
        "id": "MpGw6kgghrFx"
      },
      "execution_count": 51,
      "outputs": []
    },
    {
      "cell_type": "code",
      "source": [
        "print(X_train[0])\n",
        "print(y_train[0])"
      ],
      "metadata": {
        "colab": {
          "base_uri": "https://localhost:8080/"
        },
        "id": "g5ZtXeuA2B-4",
        "outputId": "8a00f038-1eab-4ebb-e144-7d2b7c38c433"
      },
      "execution_count": 52,
      "outputs": [
        {
          "output_type": "stream",
          "name": "stdout",
          "text": [
            "tensor([1.3750e+01, 1.7300e+00, 2.4100e+00, 1.6000e+01, 8.9000e+01, 2.6000e+00,\n",
            "        2.7600e+00, 2.9000e-01, 1.8100e+00, 5.6000e+00, 1.1500e+00, 2.9000e+00,\n",
            "        1.3200e+03], device='cuda:0')\n",
            "tensor(0, device='cuda:0')\n"
          ]
        }
      ]
    },
    {
      "cell_type": "code",
      "source": [
        " model = nn.Sequential(\n",
        "          nn.Linear(13, 100, bias=True),  \n",
        "          nn.Sigmoid(),\n",
        "          nn.Linear(100, 100, bias=True), \n",
        "          nn.Sigmoid(),\n",
        "          nn.Linear(100, 3, bias=True), \n",
        "          nn.Softmax()\n",
        "          ).to(device)"
      ],
      "metadata": {
        "id": "0DR3spZthrIu"
      },
      "execution_count": 58,
      "outputs": []
    },
    {
      "cell_type": "code",
      "source": [
        "loss_fn = nn.CrossEntropyLoss().to(device)\n",
        "optimizer = optim.SGD(model.parameters(), lr=1)"
      ],
      "metadata": {
        "id": "TVkoFyHahrLq"
      },
      "execution_count": 59,
      "outputs": []
    },
    {
      "cell_type": "code",
      "source": [
        "losses = []\n",
        "for epoch in range(100):\n",
        "\n",
        "    optimizer.zero_grad()\n",
        "    # forward 연산\n",
        "    hypothesis = model(X_train)\n",
        "\n",
        "    # 비용 함수\n",
        "    cost = loss_fn(hypothesis, y_train)\n",
        "    cost.backward()\n",
        "    optimizer.step()\n",
        "    losses.append(cost.item()) # 값만 가져오기 위해서 .item()\n",
        "\n",
        "    # 10의 배수에 해당되는 에포크마다 비용을 출력\n",
        "    if epoch % 10 == 0:\n",
        "        print(epoch, cost.item())"
      ],
      "metadata": {
        "colab": {
          "base_uri": "https://localhost:8080/"
        },
        "id": "nRjnE8kZlvbN",
        "outputId": "a59abc4f-b71b-4895-df87-9748393418eb"
      },
      "execution_count": 60,
      "outputs": [
        {
          "output_type": "stream",
          "name": "stdout",
          "text": [
            "0 1.093906044960022\n",
            "10 1.084957242012024\n",
            "20 1.0837172269821167\n",
            "30 1.085005521774292\n",
            "40 1.0850086212158203\n",
            "50 1.085005760192871\n",
            "60 1.085005521774292\n",
            "70 1.085005521774292\n",
            "80 1.085005283355713\n",
            "90 1.0850051641464233\n"
          ]
        },
        {
          "output_type": "stream",
          "name": "stderr",
          "text": [
            "/usr/local/lib/python3.7/dist-packages/torch/nn/modules/container.py:141: UserWarning: Implicit dimension choice for softmax has been deprecated. Change the call to include dim=X as an argument.\n",
            "  input = module(input)\n"
          ]
        }
      ]
    },
    {
      "cell_type": "code",
      "source": [
        "import matplotlib.pyplot as plt\n",
        "\n",
        "plt.plot(losses)\n",
        "plt.show()"
      ],
      "metadata": {
        "colab": {
          "base_uri": "https://localhost:8080/",
          "height": 265
        },
        "id": "t4eib4ZboW6E",
        "outputId": "de79de45-3124-4dcb-cdc5-5658213ed27e"
      },
      "execution_count": 61,
      "outputs": [
        {
          "output_type": "display_data",
          "data": {
            "image/png": "[encoded data removed]",
            "text/plain": [
              "<Figure size 432x288 with 1 Axes>"
            ]
          },
          "metadata": {
            "needs_background": "light"
          }
        }
      ]
    },
    {
      "cell_type": "code",
      "source": [
        "import numpy as np\n",
        "with torch.no_grad():\n",
        "\n",
        "    model = model.to('cpu')\n",
        "    y_pred = model(X_test)\n",
        "\n",
        "    y_pred = y_pred.detach().numpy() # tensor를 numpy로 바꿈\n",
        "    predicted = np.argmax(y_pred,axis=1)\n",
        "    print(f'model의 output은 :  {y_pred[0]}' )\n",
        "    print(f'argmax를 한 후의 output은 {predicted[0]}')\n",
        "    accuracy = (accuracy_score(predicted,y_test))\n",
        "    print(f'accuracy는 {accuracy}')"
      ],
      "metadata": {
        "colab": {
          "base_uri": "https://localhost:8080/"
        },
        "id": "y6BQc_FJoZUd",
        "outputId": "9126668c-72c7-4fab-a7ee-7fa44a788f82"
      },
      "execution_count": 62,
      "outputs": [
        {
          "output_type": "stream",
          "name": "stdout",
          "text": [
            "model의 output은 :  [0.3300596  0.53770393 0.13223639]\n",
            "argmax를 한 후의 output은 1\n",
            "accuracy는 0.3898305084745763\n"
          ]
        },
        {
          "output_type": "stream",
          "name": "stderr",
          "text": [
            "/usr/local/lib/python3.7/dist-packages/torch/nn/modules/container.py:141: UserWarning: Implicit dimension choice for softmax has been deprecated. Change the call to include dim=X as an argument.\n",
            "  input = module(input)\n"
          ]
        }
      ]
    }
  ]
}