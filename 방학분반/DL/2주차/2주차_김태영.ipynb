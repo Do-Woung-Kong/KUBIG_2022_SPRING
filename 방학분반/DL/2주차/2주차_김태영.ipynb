{
  "nbformat": 4,
  "nbformat_minor": 0,
  "metadata": {
    "colab": {
      "name": "2주차_김태영.ipynb",
      "provenance": []
    },
    "kernelspec": {
      "name": "python3",
      "display_name": "Python 3"
    },
    "language_info": {
      "name": "python"
    }
  },
  "cells": [
    {
      "cell_type": "code",
      "execution_count": 29,
      "metadata": {
        "id": "P8h_33lbdtne"
      },
      "outputs": [],
      "source": [
        "import numpy as np\n",
        "import torch\n",
        "from torch import nn, optim\n",
        "from sklearn.datasets import load_digits\n",
        "from sklearn.model_selection import train_test_split\n",
        "from sklearn.metrics import accuracy_score\n",
        "import matplotlib.pyplot as plt"
      ]
    },
    {
      "cell_type": "code",
      "source": [
        "device = 'cuda' if torch.cuda.is_available() else 'cpu'\n",
        "\n",
        "torch.manual_seed(777)\n",
        "if device == \"cuda\":\n",
        "  torch.cuda.manual_seed_all(777)"
      ],
      "metadata": {
        "id": "JinZI449eW-J"
      },
      "execution_count": 2,
      "outputs": []
    },
    {
      "cell_type": "code",
      "source": [
        "digits = load_digits()\n",
        "input = digits.data\n",
        "output = digits.target"
      ],
      "metadata": {
        "id": "dtYh28wte0BP"
      },
      "execution_count": 7,
      "outputs": []
    },
    {
      "cell_type": "code",
      "source": [
        "x_train, x_test, y_train, y_test = train_test_split(input, output, test_size = 0.3, random_state = 42, stratify= digits.target, shuffle = True)\n",
        "\n",
        "x_train = torch.FloatTensor(x_train).to(device) # 32비트의 부동소수점\n",
        "y_train = torch.LongTensor(y_train).to(device) # 64비트의 부호있는 정수\n",
        "x_test = torch.FloatTensor(x_test)\n",
        "y_test = torch.LongTensor(y_test)\n",
        "\n",
        "print(x_train.shape)\n",
        "print(y_train.shape)\n",
        "print(x_test.shape)\n",
        "print(y_test.shape)"
      ],
      "metadata": {
        "colab": {
          "base_uri": "https://localhost:8080/"
        },
        "id": "Cp_p1MKUfavi",
        "outputId": "d782c0bb-099d-4293-ee34-a7ad6a688247"
      },
      "execution_count": 16,
      "outputs": [
        {
          "output_type": "stream",
          "name": "stdout",
          "text": [
            "torch.Size([1257, 64])\n",
            "torch.Size([1257])\n",
            "torch.Size([540, 64])\n",
            "torch.Size([540])\n"
          ]
        }
      ]
    },
    {
      "cell_type": "code",
      "source": [
        "print(x_train[0])\n",
        "print(y_train[0])"
      ],
      "metadata": {
        "colab": {
          "base_uri": "https://localhost:8080/"
        },
        "id": "1RCFJ6mufX0y",
        "outputId": "73ec0407-4dca-4019-8985-3cbe52396517"
      },
      "execution_count": 15,
      "outputs": [
        {
          "output_type": "stream",
          "name": "stdout",
          "text": [
            "tensor([ 0.,  0.,  0., 16., 12.,  1.,  0.,  0.,  0.,  0.,  6., 16., 14.,  7.,\n",
            "         0.,  0.,  0.,  0., 14., 15.,  1., 11.,  0.,  0.,  0.,  0., 16., 15.,\n",
            "         0., 14.,  1.,  0.,  0.,  1., 16., 10.,  0., 14.,  2.,  0.,  0.,  0.,\n",
            "        15., 13.,  3., 15.,  3.,  0.,  0.,  0.,  9., 16., 16., 15.,  0.,  0.,\n",
            "         0.,  0.,  0., 13., 16.,  8.,  0.,  0.])\n",
            "tensor(0)\n"
          ]
        }
      ]
    },
    {
      "cell_type": "code",
      "source": [
        "images = list(zip(digits.images, digits.target))\n",
        "for index, (image, label) in enumerate(images[:10]):\n",
        "  plt.subplot(2,5,index+1)\n",
        "  plt.axis(\"off\")\n",
        "  plt.imshow(image, cmap = plt.cm.gray_r, interpolation='nearest')\n",
        "  plt.title(\"sample : %i\" %label)"
      ],
      "metadata": {
        "colab": {
          "base_uri": "https://localhost:8080/",
          "height": 223
        },
        "id": "nYmcouF1j4d9",
        "outputId": "a0b0c166-3d2d-49eb-f169-1978424bba50"
      },
      "execution_count": 23,
      "outputs": [
        {
          "output_type": "display_data",
          "data": {
            "image/png": "[encoded data removed]",
            "text/plain": [
              "<Figure size 432x288 with 10 Axes>"
            ]
          },
          "metadata": {
            "needs_background": "light"
          }
        }
      ]
    },
    {
      "cell_type": "markdown",
      "source": [
        "어쩔때 floattensor이고 long tensor인가,,? 그 차이가 의미가 있는가?"
      ],
      "metadata": {
        "id": "ddIuyt-_iPo2"
      }
    },
    {
      "cell_type": "code",
      "source": [
        "# input 64, output 1\n",
        "\n",
        "model = nn.Sequential(\n",
        "    nn.Linear(64, 32, bias=True),\n",
        "    nn.Sigmoid(),\n",
        "    nn.Linear(32,24, bias=True),\n",
        "    nn.Sigmoid(),\n",
        "    nn.Linear(24,10, bias=True),\n",
        "    nn.Softmax()\n",
        ").to(device)"
      ],
      "metadata": {
        "id": "aeN2p8NjiDD8"
      },
      "execution_count": 42,
      "outputs": []
    },
    {
      "cell_type": "code",
      "source": [
        "loss_fn = nn.CrossEntropyLoss().to(device)\n",
        "optimizer = optim.SGD(model.parameters(), lr = 0.7)"
      ],
      "metadata": {
        "id": "KKD3y-W0mzTt"
      },
      "execution_count": 43,
      "outputs": []
    },
    {
      "cell_type": "code",
      "source": [
        "losses = []\n",
        "for epoch in range(100):\n",
        "\n",
        "  optimizer.zero_grad()\n",
        "  hypothesis = model(x_train)\n",
        "\n",
        "  cost = loss_fn(hypothesis, y_train)\n",
        "  cost.backward()\n",
        "  optimizer.step()\n",
        "  losses.append(cost.item())\n",
        "\n",
        "  if epoch % 10 == 0:\n",
        "    print(epoch, cost.item())"
      ],
      "metadata": {
        "colab": {
          "base_uri": "https://localhost:8080/"
        },
        "id": "2aCEBPPJnBek",
        "outputId": "23a178c0-44ea-40c1-bb9e-d5fd290c1798"
      },
      "execution_count": 44,
      "outputs": [
        {
          "output_type": "stream",
          "name": "stderr",
          "text": [
            "/usr/local/lib/python3.7/dist-packages/torch/nn/modules/container.py:141: UserWarning: Implicit dimension choice for softmax has been deprecated. Change the call to include dim=X as an argument.\n",
            "  input = module(input)\n"
          ]
        },
        {
          "output_type": "stream",
          "name": "stdout",
          "text": [
            "0 2.303715705871582\n",
            "10 2.302907943725586\n",
            "20 2.302151918411255\n",
            "30 2.301527261734009\n",
            "40 2.300947666168213\n",
            "50 2.3003578186035156\n",
            "60 2.299724817276001\n",
            "70 2.299013376235962\n",
            "80 2.2981841564178467\n",
            "90 2.297240734100342\n"
          ]
        }
      ]
    },
    {
      "cell_type": "code",
      "source": [
        "plt.plot(losses)\n",
        "plt.show()"
      ],
      "metadata": {
        "colab": {
          "base_uri": "https://localhost:8080/",
          "height": 267
        },
        "id": "IeMT_Z3Pno6z",
        "outputId": "e3c2bc97-195d-4292-832a-9a8af4f61fb3"
      },
      "execution_count": 45,
      "outputs": [
        {
          "output_type": "display_data",
          "data": {
            "image/png": "[encoded data removed]",
            "text/plain": [
              "<Figure size 432x288 with 1 Axes>"
            ]
          },
          "metadata": {
            "needs_background": "light"
          }
        }
      ]
    },
    {
      "cell_type": "code",
      "source": [
        "with torch.no_grad():\n",
        "  model = model.to('cpu')\n",
        "  y_pred = model(x_test)\n",
        "  y_pred = y_pred.detach().numpy()\n",
        "  predicted = np.argmax(y_pred, axis =1)\n",
        "  accuracy = (accuracy_score(predicted, y_test))\n",
        "\n",
        "  print(y_pred[0])\n",
        "  print(predicted[0])\n",
        "  print(accuracy)"
      ],
      "metadata": {
        "colab": {
          "base_uri": "https://localhost:8080/"
        },
        "id": "NF64fBKYns9S",
        "outputId": "ce77edb7-c8b3-4213-dddb-bd8044d2745d"
      },
      "execution_count": 46,
      "outputs": [
        {
          "output_type": "stream",
          "name": "stdout",
          "text": [
            "[0.13602696 0.11319835 0.10272977 0.06705049 0.05894302 0.11950292\n",
            " 0.14288208 0.07395896 0.09705275 0.08865473]\n",
            "6\n",
            "0.16666666666666666\n"
          ]
        },
        {
          "output_type": "stream",
          "name": "stderr",
          "text": [
            "/usr/local/lib/python3.7/dist-packages/torch/nn/modules/container.py:141: UserWarning: Implicit dimension choice for softmax has been deprecated. Change the call to include dim=X as an argument.\n",
            "  input = module(input)\n"
          ]
        }
      ]
    }
  ]
}