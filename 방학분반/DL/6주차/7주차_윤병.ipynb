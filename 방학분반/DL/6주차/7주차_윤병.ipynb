{
  "nbformat": 4,
  "nbformat_minor": 0,
  "metadata": {
    "colab": {
      "name": "7주차_윤병.ipynb",
      "provenance": [],
      "machine_shape": "hm"
    },
    "kernelspec": {
      "name": "python3",
      "display_name": "Python 3"
    },
    "language_info": {
      "name": "python"
    },
    "accelerator": "GPU"
  },
  "cells": [
    {
      "cell_type": "code",
      "source": [
        "from google import colab\n",
        "colab.drive.mount(\"/content/drive\")"
      ],
      "metadata": {
        "colab": {
          "base_uri": "https://localhost:8080/"
        },
        "id": "AUOnIzQBY5Ri",
        "outputId": "b6d7d90d-5b2a-43f6-efb9-f63ffb869c69"
      },
      "execution_count": null,
      "outputs": [
        {
          "output_type": "stream",
          "name": "stdout",
          "text": [
            "Mounted at /content/drive\n"
          ]
        }
      ]
    },
    {
      "cell_type": "code",
      "source": [
        "import os\n",
        "import torch \n",
        "from torch import nn, optim\n",
        "import torch.nn.functional as F\n",
        "from torch.utils.data import Dataset, DataLoader\n",
        "\n",
        "import random\n",
        "\n",
        "import pandas as pd\n",
        "import re"
      ],
      "metadata": {
        "id": "BDQqqULTE2rp"
      },
      "execution_count": null,
      "outputs": []
    },
    {
      "cell_type": "code",
      "source": [
        "device = 'cuda' if torch.cuda.is_available() else 'cpu'\n",
        "\n",
        "# for reproducibility\n",
        "torch.manual_seed(2022)\n",
        "if device == 'cuda':\n",
        "    torch.cuda.manual_seed_all(2022)"
      ],
      "metadata": {
        "id": "t_qj2AmsE4ya"
      },
      "execution_count": null,
      "outputs": []
    },
    {
      "cell_type": "code",
      "source": [
        "#파일 불러오기\n",
        "train = pd.read_csv('/content/drive/MyDrive/Colab Notebooks/train.csv', encoding = 'utf-8') #한글의 경우 encoding으로 utf-8, ms949,cp949\n",
        "test = pd.read_csv('/content/drive/MyDrive/Colab Notebooks/test_x.csv', encoding = 'utf-8')\n",
        "sample_submission = pd.read_csv('/content/drive/MyDrive/Colab Notebooks/sample_submission.csv', encoding = 'utf-8')"
      ],
      "metadata": {
        "id": "D7oZGoiAE421"
      },
      "execution_count": null,
      "outputs": []
    },
    {
      "cell_type": "markdown",
      "source": [
        "#### 전처리"
      ],
      "metadata": {
        "id": "HjQRiQX140Gw"
      }
    },
    {
      "cell_type": "code",
      "source": [
        "#부호를 제거해주는 함수\n",
        "def alpha_num(text):\n",
        "    return re.sub(r'[^A-Za-z0-9 ]', '', text)\n",
        "\n",
        "train['text']=train['text'].apply(alpha_num)\n",
        "test['text']=test['text'].apply(alpha_num)"
      ],
      "metadata": {
        "id": "Nb07C7-jE45K"
      },
      "execution_count": null,
      "outputs": []
    },
    {
      "cell_type": "code",
      "source": [
        "import nltk\n",
        "from nltk.corpus import stopwords \n",
        "\n",
        "nltk.download('stopwords')\n",
        "stopwords = stopwords.words('english')\n",
        "\n",
        "print(stopwords[:10])"
      ],
      "metadata": {
        "colab": {
          "base_uri": "https://localhost:8080/"
        },
        "id": "iH6M3_KBZhVD",
        "outputId": "70338ea8-5109-4836-cbab-9cfe9b8f3107"
      },
      "execution_count": null,
      "outputs": [
        {
          "output_type": "stream",
          "name": "stdout",
          "text": [
            "[nltk_data] Downloading package stopwords to /root/nltk_data...\n",
            "[nltk_data]   Package stopwords is already up-to-date!\n",
            "['i', 'me', 'my', 'myself', 'we', 'our', 'ours', 'ourselves', 'you', \"you're\"]\n"
          ]
        }
      ]
    },
    {
      "cell_type": "code",
      "source": [
        "from nltk.tokenize import TreebankWordTokenizer\n",
        "\n",
        "tokenizer = TreebankWordTokenizer()"
      ],
      "metadata": {
        "id": "vkauYEhUE47W"
      },
      "execution_count": null,
      "outputs": []
    },
    {
      "cell_type": "code",
      "source": [
        "def remove_stopwords(text):\n",
        "    final_text = []\n",
        "    words = tokenizer.tokenize(text)\n",
        "    for word in words:\n",
        "        if word.strip().lower() not in stopwords:\n",
        "          final_text.append(word.strip())\n",
        "    return  \" \".join(final_text)\n",
        "\n",
        "\n",
        "train['text'] = train['text'].str.lower()\n",
        "test['text'] = test['text'].str.lower()\n",
        "train['text'] = train['text'].apply(alpha_num).apply(remove_stopwords) #전처리한 test에 불용어 처리 함수 적용\n",
        "test['text'] = test['text'].apply(alpha_num).apply(remove_stopwords)"
      ],
      "metadata": {
        "id": "OIT_fcb-E49q"
      },
      "execution_count": null,
      "outputs": []
    },
    {
      "cell_type": "code",
      "source": [
        "from sklearn.feature_extraction.text import TfidfVectorizer\n",
        "\n",
        "v = TfidfVectorizer(max_features = 1000) # 1000개로 지정 -> 더 크게한다면 더 좋을 듯\n",
        "v.fit(train['text'])"
      ],
      "metadata": {
        "id": "J6Y4ZO1bE4_9",
        "colab": {
          "base_uri": "https://localhost:8080/"
        },
        "outputId": "0e881eda-bbd9-473b-fab1-3e63ebd6bd6b"
      },
      "execution_count": null,
      "outputs": [
        {
          "output_type": "execute_result",
          "data": {
            "text/plain": [
              "TfidfVectorizer(max_features=1000)"
            ]
          },
          "metadata": {},
          "execution_count": 46
        }
      ]
    },
    {
      "cell_type": "code",
      "source": [
        "word_set = []\n",
        "max_len = 0\n",
        "\n",
        "for d in train['text']:\n",
        "  word_set = word_set + d.split(' ') \n",
        "  if len(d.split()) > max_len:\n",
        "    max_len = len(d.split())\n",
        "  \n",
        "word_set = set(word_set) "
      ],
      "metadata": {
        "id": "1PRM9fziE5CT"
      },
      "execution_count": null,
      "outputs": []
    },
    {
      "cell_type": "code",
      "source": [
        "word_to_idx = {word: i+1 for i, word in enumerate(word_set)} # 사전 만들기\n",
        "print(len(word_set))\n",
        "print(max_len)"
      ],
      "metadata": {
        "id": "mOl6LNwmE5Ew",
        "colab": {
          "base_uri": "https://localhost:8080/"
        },
        "outputId": "4ce562db-0705-4207-efd0-d898bc99b2c7"
      },
      "execution_count": null,
      "outputs": [
        {
          "output_type": "stream",
          "name": "stdout",
          "text": [
            "47120\n",
            "212\n"
          ]
        }
      ]
    },
    {
      "cell_type": "code",
      "source": [
        "def word_to_key(text):\n",
        "  final_text = []\n",
        "  for word in text.split():\n",
        "      final_text.append(word_to_idx[word]) # 만든 사전에서 인덱스 번호 지정\n",
        "  if len(final_text) < max_len:\n",
        "    final_text = final_text + [0] * (max_len - len(final_text)) #패딩\n",
        "  return final_text\n",
        "\n",
        "\n",
        "train['word_to_key'] = train['text'].apply(word_to_key)"
      ],
      "metadata": {
        "id": "ihYFB05mE5G6"
      },
      "execution_count": null,
      "outputs": []
    },
    {
      "cell_type": "code",
      "source": [
        "train"
      ],
      "metadata": {
        "colab": {
          "base_uri": "https://localhost:8080/",
          "height": 424
        },
        "id": "AoHTZh8OdpFq",
        "outputId": "e8c171da-c896-43c2-b55b-a82118da73d8"
      },
      "execution_count": null,
      "outputs": [
        {
          "output_type": "execute_result",
          "data": {
            "text/html": [
              "\n",
              "  <div id=\"df-72898d64-9e0f-4a8a-a93a-632e24fcc531\">\n",
              "    <div class=\"colab-df-container\">\n",
              "      <div>\n",
              "<style scoped>\n",
              "    .dataframe tbody tr th:only-of-type {\n",
              "        vertical-align: middle;\n",
              "    }\n",
              "\n",
              "    .dataframe tbody tr th {\n",
              "        vertical-align: top;\n",
              "    }\n",
              "\n",
              "    .dataframe thead th {\n",
              "        text-align: right;\n",
              "    }\n",
              "</style>\n",
              "<table border=\"1\" class=\"dataframe\">\n",
              "  <thead>\n",
              "    <tr style=\"text-align: right;\">\n",
              "      <th></th>\n",
              "      <th>index</th>\n",
              "      <th>text</th>\n",
              "      <th>author</th>\n",
              "      <th>word_to_key</th>\n",
              "    </tr>\n",
              "  </thead>\n",
              "  <tbody>\n",
              "    <tr>\n",
              "      <th>0</th>\n",
              "      <td>0</td>\n",
              "      <td>almost choking much much wanted say strange ex...</td>\n",
              "      <td>3</td>\n",
              "      <td>[6709, 29296, 15510, 15510, 15220, 10621, 3531...</td>\n",
              "    </tr>\n",
              "    <tr>\n",
              "      <th>1</th>\n",
              "      <td>1</td>\n",
              "      <td>sister asked suppose</td>\n",
              "      <td>2</td>\n",
              "      <td>[25889, 12146, 28879, 0, 0, 0, 0, 0, 0, 0, 0, ...</td>\n",
              "    </tr>\n",
              "    <tr>\n",
              "      <th>2</th>\n",
              "      <td>2</td>\n",
              "      <td>engaged one day walked perusing janes last let...</td>\n",
              "      <td>1</td>\n",
              "      <td>[32881, 1017, 14396, 41742, 12643, 16750, 3157...</td>\n",
              "    </tr>\n",
              "    <tr>\n",
              "      <th>3</th>\n",
              "      <td>3</td>\n",
              "      <td>captain porch keeping carefully way treacherou...</td>\n",
              "      <td>4</td>\n",
              "      <td>[15058, 24581, 35234, 38733, 42068, 26575, 180...</td>\n",
              "    </tr>\n",
              "    <tr>\n",
              "      <th>4</th>\n",
              "      <td>4</td>\n",
              "      <td>mercy gentlemen odin flung hands dont write an...</td>\n",
              "      <td>3</td>\n",
              "      <td>[32176, 3058, 6099, 41025, 5578, 45738, 16829,...</td>\n",
              "    </tr>\n",
              "    <tr>\n",
              "      <th>...</th>\n",
              "      <td>...</td>\n",
              "      <td>...</td>\n",
              "      <td>...</td>\n",
              "      <td>...</td>\n",
              "    </tr>\n",
              "    <tr>\n",
              "      <th>54874</th>\n",
              "      <td>54874</td>\n",
              "      <td>mr smith odin whispered hardly dared hope woul...</td>\n",
              "      <td>2</td>\n",
              "      <td>[16189, 38458, 6099, 39754, 8565, 8927, 42484,...</td>\n",
              "    </tr>\n",
              "    <tr>\n",
              "      <th>54875</th>\n",
              "      <td>54875</td>\n",
              "      <td>told plan captain us settled details accomplis...</td>\n",
              "      <td>4</td>\n",
              "      <td>[18875, 5427, 15058, 42916, 14243, 46714, 3822...</td>\n",
              "    </tr>\n",
              "    <tr>\n",
              "      <th>54876</th>\n",
              "      <td>54876</td>\n",
              "      <td>sincere wellwisher friend sister lucy odin</td>\n",
              "      <td>1</td>\n",
              "      <td>[23287, 2164, 5539, 25889, 7710, 6099, 0, 0, 0...</td>\n",
              "    </tr>\n",
              "    <tr>\n",
              "      <th>54877</th>\n",
              "      <td>54877</td>\n",
              "      <td>wanted lend money</td>\n",
              "      <td>3</td>\n",
              "      <td>[15220, 727, 21454, 0, 0, 0, 0, 0, 0, 0, 0, 0,...</td>\n",
              "    </tr>\n",
              "    <tr>\n",
              "      <th>54878</th>\n",
              "      <td>54878</td>\n",
              "      <td>certainly occurred said yes like</td>\n",
              "      <td>0</td>\n",
              "      <td>[31575, 1135, 2663, 7617, 23729, 0, 0, 0, 0, 0...</td>\n",
              "    </tr>\n",
              "  </tbody>\n",
              "</table>\n",
              "<p>54879 rows × 4 columns</p>\n",
              "</div>\n",
              "      <button class=\"colab-df-convert\" onclick=\"convertToInteractive('df-72898d64-9e0f-4a8a-a93a-632e24fcc531')\"\n",
              "              title=\"Convert this dataframe to an interactive table.\"\n",
              "              style=\"display:none;\">\n",
              "        \n",
              "  <svg xmlns=\"http://www.w3.org/2000/svg\" height=\"24px\"viewBox=\"0 0 24 24\"\n",
              "       width=\"24px\">\n",
              "    <path d=\"M0 0h24v24H0V0z\" fill=\"none\"/>\n",
              "    <path d=\"M18.56 5.44l.94 2.06.94-2.06 2.06-.94-2.06-.94-.94-2.06-.94 2.06-2.06.94zm-11 1L8.5 8.5l.94-2.06 2.06-.94-2.06-.94L8.5 2.5l-.94 2.06-2.06.94zm10 10l.94 2.06.94-2.06 2.06-.94-2.06-.94-.94-2.06-.94 2.06-2.06.94z\"/><path d=\"M17.41 7.96l-1.37-1.37c-.4-.4-.92-.59-1.43-.59-.52 0-1.04.2-1.43.59L10.3 9.45l-7.72 7.72c-.78.78-.78 2.05 0 2.83L4 21.41c.39.39.9.59 1.41.59.51 0 1.02-.2 1.41-.59l7.78-7.78 2.81-2.81c.8-.78.8-2.07 0-2.86zM5.41 20L4 18.59l7.72-7.72 1.47 1.35L5.41 20z\"/>\n",
              "  </svg>\n",
              "      </button>\n",
              "      \n",
              "  <style>\n",
              "    .colab-df-container {\n",
              "      display:flex;\n",
              "      flex-wrap:wrap;\n",
              "      gap: 12px;\n",
              "    }\n",
              "\n",
              "    .colab-df-convert {\n",
              "      background-color: #E8F0FE;\n",
              "      border: none;\n",
              "      border-radius: 50%;\n",
              "      cursor: pointer;\n",
              "      display: none;\n",
              "      fill: #1967D2;\n",
              "      height: 32px;\n",
              "      padding: 0 0 0 0;\n",
              "      width: 32px;\n",
              "    }\n",
              "\n",
              "    .colab-df-convert:hover {\n",
              "      background-color: #E2EBFA;\n",
              "      box-shadow: 0px 1px 2px rgba(60, 64, 67, 0.3), 0px 1px 3px 1px rgba(60, 64, 67, 0.15);\n",
              "      fill: #174EA6;\n",
              "    }\n",
              "\n",
              "    [theme=dark] .colab-df-convert {\n",
              "      background-color: #3B4455;\n",
              "      fill: #D2E3FC;\n",
              "    }\n",
              "\n",
              "    [theme=dark] .colab-df-convert:hover {\n",
              "      background-color: #434B5C;\n",
              "      box-shadow: 0px 1px 3px 1px rgba(0, 0, 0, 0.15);\n",
              "      filter: drop-shadow(0px 1px 2px rgba(0, 0, 0, 0.3));\n",
              "      fill: #FFFFFF;\n",
              "    }\n",
              "  </style>\n",
              "\n",
              "      <script>\n",
              "        const buttonEl =\n",
              "          document.querySelector('#df-72898d64-9e0f-4a8a-a93a-632e24fcc531 button.colab-df-convert');\n",
              "        buttonEl.style.display =\n",
              "          google.colab.kernel.accessAllowed ? 'block' : 'none';\n",
              "\n",
              "        async function convertToInteractive(key) {\n",
              "          const element = document.querySelector('#df-72898d64-9e0f-4a8a-a93a-632e24fcc531');\n",
              "          const dataTable =\n",
              "            await google.colab.kernel.invokeFunction('convertToInteractive',\n",
              "                                                     [key], {});\n",
              "          if (!dataTable) return;\n",
              "\n",
              "          const docLinkHtml = 'Like what you see? Visit the ' +\n",
              "            '<a target=\"_blank\" href=https://colab.research.google.com/notebooks/data_table.ipynb>data table notebook</a>'\n",
              "            + ' to learn more about interactive tables.';\n",
              "          element.innerHTML = '';\n",
              "          dataTable['output_type'] = 'display_data';\n",
              "          await google.colab.output.renderOutput(dataTable, element);\n",
              "          const docLink = document.createElement('div');\n",
              "          docLink.innerHTML = docLinkHtml;\n",
              "          element.appendChild(docLink);\n",
              "        }\n",
              "      </script>\n",
              "    </div>\n",
              "  </div>\n",
              "  "
            ],
            "text/plain": [
              "       index  ...                                        word_to_key\n",
              "0          0  ...  [6709, 29296, 15510, 15510, 15220, 10621, 3531...\n",
              "1          1  ...  [25889, 12146, 28879, 0, 0, 0, 0, 0, 0, 0, 0, ...\n",
              "2          2  ...  [32881, 1017, 14396, 41742, 12643, 16750, 3157...\n",
              "3          3  ...  [15058, 24581, 35234, 38733, 42068, 26575, 180...\n",
              "4          4  ...  [32176, 3058, 6099, 41025, 5578, 45738, 16829,...\n",
              "...      ...  ...                                                ...\n",
              "54874  54874  ...  [16189, 38458, 6099, 39754, 8565, 8927, 42484,...\n",
              "54875  54875  ...  [18875, 5427, 15058, 42916, 14243, 46714, 3822...\n",
              "54876  54876  ...  [23287, 2164, 5539, 25889, 7710, 6099, 0, 0, 0...\n",
              "54877  54877  ...  [15220, 727, 21454, 0, 0, 0, 0, 0, 0, 0, 0, 0,...\n",
              "54878  54878  ...  [31575, 1135, 2663, 7617, 23729, 0, 0, 0, 0, 0...\n",
              "\n",
              "[54879 rows x 4 columns]"
            ]
          },
          "metadata": {},
          "execution_count": 50
        }
      ]
    },
    {
      "cell_type": "markdown",
      "source": [
        "#### 모델링"
      ],
      "metadata": {
        "id": "l_zuVIpO6HIV"
      }
    },
    {
      "cell_type": "code",
      "source": [
        "X_train = train.iloc[:45000, 3]\n",
        "X_test = train.iloc[45000:, 3].reset_index(drop=True)\n",
        "\n",
        "y_train = train.iloc[:45000, 2]\n",
        "y_test = train.iloc[45000:, 2].reset_index(drop=True)"
      ],
      "metadata": {
        "id": "4bKazYmdE5JW"
      },
      "execution_count": null,
      "outputs": []
    },
    {
      "cell_type": "code",
      "source": [
        "# 하이퍼파라미터\n",
        "batch_size = 64\n",
        "lr = 0.001\n",
        "epochs = 20 "
      ],
      "metadata": {
        "id": "6RU1UgwpE40q"
      },
      "execution_count": null,
      "outputs": []
    },
    {
      "cell_type": "code",
      "source": [
        "class CustomDataset(Dataset):\n",
        "  def __init__(self):\n",
        "    \n",
        "    self.x_data = X_train\n",
        "    self.y_data = [[y] for y in y_train]\n",
        "\n",
        "  def __len__(self):\n",
        "\n",
        "    return len(self.x_data)\n",
        "\n",
        "  def __getitem__(self, idx):\n",
        "\n",
        "    x = torch.LongTensor(self.x_data[idx]).to(device)\n",
        "    y = torch.LongTensor(self.y_data[idx]).to(device)\n",
        "\n",
        "    return x,y"
      ],
      "metadata": {
        "id": "VcA2VwWCE5Lq"
      },
      "execution_count": null,
      "outputs": []
    },
    {
      "cell_type": "code",
      "source": [
        "class CustomDataset_test(Dataset):\n",
        "  def __init__(self):\n",
        "    \n",
        "    self.x_data = X_test\n",
        "    self.y_data = [[y] for y in y_test]\n",
        "\n",
        "  def __len__(self):\n",
        "\n",
        "    return len(self.x_data)\n",
        "\n",
        "  def __getitem__(self, idx):\n",
        "\n",
        "    x = torch.LongTensor(self.x_data[idx])\n",
        "    y = torch.LongTensor(self.y_data[idx])\n",
        "\n",
        "    return x,y"
      ],
      "metadata": {
        "id": "v32eTl5PgcdL"
      },
      "execution_count": null,
      "outputs": []
    },
    {
      "cell_type": "code",
      "source": [
        "dataset = CustomDataset()\n",
        "dataloader = DataLoader(dataset, batch_size=batch_size) "
      ],
      "metadata": {
        "id": "3Xog3Lb9HNy2"
      },
      "execution_count": null,
      "outputs": []
    },
    {
      "cell_type": "code",
      "source": [
        "class RNN(nn.Module):\n",
        "    def __init__(self, n_layers, hidden_dim, n_vocab, embed_dim, n_classes, dropout_p=0.2):\n",
        "      super(RNN, self).__init__()\n",
        "      self.n_layers = n_layers\n",
        "      self.hidden_dim = hidden_dim\n",
        "\n",
        "      self.embed = nn.Embedding(n_vocab, embed_dim)\n",
        "      self.dropout = nn.Dropout(dropout_p)\n",
        "      self.gru = nn.GRU(embed_dim, self.hidden_dim,\n",
        "                        num_layers=self.n_layers,\n",
        "                        batch_first=True)\n",
        "      #self.rnn = nn.RNN(embed_dim, self.hidden_dim,batch_first = True)\n",
        "      self.out = nn.Sequential(\n",
        "          nn.Linear(self.hidden_dim, n_classes),\n",
        "          nn.Softmax()\n",
        "      )\n",
        "    def forward(self, x):\n",
        "      x = self.embed(x)\n",
        "      h_0 = self._init_state(batch_size=x.size(0)) # 첫번째 히든 스테이트를 0벡터로 초기화\n",
        "      x, _ = self.gru(x, h_0)  # GRU의 리턴값은 (배치 크기, 시퀀스 길이, 은닉 상태의 크기)\n",
        "      #x, _ = self.rnn(x,h_0)\n",
        "      h_t = x[:,-1,:] # (배치 크기, 은닉 상태의 크기)의 텐서로 크기가 변경됨. 즉, 마지막 time-step의 은닉 상태만 가져온다.\n",
        "      self.dropout(h_t)\n",
        "      logit = self.out(h_t)  # (배치 크기, 은닉 상태의 크기) -> (배치 크기, 출력층의 크기)\n",
        "      return logit\n",
        "\n",
        "    def _init_state(self, batch_size=1):\n",
        "      weight = next(self.parameters()).data\n",
        "      return weight.new(self.n_layers, batch_size, self.hidden_dim).zero_()"
      ],
      "metadata": {
        "id": "lid34HAnHN1C"
      },
      "execution_count": null,
      "outputs": []
    },
    {
      "cell_type": "code",
      "source": [
        "n_vocab = 47120+1\n",
        "embedd_size = 100\n",
        "hidden_size = 500\n",
        "output_size = 5"
      ],
      "metadata": {
        "id": "mGzTF1w9HN3G"
      },
      "execution_count": null,
      "outputs": []
    },
    {
      "cell_type": "code",
      "source": [
        "net = RNN(5, 256, n_vocab, embedd_size, output_size, 0.5).to(device) #GRU층 5개 쌓기"
      ],
      "metadata": {
        "id": "2GCyZTLfHN5J"
      },
      "execution_count": null,
      "outputs": []
    },
    {
      "cell_type": "code",
      "source": [
        "criterion = torch.nn.CrossEntropyLoss().to(device)\n",
        "optimizer = optim.Adam(net.parameters(), lr)"
      ],
      "metadata": {
        "id": "sbGjXdXZHN7e"
      },
      "execution_count": null,
      "outputs": []
    },
    {
      "cell_type": "code",
      "source": [
        "losses = []\n",
        "for epoch in range(epochs):\n",
        "  \n",
        "  for x, y in dataloader:\n",
        "    optimizer.zero_grad()\n",
        "    y = y.to(device)\n",
        "\n",
        "    # forward 연산\n",
        "    hypothesis = net(x)\n",
        "\n",
        "    # 비용 함수\n",
        "    y = y.squeeze()\n",
        "    cost = criterion(hypothesis, y)\n",
        "    cost.backward()\n",
        "    optimizer.step()\n",
        "    losses.append(cost.item()) # 값만 가져오기 위해서 .item()\n",
        "\n",
        "  # 10의 배수에 해당되는 에포크마다 비용을 출력\n",
        "  if epoch % 2 == 0:\n",
        "      print(epoch, cost.item())"
      ],
      "metadata": {
        "id": "FQOZoH47HN9r",
        "colab": {
          "base_uri": "https://localhost:8080/"
        },
        "outputId": "ba340ccc-50f0-46d9-c699-d5285de214c1"
      },
      "execution_count": null,
      "outputs": [
        {
          "output_type": "stream",
          "name": "stderr",
          "text": [
            "/usr/local/lib/python3.7/dist-packages/torch/nn/modules/container.py:141: UserWarning: Implicit dimension choice for softmax has been deprecated. Change the call to include dim=X as an argument.\n",
            "  input = module(input)\n"
          ]
        },
        {
          "output_type": "stream",
          "name": "stdout",
          "text": [
            "0 1.3959771394729614\n",
            "2 1.3953770399093628\n",
            "4 1.292704701423645\n",
            "6 1.272382378578186\n",
            "8 1.1560006141662598\n",
            "10 1.2679107189178467\n",
            "12 1.2711976766586304\n",
            "14 1.030347228050232\n",
            "16 1.1548601388931274\n",
            "18 1.0298491716384888\n"
          ]
        }
      ]
    },
    {
      "cell_type": "markdown",
      "source": [
        "RNN층 하나를 썼을 때보다는 loss가 확연히 줄어듦"
      ],
      "metadata": {
        "id": "8vLuMGBL6Xfw"
      }
    },
    {
      "cell_type": "code",
      "source": [
        "dataset = CustomDataset_test()\n",
        "test_loader = DataLoader(dataset, batch_size=batch_size)"
      ],
      "metadata": {
        "id": "mJb2nmaRHN_3"
      },
      "execution_count": null,
      "outputs": []
    },
    {
      "cell_type": "code",
      "source": [
        "correct = 0\n",
        "\n",
        "with torch.no_grad():\n",
        "  net = net.to('cpu')\n",
        "  net.eval()\n",
        "  for data, target in test_loader:\n",
        "    data, target = data, target\n",
        "    output = net(data)\n",
        "    \n",
        "    pred = output.max(1, keepdim=True)[1]\n",
        "    # eq() 함수는 값이 일치하면 1을, 아니면 0을 출력.\n",
        "    correct += pred.eq(target.view_as(pred)).sum().item()\n",
        "\n",
        "test_accuracy = correct / len(test_loader.dataset)\n",
        "print('Accuracy:', test_accuracy)"
      ],
      "metadata": {
        "id": "I9IS-WotHOCN",
        "colab": {
          "base_uri": "https://localhost:8080/"
        },
        "outputId": "23b4d9ae-292b-4788-f46a-1451dff2645a"
      },
      "execution_count": null,
      "outputs": [
        {
          "output_type": "stream",
          "name": "stderr",
          "text": [
            "/usr/local/lib/python3.7/dist-packages/torch/nn/modules/container.py:141: UserWarning: Implicit dimension choice for softmax has been deprecated. Change the call to include dim=X as an argument.\n",
            "  input = module(input)\n"
          ]
        },
        {
          "output_type": "stream",
          "name": "stdout",
          "text": [
            "Accuracy: 0.6150420083004353\n"
          ]
        }
      ]
    },
    {
      "cell_type": "markdown",
      "source": [
        "분반장님이 준비하신거에 비해 매우 초라한... 이번 과제다. 사실 일정들이 여러 개 겹쳐서 시간이 없긴 했지만 핑계다.. 이번 과제에서는 코드 이해와 몇몇 파라미터를 바꿔가면서 시도를 해보았다. 전처리로는 정규 표현식을 통한 가공과 불용어 처리를 해주었고 모델로는 RNN 아키텍쳐를 이용했다. 층이 여러개 쌓으니 loss가 줄어들었으나 10개 층일 떄보다 5개의 층일 때 학습이 더 잘 되었다.(더 여려가지를 시도해보지 않아서 정확하지는 않다.)  \n",
        "실행 시간의 문제 때문에 단어 벡터의 개수를 1000보다 더 늘리고 적절한 층의 개수와 학습률을 찾는다면 더 개선될 것 같다."
      ],
      "metadata": {
        "id": "jKhWUGlq6gRB"
      }
    },
    {
      "cell_type": "code",
      "source": [
        ""
      ],
      "metadata": {
        "id": "xiKZU_KgE5N-"
      },
      "execution_count": null,
      "outputs": []
    }
  ]
}